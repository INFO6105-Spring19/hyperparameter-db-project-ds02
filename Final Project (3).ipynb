{
 "cells": [
  {
   "cell_type": "code",
   "execution_count": 3,
   "metadata": {},
   "outputs": [],
   "source": [
    "import h2o\n",
    "from h2o.automl import H2OAutoML\n",
    "import random, os, sys\n",
    "from datetime import datetime\n",
    "import pandas as pd\n",
    "import logging\n",
    "import csv\n",
    "import optparse\n",
    "import time\n",
    "import json\n",
    "from distutils.util import strtobool\n",
    "import psutil\n",
    "\n",
    "import warnings\n",
    "warnings.filterwarnings('ignore')\n",
    "\n"
   ]
  },
  {
   "cell_type": "code",
   "execution_count": 4,
   "metadata": {},
   "outputs": [
    {
     "name": "stdout",
     "output_type": "stream",
     "text": [
      "Checking whether there is an H2O instance running at http://localhost:16818 ..... not found.\n",
      "Attempting to start a local H2O server...\n",
      "  Java Version: openjdk version \"1.8.0_152-release\"; OpenJDK Runtime Environment (build 1.8.0_152-release-1056-b12); OpenJDK 64-Bit Server VM (build 25.152-b12, mixed mode)\n",
      "  Starting server from /anaconda3/lib/python3.7/site-packages/h2o/backend/bin/h2o.jar\n",
      "  Ice root: /var/folders/sv/0gx23csn4gg8nl275z72ss3w0000gn/T/tmp5u42j93s\n",
      "  JVM stdout: /var/folders/sv/0gx23csn4gg8nl275z72ss3w0000gn/T/tmp5u42j93s/h2o_nupur_started_from_python.out\n",
      "  JVM stderr: /var/folders/sv/0gx23csn4gg8nl275z72ss3w0000gn/T/tmp5u42j93s/h2o_nupur_started_from_python.err\n",
      "  Server is running at http://127.0.0.1:16818\n",
      "Connecting to H2O server at http://127.0.0.1:16818 ... successful.\n"
     ]
    },
    {
     "data": {
      "text/html": [
       "<div style=\"overflow:auto\"><table style=\"width:50%\"><tr><td>H2O cluster uptime:</td>\n",
       "<td>02 secs</td></tr>\n",
       "<tr><td>H2O cluster timezone:</td>\n",
       "<td>America/New_York</td></tr>\n",
       "<tr><td>H2O data parsing timezone:</td>\n",
       "<td>UTC</td></tr>\n",
       "<tr><td>H2O cluster version:</td>\n",
       "<td>3.24.0.1</td></tr>\n",
       "<tr><td>H2O cluster version age:</td>\n",
       "<td>15 days </td></tr>\n",
       "<tr><td>H2O cluster name:</td>\n",
       "<td>H2O_from_python_nupur_2xk3ho</td></tr>\n",
       "<tr><td>H2O cluster total nodes:</td>\n",
       "<td>1</td></tr>\n",
       "<tr><td>H2O cluster free memory:</td>\n",
       "<td>4.792 Gb</td></tr>\n",
       "<tr><td>H2O cluster total cores:</td>\n",
       "<td>4</td></tr>\n",
       "<tr><td>H2O cluster allowed cores:</td>\n",
       "<td>4</td></tr>\n",
       "<tr><td>H2O cluster status:</td>\n",
       "<td>accepting new members, healthy</td></tr>\n",
       "<tr><td>H2O connection url:</td>\n",
       "<td>http://127.0.0.1:16818</td></tr>\n",
       "<tr><td>H2O connection proxy:</td>\n",
       "<td>None</td></tr>\n",
       "<tr><td>H2O internal security:</td>\n",
       "<td>False</td></tr>\n",
       "<tr><td>H2O API Extensions:</td>\n",
       "<td>Amazon S3, XGBoost, Algos, AutoML, Core V3, Core V4</td></tr>\n",
       "<tr><td>Python version:</td>\n",
       "<td>3.7.2 final</td></tr></table></div>"
      ],
      "text/plain": [
       "--------------------------  ---------------------------------------------------\n",
       "H2O cluster uptime:         02 secs\n",
       "H2O cluster timezone:       America/New_York\n",
       "H2O data parsing timezone:  UTC\n",
       "H2O cluster version:        3.24.0.1\n",
       "H2O cluster version age:    15 days\n",
       "H2O cluster name:           H2O_from_python_nupur_2xk3ho\n",
       "H2O cluster total nodes:    1\n",
       "H2O cluster free memory:    4.792 Gb\n",
       "H2O cluster total cores:    4\n",
       "H2O cluster allowed cores:  4\n",
       "H2O cluster status:         accepting new members, healthy\n",
       "H2O connection url:         http://127.0.0.1:16818\n",
       "H2O connection proxy:\n",
       "H2O internal security:      False\n",
       "H2O API Extensions:         Amazon S3, XGBoost, Algos, AutoML, Core V3, Core V4\n",
       "Python version:             3.7.2 final\n",
       "--------------------------  ---------------------------------------------------"
      ]
     },
     "metadata": {},
     "output_type": "display_data"
    }
   ],
   "source": [
    "port_no=random.randint(5555,55555)\n",
    "h2o.init(strict_version_check=False,min_mem_size_GB=5,port=port_no)"
   ]
  },
  {
   "cell_type": "code",
   "execution_count": 5,
   "metadata": {},
   "outputs": [
    {
     "name": "stdout",
     "output_type": "stream",
     "text": [
      "Parse progress: |█████████████████████████████████████████████████████████| 100%\n"
     ]
    }
   ],
   "source": [
    "#h2o.connect()\n",
    "df = h2o.import_file(path=\"anime_filtered.csv\")"
   ]
  },
  {
   "cell_type": "code",
   "execution_count": 6,
   "metadata": {},
   "outputs": [
    {
     "data": {
      "text/html": [
       "<table>\n",
       "<thead>\n",
       "<tr><th style=\"text-align: right;\">  anime_id</th><th>title                        </th><th>title_english               </th><th>title_japanese           </th><th>title_synonyms                                                             </th><th>image_url                                                 </th><th>type  </th><th>source     </th><th style=\"text-align: right;\">  episodes</th><th>status         </th><th>airing  </th><th>aired_string                </th><th>aired                                     </th><th>duration       </th><th>rating                   </th><th style=\"text-align: right;\">  score</th><th style=\"text-align: right;\">  scored_by</th><th style=\"text-align: right;\">  rank</th><th style=\"text-align: right;\">  popularity</th><th style=\"text-align: right;\">  members</th><th style=\"text-align: right;\">  favorites</th><th>background                                                                                                                                                                                                                          </th><th>premiered  </th><th>broadcast                </th><th>related                                                                                                                                                                                                                                                                                                                                                                                                                                                                                                                                                                                                                                                                                                                                                                                                                                                                                              </th><th>producer                                                                                    </th><th>licensor                                </th><th>studio                       </th><th>genre                                                </th><th>opening_theme                                                                                                                                                                                                                                                             </th><th>ending_theme                                                                                                                                                                                                                                                                                                                                                                                                                                                                                                                                                                                        </th></tr>\n",
       "</thead>\n",
       "<tbody>\n",
       "<tr><td style=\"text-align: right;\">     11013</td><td>Inu x Boku SS                </td><td>Inu X Boku Secret Service   </td><td>妖狐×僕SS                </td><td>Youko x Boku SS                                                            </td><td>https://myanimelist.cdn-dena.com/images/anime/12/35893.jpg</td><td>TV    </td><td>Manga      </td><td style=\"text-align: right;\">        12</td><td>Finished Airing</td><td>False   </td><td>Jan 13, 2012 to Mar 30, 2012</td><td>{'from': '2012-01-13', 'to': '2012-03-30'}</td><td>24 min. per ep.</td><td>PG-13 - Teens 13 or older</td><td style=\"text-align: right;\">   7.63</td><td style=\"text-align: right;\">     139250</td><td style=\"text-align: right;\">  1274</td><td style=\"text-align: right;\">         231</td><td style=\"text-align: right;\">   283882</td><td style=\"text-align: right;\">       2809</td><td>Inu x Boku SS was licensed by Sentai Filmworks for North America, while MVM Films licensed it for the United Kingdom. During April 2013, Hanabee Entertainment released the series on DVD and Blu-ray for Australia and New Zealand.</td><td>Winter 2012</td><td>Fridays at Unknown       </td><td>{'Adaptation': [{'mal_id': 17207, 'type': 'manga', 'url': 'https://myanimelist.net/manga/17207/Inu_x_Boku_SS', 'title': 'Inu x Boku SS'}], 'Sequel': [{'mal_id': 13403, 'type': 'anime', 'url': 'https://myanimelist.net/anime/13403/Inu_x_Boku_SS_Special', 'title': 'Inu x Boku SS Special'}]}                                                                                                                                                                                                                                                                                                                                                                                                                                                                                                                                                                                                     </td><td>Aniplex, Square Enix, Mainichi Broadcasting System, Movic, Inu x Boku SS Production Partners</td><td>Sentai Filmworks                        </td><td>David Production             </td><td>Comedy, Supernatural, Romance, Shounen               </td><td>['\"Nirvana\" by MUCC']                                                                                                                                                                                                                                                     </td><td>['#1: \"Nirvana\" by MUCC (eps 1, 11-12)', '#2: \"Rakuen no Photograph (楽園のPhotograph)\" by Soushi Miketsukami (Yuichi Nakamura) (eps 2, 9)', '#3: \"Kimi wa (君は)\" by Ririchiyo Shirakiin (Rina Hidaka) (eps 3, 8)', '#4: \"one way\" by Banri Watanuki (Takuya Eguchi) & Zange Natsume (Mamoru Miyano) (ep 4)', '#5: \"SM Hantei Forum (SM判定フォーラム)\" by Kagerou Shoukiin (Tomokazu Sugita) (ep 5, 10)', '#6: \"sweets parade\" by Karuta Roromiya (Kana Hanazawa) (ep 6)', '#7: \"Taiyou to Tsuki (太陽と月)\" by Renshou Sorinozuka (Yoshimasa Hosoya) & Nobara Yukinokouji (Youko Hikasa) (ep 7)']</td></tr>\n",
       "<tr><td style=\"text-align: right;\">      2104</td><td>Seto no Hanayome             </td><td>My Bride is a Mermaid       </td><td>瀬戸の花嫁               </td><td>The Inland Sea Bride                                                       </td><td>https://myanimelist.cdn-dena.com/images/anime/13/58383.jpg</td><td>TV    </td><td>Manga      </td><td style=\"text-align: right;\">        26</td><td>Finished Airing</td><td>False   </td><td>Apr 2, 2007 to Oct 1, 2007  </td><td>{'from': '2007-04-02', 'to': '2007-10-01'}</td><td>24 min. per ep.</td><td>PG-13 - Teens 13 or older</td><td style=\"text-align: right;\">   7.89</td><td style=\"text-align: right;\">      91206</td><td style=\"text-align: right;\">   727</td><td style=\"text-align: right;\">         366</td><td style=\"text-align: right;\">   204003</td><td style=\"text-align: right;\">       2579</td><td>                                                                                                                                                                                                                                    </td><td>Spring 2007</td><td>Unknown                  </td><td>{'Adaptation': [{'mal_id': 759, 'type': 'manga', 'url': 'https://myanimelist.net/manga/759/Seto_no_Hanayome', 'title': 'Seto no Hanayome'}], 'Sequel': [{'mal_id': 4163, 'type': 'anime', 'url': 'https://myanimelist.net/anime/4163/Seto_no_Hanayome_OVA', 'title': 'Seto no Hanayome OVA'}], 'Side story': [{'mal_id': 5199, 'type': 'anime', 'url': 'https://myanimelist.net/anime/5199/Seto_no_Hanayome_Fan_Disc', 'title': 'Seto no Hanayome Fan Disc'}], 'Alternative version': [{'mal_id': 28385, 'type': 'anime', 'url': 'https://myanimelist.net/anime/28385/Seto_no_Hanayome_Picture_Drama', 'title': 'Seto no Hanayome Picture Drama'}]}                                                                                                                                                                                                                                                  </td><td>TV Tokyo, AIC, Square Enix, Sotsu                                                           </td><td>Funimation                              </td><td>Gonzo                        </td><td>Comedy, Parody, Romance, School, Shounen             </td><td>['\"Romantic summer\" by SUN&LUNAR']                                                                                                                                                                                                                                        </td><td>['#1: \"Ashita e no Hikari (明日への光)\" by Asuka Hinoi (1-13, 26)', '#2: \"Dan Dan Dan\" by SUN&LUNAR (eps 14-25)']                                                                                                                                                                                                                                                                                                                                                                                                                                                                                   </td></tr>\n",
       "<tr><td style=\"text-align: right;\">      5262</td><td>Shugo Chara!! Doki           </td><td>Shugo Chara!! Doki          </td><td>しゅごキャラ！！どきっ   </td><td>Shugo Chara Ninenme, Shugo Chara! Second Year                              </td><td>https://myanimelist.cdn-dena.com/images/anime/11/10645.jpg</td><td>TV    </td><td>Manga      </td><td style=\"text-align: right;\">        51</td><td>Finished Airing</td><td>False   </td><td>Oct 4, 2008 to Sep 25, 2009 </td><td>{'from': '2008-10-04', 'to': '2009-09-25'}</td><td>24 min. per ep.</td><td>PG - Children            </td><td style=\"text-align: right;\">   7.55</td><td style=\"text-align: right;\">      37129</td><td style=\"text-align: right;\">  1508</td><td style=\"text-align: right;\">        1173</td><td style=\"text-align: right;\">    70127</td><td style=\"text-align: right;\">        802</td><td>                                                                                                                                                                                                                                    </td><td>Fall 2008  </td><td>Unknown                  </td><td>{'Adaptation': [{'mal_id': 101, 'type': 'manga', 'url': 'https://myanimelist.net/manga/101/Shugo_Chara', 'title': 'Shugo Chara!'}], 'Prequel': [{'mal_id': 2923, 'type': 'anime', 'url': 'https://myanimelist.net/anime/2923/Shugo_Chara', 'title': 'Shugo Chara!'}], 'Sequel': [{'mal_id': 7082, 'type': 'anime', 'url': 'https://myanimelist.net/anime/7082/Shugo_Chara_Party', 'title': 'Shugo Chara! Party!'}]}                                                                                                                                                                                                                                                                                                                                                                                                                                                                                  </td><td>TV Tokyo, Sotsu                                                                             </td><td>                                        </td><td>Satelight                    </td><td>Comedy, Magic, School, Shoujo                        </td><td>['#1: \"Minna no Tamago (みんなのたまご)\" by Shugo Chara Egg (eps 1-13)', '#2: \"Shugo Shugo! (しゅごしゅご!)\" by Shugo Chara Egg (eps 14-25)', '#3: \"Omakase♪Guardian (おまかせ♪ガーディアン)\" by Guardians 4 (eps 26-38)', '#4: \"School Days\" by Guardians 4 (eps 39-51)']</td><td>['#1: \"Rottara Rottara (ロッタラ ロッタラ)\" by Buono! (eps 1-17)', '#2: \"co.no.mi.chi\" Buono! (eps 18-25)', '#3: \"MY BOY\" by Buono! (eps 26-38)', '#4: \"Take it Easy!\" by Buono! (eps. 39-50)', '#5: \"Honto no Jibun (ホントのじぶん)\" by Buono! (ep 51)']                                                                                                                                                                                                                                                                                                                                          </td></tr>\n",
       "<tr><td style=\"text-align: right;\">       721</td><td>Princess Tutu                </td><td>Princess Tutu               </td><td>プリンセスチュチュ       </td><td>                                                                           </td><td>https://myanimelist.cdn-dena.com/images/anime/13/32209.jpg</td><td>TV    </td><td>Original   </td><td style=\"text-align: right;\">        38</td><td>Finished Airing</td><td>False   </td><td>Aug 16, 2002 to May 23, 2003</td><td>{'from': '2002-08-16', 'to': '2003-05-23'}</td><td>16 min. per ep.</td><td>PG-13 - Teens 13 or older</td><td style=\"text-align: right;\">   8.21</td><td style=\"text-align: right;\">      36501</td><td style=\"text-align: right;\">   307</td><td style=\"text-align: right;\">         916</td><td style=\"text-align: right;\">    93312</td><td style=\"text-align: right;\">       3344</td><td>Princess Tutu aired in two parts. The first part included 13 25-minute-long episodes, while the second part consisted of 24 12-minute-long episodes with a 25-minute-long final episode for a total of 25 episodes.                 </td><td>Summer 2002</td><td>Fridays at Unknown       </td><td>{'Adaptation': [{'mal_id': 1581, 'type': 'manga', 'url': 'https://myanimelist.net/manga/1581/Princess_Tutu', 'title': 'Princess Tutu'}], 'Summary': [{'mal_id': 3265, 'type': 'anime', 'url': 'https://myanimelist.net/anime/3265/Princess_Tutu_Recaps', 'title': 'Princess Tutu Recaps'}]}                                                                                                                                                                                                                                                                                                                                                                                                                                                                                                                                                                                                          </td><td>Memory-Tech, GANSIS, Marvelous AQL                                                          </td><td>ADV Films                               </td><td>Hal Film Maker               </td><td>Comedy, Drama, Magic, Romance, Fantasy               </td><td>['\"Morning Grace\" by Ritsuko Okazaki']                                                                                                                                                                                                                                    </td><td>['\"Watashi No Ai Wa Chiisaikeredo\" by Ritsuko Okazaki']                                                                                                                                                                                                                                                                                                                                                                                                                                                                                                                                             </td></tr>\n",
       "<tr><td style=\"text-align: right;\">     12365</td><td>Bakuman. 3rd Season          </td><td>Bakuman.                    </td><td>バクマン。               </td><td>Bakuman Season 3                                                           </td><td>https://myanimelist.cdn-dena.com/images/anime/6/41845.jpg </td><td>TV    </td><td>Manga      </td><td style=\"text-align: right;\">        25</td><td>Finished Airing</td><td>False   </td><td>Oct 6, 2012 to Mar 30, 2013 </td><td>{'from': '2012-10-06', 'to': '2013-03-30'}</td><td>24 min. per ep.</td><td>PG-13 - Teens 13 or older</td><td style=\"text-align: right;\">   8.67</td><td style=\"text-align: right;\">     107767</td><td style=\"text-align: right;\">    50</td><td style=\"text-align: right;\">         426</td><td style=\"text-align: right;\">   182765</td><td style=\"text-align: right;\">       2082</td><td>                                                                                                                                                                                                                                    </td><td>Fall 2012  </td><td>Unknown                  </td><td>{'Adaptation': [{'mal_id': 9711, 'type': 'manga', 'url': 'https://myanimelist.net/manga/9711/Bakuman', 'title': 'Bakuman.'}], 'Prequel': [{'mal_id': 10030, 'type': 'anime', 'url': 'https://myanimelist.net/anime/10030/Bakuman_2nd_Season', 'title': 'Bakuman. 2nd Season'}, {'mal_id': 15711, 'type': 'anime', 'url': 'https://myanimelist.net/anime/15711/Bakuman__Deraman', 'title': 'Bakuman.: Deraman.'}], 'Other': [{'mal_id': 23361, 'type': 'anime', 'url': 'https://myanimelist.net/anime/23361/Bakuman_3rd_Season_Specials', 'title': 'Bakuman. 3rd Season Specials'}]}                                                                                                                                                                                                                                                                                                                  </td><td>NHK, Shueisha                                                                               </td><td>                                        </td><td>J.C.Staff                    </td><td>Comedy, Drama, Romance, Shounen                      </td><td>['#1: \"Moshimo no Hanashi (もしもの話)\" by nano.RIPE (eps 1-13)', '#2: \"23:40 (23時40分) feat. Base Ball Bear\" by Hyadain (eps 14-25)']                                                                                                                                   </td><td>['#1: \"Pride on Everyday\" by Sphere (eps 1-13)', '#2: \"Yume Sketch (夢スケッチ)\" by JAM Project (eps 14-24)', '#3: \"Moshimo no Hanashi (もしもの話)\" by nano.RIPE (ep 25)']                                                                                                                                                                                                                                                                                                                                                                                                                         </td></tr>\n",
       "<tr><td style=\"text-align: right;\">      6586</td><td>Yume-iro Pâtissière          </td><td>                            </td><td>夢色パティシエール       </td><td>Yumeiro Patissiere, YumePati, Dream-Colored Pastry Chef, Yumeiro Pâtissière</td><td>https://myanimelist.cdn-dena.com/images/anime/12/21674.jpg</td><td>TV    </td><td>Manga      </td><td style=\"text-align: right;\">        50</td><td>Finished Airing</td><td>False   </td><td>Oct 4, 2009 to Sep 26, 2010 </td><td>{'from': '2009-10-04', 'to': '2010-09-26'}</td><td>24 min. per ep.</td><td>G - All Ages             </td><td style=\"text-align: right;\">   8.03</td><td style=\"text-align: right;\">      21618</td><td style=\"text-align: right;\">   526</td><td style=\"text-align: right;\">        1630</td><td style=\"text-align: right;\">    45625</td><td style=\"text-align: right;\">        826</td><td>                                                                                                                                                                                                                                    </td><td>Fall 2009  </td><td>Unknown                  </td><td>{'Adaptation': [{'mal_id': 10386, 'type': 'manga', 'url': 'https://myanimelist.net/manga/10386/Yume-iro_Pâtissière', 'title': 'Yume-iro Pâtissière'}], 'Side story': [{'mal_id': 8894, 'type': 'anime', 'url': 'https://myanimelist.net/anime/8894/Yume-iro_Pâtissière__Mune_Kyun_Tropical_Island', 'title': 'Yume-iro Pâtissière: Mune Kyun Tropical Island!'}], 'Sequel': [{'mal_id': 9441, 'type': 'anime', 'url': 'https://myanimelist.net/anime/9441/Yume-iro_Pâtissière_SP_Professional', 'title': 'Yume-iro Pâtissière SP Professional'}]}                                                                                                                                                                                                                                                                                                                                                    </td><td>Yomiuri Telecasting, DAX Production, Shueisha                                               </td><td>                                        </td><td>Studio Pierrot, Studio Hibari</td><td>Kids, School, Shoujo                                 </td><td>['\"Yume ni Yell! Patissiere♪ (夢にエール！パティシエール♪)\" by Mayumi Gojou']                                                                                                                                                                                             </td><td>['\"Ichigo no Miracle (いちごのミラクルール)\" by Yukina Sugihara']                                                                                                                                                                                                                                                                                                                                                                                                                                                                                                                                   </td></tr>\n",
       "<tr><td style=\"text-align: right;\">       178</td><td>Ultra Maniac                 </td><td>Ultramaniac - Magical Girl  </td><td>ウルトラマニアック       </td><td>                                                                           </td><td>https://myanimelist.cdn-dena.com/images/anime/8/53571.jpg </td><td>TV    </td><td>Manga      </td><td style=\"text-align: right;\">        26</td><td>Finished Airing</td><td>False   </td><td>May 20, 2003 to Nov 11, 2003</td><td>{'from': '2003-05-20', 'to': '2003-11-11'}</td><td>24 min. per ep.</td><td>G - All Ages             </td><td style=\"text-align: right;\">   7.26</td><td style=\"text-align: right;\">       9663</td><td style=\"text-align: right;\">  2594</td><td style=\"text-align: right;\">        2490</td><td style=\"text-align: right;\">    22778</td><td style=\"text-align: right;\">        122</td><td>                                                                                                                                                                                                                                    </td><td>Spring 2003</td><td>Tuesdays at 22:00 (JST)  </td><td>{'Adaptation': [{'mal_id': 956, 'type': 'manga', 'url': 'https://myanimelist.net/manga/956/Ultra_Maniac', 'title': 'Ultra Maniac'}], 'Alternative version': [{'mal_id': 179, 'type': 'anime', 'url': 'https://myanimelist.net/anime/179/Ultra_Maniac_OVA', 'title': 'Ultra Maniac OVA'}]}                                                                                                                                                                                                                                                                                                                                                                                                                                                                                                                                                                                                            </td><td>WAO World, Studio Jack                                                                      </td><td>Discotek Media, Geneon Entertainment USA</td><td>Production Reed              </td><td>Magic, Comedy, Romance, School, Shoujo               </td><td>['\"Kagami no Naka\" by can/goo']                                                                                                                                                                                                                                           </td><td>['\"Hitotsu=Unmei Kyoudoutai\" by can/goo']                                                                                                                                                                                                                                                                                                                                                                                                                                                                                                                                                           </td></tr>\n",
       "<tr><td style=\"text-align: right;\">      2787</td><td>Shakugan no Shana II (Second)</td><td>Shakugan no Shana: Season II</td><td>灼眼のシャナII –Second–  </td><td>Shakugan no Shana 2                                                        </td><td>https://myanimelist.cdn-dena.com/images/anime/10/18669.jpg</td><td>TV    </td><td>Light novel</td><td style=\"text-align: right;\">        24</td><td>Finished Airing</td><td>False   </td><td>Oct 5, 2007 to Mar 28, 2008 </td><td>{'from': '2007-10-05', 'to': '2008-03-28'}</td><td>24 min. per ep.</td><td>PG-13 - Teens 13 or older</td><td style=\"text-align: right;\">   7.72</td><td style=\"text-align: right;\">     126085</td><td style=\"text-align: right;\">  1066</td><td style=\"text-align: right;\">         332</td><td style=\"text-align: right;\">   220591</td><td style=\"text-align: right;\">       1075</td><td>                                                                                                                                                                                                                                    </td><td>Fall 2007  </td><td>Fridays at 01:25 (JST)   </td><td>{'Adaptation': [{'mal_id': 3074, 'type': 'manga', 'url': 'https://myanimelist.net/manga/3074/Shakugan_no_Shana', 'title': 'Shakugan no Shana'}], 'Prequel': [{'mal_id': 355, 'type': 'anime', 'url': 'https://myanimelist.net/anime/355/Shakugan_no_Shana', 'title': 'Shakugan no Shana'}], 'Spin-off': [{'mal_id': 3956, 'type': 'anime', 'url': 'https://myanimelist.net/anime/3956/Shakugan_no_Shana_II_Second_Specials', 'title': 'Shakugan no Shana II (Second) Specials'}, {'mal_id': 14957, 'type': 'anime', 'url': 'https://myanimelist.net/anime/14957/Shakugan_no_Shana__Friagne_to_Marianne_no_Naze_Nani_Shana_Nandemo_Shitsumonbako_2', 'title': 'Shakugan no Shana: Friagne to Marianne no Naze Nani Shana! Nandemo Shitsumonbako! 2'}], 'Sequel': [{'mal_id': 6572, 'type': 'anime', 'url': 'https://myanimelist.net/anime/6572/Shakugan_no_Shana_S', 'title': 'Shakugan no Shana S'}]}</td><td>Geneon Universal Entertainment, ASCII Media Works                                           </td><td>Funimation                              </td><td>J.C.Staff                    </td><td>Action, Drama, Fantasy, Romance, School, Supernatural</td><td>['#1: \"JOINT\" by Mami Kawada (eps 1-15)', '#2: \"BLAZE\" by KOTOKO (16-24)']                                                                                                                                                                                                </td><td>['#1: \"Triangle\" by Kawada Mami (eps 1-15)', '#2: \"Sociometry\" by KOTOKO (eps 16-23)', '#3: \"Sense\" by Kawada Mami (ep 24)']                                                                                                                                                                                                                                                                                                                                                                                                                                                                        </td></tr>\n",
       "<tr><td style=\"text-align: right;\">      4477</td><td>Nodame Cantabile: Paris-hen  </td><td>                            </td><td>のだめカンタービレ 巴里編</td><td>Nodame Cantabile Paris Chapter, Nodame Cantabile Pari-hen                  </td><td>https://myanimelist.cdn-dena.com/images/anime/4/11918.jpg </td><td>TV    </td><td>Manga      </td><td style=\"text-align: right;\">        11</td><td>Finished Airing</td><td>False   </td><td>Oct 10, 2008 to Dec 19, 2008</td><td>{'from': '2008-10-10', 'to': '2008-12-19'}</td><td>23 min. per ep.</td><td>PG-13 - Teens 13 or older</td><td style=\"text-align: right;\">   8.24</td><td style=\"text-align: right;\">      53908</td><td style=\"text-align: right;\">   281</td><td style=\"text-align: right;\">         988</td><td style=\"text-align: right;\">    85660</td><td style=\"text-align: right;\">        282</td><td>                                                                                                                                                                                                                                    </td><td>Fall 2008  </td><td>Fridays at 00:45 (JST)   </td><td>{'Adaptation': [{'mal_id': 419, 'type': 'manga', 'url': 'https://myanimelist.net/manga/419/Nodame_Cantabile', 'title': 'Nodame Cantabile'}], 'Prequel': [{'mal_id': 1698, 'type': 'anime', 'url': 'https://myanimelist.net/anime/1698/Nodame_Cantabile', 'title': 'Nodame Cantabile'}], 'Other': [{'mal_id': 5656, 'type': 'anime', 'url': 'https://myanimelist.net/anime/5656/PuriGorota__Uchuu_no_Yuujou_Daibouken', 'title': 'PuriGorota: Uchuu no Yuujou Daibouken'}], 'Side story': [{'mal_id': 6187, 'type': 'anime', 'url': 'https://myanimelist.net/anime/6187/Nodame_Cantabile_OVA', 'title': 'Nodame Cantabile OVA'}], 'Sequel': [{'mal_id': 8038, 'type': 'anime', 'url': 'https://myanimelist.net/anime/8038/Nodame_Cantabile_Finale_Special', 'title': 'Nodame Cantabile Finale Special'}]}                                                                                             </td><td>Fuji TV, Asmik Ace Entertainment, Sony Music Entertainment                                  </td><td>                                        </td><td>J.C.Staff                    </td><td>Music, Slice of Life, Comedy, Romance, Josei         </td><td>['\"Sky High!\" by The Gospellers']                                                                                                                                                                                                                                         </td><td>['\"東京 et 巴里 (Tokyo and Paris)\" by Emiri Miyamoto x Solita']                                                                                                                                                                                                                                                                                                                                                                                                                                                                                                                                     </td></tr>\n",
       "<tr><td style=\"text-align: right;\">       853</td><td>Ouran Koukou Host Club       </td><td>Ouran High School Host Club </td><td>桜蘭高校ホスト部         </td><td>Ohran Koko Host Club, Ouran Koukou Hosutobu, Ouran Koukou Host Bu, OHSHC   </td><td>https://myanimelist.cdn-dena.com/images/anime/2/71992.jpg </td><td>TV    </td><td>Manga      </td><td style=\"text-align: right;\">        26</td><td>Finished Airing</td><td>False   </td><td>Apr 5, 2006 to Sep 27, 2006 </td><td>{'from': '2006-04-05', 'to': '2006-09-27'}</td><td>23 min. per ep.</td><td>PG-13 - Teens 13 or older</td><td style=\"text-align: right;\">   8.34</td><td style=\"text-align: right;\">     335137</td><td style=\"text-align: right;\">   205</td><td style=\"text-align: right;\">          69</td><td style=\"text-align: right;\">   538843</td><td style=\"text-align: right;\">      24072</td><td>                                                                                                                                                                                                                                    </td><td>Spring 2006</td><td>Wednesdays at 00:50 (JST)</td><td>{'Adaptation': [{'mal_id': 30, 'type': 'manga', 'url': 'https://myanimelist.net/manga/30/Ouran_Koukou_Host_Club', 'title': 'Ouran Koukou Host Club'}]}                                                                                                                                                                                                                                                                                                                                                                                                                                                                                                                                                                                                                                                                                                                                               </td><td>VAP, Hakusensha, Nippon Television Network                                                  </td><td>Funimation                              </td><td>Bones                        </td><td>Comedy, Harem, Romance, School, Shoujo               </td><td>['\"Sakura Kiss\" by Chieko Kawabe']                                                                                                                                                                                                                                        </td><td>['\"Shissou\" by Last Alliance']                                                                                                                                                                                                                                                                                                                                                                                                                                                                                                                                                                      </td></tr>\n",
       "</tbody>\n",
       "</table>"
      ]
     },
     "metadata": {},
     "output_type": "display_data"
    },
    {
     "data": {
      "text/plain": []
     },
     "execution_count": 6,
     "metadata": {},
     "output_type": "execute_result"
    }
   ],
   "source": [
    "df.head()\n",
    "\n"
   ]
  },
  {
   "cell_type": "markdown",
   "metadata": {},
   "source": [
    "__Data Cleaning__"
   ]
  },
  {
   "cell_type": "code",
   "execution_count": 7,
   "metadata": {},
   "outputs": [
    {
     "data": {
      "text/html": [
       "<table>\n",
       "<thead>\n",
       "<tr><th style=\"text-align: right;\">  isNA(anime_id)</th><th style=\"text-align: right;\">  isNA(title)</th><th style=\"text-align: right;\">  isNA(title_english)</th><th style=\"text-align: right;\">  isNA(title_japanese)</th><th style=\"text-align: right;\">  isNA(title_synonyms)</th><th style=\"text-align: right;\">  isNA(image_url)</th><th style=\"text-align: right;\">  isNA(type)</th><th style=\"text-align: right;\">  isNA(source)</th><th style=\"text-align: right;\">  isNA(episodes)</th><th style=\"text-align: right;\">  isNA(status)</th><th style=\"text-align: right;\">  isNA(airing)</th><th style=\"text-align: right;\">  isNA(aired_string)</th><th style=\"text-align: right;\">  isNA(aired)</th><th style=\"text-align: right;\">  isNA(duration)</th><th style=\"text-align: right;\">  isNA(rating)</th><th style=\"text-align: right;\">  isNA(score)</th><th style=\"text-align: right;\">  isNA(scored_by)</th><th style=\"text-align: right;\">  isNA(rank)</th><th style=\"text-align: right;\">  isNA(popularity)</th><th style=\"text-align: right;\">  isNA(members)</th><th style=\"text-align: right;\">  isNA(favorites)</th><th style=\"text-align: right;\">  isNA(background)</th><th style=\"text-align: right;\">  isNA(premiered)</th><th style=\"text-align: right;\">  isNA(broadcast)</th><th style=\"text-align: right;\">  isNA(related)</th><th style=\"text-align: right;\">  isNA(producer)</th><th style=\"text-align: right;\">  isNA(licensor)</th><th style=\"text-align: right;\">  isNA(studio)</th><th style=\"text-align: right;\">  isNA(genre)</th><th style=\"text-align: right;\">  isNA(opening_theme)</th><th style=\"text-align: right;\">  isNA(ending_theme)</th></tr>\n",
       "</thead>\n",
       "<tbody>\n",
       "<tr><td style=\"text-align: right;\">               0</td><td style=\"text-align: right;\">            0</td><td style=\"text-align: right;\">                    0</td><td style=\"text-align: right;\">                     0</td><td style=\"text-align: right;\">                     0</td><td style=\"text-align: right;\">                0</td><td style=\"text-align: right;\">           0</td><td style=\"text-align: right;\">             0</td><td style=\"text-align: right;\">               0</td><td style=\"text-align: right;\">             0</td><td style=\"text-align: right;\">             0</td><td style=\"text-align: right;\">                   0</td><td style=\"text-align: right;\">            0</td><td style=\"text-align: right;\">               0</td><td style=\"text-align: right;\">             0</td><td style=\"text-align: right;\">            0</td><td style=\"text-align: right;\">                0</td><td style=\"text-align: right;\">           0</td><td style=\"text-align: right;\">                 0</td><td style=\"text-align: right;\">              0</td><td style=\"text-align: right;\">                0</td><td style=\"text-align: right;\">                 0</td><td style=\"text-align: right;\">                0</td><td style=\"text-align: right;\">                0</td><td style=\"text-align: right;\">              0</td><td style=\"text-align: right;\">               0</td><td style=\"text-align: right;\">               0</td><td style=\"text-align: right;\">             0</td><td style=\"text-align: right;\">            0</td><td style=\"text-align: right;\">                    0</td><td style=\"text-align: right;\">                   0</td></tr>\n",
       "<tr><td style=\"text-align: right;\">               0</td><td style=\"text-align: right;\">            0</td><td style=\"text-align: right;\">                    0</td><td style=\"text-align: right;\">                     0</td><td style=\"text-align: right;\">                     0</td><td style=\"text-align: right;\">                0</td><td style=\"text-align: right;\">           0</td><td style=\"text-align: right;\">             0</td><td style=\"text-align: right;\">               0</td><td style=\"text-align: right;\">             0</td><td style=\"text-align: right;\">             0</td><td style=\"text-align: right;\">                   0</td><td style=\"text-align: right;\">            0</td><td style=\"text-align: right;\">               0</td><td style=\"text-align: right;\">             0</td><td style=\"text-align: right;\">            0</td><td style=\"text-align: right;\">                0</td><td style=\"text-align: right;\">           0</td><td style=\"text-align: right;\">                 0</td><td style=\"text-align: right;\">              0</td><td style=\"text-align: right;\">                0</td><td style=\"text-align: right;\">                 1</td><td style=\"text-align: right;\">                0</td><td style=\"text-align: right;\">                0</td><td style=\"text-align: right;\">              0</td><td style=\"text-align: right;\">               0</td><td style=\"text-align: right;\">               0</td><td style=\"text-align: right;\">             0</td><td style=\"text-align: right;\">            0</td><td style=\"text-align: right;\">                    0</td><td style=\"text-align: right;\">                   0</td></tr>\n",
       "<tr><td style=\"text-align: right;\">               0</td><td style=\"text-align: right;\">            0</td><td style=\"text-align: right;\">                    0</td><td style=\"text-align: right;\">                     0</td><td style=\"text-align: right;\">                     0</td><td style=\"text-align: right;\">                0</td><td style=\"text-align: right;\">           0</td><td style=\"text-align: right;\">             0</td><td style=\"text-align: right;\">               0</td><td style=\"text-align: right;\">             0</td><td style=\"text-align: right;\">             0</td><td style=\"text-align: right;\">                   0</td><td style=\"text-align: right;\">            0</td><td style=\"text-align: right;\">               0</td><td style=\"text-align: right;\">             0</td><td style=\"text-align: right;\">            0</td><td style=\"text-align: right;\">                0</td><td style=\"text-align: right;\">           0</td><td style=\"text-align: right;\">                 0</td><td style=\"text-align: right;\">              0</td><td style=\"text-align: right;\">                0</td><td style=\"text-align: right;\">                 1</td><td style=\"text-align: right;\">                0</td><td style=\"text-align: right;\">                0</td><td style=\"text-align: right;\">              0</td><td style=\"text-align: right;\">               0</td><td style=\"text-align: right;\">               1</td><td style=\"text-align: right;\">             0</td><td style=\"text-align: right;\">            0</td><td style=\"text-align: right;\">                    0</td><td style=\"text-align: right;\">                   0</td></tr>\n",
       "<tr><td style=\"text-align: right;\">               0</td><td style=\"text-align: right;\">            0</td><td style=\"text-align: right;\">                    0</td><td style=\"text-align: right;\">                     0</td><td style=\"text-align: right;\">                     1</td><td style=\"text-align: right;\">                0</td><td style=\"text-align: right;\">           0</td><td style=\"text-align: right;\">             0</td><td style=\"text-align: right;\">               0</td><td style=\"text-align: right;\">             0</td><td style=\"text-align: right;\">             0</td><td style=\"text-align: right;\">                   0</td><td style=\"text-align: right;\">            0</td><td style=\"text-align: right;\">               0</td><td style=\"text-align: right;\">             0</td><td style=\"text-align: right;\">            0</td><td style=\"text-align: right;\">                0</td><td style=\"text-align: right;\">           0</td><td style=\"text-align: right;\">                 0</td><td style=\"text-align: right;\">              0</td><td style=\"text-align: right;\">                0</td><td style=\"text-align: right;\">                 0</td><td style=\"text-align: right;\">                0</td><td style=\"text-align: right;\">                0</td><td style=\"text-align: right;\">              0</td><td style=\"text-align: right;\">               0</td><td style=\"text-align: right;\">               0</td><td style=\"text-align: right;\">             0</td><td style=\"text-align: right;\">            0</td><td style=\"text-align: right;\">                    0</td><td style=\"text-align: right;\">                   0</td></tr>\n",
       "<tr><td style=\"text-align: right;\">               0</td><td style=\"text-align: right;\">            0</td><td style=\"text-align: right;\">                    0</td><td style=\"text-align: right;\">                     0</td><td style=\"text-align: right;\">                     0</td><td style=\"text-align: right;\">                0</td><td style=\"text-align: right;\">           0</td><td style=\"text-align: right;\">             0</td><td style=\"text-align: right;\">               0</td><td style=\"text-align: right;\">             0</td><td style=\"text-align: right;\">             0</td><td style=\"text-align: right;\">                   0</td><td style=\"text-align: right;\">            0</td><td style=\"text-align: right;\">               0</td><td style=\"text-align: right;\">             0</td><td style=\"text-align: right;\">            0</td><td style=\"text-align: right;\">                0</td><td style=\"text-align: right;\">           0</td><td style=\"text-align: right;\">                 0</td><td style=\"text-align: right;\">              0</td><td style=\"text-align: right;\">                0</td><td style=\"text-align: right;\">                 1</td><td style=\"text-align: right;\">                0</td><td style=\"text-align: right;\">                0</td><td style=\"text-align: right;\">              0</td><td style=\"text-align: right;\">               0</td><td style=\"text-align: right;\">               1</td><td style=\"text-align: right;\">             0</td><td style=\"text-align: right;\">            0</td><td style=\"text-align: right;\">                    0</td><td style=\"text-align: right;\">                   0</td></tr>\n",
       "<tr><td style=\"text-align: right;\">               0</td><td style=\"text-align: right;\">            0</td><td style=\"text-align: right;\">                    1</td><td style=\"text-align: right;\">                     0</td><td style=\"text-align: right;\">                     0</td><td style=\"text-align: right;\">                0</td><td style=\"text-align: right;\">           0</td><td style=\"text-align: right;\">             0</td><td style=\"text-align: right;\">               0</td><td style=\"text-align: right;\">             0</td><td style=\"text-align: right;\">             0</td><td style=\"text-align: right;\">                   0</td><td style=\"text-align: right;\">            0</td><td style=\"text-align: right;\">               0</td><td style=\"text-align: right;\">             0</td><td style=\"text-align: right;\">            0</td><td style=\"text-align: right;\">                0</td><td style=\"text-align: right;\">           0</td><td style=\"text-align: right;\">                 0</td><td style=\"text-align: right;\">              0</td><td style=\"text-align: right;\">                0</td><td style=\"text-align: right;\">                 1</td><td style=\"text-align: right;\">                0</td><td style=\"text-align: right;\">                0</td><td style=\"text-align: right;\">              0</td><td style=\"text-align: right;\">               0</td><td style=\"text-align: right;\">               1</td><td style=\"text-align: right;\">             0</td><td style=\"text-align: right;\">            0</td><td style=\"text-align: right;\">                    0</td><td style=\"text-align: right;\">                   0</td></tr>\n",
       "<tr><td style=\"text-align: right;\">               0</td><td style=\"text-align: right;\">            0</td><td style=\"text-align: right;\">                    0</td><td style=\"text-align: right;\">                     0</td><td style=\"text-align: right;\">                     1</td><td style=\"text-align: right;\">                0</td><td style=\"text-align: right;\">           0</td><td style=\"text-align: right;\">             0</td><td style=\"text-align: right;\">               0</td><td style=\"text-align: right;\">             0</td><td style=\"text-align: right;\">             0</td><td style=\"text-align: right;\">                   0</td><td style=\"text-align: right;\">            0</td><td style=\"text-align: right;\">               0</td><td style=\"text-align: right;\">             0</td><td style=\"text-align: right;\">            0</td><td style=\"text-align: right;\">                0</td><td style=\"text-align: right;\">           0</td><td style=\"text-align: right;\">                 0</td><td style=\"text-align: right;\">              0</td><td style=\"text-align: right;\">                0</td><td style=\"text-align: right;\">                 1</td><td style=\"text-align: right;\">                0</td><td style=\"text-align: right;\">                0</td><td style=\"text-align: right;\">              0</td><td style=\"text-align: right;\">               0</td><td style=\"text-align: right;\">               0</td><td style=\"text-align: right;\">             0</td><td style=\"text-align: right;\">            0</td><td style=\"text-align: right;\">                    0</td><td style=\"text-align: right;\">                   0</td></tr>\n",
       "<tr><td style=\"text-align: right;\">               0</td><td style=\"text-align: right;\">            0</td><td style=\"text-align: right;\">                    0</td><td style=\"text-align: right;\">                     0</td><td style=\"text-align: right;\">                     0</td><td style=\"text-align: right;\">                0</td><td style=\"text-align: right;\">           0</td><td style=\"text-align: right;\">             0</td><td style=\"text-align: right;\">               0</td><td style=\"text-align: right;\">             0</td><td style=\"text-align: right;\">             0</td><td style=\"text-align: right;\">                   0</td><td style=\"text-align: right;\">            0</td><td style=\"text-align: right;\">               0</td><td style=\"text-align: right;\">             0</td><td style=\"text-align: right;\">            0</td><td style=\"text-align: right;\">                0</td><td style=\"text-align: right;\">           0</td><td style=\"text-align: right;\">                 0</td><td style=\"text-align: right;\">              0</td><td style=\"text-align: right;\">                0</td><td style=\"text-align: right;\">                 1</td><td style=\"text-align: right;\">                0</td><td style=\"text-align: right;\">                0</td><td style=\"text-align: right;\">              0</td><td style=\"text-align: right;\">               0</td><td style=\"text-align: right;\">               0</td><td style=\"text-align: right;\">             0</td><td style=\"text-align: right;\">            0</td><td style=\"text-align: right;\">                    0</td><td style=\"text-align: right;\">                   0</td></tr>\n",
       "<tr><td style=\"text-align: right;\">               0</td><td style=\"text-align: right;\">            0</td><td style=\"text-align: right;\">                    1</td><td style=\"text-align: right;\">                     0</td><td style=\"text-align: right;\">                     0</td><td style=\"text-align: right;\">                0</td><td style=\"text-align: right;\">           0</td><td style=\"text-align: right;\">             0</td><td style=\"text-align: right;\">               0</td><td style=\"text-align: right;\">             0</td><td style=\"text-align: right;\">             0</td><td style=\"text-align: right;\">                   0</td><td style=\"text-align: right;\">            0</td><td style=\"text-align: right;\">               0</td><td style=\"text-align: right;\">             0</td><td style=\"text-align: right;\">            0</td><td style=\"text-align: right;\">                0</td><td style=\"text-align: right;\">           0</td><td style=\"text-align: right;\">                 0</td><td style=\"text-align: right;\">              0</td><td style=\"text-align: right;\">                0</td><td style=\"text-align: right;\">                 1</td><td style=\"text-align: right;\">                0</td><td style=\"text-align: right;\">                0</td><td style=\"text-align: right;\">              0</td><td style=\"text-align: right;\">               0</td><td style=\"text-align: right;\">               1</td><td style=\"text-align: right;\">             0</td><td style=\"text-align: right;\">            0</td><td style=\"text-align: right;\">                    0</td><td style=\"text-align: right;\">                   0</td></tr>\n",
       "<tr><td style=\"text-align: right;\">               0</td><td style=\"text-align: right;\">            0</td><td style=\"text-align: right;\">                    0</td><td style=\"text-align: right;\">                     0</td><td style=\"text-align: right;\">                     0</td><td style=\"text-align: right;\">                0</td><td style=\"text-align: right;\">           0</td><td style=\"text-align: right;\">             0</td><td style=\"text-align: right;\">               0</td><td style=\"text-align: right;\">             0</td><td style=\"text-align: right;\">             0</td><td style=\"text-align: right;\">                   0</td><td style=\"text-align: right;\">            0</td><td style=\"text-align: right;\">               0</td><td style=\"text-align: right;\">             0</td><td style=\"text-align: right;\">            0</td><td style=\"text-align: right;\">                0</td><td style=\"text-align: right;\">           0</td><td style=\"text-align: right;\">                 0</td><td style=\"text-align: right;\">              0</td><td style=\"text-align: right;\">                0</td><td style=\"text-align: right;\">                 1</td><td style=\"text-align: right;\">                0</td><td style=\"text-align: right;\">                0</td><td style=\"text-align: right;\">              0</td><td style=\"text-align: right;\">               0</td><td style=\"text-align: right;\">               0</td><td style=\"text-align: right;\">             0</td><td style=\"text-align: right;\">            0</td><td style=\"text-align: right;\">                    0</td><td style=\"text-align: right;\">                   0</td></tr>\n",
       "</tbody>\n",
       "</table>"
      ]
     },
     "metadata": {},
     "output_type": "display_data"
    },
    {
     "data": {
      "text/plain": []
     },
     "execution_count": 7,
     "metadata": {},
     "output_type": "execute_result"
    }
   ],
   "source": [
    "df.isna()"
   ]
  },
  {
   "cell_type": "markdown",
   "metadata": {},
   "source": [
    "__Finding number of missing values__"
   ]
  },
  {
   "cell_type": "code",
   "execution_count": 8,
   "metadata": {},
   "outputs": [],
   "source": [
    "# episodes = df['episodes'].isna().sum()\n",
    "# score = df['score'].isna().sum()\n",
    "# rank = df['rank'].isna().sum()\n",
    "# popularity = df['popularity'].isna().sum()\n",
    "# memebers = df['members'].isna().sum()\n",
    "# favorites = df['favorites'].isna().sum()\n",
    "\n",
    "# print(\"Number of missing values in each numeric column:\")\n",
    "# print(\"Episodes : \"+str(episodes))\n",
    "# print(\"Score : \"+str(score))\n",
    "# print(\"Rank  : \"+str(rank))\n",
    "# print(\"Popularity :\"+str(popularity))\n",
    "# print(\"Members :\"+str(memebers))\n",
    "# print(\"Favorites :\"+str(favorites))\n",
    "\n",
    "      \n",
    "\n",
    "      "
   ]
  },
  {
   "cell_type": "markdown",
   "metadata": {},
   "source": [
    "__Fill the missing values with mean value__"
   ]
  },
  {
   "cell_type": "code",
   "execution_count": 9,
   "metadata": {},
   "outputs": [],
   "source": [
    "# df['rank'] = df['rank'].fillna(method = \"mean\",axis=1)"
   ]
  },
  {
   "cell_type": "code",
   "execution_count": 10,
   "metadata": {},
   "outputs": [],
   "source": [
    "target = 'score'\n",
    "run_id='SOME_ID_20180617_221529' # Just some arbitrary ID\n",
    "classification=False\n",
    "scale=False\n",
    "max_models=None\n",
    "balance_y=False # balance_classes=balance_y\n",
    "balance_threshold=0.2\n",
    "project =\"automl_test\""
   ]
  },
  {
   "cell_type": "code",
   "execution_count": 11,
   "metadata": {},
   "outputs": [
    {
     "name": "stdout",
     "output_type": "stream",
     "text": [
      "score\n",
      "['anime_id', 'title', 'title_english', 'title_japanese', 'title_synonyms', 'image_url', 'type', 'source', 'episodes', 'status', 'airing', 'aired_string', 'aired', 'duration', 'rating', 'scored_by', 'rank', 'popularity', 'members', 'favorites', 'background', 'premiered', 'broadcast', 'related', 'producer', 'licensor', 'studio', 'genre', 'opening_theme', 'ending_theme']\n"
     ]
    }
   ],
   "source": [
    "\n",
    "y = target\n",
    "X = [name for name in df.columns if name != y]\n",
    "print(y)\n",
    "print(X)"
   ]
  },
  {
   "cell_type": "code",
   "execution_count": 12,
   "metadata": {},
   "outputs": [],
   "source": [
    "def automl(maxruntime,X,Y,df):\n",
    "    aml = H2OAutoML(max_runtime_secs=maxruntime,exclude_algos = ['DeepLearning'])\n",
    "    aml.train(x=X,y=y,training_frame=df)\n",
    "    return aml"
   ]
  },
  {
   "cell_type": "code",
   "execution_count": 13,
   "metadata": {},
   "outputs": [],
   "source": [
    "def dict_to_json(dct,n):  \n",
    "    j = json.dumps(dct, indent=4)\n",
    "    f = open(n, 'w')\n",
    "    print(j, file=f)\n",
    "    f.close()"
   ]
  },
  {
   "cell_type": "markdown",
   "metadata": {},
   "source": [
    "## Run Time = 500 seconds"
   ]
  },
  {
   "cell_type": "code",
   "execution_count": 14,
   "metadata": {},
   "outputs": [
    {
     "name": "stdout",
     "output_type": "stream",
     "text": [
      "AutoML progress: |████████████████████████████████████████████████████████| 100%\n"
     ]
    }
   ],
   "source": [
    "aml1 = automl(500,X,y,df)"
   ]
  },
  {
   "cell_type": "code",
   "execution_count": 16,
   "metadata": {},
   "outputs": [
    {
     "data": {
      "text/html": [
       "<table>\n",
       "<thead>\n",
       "<tr><th>model_id                                           </th><th style=\"text-align: right;\">  mean_residual_deviance</th><th style=\"text-align: right;\">    rmse</th><th style=\"text-align: right;\">     mse</th><th style=\"text-align: right;\">     mae</th><th style=\"text-align: right;\">    rmsle</th></tr>\n",
       "</thead>\n",
       "<tbody>\n",
       "<tr><td>StackedEnsemble_AllModels_AutoML_20190416_012028   </td><td style=\"text-align: right;\">                0.196233</td><td style=\"text-align: right;\">0.442982</td><td style=\"text-align: right;\">0.196233</td><td style=\"text-align: right;\">0.193602</td><td style=\"text-align: right;\">0.0794108</td></tr>\n",
       "<tr><td>XGBoost_2_AutoML_20190416_012028                   </td><td style=\"text-align: right;\">                0.197926</td><td style=\"text-align: right;\">0.444889</td><td style=\"text-align: right;\">0.197926</td><td style=\"text-align: right;\">0.198316</td><td style=\"text-align: right;\">0.0803108</td></tr>\n",
       "<tr><td>StackedEnsemble_BestOfFamily_AutoML_20190416_012028</td><td style=\"text-align: right;\">                0.197953</td><td style=\"text-align: right;\">0.444919</td><td style=\"text-align: right;\">0.197953</td><td style=\"text-align: right;\">0.197265</td><td style=\"text-align: right;\">0.0805872</td></tr>\n",
       "<tr><td>XGBoost_1_AutoML_20190416_012028                   </td><td style=\"text-align: right;\">                0.200986</td><td style=\"text-align: right;\">0.448314</td><td style=\"text-align: right;\">0.200986</td><td style=\"text-align: right;\">0.198425</td><td style=\"text-align: right;\">0.0799859</td></tr>\n",
       "<tr><td>XGBoost_3_AutoML_20190416_012028                   </td><td style=\"text-align: right;\">                0.225814</td><td style=\"text-align: right;\">0.475199</td><td style=\"text-align: right;\">0.225814</td><td style=\"text-align: right;\">0.228514</td><td style=\"text-align: right;\">0.0857106</td></tr>\n",
       "<tr><td>GLM_grid_1_AutoML_20190416_012028_model_1          </td><td style=\"text-align: right;\">                0.527638</td><td style=\"text-align: right;\">0.726387</td><td style=\"text-align: right;\">0.527638</td><td style=\"text-align: right;\">0.455382</td><td style=\"text-align: right;\">0.196085 </td></tr>\n",
       "</tbody>\n",
       "</table>"
      ]
     },
     "metadata": {},
     "output_type": "display_data"
    },
    {
     "data": {
      "text/plain": []
     },
     "execution_count": 16,
     "metadata": {},
     "output_type": "execute_result"
    }
   ],
   "source": [
    "aml1.leaderboard"
   ]
  },
  {
   "cell_type": "code",
   "execution_count": 17,
   "metadata": {},
   "outputs": [
    {
     "data": {
      "text/plain": [
       "0     StackedEnsemble_AllModels_AutoML_20190416_012028\n",
       "1                     XGBoost_2_AutoML_20190416_012028\n",
       "2    StackedEnsemble_BestOfFamily_AutoML_20190416_0...\n",
       "3                     XGBoost_1_AutoML_20190416_012028\n",
       "4                     XGBoost_3_AutoML_20190416_012028\n",
       "5            GLM_grid_1_AutoML_20190416_012028_model_1\n",
       "Name: model_id, dtype: object"
      ]
     },
     "execution_count": 17,
     "metadata": {},
     "output_type": "execute_result"
    }
   ],
   "source": [
    "aml1_leaderboard_df=aml1.leaderboard.as_data_frame()\n",
    "model1_set=aml1_leaderboard_df['model_id']\n",
    "model1_set"
   ]
  },
  {
   "cell_type": "markdown",
   "metadata": {},
   "source": [
    "__XGBoost models for 500 Runtime__ "
   ]
  },
  {
   "cell_type": "code",
   "execution_count": 47,
   "metadata": {},
   "outputs": [],
   "source": [
    "mod_best=h2o.get_model(model1_set[2])\n",
    "parameters = mod_best.params"
   ]
  },
  {
   "cell_type": "code",
   "execution_count": 48,
   "metadata": {},
   "outputs": [],
   "source": [
    "dict_to_json(parameters,'XGBoost_2_500')"
   ]
  },
  {
   "cell_type": "code",
   "execution_count": 49,
   "metadata": {},
   "outputs": [],
   "source": [
    "mod_best=h2o.get_model(model1_set[3])\n",
    "parameters = mod_best.params"
   ]
  },
  {
   "cell_type": "code",
   "execution_count": 50,
   "metadata": {},
   "outputs": [],
   "source": [
    "dict_to_json(parameters,'XGBoost_1_500')"
   ]
  },
  {
   "cell_type": "markdown",
   "metadata": {},
   "source": [
    "__DRF model for 500 Runtime__ "
   ]
  },
  {
   "cell_type": "code",
   "execution_count": 51,
   "metadata": {},
   "outputs": [],
   "source": [
    "mod_best=h2o.get_model(model1_set[4])\n",
    "parameters = mod_best.params"
   ]
  },
  {
   "cell_type": "code",
   "execution_count": 52,
   "metadata": {},
   "outputs": [],
   "source": [
    "dict_to_json(parameters,'DRF_500')"
   ]
  },
  {
   "cell_type": "markdown",
   "metadata": {},
   "source": [
    "__GLM model for 500 Runtime__ "
   ]
  },
  {
   "cell_type": "code",
   "execution_count": 53,
   "metadata": {},
   "outputs": [],
   "source": [
    "mod_best=h2o.get_model(model1_set[5])\n",
    "parameters = mod_best.params"
   ]
  },
  {
   "cell_type": "code",
   "execution_count": 54,
   "metadata": {},
   "outputs": [],
   "source": [
    "dict_to_json(parameters,'GLM_500')"
   ]
  },
  {
   "cell_type": "markdown",
   "metadata": {},
   "source": [
    "__XRT model for 500 Runtime__ "
   ]
  },
  {
   "cell_type": "code",
   "execution_count": 58,
   "metadata": {},
   "outputs": [],
   "source": [
    "mod_best=h2o.get_model(model1_set[6])\n",
    "parameters = mod_best.params"
   ]
  },
  {
   "cell_type": "code",
   "execution_count": 59,
   "metadata": {},
   "outputs": [],
   "source": [
    "dict_to_json(parameters,'XRT_500')"
   ]
  },
  {
   "cell_type": "code",
   "execution_count": null,
   "metadata": {},
   "outputs": [],
   "source": []
  },
  {
   "cell_type": "markdown",
   "metadata": {},
   "source": [
    "## Run Time = 700 seconds"
   ]
  },
  {
   "cell_type": "code",
   "execution_count": 18,
   "metadata": {},
   "outputs": [
    {
     "name": "stdout",
     "output_type": "stream",
     "text": [
      "AutoML progress: |████████████████████████████████████████████████████████| 100%\n"
     ]
    }
   ],
   "source": [
    "aml2 = automl(700,X,y,df)"
   ]
  },
  {
   "cell_type": "code",
   "execution_count": 19,
   "metadata": {},
   "outputs": [
    {
     "data": {
      "text/html": [
       "<table>\n",
       "<thead>\n",
       "<tr><th>model_id                                           </th><th style=\"text-align: right;\">  mean_residual_deviance</th><th style=\"text-align: right;\">    rmse</th><th style=\"text-align: right;\">     mse</th><th style=\"text-align: right;\">     mae</th><th style=\"text-align: right;\">    rmsle</th></tr>\n",
       "</thead>\n",
       "<tbody>\n",
       "<tr><td>StackedEnsemble_BestOfFamily_AutoML_20190416_013130</td><td style=\"text-align: right;\">                0.194607</td><td style=\"text-align: right;\">0.441142</td><td style=\"text-align: right;\">0.194607</td><td style=\"text-align: right;\">0.193529</td><td style=\"text-align: right;\">0.0807591</td></tr>\n",
       "<tr><td>XGBoost_2_AutoML_20190416_013130                   </td><td style=\"text-align: right;\">                0.194619</td><td style=\"text-align: right;\">0.441156</td><td style=\"text-align: right;\">0.194619</td><td style=\"text-align: right;\">0.195719</td><td style=\"text-align: right;\">0.0790544</td></tr>\n",
       "<tr><td>StackedEnsemble_AllModels_AutoML_20190416_012028   </td><td style=\"text-align: right;\">                0.196233</td><td style=\"text-align: right;\">0.442982</td><td style=\"text-align: right;\">0.196233</td><td style=\"text-align: right;\">0.193602</td><td style=\"text-align: right;\">0.0794108</td></tr>\n",
       "<tr><td>XGBoost_2_AutoML_20190416_012028                   </td><td style=\"text-align: right;\">                0.197926</td><td style=\"text-align: right;\">0.444889</td><td style=\"text-align: right;\">0.197926</td><td style=\"text-align: right;\">0.198316</td><td style=\"text-align: right;\">0.0803108</td></tr>\n",
       "<tr><td>StackedEnsemble_BestOfFamily_AutoML_20190416_012028</td><td style=\"text-align: right;\">                0.197953</td><td style=\"text-align: right;\">0.444919</td><td style=\"text-align: right;\">0.197953</td><td style=\"text-align: right;\">0.197265</td><td style=\"text-align: right;\">0.0805872</td></tr>\n",
       "<tr><td>XGBoost_1_AutoML_20190416_012028                   </td><td style=\"text-align: right;\">                0.200986</td><td style=\"text-align: right;\">0.448314</td><td style=\"text-align: right;\">0.200986</td><td style=\"text-align: right;\">0.198425</td><td style=\"text-align: right;\">0.0799859</td></tr>\n",
       "<tr><td>XGBoost_1_AutoML_20190416_013130                   </td><td style=\"text-align: right;\">                0.201044</td><td style=\"text-align: right;\">0.44838 </td><td style=\"text-align: right;\">0.201044</td><td style=\"text-align: right;\">0.199594</td><td style=\"text-align: right;\">0.0800848</td></tr>\n",
       "<tr><td>XGBoost_3_AutoML_20190416_012028                   </td><td style=\"text-align: right;\">                0.225814</td><td style=\"text-align: right;\">0.475199</td><td style=\"text-align: right;\">0.225814</td><td style=\"text-align: right;\">0.228514</td><td style=\"text-align: right;\">0.0857106</td></tr>\n",
       "<tr><td>XGBoost_3_AutoML_20190416_013130                   </td><td style=\"text-align: right;\">                0.22746 </td><td style=\"text-align: right;\">0.476928</td><td style=\"text-align: right;\">0.22746 </td><td style=\"text-align: right;\">0.228856</td><td style=\"text-align: right;\">0.0863606</td></tr>\n",
       "<tr><td>GBM_1_AutoML_20190416_013130                       </td><td style=\"text-align: right;\">                0.258581</td><td style=\"text-align: right;\">0.508509</td><td style=\"text-align: right;\">0.258581</td><td style=\"text-align: right;\">0.228998</td><td style=\"text-align: right;\">0.099934 </td></tr>\n",
       "</tbody>\n",
       "</table>"
      ]
     },
     "metadata": {},
     "output_type": "display_data"
    },
    {
     "data": {
      "text/plain": []
     },
     "execution_count": 19,
     "metadata": {},
     "output_type": "execute_result"
    }
   ],
   "source": [
    "aml2.leaderboard"
   ]
  },
  {
   "cell_type": "code",
   "execution_count": 20,
   "metadata": {},
   "outputs": [
    {
     "data": {
      "text/plain": [
       "0     StackedEnsemble_BestOfFamily_AutoML_20190416_0...\n",
       "1                      XGBoost_2_AutoML_20190416_013130\n",
       "2      StackedEnsemble_AllModels_AutoML_20190416_012028\n",
       "3                      XGBoost_2_AutoML_20190416_012028\n",
       "4     StackedEnsemble_BestOfFamily_AutoML_20190416_0...\n",
       "5                      XGBoost_1_AutoML_20190416_012028\n",
       "6                      XGBoost_1_AutoML_20190416_013130\n",
       "7                      XGBoost_3_AutoML_20190416_012028\n",
       "8                      XGBoost_3_AutoML_20190416_013130\n",
       "9                          GBM_1_AutoML_20190416_013130\n",
       "10                         DRF_1_AutoML_20190416_013130\n",
       "11                         GBM_4_AutoML_20190416_013130\n",
       "12                         GBM_2_AutoML_20190416_013130\n",
       "13                         GBM_3_AutoML_20190416_013130\n",
       "14                         GBM_5_AutoML_20190416_013130\n",
       "15            GLM_grid_1_AutoML_20190416_013130_model_1\n",
       "16            GLM_grid_1_AutoML_20190416_012028_model_1\n",
       "Name: model_id, dtype: object"
      ]
     },
     "execution_count": 20,
     "metadata": {},
     "output_type": "execute_result"
    }
   ],
   "source": [
    "aml2_leaderboard_df=aml2.leaderboard.as_data_frame()\n",
    "model2_set=aml2_leaderboard_df['model_id']\n",
    "model2_set"
   ]
  },
  {
   "cell_type": "markdown",
   "metadata": {},
   "source": [
    "__XGBoost models for 700 Runtime__ "
   ]
  },
  {
   "cell_type": "code",
   "execution_count": 60,
   "metadata": {},
   "outputs": [],
   "source": [
    "mod_best=h2o.get_model(model2_set[1])\n",
    "parameters = mod_best.params"
   ]
  },
  {
   "cell_type": "code",
   "execution_count": 61,
   "metadata": {},
   "outputs": [],
   "source": [
    "dict_to_json(parameters,'XGBoost_3_1_700')"
   ]
  },
  {
   "cell_type": "code",
   "execution_count": 62,
   "metadata": {},
   "outputs": [],
   "source": [
    "mod_best=h2o.get_model(model2_set[2])\n",
    "parameters = mod_best.params"
   ]
  },
  {
   "cell_type": "code",
   "execution_count": 63,
   "metadata": {},
   "outputs": [],
   "source": [
    "dict_to_json(parameters,'XGBoost_3_2_700')"
   ]
  },
  {
   "cell_type": "code",
   "execution_count": 64,
   "metadata": {},
   "outputs": [],
   "source": [
    "mod_best=h2o.get_model(model2_set[3])\n",
    "parameters = mod_best.params"
   ]
  },
  {
   "cell_type": "code",
   "execution_count": 65,
   "metadata": {},
   "outputs": [],
   "source": [
    "dict_to_json(parameters,'XGBoost_3_3_700')"
   ]
  },
  {
   "cell_type": "code",
   "execution_count": 66,
   "metadata": {},
   "outputs": [],
   "source": [
    "mod_best=h2o.get_model(model2_set[4])\n",
    "parameters = mod_best.params"
   ]
  },
  {
   "cell_type": "code",
   "execution_count": 67,
   "metadata": {},
   "outputs": [],
   "source": [
    "dict_to_json(parameters,'XGBoost_2_1_700')"
   ]
  },
  {
   "cell_type": "code",
   "execution_count": 68,
   "metadata": {},
   "outputs": [],
   "source": [
    "mod_best=h2o.get_model(model2_set[5])\n",
    "parameters = mod_best.params"
   ]
  },
  {
   "cell_type": "code",
   "execution_count": 69,
   "metadata": {},
   "outputs": [],
   "source": [
    "dict_to_json(parameters,'XGBoost_2_2_700')"
   ]
  },
  {
   "cell_type": "code",
   "execution_count": 70,
   "metadata": {},
   "outputs": [],
   "source": [
    "mod_best=h2o.get_model(model2_set[6])\n",
    "parameters = mod_best.params"
   ]
  },
  {
   "cell_type": "code",
   "execution_count": 71,
   "metadata": {},
   "outputs": [],
   "source": [
    "dict_to_json(parameters,'XGBoost_2_3_700')"
   ]
  },
  {
   "cell_type": "code",
   "execution_count": 72,
   "metadata": {},
   "outputs": [],
   "source": [
    "mod_best=h2o.get_model(model2_set[9])\n",
    "parameters = mod_best.params"
   ]
  },
  {
   "cell_type": "code",
   "execution_count": 73,
   "metadata": {},
   "outputs": [],
   "source": [
    "dict_to_json(parameters,'XGBoost_2_4_700')"
   ]
  },
  {
   "cell_type": "code",
   "execution_count": 74,
   "metadata": {},
   "outputs": [],
   "source": [
    "mod_best=h2o.get_model(model2_set[10])\n",
    "parameters = mod_best.params"
   ]
  },
  {
   "cell_type": "code",
   "execution_count": 75,
   "metadata": {},
   "outputs": [],
   "source": [
    "dict_to_json(parameters,'XGBoost_1_1_700')"
   ]
  },
  {
   "cell_type": "code",
   "execution_count": 76,
   "metadata": {},
   "outputs": [],
   "source": [
    "mod_best=h2o.get_model(model2_set[11])\n",
    "parameters = mod_best.params"
   ]
  },
  {
   "cell_type": "code",
   "execution_count": 77,
   "metadata": {},
   "outputs": [],
   "source": [
    "dict_to_json(parameters,'XGBoost_1_2_700')"
   ]
  },
  {
   "cell_type": "code",
   "execution_count": 78,
   "metadata": {},
   "outputs": [],
   "source": [
    "mod_best=h2o.get_model(model2_set[12])\n",
    "parameters = mod_best.params"
   ]
  },
  {
   "cell_type": "code",
   "execution_count": 79,
   "metadata": {},
   "outputs": [],
   "source": [
    "dict_to_json(parameters,'XGBoost_1_3_700')"
   ]
  },
  {
   "cell_type": "code",
   "execution_count": 80,
   "metadata": {},
   "outputs": [],
   "source": [
    "mod_best=h2o.get_model(model2_set[13])\n",
    "parameters = mod_best.params"
   ]
  },
  {
   "cell_type": "code",
   "execution_count": 81,
   "metadata": {},
   "outputs": [],
   "source": [
    "dict_to_json(parameters,'XGBoost_1_4_700')"
   ]
  },
  {
   "cell_type": "markdown",
   "metadata": {},
   "source": [
    "__XGBoost models for 700 Runtime__ "
   ]
  },
  {
   "cell_type": "code",
   "execution_count": 82,
   "metadata": {},
   "outputs": [],
   "source": [
    "mod_best=h2o.get_model(model2_set[40])\n",
    "parameters = mod_best.params\n",
    "dict_to_json(parameters,'XGBoost_grid1_1_700')"
   ]
  },
  {
   "cell_type": "code",
   "execution_count": 83,
   "metadata": {},
   "outputs": [],
   "source": [
    "mod_best=h2o.get_model(model2_set[41])\n",
    "parameters = mod_best.params\n",
    "dict_to_json(parameters,'XGBoost_grid1_2_700')"
   ]
  },
  {
   "cell_type": "code",
   "execution_count": null,
   "metadata": {},
   "outputs": [],
   "source": []
  },
  {
   "cell_type": "markdown",
   "metadata": {},
   "source": [
    "__DRF models for 700 Runtime__ "
   ]
  },
  {
   "cell_type": "code",
   "execution_count": 84,
   "metadata": {},
   "outputs": [],
   "source": [
    "mod_best=h2o.get_model(model2_set[14])\n",
    "parameters = mod_best.params"
   ]
  },
  {
   "cell_type": "code",
   "execution_count": 85,
   "metadata": {},
   "outputs": [],
   "source": [
    "dict_to_json(parameters,'DRF_1_1_700')"
   ]
  },
  {
   "cell_type": "code",
   "execution_count": 86,
   "metadata": {},
   "outputs": [],
   "source": [
    "mod_best=h2o.get_model(model2_set[15])\n",
    "parameters = mod_best.params"
   ]
  },
  {
   "cell_type": "code",
   "execution_count": 87,
   "metadata": {},
   "outputs": [],
   "source": [
    "dict_to_json(parameters,'DRF_1_2_700')"
   ]
  },
  {
   "cell_type": "code",
   "execution_count": 88,
   "metadata": {},
   "outputs": [],
   "source": [
    "mod_best=h2o.get_model(model2_set[16])\n",
    "parameters = mod_best.params"
   ]
  },
  {
   "cell_type": "code",
   "execution_count": 89,
   "metadata": {},
   "outputs": [],
   "source": [
    "dict_to_json(parameters,'DRF_1_3_700')"
   ]
  },
  {
   "cell_type": "code",
   "execution_count": 90,
   "metadata": {},
   "outputs": [],
   "source": [
    "mod_best=h2o.get_model(model2_set[18])\n",
    "parameters = mod_best.params"
   ]
  },
  {
   "cell_type": "code",
   "execution_count": 91,
   "metadata": {},
   "outputs": [],
   "source": [
    "dict_to_json(parameters,'DRF_1_4_700')"
   ]
  },
  {
   "cell_type": "code",
   "execution_count": 92,
   "metadata": {},
   "outputs": [],
   "source": [
    "mod_best=h2o.get_model(model2_set[21])\n",
    "parameters = mod_best.params"
   ]
  },
  {
   "cell_type": "code",
   "execution_count": 93,
   "metadata": {},
   "outputs": [],
   "source": [
    "dict_to_json(parameters,'DRF_1_5_700')"
   ]
  },
  {
   "cell_type": "markdown",
   "metadata": {},
   "source": [
    "__GBM models for 700 Runtime__ "
   ]
  },
  {
   "cell_type": "code",
   "execution_count": 94,
   "metadata": {},
   "outputs": [],
   "source": [
    "mod_best=h2o.get_model(model2_set[17])\n",
    "parameters = mod_best.params"
   ]
  },
  {
   "cell_type": "code",
   "execution_count": 95,
   "metadata": {},
   "outputs": [],
   "source": [
    "dict_to_json(parameters,'GBM_3_1_700')"
   ]
  },
  {
   "cell_type": "code",
   "execution_count": 96,
   "metadata": {},
   "outputs": [],
   "source": [
    "mod_best=h2o.get_model(model2_set[19])\n",
    "parameters = mod_best.params"
   ]
  },
  {
   "cell_type": "code",
   "execution_count": 97,
   "metadata": {},
   "outputs": [],
   "source": [
    "dict_to_json(parameters,'GBM_2_1_700')"
   ]
  },
  {
   "cell_type": "code",
   "execution_count": 98,
   "metadata": {},
   "outputs": [],
   "source": [
    "mod_best=h2o.get_model(model2_set[20])\n",
    "parameters = mod_best.params"
   ]
  },
  {
   "cell_type": "code",
   "execution_count": 99,
   "metadata": {},
   "outputs": [],
   "source": [
    "dict_to_json(parameters,'GBM_4_1_700')"
   ]
  },
  {
   "cell_type": "code",
   "execution_count": 100,
   "metadata": {},
   "outputs": [],
   "source": [
    "mod_best=h2o.get_model(model2_set[22])\n",
    "parameters = mod_best.params"
   ]
  },
  {
   "cell_type": "code",
   "execution_count": 101,
   "metadata": {},
   "outputs": [],
   "source": [
    "dict_to_json(parameters,'GBM_2_2_700')"
   ]
  },
  {
   "cell_type": "code",
   "execution_count": 102,
   "metadata": {},
   "outputs": [],
   "source": [
    "mod_best=h2o.get_model(model2_set[23])\n",
    "parameters = mod_best.params"
   ]
  },
  {
   "cell_type": "code",
   "execution_count": 103,
   "metadata": {},
   "outputs": [],
   "source": [
    "dict_to_json(parameters,'GBM_1_1_700')"
   ]
  },
  {
   "cell_type": "code",
   "execution_count": 104,
   "metadata": {},
   "outputs": [],
   "source": [
    "mod_best=h2o.get_model(model2_set[24])\n",
    "parameters = mod_best.params\n",
    "dict_to_json(parameters,'GBM_1_2_700')"
   ]
  },
  {
   "cell_type": "code",
   "execution_count": 105,
   "metadata": {},
   "outputs": [],
   "source": [
    "mod_best=h2o.get_model(model2_set[25])\n",
    "parameters = mod_best.params\n",
    "dict_to_json(parameters,'GBM_4_2_700')"
   ]
  },
  {
   "cell_type": "code",
   "execution_count": 106,
   "metadata": {},
   "outputs": [],
   "source": [
    "mod_best=h2o.get_model(model2_set[26])\n",
    "parameters = mod_best.params\n",
    "dict_to_json(parameters,'GBM_1_3_700')"
   ]
  },
  {
   "cell_type": "code",
   "execution_count": 107,
   "metadata": {},
   "outputs": [],
   "source": [
    "mod_best=h2o.get_model(model2_set[27])\n",
    "parameters = mod_best.params\n",
    "dict_to_json(parameters,'GBM_3_1_700')"
   ]
  },
  {
   "cell_type": "code",
   "execution_count": 108,
   "metadata": {},
   "outputs": [],
   "source": [
    "mod_best=h2o.get_model(model2_set[28])\n",
    "parameters = mod_best.params\n",
    "dict_to_json(parameters,'GBM_5_1_700')"
   ]
  },
  {
   "cell_type": "code",
   "execution_count": 109,
   "metadata": {},
   "outputs": [],
   "source": [
    "mod_best=h2o.get_model(model2_set[29])\n",
    "parameters = mod_best.params\n",
    "dict_to_json(parameters,'GBM_5_2_700')"
   ]
  },
  {
   "cell_type": "markdown",
   "metadata": {},
   "source": [
    "__GLM models for 700 Runtime__ "
   ]
  },
  {
   "cell_type": "code",
   "execution_count": 110,
   "metadata": {},
   "outputs": [],
   "source": [
    "mod_best=h2o.get_model(model2_set[30])\n",
    "parameters = mod_best.params"
   ]
  },
  {
   "cell_type": "code",
   "execution_count": 111,
   "metadata": {},
   "outputs": [],
   "source": [
    "dict_to_json(parameters,'GLM_grid1_1_700')"
   ]
  },
  {
   "cell_type": "code",
   "execution_count": 112,
   "metadata": {},
   "outputs": [],
   "source": [
    "mod_best=h2o.get_model(model2_set[31])\n",
    "parameters = mod_best.params\n",
    "dict_to_json(parameters,'GLM_grid1_2_700')"
   ]
  },
  {
   "cell_type": "code",
   "execution_count": 113,
   "metadata": {},
   "outputs": [],
   "source": [
    "mod_best=h2o.get_model(model2_set[32])\n",
    "parameters = mod_best.params\n",
    "dict_to_json(parameters,'GLM_grid1_3_700')"
   ]
  },
  {
   "cell_type": "code",
   "execution_count": 114,
   "metadata": {},
   "outputs": [],
   "source": [
    "mod_best=h2o.get_model(model2_set[33])\n",
    "parameters = mod_best.params\n",
    "dict_to_json(parameters,'GLM_grid1_4_700')"
   ]
  },
  {
   "cell_type": "code",
   "execution_count": 115,
   "metadata": {},
   "outputs": [],
   "source": [
    "mod_best=h2o.get_model(model2_set[34])\n",
    "parameters = mod_best.params\n",
    "dict_to_json(parameters,'GLM_grid1_5_700')"
   ]
  },
  {
   "cell_type": "code",
   "execution_count": 116,
   "metadata": {},
   "outputs": [],
   "source": [
    "mod_best=h2o.get_model(model2_set[35])\n",
    "parameters = mod_best.params\n",
    "dict_to_json(parameters,'GLM_grid1_6_700')"
   ]
  },
  {
   "cell_type": "markdown",
   "metadata": {},
   "source": [
    "__XRT models for 700 Runtime__ "
   ]
  },
  {
   "cell_type": "code",
   "execution_count": 117,
   "metadata": {},
   "outputs": [],
   "source": [
    "mod_best=h2o.get_model(model2_set[36])\n",
    "parameters = mod_best.params\n",
    "dict_to_json(parameters,'XRT_1_1_700')"
   ]
  },
  {
   "cell_type": "code",
   "execution_count": 118,
   "metadata": {},
   "outputs": [],
   "source": [
    "mod_best=h2o.get_model(model2_set[37])\n",
    "parameters = mod_best.params\n",
    "dict_to_json(parameters,'XRT_1_2_700')"
   ]
  },
  {
   "cell_type": "code",
   "execution_count": 119,
   "metadata": {},
   "outputs": [],
   "source": [
    "mod_best=h2o.get_model(model2_set[38])\n",
    "parameters = mod_best.params\n",
    "dict_to_json(parameters,'XRT_1_3_700')"
   ]
  },
  {
   "cell_type": "code",
   "execution_count": 120,
   "metadata": {},
   "outputs": [],
   "source": [
    "mod_best=h2o.get_model(model2_set[39])\n",
    "parameters = mod_best.params\n",
    "dict_to_json(parameters,'XRT_1_4_700')"
   ]
  },
  {
   "cell_type": "code",
   "execution_count": 121,
   "metadata": {},
   "outputs": [],
   "source": [
    "mod_best=h2o.get_model(model2_set[42])\n",
    "parameters = mod_best.params\n",
    "dict_to_json(parameters,'XRT_1_5_700')"
   ]
  },
  {
   "cell_type": "code",
   "execution_count": null,
   "metadata": {},
   "outputs": [],
   "source": [
    "model1_path = h2o.save_model(model=mod1_best, path=\"/tmp/model1\", force=True)"
   ]
  },
  {
   "cell_type": "markdown",
   "metadata": {},
   "source": [
    "## Run Time = 1000 seconds"
   ]
  },
  {
   "cell_type": "code",
   "execution_count": 21,
   "metadata": {},
   "outputs": [
    {
     "name": "stdout",
     "output_type": "stream",
     "text": [
      "AutoML progress: |████████████████████████████████████████████████████████| 100%\n"
     ]
    }
   ],
   "source": [
    "aml3 = automl(1000,X,y,df)"
   ]
  },
  {
   "cell_type": "code",
   "execution_count": 22,
   "metadata": {},
   "outputs": [
    {
     "data": {
      "text/html": [
       "<table>\n",
       "<thead>\n",
       "<tr><th>model_id                                           </th><th style=\"text-align: right;\">  mean_residual_deviance</th><th style=\"text-align: right;\">    rmse</th><th style=\"text-align: right;\">     mse</th><th style=\"text-align: right;\">     mae</th><th style=\"text-align: right;\">    rmsle</th></tr>\n",
       "</thead>\n",
       "<tbody>\n",
       "<tr><td>StackedEnsemble_BestOfFamily_AutoML_20190416_013130</td><td style=\"text-align: right;\">                0.194607</td><td style=\"text-align: right;\">0.441142</td><td style=\"text-align: right;\">0.194607</td><td style=\"text-align: right;\">0.193529</td><td style=\"text-align: right;\">0.0807591</td></tr>\n",
       "<tr><td>XGBoost_2_AutoML_20190416_013130                   </td><td style=\"text-align: right;\">                0.194619</td><td style=\"text-align: right;\">0.441156</td><td style=\"text-align: right;\">0.194619</td><td style=\"text-align: right;\">0.195719</td><td style=\"text-align: right;\">0.0790544</td></tr>\n",
       "<tr><td>StackedEnsemble_AllModels_AutoML_20190416_012028   </td><td style=\"text-align: right;\">                0.196233</td><td style=\"text-align: right;\">0.442982</td><td style=\"text-align: right;\">0.196233</td><td style=\"text-align: right;\">0.193602</td><td style=\"text-align: right;\">0.0794108</td></tr>\n",
       "<tr><td>XGBoost_2_AutoML_20190416_012028                   </td><td style=\"text-align: right;\">                0.197926</td><td style=\"text-align: right;\">0.444889</td><td style=\"text-align: right;\">0.197926</td><td style=\"text-align: right;\">0.198316</td><td style=\"text-align: right;\">0.0803108</td></tr>\n",
       "<tr><td>StackedEnsemble_BestOfFamily_AutoML_20190416_012028</td><td style=\"text-align: right;\">                0.197953</td><td style=\"text-align: right;\">0.444919</td><td style=\"text-align: right;\">0.197953</td><td style=\"text-align: right;\">0.197265</td><td style=\"text-align: right;\">0.0805872</td></tr>\n",
       "<tr><td>XGBoost_2_AutoML_20190416_015324                   </td><td style=\"text-align: right;\">                0.199157</td><td style=\"text-align: right;\">0.446271</td><td style=\"text-align: right;\">0.199157</td><td style=\"text-align: right;\">0.196432</td><td style=\"text-align: right;\">0.0803895</td></tr>\n",
       "<tr><td>XGBoost_1_AutoML_20190416_015324                   </td><td style=\"text-align: right;\">                0.200784</td><td style=\"text-align: right;\">0.44809 </td><td style=\"text-align: right;\">0.200784</td><td style=\"text-align: right;\">0.198756</td><td style=\"text-align: right;\">0.0796341</td></tr>\n",
       "<tr><td>XGBoost_1_AutoML_20190416_012028                   </td><td style=\"text-align: right;\">                0.200986</td><td style=\"text-align: right;\">0.448314</td><td style=\"text-align: right;\">0.200986</td><td style=\"text-align: right;\">0.198425</td><td style=\"text-align: right;\">0.0799859</td></tr>\n",
       "<tr><td>XGBoost_1_AutoML_20190416_013130                   </td><td style=\"text-align: right;\">                0.201044</td><td style=\"text-align: right;\">0.44838 </td><td style=\"text-align: right;\">0.201044</td><td style=\"text-align: right;\">0.199594</td><td style=\"text-align: right;\">0.0800848</td></tr>\n",
       "<tr><td>XGBoost_grid_1_AutoML_20190416_015324_model_1      </td><td style=\"text-align: right;\">                0.202747</td><td style=\"text-align: right;\">0.450274</td><td style=\"text-align: right;\">0.202747</td><td style=\"text-align: right;\">0.202289</td><td style=\"text-align: right;\">0.0813624</td></tr>\n",
       "</tbody>\n",
       "</table>"
      ]
     },
     "metadata": {},
     "output_type": "display_data"
    },
    {
     "data": {
      "text/plain": []
     },
     "execution_count": 22,
     "metadata": {},
     "output_type": "execute_result"
    }
   ],
   "source": [
    "aml3.leaderboard"
   ]
  },
  {
   "cell_type": "code",
   "execution_count": 23,
   "metadata": {},
   "outputs": [
    {
     "data": {
      "text/plain": [
       "0     StackedEnsemble_BestOfFamily_AutoML_20190416_0...\n",
       "1                      XGBoost_2_AutoML_20190416_013130\n",
       "2      StackedEnsemble_AllModels_AutoML_20190416_012028\n",
       "3                      XGBoost_2_AutoML_20190416_012028\n",
       "4     StackedEnsemble_BestOfFamily_AutoML_20190416_0...\n",
       "5                      XGBoost_2_AutoML_20190416_015324\n",
       "6                      XGBoost_1_AutoML_20190416_015324\n",
       "7                      XGBoost_1_AutoML_20190416_012028\n",
       "8                      XGBoost_1_AutoML_20190416_013130\n",
       "9         XGBoost_grid_1_AutoML_20190416_015324_model_1\n",
       "10                     XGBoost_3_AutoML_20190416_012028\n",
       "11                     XGBoost_3_AutoML_20190416_015324\n",
       "12                     XGBoost_3_AutoML_20190416_013130\n",
       "13                         DRF_1_AutoML_20190416_015324\n",
       "14                         GBM_1_AutoML_20190416_013130\n",
       "15                         DRF_1_AutoML_20190416_013130\n",
       "16                         GBM_4_AutoML_20190416_013130\n",
       "17                         GBM_2_AutoML_20190416_013130\n",
       "18                         GBM_4_AutoML_20190416_015324\n",
       "19                         GBM_1_AutoML_20190416_015324\n",
       "20                         GBM_2_AutoML_20190416_015324\n",
       "21                         GBM_3_AutoML_20190416_015324\n",
       "22                         GBM_5_AutoML_20190416_015324\n",
       "23                         GBM_3_AutoML_20190416_013130\n",
       "24                         GBM_5_AutoML_20190416_013130\n",
       "25            GBM_grid_1_AutoML_20190416_015324_model_2\n",
       "26            GBM_grid_1_AutoML_20190416_015324_model_1\n",
       "27            GLM_grid_1_AutoML_20190416_015324_model_1\n",
       "28            GLM_grid_1_AutoML_20190416_013130_model_1\n",
       "29            GBM_grid_1_AutoML_20190416_015324_model_3\n",
       "30            GLM_grid_1_AutoML_20190416_012028_model_1\n",
       "31                         XRT_1_AutoML_20190416_015324\n",
       "Name: model_id, dtype: object"
      ]
     },
     "execution_count": 23,
     "metadata": {},
     "output_type": "execute_result"
    }
   ],
   "source": [
    "aml3_leaderboard_df=aml3.leaderboard.as_data_frame()\n",
    "model3_set=aml3_leaderboard_df['model_id']\n",
    "model3_set"
   ]
  },
  {
   "cell_type": "markdown",
   "metadata": {},
   "source": [
    "__StackedEnsemble models for 1000 Runtime__"
   ]
  },
  {
   "cell_type": "code",
   "execution_count": 30,
   "metadata": {},
   "outputs": [],
   "source": [
    "mod_best=h2o.get_model(model3_set[3])\n",
    "parameters = mod_best.params"
   ]
  },
  {
   "cell_type": "code",
   "execution_count": 31,
   "metadata": {},
   "outputs": [],
   "source": [
    "dict_to_json(parameters,'XGBoost_2_1_1000')"
   ]
  },
  {
   "cell_type": "code",
   "execution_count": 32,
   "metadata": {},
   "outputs": [],
   "source": [
    "mod_best=h2o.get_model(model3_set[5])\n",
    "parameters = mod_best.params"
   ]
  },
  {
   "cell_type": "code",
   "execution_count": 33,
   "metadata": {},
   "outputs": [],
   "source": [
    "dict_to_json(parameters,'XGBoost_2_2_1000')"
   ]
  },
  {
   "cell_type": "code",
   "execution_count": 22,
   "metadata": {},
   "outputs": [],
   "source": [
    "mod_best=h2o.get_model(model3_set[6])\n",
    "parameters = mod_best.params"
   ]
  },
  {
   "cell_type": "code",
   "execution_count": 23,
   "metadata": {},
   "outputs": [],
   "source": [
    "dict_to_json(parameters,'XGBoost_1_1_1000')"
   ]
  },
  {
   "cell_type": "code",
   "execution_count": 24,
   "metadata": {},
   "outputs": [],
   "source": [
    "mod_best=h2o.get_model(model3_set[7])\n",
    "parameters = mod_best.params"
   ]
  },
  {
   "cell_type": "code",
   "execution_count": 25,
   "metadata": {},
   "outputs": [],
   "source": [
    "dict_to_json(parameters,'XGBoost_1_2_1000')"
   ]
  },
  {
   "cell_type": "code",
   "execution_count": 26,
   "metadata": {},
   "outputs": [],
   "source": [
    "mod_best=h2o.get_model(model3_set[8])\n",
    "parameters = mod_best.params"
   ]
  },
  {
   "cell_type": "code",
   "execution_count": 27,
   "metadata": {},
   "outputs": [],
   "source": [
    "dict_to_json(parameters,'XGBoost_grid_1_1_1000')"
   ]
  },
  {
   "cell_type": "code",
   "execution_count": 34,
   "metadata": {},
   "outputs": [],
   "source": [
    "mod_best=h2o.get_model(model3_set[9])\n",
    "parameters = mod_best.params\n",
    "dict_to_json(parameters,'XGBoost_1_3_1000')"
   ]
  },
  {
   "cell_type": "code",
   "execution_count": 35,
   "metadata": {},
   "outputs": [],
   "source": [
    "mod_best=h2o.get_model(model3_set[10])\n",
    "parameters = mod_best.params\n",
    "dict_to_json(parameters,'XGBoost_3_1_1000')"
   ]
  },
  {
   "cell_type": "code",
   "execution_count": 36,
   "metadata": {},
   "outputs": [],
   "source": [
    "mod_best=h2o.get_model(model3_set[11])\n",
    "parameters = mod_best.params\n",
    "dict_to_json(parameters,'XGBoost_3_2_1000')"
   ]
  },
  {
   "cell_type": "code",
   "execution_count": 37,
   "metadata": {},
   "outputs": [],
   "source": [
    "mod_best=h2o.get_model(model3_set[12])\n",
    "parameters = mod_best.params\n",
    "dict_to_json(parameters,'XGBoost_3_3_1000')"
   ]
  },
  {
   "cell_type": "code",
   "execution_count": 38,
   "metadata": {},
   "outputs": [],
   "source": [
    "mod_best=h2o.get_model(model3_set[13])\n",
    "parameters = mod_best.params\n",
    "dict_to_json(parameters,'DRF_1_1000')"
   ]
  },
  {
   "cell_type": "code",
   "execution_count": 39,
   "metadata": {},
   "outputs": [],
   "source": [
    "mod_best=h2o.get_model(model3_set[14])\n",
    "parameters = mod_best.params\n",
    "dict_to_json(parameters,'GBM_1_1_1000')"
   ]
  },
  {
   "cell_type": "code",
   "execution_count": 40,
   "metadata": {},
   "outputs": [],
   "source": [
    "mod_best=h2o.get_model(model3_set[15])\n",
    "parameters = mod_best.params\n",
    "dict_to_json(parameters,'DRF_1_2_1000')"
   ]
  },
  {
   "cell_type": "code",
   "execution_count": 41,
   "metadata": {},
   "outputs": [],
   "source": [
    "mod_best=h2o.get_model(model3_set[16])\n",
    "parameters = mod_best.params\n",
    "dict_to_json(parameters,'GBM_4_1_1000')"
   ]
  },
  {
   "cell_type": "code",
   "execution_count": 42,
   "metadata": {},
   "outputs": [],
   "source": [
    "mod_best=h2o.get_model(model3_set[17])\n",
    "parameters = mod_best.params\n",
    "dict_to_json(parameters,'GBM_2_1_1000')"
   ]
  },
  {
   "cell_type": "code",
   "execution_count": 43,
   "metadata": {},
   "outputs": [],
   "source": [
    "mod_best=h2o.get_model(model3_set[18])\n",
    "parameters = mod_best.params\n",
    "dict_to_json(parameters,'GBM_4_2_1000')"
   ]
  },
  {
   "cell_type": "code",
   "execution_count": 44,
   "metadata": {},
   "outputs": [],
   "source": [
    "mod_best=h2o.get_model(model3_set[19])\n",
    "parameters = mod_best.params\n",
    "dict_to_json(parameters,'GBM_3_1_1000')"
   ]
  },
  {
   "cell_type": "code",
   "execution_count": 45,
   "metadata": {},
   "outputs": [],
   "source": [
    "mod_best=h2o.get_model(model3_set[20])\n",
    "parameters = mod_best.params\n",
    "dict_to_json(parameters,'GBM_2_2_1000')"
   ]
  },
  {
   "cell_type": "code",
   "execution_count": 46,
   "metadata": {},
   "outputs": [],
   "source": [
    "mod_best=h2o.get_model(model3_set[21])\n",
    "parameters = mod_best.params\n",
    "dict_to_json(parameters,'GBM_1_2_1000')"
   ]
  },
  {
   "cell_type": "code",
   "execution_count": 47,
   "metadata": {},
   "outputs": [],
   "source": [
    "mod_best=h2o.get_model(model3_set[22])\n",
    "parameters = mod_best.params\n",
    "dict_to_json(parameters,'GBM_3_2_1000')"
   ]
  },
  {
   "cell_type": "code",
   "execution_count": 48,
   "metadata": {},
   "outputs": [],
   "source": [
    "mod_best=h2o.get_model(model3_set[23])\n",
    "parameters = mod_best.params\n",
    "dict_to_json(parameters,'GBM_5_1_1000')"
   ]
  },
  {
   "cell_type": "code",
   "execution_count": 49,
   "metadata": {},
   "outputs": [],
   "source": [
    "mod_best=h2o.get_model(model3_set[24])\n",
    "parameters = mod_best.params\n",
    "dict_to_json(parameters,'GBM_5_2_1000')"
   ]
  },
  {
   "cell_type": "code",
   "execution_count": 50,
   "metadata": {},
   "outputs": [],
   "source": [
    "mod_best=h2o.get_model(model3_set[25])\n",
    "parameters = mod_best.params\n",
    "dict_to_json(parameters,'GLM_GRID_1_1_1000')"
   ]
  },
  {
   "cell_type": "code",
   "execution_count": 51,
   "metadata": {},
   "outputs": [],
   "source": [
    "mod_best=h2o.get_model(model3_set[26])\n",
    "parameters = mod_best.params\n",
    "dict_to_json(parameters,'GLM_GRID_1_2_1000')"
   ]
  },
  {
   "cell_type": "code",
   "execution_count": 52,
   "metadata": {},
   "outputs": [],
   "source": [
    "mod_best=h2o.get_model(model3_set[27])\n",
    "parameters = mod_best.params\n",
    "dict_to_json(parameters,'GLM_GRID_1_3_1000')"
   ]
  },
  {
   "cell_type": "code",
   "execution_count": 53,
   "metadata": {},
   "outputs": [],
   "source": [
    "mod_best=h2o.get_model(model3_set[28])\n",
    "parameters = mod_best.params\n",
    "dict_to_json(parameters,'GLM_GRID_1_4_1000')"
   ]
  },
  {
   "cell_type": "code",
   "execution_count": 54,
   "metadata": {},
   "outputs": [],
   "source": [
    "mod_best=h2o.get_model(model3_set[29])\n",
    "parameters = mod_best.params\n",
    "dict_to_json(parameters,'GLM_GRID_1_5_1000')"
   ]
  },
  {
   "cell_type": "code",
   "execution_count": 55,
   "metadata": {},
   "outputs": [],
   "source": [
    "mod_best=h2o.get_model(model3_set[30])\n",
    "parameters = mod_best.params\n",
    "dict_to_json(parameters,'XRT_1_1_1000')"
   ]
  },
  {
   "cell_type": "code",
   "execution_count": 56,
   "metadata": {},
   "outputs": [],
   "source": [
    "mod_best=h2o.get_model(model3_set[31])\n",
    "parameters = mod_best.params\n",
    "dict_to_json(parameters,'XGBoost_grid_1_2_1000')"
   ]
  },
  {
   "cell_type": "code",
   "execution_count": 57,
   "metadata": {},
   "outputs": [],
   "source": [
    "mod_best=h2o.get_model(model3_set[32])\n",
    "parameters = mod_best.params\n",
    "dict_to_json(parameters,'XRT_1_2_1000')"
   ]
  },
  {
   "cell_type": "code",
   "execution_count": 59,
   "metadata": {},
   "outputs": [],
   "source": [
    "model2_path = h2o.save_model(model=mod_best, path=\"/tmp/model2\", force=True)"
   ]
  },
  {
   "cell_type": "markdown",
   "metadata": {},
   "source": [
    "## Run Time = 1300 seconds"
   ]
  },
  {
   "cell_type": "code",
   "execution_count": 24,
   "metadata": {},
   "outputs": [
    {
     "name": "stdout",
     "output_type": "stream",
     "text": [
      "AutoML progress: |████████████████████████████████████████████████████████| 100%\n"
     ]
    }
   ],
   "source": [
    "aml4 = automl(1300,X,y,df)"
   ]
  },
  {
   "cell_type": "code",
   "execution_count": 25,
   "metadata": {},
   "outputs": [
    {
     "data": {
      "text/html": [
       "<table>\n",
       "<thead>\n",
       "<tr><th>model_id                                           </th><th style=\"text-align: right;\">  mean_residual_deviance</th><th style=\"text-align: right;\">    rmse</th><th style=\"text-align: right;\">     mse</th><th style=\"text-align: right;\">     mae</th><th style=\"text-align: right;\">    rmsle</th></tr>\n",
       "</thead>\n",
       "<tbody>\n",
       "<tr><td>StackedEnsemble_BestOfFamily_AutoML_20190416_013130</td><td style=\"text-align: right;\">                0.194607</td><td style=\"text-align: right;\">0.441142</td><td style=\"text-align: right;\">0.194607</td><td style=\"text-align: right;\">0.193529</td><td style=\"text-align: right;\">0.0807591</td></tr>\n",
       "<tr><td>XGBoost_2_AutoML_20190416_013130                   </td><td style=\"text-align: right;\">                0.194619</td><td style=\"text-align: right;\">0.441156</td><td style=\"text-align: right;\">0.194619</td><td style=\"text-align: right;\">0.195719</td><td style=\"text-align: right;\">0.0790544</td></tr>\n",
       "<tr><td>StackedEnsemble_AllModels_AutoML_20190416_012028   </td><td style=\"text-align: right;\">                0.196233</td><td style=\"text-align: right;\">0.442982</td><td style=\"text-align: right;\">0.196233</td><td style=\"text-align: right;\">0.193602</td><td style=\"text-align: right;\">0.0794108</td></tr>\n",
       "<tr><td>XGBoost_2_AutoML_20190416_021537                   </td><td style=\"text-align: right;\">                0.196931</td><td style=\"text-align: right;\">0.443769</td><td style=\"text-align: right;\">0.196931</td><td style=\"text-align: right;\">0.196703</td><td style=\"text-align: right;\">0.0797947</td></tr>\n",
       "<tr><td>XGBoost_2_AutoML_20190416_012028                   </td><td style=\"text-align: right;\">                0.197926</td><td style=\"text-align: right;\">0.444889</td><td style=\"text-align: right;\">0.197926</td><td style=\"text-align: right;\">0.198316</td><td style=\"text-align: right;\">0.0803108</td></tr>\n",
       "<tr><td>StackedEnsemble_BestOfFamily_AutoML_20190416_012028</td><td style=\"text-align: right;\">                0.197953</td><td style=\"text-align: right;\">0.444919</td><td style=\"text-align: right;\">0.197953</td><td style=\"text-align: right;\">0.197265</td><td style=\"text-align: right;\">0.0805872</td></tr>\n",
       "<tr><td>XGBoost_2_AutoML_20190416_015324                   </td><td style=\"text-align: right;\">                0.199157</td><td style=\"text-align: right;\">0.446271</td><td style=\"text-align: right;\">0.199157</td><td style=\"text-align: right;\">0.196432</td><td style=\"text-align: right;\">0.0803895</td></tr>\n",
       "<tr><td>XGBoost_1_AutoML_20190416_015324                   </td><td style=\"text-align: right;\">                0.200784</td><td style=\"text-align: right;\">0.44809 </td><td style=\"text-align: right;\">0.200784</td><td style=\"text-align: right;\">0.198756</td><td style=\"text-align: right;\">0.0796341</td></tr>\n",
       "<tr><td>XGBoost_1_AutoML_20190416_012028                   </td><td style=\"text-align: right;\">                0.200986</td><td style=\"text-align: right;\">0.448314</td><td style=\"text-align: right;\">0.200986</td><td style=\"text-align: right;\">0.198425</td><td style=\"text-align: right;\">0.0799859</td></tr>\n",
       "<tr><td>XGBoost_1_AutoML_20190416_013130                   </td><td style=\"text-align: right;\">                0.201044</td><td style=\"text-align: right;\">0.44838 </td><td style=\"text-align: right;\">0.201044</td><td style=\"text-align: right;\">0.199594</td><td style=\"text-align: right;\">0.0800848</td></tr>\n",
       "</tbody>\n",
       "</table>"
      ]
     },
     "metadata": {},
     "output_type": "display_data"
    },
    {
     "data": {
      "text/plain": []
     },
     "execution_count": 25,
     "metadata": {},
     "output_type": "execute_result"
    }
   ],
   "source": [
    "aml4.leaderboard"
   ]
  },
  {
   "cell_type": "code",
   "execution_count": 26,
   "metadata": {},
   "outputs": [
    {
     "data": {
      "text/plain": [
       "0     StackedEnsemble_BestOfFamily_AutoML_20190416_0...\n",
       "1                      XGBoost_2_AutoML_20190416_013130\n",
       "2      StackedEnsemble_AllModels_AutoML_20190416_012028\n",
       "3                      XGBoost_2_AutoML_20190416_021537\n",
       "4                      XGBoost_2_AutoML_20190416_012028\n",
       "5     StackedEnsemble_BestOfFamily_AutoML_20190416_0...\n",
       "6                      XGBoost_2_AutoML_20190416_015324\n",
       "7                      XGBoost_1_AutoML_20190416_015324\n",
       "8                      XGBoost_1_AutoML_20190416_012028\n",
       "9                      XGBoost_1_AutoML_20190416_013130\n",
       "10                     XGBoost_1_AutoML_20190416_021537\n",
       "11        XGBoost_grid_1_AutoML_20190416_015324_model_1\n",
       "12        XGBoost_grid_1_AutoML_20190416_021537_model_1\n",
       "13                     XGBoost_3_AutoML_20190416_012028\n",
       "14                     XGBoost_3_AutoML_20190416_015324\n",
       "15                     XGBoost_3_AutoML_20190416_013130\n",
       "16                     XGBoost_3_AutoML_20190416_021537\n",
       "17                         DRF_1_AutoML_20190416_021537\n",
       "18                         DRF_1_AutoML_20190416_015324\n",
       "19                         GBM_1_AutoML_20190416_013130\n",
       "20                         DRF_1_AutoML_20190416_013130\n",
       "21                         GBM_4_AutoML_20190416_013130\n",
       "22                         GBM_5_AutoML_20190416_021537\n",
       "23                         GBM_2_AutoML_20190416_013130\n",
       "24                         GBM_3_AutoML_20190416_021537\n",
       "25                         GBM_4_AutoML_20190416_015324\n",
       "26                         GBM_1_AutoML_20190416_021537\n",
       "27                         GBM_1_AutoML_20190416_015324\n",
       "28                         GBM_2_AutoML_20190416_015324\n",
       "29                         GBM_3_AutoML_20190416_015324\n",
       "30                         GBM_2_AutoML_20190416_021537\n",
       "31                         GBM_5_AutoML_20190416_015324\n",
       "32                         GBM_3_AutoML_20190416_013130\n",
       "33                         GBM_4_AutoML_20190416_021537\n",
       "34                         GBM_5_AutoML_20190416_013130\n",
       "35            GBM_grid_1_AutoML_20190416_015324_model_2\n",
       "36            GBM_grid_1_AutoML_20190416_021537_model_3\n",
       "37            GBM_grid_1_AutoML_20190416_015324_model_1\n",
       "38            GBM_grid_1_AutoML_20190416_021537_model_1\n",
       "39            GBM_grid_1_AutoML_20190416_021537_model_2\n",
       "40            GLM_grid_1_AutoML_20190416_015324_model_1\n",
       "41            GLM_grid_1_AutoML_20190416_013130_model_1\n",
       "42            GLM_grid_1_AutoML_20190416_021537_model_1\n",
       "43            GBM_grid_1_AutoML_20190416_015324_model_3\n",
       "44            GLM_grid_1_AutoML_20190416_012028_model_1\n",
       "45        XGBoost_grid_1_AutoML_20190416_021537_model_2\n",
       "46                         XRT_1_AutoML_20190416_021537\n",
       "47                         XRT_1_AutoML_20190416_015324\n",
       "48        XGBoost_grid_1_AutoML_20190416_021537_model_3\n",
       "Name: model_id, dtype: object"
      ]
     },
     "execution_count": 26,
     "metadata": {},
     "output_type": "execute_result"
    }
   ],
   "source": [
    "aml4_leaderboard_df=aml4.leaderboard.as_data_frame()\n",
    "model4_set=aml4_leaderboard_df['model_id']\n",
    "model4_set"
   ]
  },
  {
   "cell_type": "markdown",
   "metadata": {},
   "source": [
    "__Selecting best of XGBoost model __ "
   ]
  },
  {
   "cell_type": "code",
   "execution_count": null,
   "metadata": {},
   "outputs": [],
   "source": [
    "mod_best=h2o.get_model(model4_set[1])\n",
    "parameters = mod_best.params"
   ]
  },
  {
   "cell_type": "code",
   "execution_count": null,
   "metadata": {},
   "outputs": [],
   "source": [
    "dict_to_json(parameters,'XGBoost_1300')"
   ]
  },
  {
   "cell_type": "markdown",
   "metadata": {},
   "source": [
    "__Selecting best of DRF model __ "
   ]
  },
  {
   "cell_type": "code",
   "execution_count": null,
   "metadata": {},
   "outputs": [],
   "source": [
    "mod_best=h2o.get_model(model4_set[1])\n",
    "parameters = mod_best.params"
   ]
  },
  {
   "cell_type": "code",
   "execution_count": null,
   "metadata": {},
   "outputs": [],
   "source": [
    "dict_to_json(parameters,'DRF_1300')"
   ]
  },
  {
   "cell_type": "markdown",
   "metadata": {},
   "source": [
    "__Selecting best of GBM model __ "
   ]
  },
  {
   "cell_type": "code",
   "execution_count": null,
   "metadata": {},
   "outputs": [],
   "source": [
    "mod_best=h2o.get_model(model4_set[1])\n",
    "parameters = mod_best.params"
   ]
  },
  {
   "cell_type": "code",
   "execution_count": null,
   "metadata": {},
   "outputs": [],
   "source": [
    "dict_to_json(parameters,'GBM_1300')"
   ]
  },
  {
   "cell_type": "markdown",
   "metadata": {},
   "source": [
    "__Selecting best of GLM model __ "
   ]
  },
  {
   "cell_type": "code",
   "execution_count": null,
   "metadata": {},
   "outputs": [],
   "source": [
    "mod_best=h2o.get_model(model4_set[1])\n",
    "parameters = mod_best.params"
   ]
  },
  {
   "cell_type": "code",
   "execution_count": null,
   "metadata": {},
   "outputs": [],
   "source": [
    "dict_to_json(parameters,'GLM_1300')"
   ]
  },
  {
   "cell_type": "markdown",
   "metadata": {},
   "source": [
    "__Selecting best of XRT model __ "
   ]
  },
  {
   "cell_type": "code",
   "execution_count": null,
   "metadata": {},
   "outputs": [],
   "source": [
    "mod_best=h2o.get_model(model4_set[1])\n",
    "parameters = mod_best.params"
   ]
  },
  {
   "cell_type": "code",
   "execution_count": null,
   "metadata": {},
   "outputs": [],
   "source": [
    "dict_to_json(parameters,'XRT_1300')"
   ]
  },
  {
   "cell_type": "code",
   "execution_count": null,
   "metadata": {},
   "outputs": [],
   "source": []
  },
  {
   "cell_type": "code",
   "execution_count": null,
   "metadata": {},
   "outputs": [],
   "source": []
  },
  {
   "cell_type": "code",
   "execution_count": null,
   "metadata": {},
   "outputs": [],
   "source": []
  },
  {
   "cell_type": "markdown",
   "metadata": {},
   "source": [
    "## Run Time = 1700 seconds "
   ]
  },
  {
   "cell_type": "code",
   "execution_count": 33,
   "metadata": {},
   "outputs": [
    {
     "name": "stdout",
     "output_type": "stream",
     "text": [
      "AutoML progress: |████████████████████████████████████████████████████████| 100%\n"
     ]
    }
   ],
   "source": [
    "aml5 = automl(1700,X,y,df)"
   ]
  },
  {
   "cell_type": "code",
   "execution_count": 46,
   "metadata": {},
   "outputs": [
    {
     "data": {
      "text/html": [
       "<table>\n",
       "<thead>\n",
       "<tr><th>model_id                                           </th><th style=\"text-align: right;\">  mean_residual_deviance</th><th style=\"text-align: right;\">    rmse</th><th style=\"text-align: right;\">     mse</th><th style=\"text-align: right;\">     mae</th><th style=\"text-align: right;\">    rmsle</th></tr>\n",
       "</thead>\n",
       "<tbody>\n",
       "<tr><td>StackedEnsemble_BestOfFamily_AutoML_20190416_013130</td><td style=\"text-align: right;\">                0.194607</td><td style=\"text-align: right;\">0.441142</td><td style=\"text-align: right;\">0.194607</td><td style=\"text-align: right;\">0.193529</td><td style=\"text-align: right;\">0.0807591</td></tr>\n",
       "<tr><td>XGBoost_2_AutoML_20190416_013130                   </td><td style=\"text-align: right;\">                0.194619</td><td style=\"text-align: right;\">0.441156</td><td style=\"text-align: right;\">0.194619</td><td style=\"text-align: right;\">0.195719</td><td style=\"text-align: right;\">0.0790544</td></tr>\n",
       "<tr><td>XGBoost_grid_1_AutoML_20190416_043454_model_2      </td><td style=\"text-align: right;\">                0.195082</td><td style=\"text-align: right;\">0.441681</td><td style=\"text-align: right;\">0.195082</td><td style=\"text-align: right;\">0.19191 </td><td style=\"text-align: right;\">0.077899 </td></tr>\n",
       "<tr><td>StackedEnsemble_AllModels_AutoML_20190416_012028   </td><td style=\"text-align: right;\">                0.196233</td><td style=\"text-align: right;\">0.442982</td><td style=\"text-align: right;\">0.196233</td><td style=\"text-align: right;\">0.193602</td><td style=\"text-align: right;\">0.0794108</td></tr>\n",
       "<tr><td>XGBoost_2_AutoML_20190416_021537                   </td><td style=\"text-align: right;\">                0.196931</td><td style=\"text-align: right;\">0.443769</td><td style=\"text-align: right;\">0.196931</td><td style=\"text-align: right;\">0.196703</td><td style=\"text-align: right;\">0.0797947</td></tr>\n",
       "<tr><td>XGBoost_2_AutoML_20190416_012028                   </td><td style=\"text-align: right;\">                0.197926</td><td style=\"text-align: right;\">0.444889</td><td style=\"text-align: right;\">0.197926</td><td style=\"text-align: right;\">0.198316</td><td style=\"text-align: right;\">0.0803108</td></tr>\n",
       "<tr><td>StackedEnsemble_BestOfFamily_AutoML_20190416_012028</td><td style=\"text-align: right;\">                0.197953</td><td style=\"text-align: right;\">0.444919</td><td style=\"text-align: right;\">0.197953</td><td style=\"text-align: right;\">0.197265</td><td style=\"text-align: right;\">0.0805872</td></tr>\n",
       "<tr><td>XGBoost_2_AutoML_20190416_043454                   </td><td style=\"text-align: right;\">                0.198433</td><td style=\"text-align: right;\">0.445458</td><td style=\"text-align: right;\">0.198433</td><td style=\"text-align: right;\">0.197802</td><td style=\"text-align: right;\">0.0798838</td></tr>\n",
       "<tr><td>XGBoost_2_AutoML_20190416_015324                   </td><td style=\"text-align: right;\">                0.199157</td><td style=\"text-align: right;\">0.446271</td><td style=\"text-align: right;\">0.199157</td><td style=\"text-align: right;\">0.196432</td><td style=\"text-align: right;\">0.0803895</td></tr>\n",
       "<tr><td>XGBoost_grid_1_AutoML_20190416_043454_model_3      </td><td style=\"text-align: right;\">                0.200028</td><td style=\"text-align: right;\">0.447245</td><td style=\"text-align: right;\">0.200028</td><td style=\"text-align: right;\">0.197378</td><td style=\"text-align: right;\">0.0815227</td></tr>\n",
       "</tbody>\n",
       "</table>"
      ]
     },
     "metadata": {},
     "output_type": "display_data"
    },
    {
     "data": {
      "text/plain": []
     },
     "execution_count": 46,
     "metadata": {},
     "output_type": "execute_result"
    }
   ],
   "source": [
    "aml5.leaderboard"
   ]
  },
  {
   "cell_type": "code",
   "execution_count": 47,
   "metadata": {},
   "outputs": [
    {
     "data": {
      "text/plain": [
       "0     StackedEnsemble_BestOfFamily_AutoML_20190416_0...\n",
       "1                      XGBoost_2_AutoML_20190416_013130\n",
       "2         XGBoost_grid_1_AutoML_20190416_043454_model_2\n",
       "3      StackedEnsemble_AllModels_AutoML_20190416_012028\n",
       "4                      XGBoost_2_AutoML_20190416_021537\n",
       "5                      XGBoost_2_AutoML_20190416_012028\n",
       "6     StackedEnsemble_BestOfFamily_AutoML_20190416_0...\n",
       "7                      XGBoost_2_AutoML_20190416_043454\n",
       "8                      XGBoost_2_AutoML_20190416_015324\n",
       "9         XGBoost_grid_1_AutoML_20190416_043454_model_3\n",
       "10                     XGBoost_1_AutoML_20190416_015324\n",
       "11                     XGBoost_1_AutoML_20190416_012028\n",
       "12                     XGBoost_1_AutoML_20190416_013130\n",
       "13                     XGBoost_1_AutoML_20190416_021537\n",
       "14                     XGBoost_1_AutoML_20190416_043454\n",
       "15        XGBoost_grid_1_AutoML_20190416_015324_model_1\n",
       "16                     XGBoost_1_AutoML_20190416_024530\n",
       "17        XGBoost_grid_1_AutoML_20190416_021537_model_1\n",
       "18        XGBoost_grid_1_AutoML_20190416_043454_model_5\n",
       "19                     XGBoost_3_AutoML_20190416_012028\n",
       "20                     XGBoost_3_AutoML_20190416_043454\n",
       "21                     XGBoost_3_AutoML_20190416_015324\n",
       "22                     XGBoost_3_AutoML_20190416_013130\n",
       "23                     XGBoost_3_AutoML_20190416_021537\n",
       "24                         GBM_4_AutoML_20190416_043454\n",
       "25                         DRF_1_AutoML_20190416_021537\n",
       "26                         GBM_3_AutoML_20190416_043454\n",
       "27                         DRF_1_AutoML_20190416_043454\n",
       "28                         DRF_1_AutoML_20190416_015324\n",
       "29                         GBM_1_AutoML_20190416_013130\n",
       "                            ...                        \n",
       "43                         GBM_5_AutoML_20190416_015324\n",
       "44                         GBM_2_AutoML_20190416_043454\n",
       "45                         GBM_5_AutoML_20190416_043454\n",
       "46                         GBM_3_AutoML_20190416_013130\n",
       "47                         GBM_4_AutoML_20190416_021537\n",
       "48                         GBM_5_AutoML_20190416_013130\n",
       "49            GBM_grid_1_AutoML_20190416_015324_model_2\n",
       "50            GBM_grid_1_AutoML_20190416_021537_model_3\n",
       "51            GBM_grid_1_AutoML_20190416_043454_model_3\n",
       "52            GBM_grid_1_AutoML_20190416_015324_model_1\n",
       "53            GBM_grid_1_AutoML_20190416_043454_model_5\n",
       "54            GBM_grid_1_AutoML_20190416_021537_model_1\n",
       "55            GBM_grid_1_AutoML_20190416_043454_model_4\n",
       "56            GBM_grid_1_AutoML_20190416_043454_model_6\n",
       "57            GBM_grid_1_AutoML_20190416_021537_model_2\n",
       "58            GLM_grid_1_AutoML_20190416_043454_model_1\n",
       "59            GLM_grid_1_AutoML_20190416_015324_model_1\n",
       "60            GLM_grid_1_AutoML_20190416_013130_model_1\n",
       "61            GLM_grid_1_AutoML_20190416_021537_model_1\n",
       "62            GBM_grid_1_AutoML_20190416_015324_model_3\n",
       "63            GBM_grid_1_AutoML_20190416_043454_model_2\n",
       "64            GLM_grid_1_AutoML_20190416_012028_model_1\n",
       "65        XGBoost_grid_1_AutoML_20190416_021537_model_2\n",
       "66                         XRT_1_AutoML_20190416_021537\n",
       "67                         XRT_1_AutoML_20190416_043454\n",
       "68                         XRT_1_AutoML_20190416_015324\n",
       "69        XGBoost_grid_1_AutoML_20190416_043454_model_4\n",
       "70        XGBoost_grid_1_AutoML_20190416_043454_model_1\n",
       "71        XGBoost_grid_1_AutoML_20190416_043454_model_6\n",
       "72        XGBoost_grid_1_AutoML_20190416_021537_model_3\n",
       "Name: model_id, Length: 73, dtype: object"
      ]
     },
     "execution_count": 47,
     "metadata": {},
     "output_type": "execute_result"
    }
   ],
   "source": [
    "aml5_leaderboard_df=aml5.leaderboard.as_data_frame()\n",
    "model5_set=aml5_leaderboard_df['model_id']\n",
    "model5_set"
   ]
  },
  {
   "cell_type": "code",
   "execution_count": 51,
   "metadata": {},
   "outputs": [
    {
     "data": {
      "text/plain": [
       "0     StackedEnsemble_BestOfFamily_AutoML_20190416_0...\n",
       "1                      XGBoost_2_AutoML_20190416_013130\n",
       "2         XGBoost_grid_1_AutoML_20190416_043454_model_2\n",
       "3      StackedEnsemble_AllModels_AutoML_20190416_012028\n",
       "4                      XGBoost_2_AutoML_20190416_021537\n",
       "5                      XGBoost_2_AutoML_20190416_012028\n",
       "6     StackedEnsemble_BestOfFamily_AutoML_20190416_0...\n",
       "7                      XGBoost_2_AutoML_20190416_043454\n",
       "8                      XGBoost_2_AutoML_20190416_015324\n",
       "9         XGBoost_grid_1_AutoML_20190416_043454_model_3\n",
       "10                     XGBoost_1_AutoML_20190416_015324\n",
       "11                     XGBoost_1_AutoML_20190416_012028\n",
       "12                     XGBoost_1_AutoML_20190416_013130\n",
       "13                     XGBoost_1_AutoML_20190416_021537\n",
       "14                     XGBoost_1_AutoML_20190416_043454\n",
       "15        XGBoost_grid_1_AutoML_20190416_015324_model_1\n",
       "16                     XGBoost_1_AutoML_20190416_024530\n",
       "17        XGBoost_grid_1_AutoML_20190416_021537_model_1\n",
       "18        XGBoost_grid_1_AutoML_20190416_043454_model_5\n",
       "19                     XGBoost_3_AutoML_20190416_012028\n",
       "20                     XGBoost_3_AutoML_20190416_043454\n",
       "21                     XGBoost_3_AutoML_20190416_015324\n",
       "22                     XGBoost_3_AutoML_20190416_013130\n",
       "23                     XGBoost_3_AutoML_20190416_021537\n",
       "24                         GBM_4_AutoML_20190416_043454\n",
       "25                         DRF_1_AutoML_20190416_021537\n",
       "26                         GBM_3_AutoML_20190416_043454\n",
       "27                         DRF_1_AutoML_20190416_043454\n",
       "28                         DRF_1_AutoML_20190416_015324\n",
       "29                         GBM_1_AutoML_20190416_013130\n",
       "30                         DRF_1_AutoML_20190416_013130\n",
       "31                         GBM_4_AutoML_20190416_013130\n",
       "32                         GBM_5_AutoML_20190416_021537\n",
       "33                         GBM_1_AutoML_20190416_043454\n",
       "34                         GBM_2_AutoML_20190416_013130\n",
       "35                         GBM_3_AutoML_20190416_021537\n",
       "36                         GBM_4_AutoML_20190416_015324\n",
       "37                         GBM_1_AutoML_20190416_021537\n",
       "38                         GBM_1_AutoML_20190416_015324\n",
       "39                         GBM_2_AutoML_20190416_015324\n",
       "40                         GBM_3_AutoML_20190416_015324\n",
       "41                         GBM_2_AutoML_20190416_021537\n",
       "42            GBM_grid_1_AutoML_20190416_043454_model_1\n",
       "43                         GBM_5_AutoML_20190416_015324\n",
       "44                         GBM_2_AutoML_20190416_043454\n",
       "45                         GBM_5_AutoML_20190416_043454\n",
       "46                         GBM_3_AutoML_20190416_013130\n",
       "47                         GBM_4_AutoML_20190416_021537\n",
       "48                         GBM_5_AutoML_20190416_013130\n",
       "49            GBM_grid_1_AutoML_20190416_015324_model_2\n",
       "50            GBM_grid_1_AutoML_20190416_021537_model_3\n",
       "51            GBM_grid_1_AutoML_20190416_043454_model_3\n",
       "52            GBM_grid_1_AutoML_20190416_015324_model_1\n",
       "53            GBM_grid_1_AutoML_20190416_043454_model_5\n",
       "54            GBM_grid_1_AutoML_20190416_021537_model_1\n",
       "55            GBM_grid_1_AutoML_20190416_043454_model_4\n",
       "56            GBM_grid_1_AutoML_20190416_043454_model_6\n",
       "57            GBM_grid_1_AutoML_20190416_021537_model_2\n",
       "58            GLM_grid_1_AutoML_20190416_043454_model_1\n",
       "59            GLM_grid_1_AutoML_20190416_015324_model_1\n",
       "Name: model_id, dtype: object"
      ]
     },
     "execution_count": 51,
     "metadata": {},
     "output_type": "execute_result"
    }
   ],
   "source": [
    "model5_set.head(60)"
   ]
  },
  {
   "cell_type": "code",
   "execution_count": 55,
   "metadata": {},
   "outputs": [],
   "source": [
    "mod_best=h2o.get_model(model5_set[1])\n",
    "parameters = mod_best.params\n",
    "dict_to_json(parameters,'XGBoost_2_1_1700')"
   ]
  },
  {
   "cell_type": "code",
   "execution_count": 56,
   "metadata": {},
   "outputs": [],
   "source": [
    " mod_best=h2o.get_model(model5_set[2])\n",
    "parameters = mod_best.params\n",
    "dict_to_json(parameters,'XGBoost_grid_1_1_1700')\n",
    "    "
   ]
  },
  {
   "cell_type": "code",
   "execution_count": 57,
   "metadata": {},
   "outputs": [],
   "source": [
    "mod_best=h2o.get_model(model5_set[4])\n",
    "parameters = mod_best.params\n",
    "dict_to_json(parameters,'XGBoost_2_2_1700')"
   ]
  },
  {
   "cell_type": "code",
   "execution_count": 58,
   "metadata": {},
   "outputs": [],
   "source": [
    "mod_best=h2o.get_model(model5_set[5])\n",
    "parameters = mod_best.params\n",
    "dict_to_json(parameters,'XGBoost_2_3_1700')"
   ]
  },
  {
   "cell_type": "code",
   "execution_count": 59,
   "metadata": {},
   "outputs": [],
   "source": [
    "mod_best=h2o.get_model(model5_set[7])\n",
    "parameters = mod_best.params\n",
    "dict_to_json(parameters,'XGBoost_2_4_1700')"
   ]
  },
  {
   "cell_type": "code",
   "execution_count": 60,
   "metadata": {},
   "outputs": [],
   "source": [
    "mod_best=h2o.get_model(model5_set[8])\n",
    "parameters = mod_best.params\n",
    "dict_to_json(parameters,'XGBoost_2_5_1700')"
   ]
  },
  {
   "cell_type": "code",
   "execution_count": 61,
   "metadata": {},
   "outputs": [
    {
     "ename": "NameError",
     "evalue": "name 'XGBoost_grid_1' is not defined",
     "output_type": "error",
     "traceback": [
      "\u001b[0;31m---------------------------------------------------------------------------\u001b[0m",
      "\u001b[0;31mNameError\u001b[0m                                 Traceback (most recent call last)",
      "\u001b[0;32m<ipython-input-61-11f5de82bf14>\u001b[0m in \u001b[0;36m<module>\u001b[0;34m\u001b[0m\n\u001b[1;32m      2\u001b[0m \u001b[0mparameters\u001b[0m \u001b[0;34m=\u001b[0m \u001b[0mmod_best\u001b[0m\u001b[0;34m.\u001b[0m\u001b[0mparams\u001b[0m\u001b[0;34m\u001b[0m\u001b[0;34m\u001b[0m\u001b[0m\n\u001b[1;32m      3\u001b[0m \u001b[0mdict_to_json\u001b[0m\u001b[0;34m(\u001b[0m\u001b[0mparameters\u001b[0m\u001b[0;34m,\u001b[0m\u001b[0;34m'XGBoost_grid_1_2_1700'\u001b[0m\u001b[0;34m)\u001b[0m\u001b[0;34m\u001b[0m\u001b[0;34m\u001b[0m\u001b[0m\n\u001b[0;32m----> 4\u001b[0;31m \u001b[0mXGBoost_grid_1\u001b[0m\u001b[0;34m\u001b[0m\u001b[0;34m\u001b[0m\u001b[0m\n\u001b[0m",
      "\u001b[0;31mNameError\u001b[0m: name 'XGBoost_grid_1' is not defined"
     ]
    }
   ],
   "source": [
    "mod_best=h2o.get_model(model5_set[9])\n",
    "parameters = mod_best.params\n",
    "dict_to_json(parameters,'XGBoost_grid_1_2_1700')\n",
    "XGBoost_grid_1"
   ]
  },
  {
   "cell_type": "code",
   "execution_count": null,
   "metadata": {},
   "outputs": [],
   "source": [
    "mod_best=h2o.get_model(model5_set[10])\n",
    "parameters = mod_best.params\n",
    "dict_to_json(parameters,'XGBoost_1_1_1700')\n"
   ]
  },
  {
   "cell_type": "code",
   "execution_count": null,
   "metadata": {},
   "outputs": [],
   "source": [
    "mod_best=h2o.get_model(model5_set[11])\n",
    "parameters = mod_best.params\n",
    "dict_to_json(parameters,'XGBoost_1_2_1700')\n"
   ]
  },
  {
   "cell_type": "code",
   "execution_count": null,
   "metadata": {},
   "outputs": [],
   "source": [
    "mod_best=h2o.get_model(model5_set[12])\n",
    "parameters = mod_best.params\n",
    "dict_to_json(parameters,'XGBoost_1_3_1700')\n"
   ]
  },
  {
   "cell_type": "code",
   "execution_count": null,
   "metadata": {},
   "outputs": [],
   "source": [
    "mod_best=h2o.get_model(model5_set[13])\n",
    "parameters = mod_best.params\n",
    "dict_to_json(parameters,'XGBoost_1_4_1700')"
   ]
  },
  {
   "cell_type": "code",
   "execution_count": 62,
   "metadata": {},
   "outputs": [],
   "source": [
    "mod_best=h2o.get_model(model5_set[14])\n",
    "parameters = mod_best.params\n",
    "dict_to_json(parameters,'XGBoost_1_5_1700')"
   ]
  },
  {
   "cell_type": "code",
   "execution_count": 63,
   "metadata": {},
   "outputs": [],
   "source": [
    "mod_best=h2o.get_model(model5_set[15])\n",
    "parameters = mod_best.params\n",
    "dict_to_json(parameters,'XGBoost_grid_1_3_1700')\n"
   ]
  },
  {
   "cell_type": "code",
   "execution_count": 64,
   "metadata": {},
   "outputs": [],
   "source": [
    "mod_best=h2o.get_model(model5_set[16])\n",
    "parameters = mod_best.params\n",
    "dict_to_json(parameters,'XGBoost_1_6_1700')"
   ]
  },
  {
   "cell_type": "code",
   "execution_count": 65,
   "metadata": {},
   "outputs": [],
   "source": [
    "mod_best=h2o.get_model(model5_set[17])\n",
    "parameters = mod_best.params\n",
    "dict_to_json(parameters,'XGBoost_grid_1_4_1700')\n"
   ]
  },
  {
   "cell_type": "code",
   "execution_count": 66,
   "metadata": {},
   "outputs": [],
   "source": [
    "mod_best=h2o.get_model(model5_set[18])\n",
    "parameters = mod_best.params\n",
    "dict_to_json(parameters,'XGBoost_grid_1_5_1700')\n"
   ]
  },
  {
   "cell_type": "code",
   "execution_count": 67,
   "metadata": {},
   "outputs": [],
   "source": [
    "mod_best=h2o.get_model(model5_set[19])\n",
    "parameters = mod_best.params\n",
    "dict_to_json(parameters,'XGBoost_3_1_1700')"
   ]
  },
  {
   "cell_type": "code",
   "execution_count": 68,
   "metadata": {},
   "outputs": [],
   "source": [
    "mod_best=h2o.get_model(model5_set[20])\n",
    "parameters = mod_best.params\n",
    "dict_to_json(parameters,'XGBoost_3_2_1700')"
   ]
  },
  {
   "cell_type": "code",
   "execution_count": 69,
   "metadata": {},
   "outputs": [],
   "source": [
    "mod_best=h2o.get_model(model5_set[21])\n",
    "parameters = mod_best.params\n",
    "dict_to_json(parameters,'XGBoost_3_3_1700')"
   ]
  },
  {
   "cell_type": "code",
   "execution_count": 70,
   "metadata": {},
   "outputs": [],
   "source": [
    "mod_best=h2o.get_model(model5_set[22])\n",
    "parameters = mod_best.params\n",
    "dict_to_json(parameters,'XGBoost_3_4_1700')"
   ]
  },
  {
   "cell_type": "code",
   "execution_count": 71,
   "metadata": {},
   "outputs": [],
   "source": [
    "mod_best=h2o.get_model(model5_set[23])\n",
    "parameters = mod_best.params\n",
    "dict_to_json(parameters,'XGBoost_3_5_1700')"
   ]
  },
  {
   "cell_type": "code",
   "execution_count": 72,
   "metadata": {},
   "outputs": [],
   "source": [
    "mod_best=h2o.get_model(model5_set[24])\n",
    "parameters = mod_best.params\n",
    "dict_to_json(parameters,'GBM_4_1_1700')"
   ]
  },
  {
   "cell_type": "code",
   "execution_count": 73,
   "metadata": {},
   "outputs": [],
   "source": [
    "mod_best=h2o.get_model(model5_set[25])\n",
    "parameters = mod_best.params\n",
    "dict_to_json(parameters,'DRF_1_1_1700')"
   ]
  },
  {
   "cell_type": "code",
   "execution_count": 74,
   "metadata": {},
   "outputs": [],
   "source": [
    "\n",
    "mod_best=h2o.get_model(model5_set[26])\n",
    "parameters = mod_best.params\n",
    "dict_to_json(parameters,'GBM_3_1_1700')"
   ]
  },
  {
   "cell_type": "code",
   "execution_count": 75,
   "metadata": {},
   "outputs": [],
   "source": [
    "mod_best=h2o.get_model(model5_set[27])\n",
    "parameters = mod_best.params\n",
    "dict_to_json(parameters,'DRF_1_2_1700')"
   ]
  },
  {
   "cell_type": "code",
   "execution_count": 76,
   "metadata": {},
   "outputs": [],
   "source": [
    "mod_best=h2o.get_model(model5_set[28])\n",
    "parameters = mod_best.params\n",
    "dict_to_json(parameters,'DRF_1_3_1700')"
   ]
  },
  {
   "cell_type": "code",
   "execution_count": 77,
   "metadata": {},
   "outputs": [],
   "source": [
    "mod_best=h2o.get_model(model5_set[29])\n",
    "parameters = mod_best.params\n",
    "dict_to_json(parameters,'GBM_1_1_1700')"
   ]
  },
  {
   "cell_type": "code",
   "execution_count": 78,
   "metadata": {},
   "outputs": [],
   "source": [
    "mod_best=h2o.get_model(model5_set[30])\n",
    "parameters = mod_best.params\n",
    "dict_to_json(parameters,'DRF_1_4_1700')"
   ]
  },
  {
   "cell_type": "code",
   "execution_count": 79,
   "metadata": {},
   "outputs": [],
   "source": [
    "mod_best=h2o.get_model(model5_set[31])\n",
    "parameters = mod_best.params\n",
    "dict_to_json(parameters,'GBM_4_2_1700')"
   ]
  },
  {
   "cell_type": "code",
   "execution_count": 80,
   "metadata": {},
   "outputs": [],
   "source": [
    "mod_best=h2o.get_model(model5_set[32])\n",
    "parameters = mod_best.params\n",
    "dict_to_json(parameters,'GBM_5_1_1700')"
   ]
  },
  {
   "cell_type": "code",
   "execution_count": 81,
   "metadata": {},
   "outputs": [],
   "source": [
    "mod_best=h2o.get_model(model5_set[33])\n",
    "parameters = mod_best.params\n",
    "dict_to_json(parameters,'GBM_1_2_1700')"
   ]
  },
  {
   "cell_type": "code",
   "execution_count": 82,
   "metadata": {},
   "outputs": [],
   "source": [
    "mod_best=h2o.get_model(model5_set[34])\n",
    "parameters = mod_best.params\n",
    "dict_to_json(parameters,'GBM_2_1_1700')"
   ]
  },
  {
   "cell_type": "code",
   "execution_count": 83,
   "metadata": {},
   "outputs": [],
   "source": [
    "\n",
    "mod_best=h2o.get_model(model5_set[35])\n",
    "parameters = mod_best.params\n",
    "dict_to_json(parameters,'GBM_3_2_1700')"
   ]
  },
  {
   "cell_type": "code",
   "execution_count": 84,
   "metadata": {},
   "outputs": [],
   "source": [
    "mod_best=h2o.get_model(model5_set[36])\n",
    "parameters = mod_best.params\n",
    "dict_to_json(parameters,'GBM_4_3_1700')"
   ]
  },
  {
   "cell_type": "code",
   "execution_count": 85,
   "metadata": {},
   "outputs": [],
   "source": [
    "mod_best=h2o.get_model(model5_set[37])\n",
    "parameters = mod_best.params\n",
    "dict_to_json(parameters,'GBM_1_3_1700')"
   ]
  },
  {
   "cell_type": "code",
   "execution_count": 86,
   "metadata": {},
   "outputs": [],
   "source": [
    "mod_best=h2o.get_model(model5_set[38])\n",
    "parameters = mod_best.params\n",
    "dict_to_json(parameters,'GBM_1_4_1700')"
   ]
  },
  {
   "cell_type": "code",
   "execution_count": 87,
   "metadata": {},
   "outputs": [],
   "source": [
    "mod_best=h2o.get_model(model5_set[39])\n",
    "parameters = mod_best.params\n",
    "dict_to_json(parameters,'GBM_2_2_1700')"
   ]
  },
  {
   "cell_type": "code",
   "execution_count": 88,
   "metadata": {},
   "outputs": [],
   "source": [
    "\n",
    "mod_best=h2o.get_model(model5_set[40])\n",
    "parameters = mod_best.params\n",
    "dict_to_json(parameters,'GBM_3_3_1700')"
   ]
  },
  {
   "cell_type": "code",
   "execution_count": 89,
   "metadata": {},
   "outputs": [],
   "source": [
    "mod_best=h2o.get_model(model5_set[41])\n",
    "parameters = mod_best.params\n",
    "dict_to_json(parameters,'GBM_2_3_1700')"
   ]
  },
  {
   "cell_type": "code",
   "execution_count": 90,
   "metadata": {},
   "outputs": [],
   "source": [
    "mod_best=h2o.get_model(model5_set[42])\n",
    "parameters = mod_best.params\n",
    "dict_to_json(parameters,'GBM_grid_1_1_1700')"
   ]
  },
  {
   "cell_type": "code",
   "execution_count": 91,
   "metadata": {},
   "outputs": [],
   "source": [
    "mod_best=h2o.get_model(model5_set[43])\n",
    "parameters = mod_best.params\n",
    "dict_to_json(parameters,'GBM_5_2_1700')"
   ]
  },
  {
   "cell_type": "code",
   "execution_count": 92,
   "metadata": {},
   "outputs": [],
   "source": [
    "mod_best=h2o.get_model(model5_set[44])\n",
    "parameters = mod_best.params\n",
    "dict_to_json(parameters,'GBM_2_4_1700')"
   ]
  },
  {
   "cell_type": "code",
   "execution_count": 93,
   "metadata": {},
   "outputs": [],
   "source": [
    "mod_best=h2o.get_model(model5_set[45])\n",
    "parameters = mod_best.params\n",
    "dict_to_json(parameters,'GBM_5_3_1700')"
   ]
  },
  {
   "cell_type": "code",
   "execution_count": 94,
   "metadata": {},
   "outputs": [],
   "source": [
    "\n",
    "mod_best=h2o.get_model(model5_set[46])\n",
    "parameters = mod_best.params\n",
    "dict_to_json(parameters,'GBM_3_4_1700')"
   ]
  },
  {
   "cell_type": "code",
   "execution_count": 95,
   "metadata": {},
   "outputs": [],
   "source": [
    "mod_best=h2o.get_model(model5_set[47])\n",
    "parameters = mod_best.params\n",
    "dict_to_json(parameters,'GBM_4_4_1700')"
   ]
  },
  {
   "cell_type": "code",
   "execution_count": 96,
   "metadata": {},
   "outputs": [],
   "source": [
    "mod_best=h2o.get_model(model5_set[48])\n",
    "parameters = mod_best.params\n",
    "dict_to_json(parameters,'GBM_5_4_1700')"
   ]
  },
  {
   "cell_type": "code",
   "execution_count": 97,
   "metadata": {},
   "outputs": [],
   "source": [
    "mod_best=h2o.get_model(model5_set[49])\n",
    "parameters = mod_best.params\n",
    "dict_to_json(parameters,'GBM_grid_1_2_1700')"
   ]
  },
  {
   "cell_type": "code",
   "execution_count": 98,
   "metadata": {},
   "outputs": [],
   "source": [
    "mod_best=h2o.get_model(model5_set[50])\n",
    "parameters = mod_best.params\n",
    "dict_to_json(parameters,'GBM_grid_1_3_1700')"
   ]
  },
  {
   "cell_type": "code",
   "execution_count": 99,
   "metadata": {},
   "outputs": [],
   "source": [
    "mod_best=h2o.get_model(model5_set[51])\n",
    "parameters = mod_best.params\n",
    "dict_to_json(parameters,'GBM_grid_1_4_1700')"
   ]
  },
  {
   "cell_type": "code",
   "execution_count": 100,
   "metadata": {},
   "outputs": [],
   "source": [
    "mod_best=h2o.get_model(model5_set[52])\n",
    "parameters = mod_best.params\n",
    "dict_to_json(parameters,'GBM_grid_1_5_1700')"
   ]
  },
  {
   "cell_type": "code",
   "execution_count": 101,
   "metadata": {},
   "outputs": [],
   "source": [
    "mod_best=h2o.get_model(model5_set[53])\n",
    "parameters = mod_best.params\n",
    "dict_to_json(parameters,'GBM_grid_1_6_1700')"
   ]
  },
  {
   "cell_type": "code",
   "execution_count": 102,
   "metadata": {},
   "outputs": [],
   "source": [
    "mod_best=h2o.get_model(model5_set[54])\n",
    "parameters = mod_best.params\n",
    "dict_to_json(parameters,'GBM_grid_1_7_1700')"
   ]
  },
  {
   "cell_type": "code",
   "execution_count": 103,
   "metadata": {},
   "outputs": [],
   "source": [
    "mod_best=h2o.get_model(model5_set[55])\n",
    "parameters = mod_best.params\n",
    "dict_to_json(parameters,'GBM_grid_1_8_1700')"
   ]
  },
  {
   "cell_type": "code",
   "execution_count": 104,
   "metadata": {},
   "outputs": [],
   "source": [
    "mod_best=h2o.get_model(model5_set[56])\n",
    "parameters = mod_best.params\n",
    "dict_to_json(parameters,'GBM_grid_1_9_1700')"
   ]
  },
  {
   "cell_type": "code",
   "execution_count": 105,
   "metadata": {},
   "outputs": [],
   "source": [
    "mod_best=h2o.get_model(model5_set[57])\n",
    "parameters = mod_best.params\n",
    "dict_to_json(parameters,'GBM_grid_1_10_1700')"
   ]
  },
  {
   "cell_type": "code",
   "execution_count": 106,
   "metadata": {},
   "outputs": [],
   "source": [
    "mod_best=h2o.get_model(model5_set[58])\n",
    "parameters = mod_best.params\n",
    "dict_to_json(parameters,'GBM_grid_1_11_1700')"
   ]
  },
  {
   "cell_type": "code",
   "execution_count": 107,
   "metadata": {},
   "outputs": [],
   "source": [
    "mod_best=h2o.get_model(model5_set[59])\n",
    "parameters = mod_best.params\n",
    "dict_to_json(parameters,'GBM_grid_1_12_1700')"
   ]
  },
  {
   "cell_type": "code",
   "execution_count": 108,
   "metadata": {},
   "outputs": [
    {
     "data": {
      "text/plain": [
       "60        GLM_grid_1_AutoML_20190416_013130_model_1\n",
       "61        GLM_grid_1_AutoML_20190416_021537_model_1\n",
       "62        GBM_grid_1_AutoML_20190416_015324_model_3\n",
       "63        GBM_grid_1_AutoML_20190416_043454_model_2\n",
       "64        GLM_grid_1_AutoML_20190416_012028_model_1\n",
       "65    XGBoost_grid_1_AutoML_20190416_021537_model_2\n",
       "66                     XRT_1_AutoML_20190416_021537\n",
       "67                     XRT_1_AutoML_20190416_043454\n",
       "68                     XRT_1_AutoML_20190416_015324\n",
       "69    XGBoost_grid_1_AutoML_20190416_043454_model_4\n",
       "70    XGBoost_grid_1_AutoML_20190416_043454_model_1\n",
       "71    XGBoost_grid_1_AutoML_20190416_043454_model_6\n",
       "72    XGBoost_grid_1_AutoML_20190416_021537_model_3\n",
       "Name: model_id, dtype: object"
      ]
     },
     "execution_count": 108,
     "metadata": {},
     "output_type": "execute_result"
    }
   ],
   "source": [
    "model5_set.tail(13)"
   ]
  },
  {
   "cell_type": "code",
   "execution_count": 109,
   "metadata": {},
   "outputs": [],
   "source": [
    "mod_best=h2o.get_model(model5_set[60])\n",
    "parameters = mod_best.params\n",
    "dict_to_json(parameters,'GBM_grid_1_13_1700')"
   ]
  },
  {
   "cell_type": "code",
   "execution_count": 110,
   "metadata": {},
   "outputs": [],
   "source": [
    "mod_best=h2o.get_model(model5_set[61])\n",
    "parameters = mod_best.params\n",
    "dict_to_json(parameters,'GBM_grid_1_14_1700')"
   ]
  },
  {
   "cell_type": "code",
   "execution_count": 111,
   "metadata": {},
   "outputs": [],
   "source": [
    "mod_best=h2o.get_model(model5_set[62])\n",
    "parameters = mod_best.params\n",
    "dict_to_json(parameters,'GBM_grid_1_15_1700')"
   ]
  },
  {
   "cell_type": "code",
   "execution_count": 112,
   "metadata": {},
   "outputs": [],
   "source": [
    "mod_best=h2o.get_model(model5_set[63])\n",
    "parameters = mod_best.params\n",
    "dict_to_json(parameters,'GBM_grid_1_16_1700')"
   ]
  },
  {
   "cell_type": "code",
   "execution_count": 113,
   "metadata": {},
   "outputs": [],
   "source": [
    "mod_best=h2o.get_model(model5_set[64])\n",
    "parameters = mod_best.params\n",
    "dict_to_json(parameters,'GBM_grid_1_17_1700')"
   ]
  },
  {
   "cell_type": "code",
   "execution_count": 114,
   "metadata": {},
   "outputs": [],
   "source": [
    "mod_best=h2o.get_model(model5_set[65])\n",
    "parameters = mod_best.params\n",
    "dict_to_json(parameters,'XGBoost_grid_1_6_1700')"
   ]
  },
  {
   "cell_type": "code",
   "execution_count": 115,
   "metadata": {},
   "outputs": [],
   "source": [
    "\n",
    "mod_best=h2o.get_model(model5_set[66])\n",
    "parameters = mod_best.params\n",
    "dict_to_json(parameters,'XRT_1_1_1700')"
   ]
  },
  {
   "cell_type": "code",
   "execution_count": 116,
   "metadata": {},
   "outputs": [],
   "source": [
    "\n",
    "mod_best=h2o.get_model(model5_set[67])\n",
    "parameters = mod_best.params\n",
    "dict_to_json(parameters,'XRT_1_2_1700')"
   ]
  },
  {
   "cell_type": "code",
   "execution_count": 117,
   "metadata": {},
   "outputs": [],
   "source": [
    "\n",
    "mod_best=h2o.get_model(model5_set[68])\n",
    "parameters = mod_best.params\n",
    "dict_to_json(parameters,'XRT_1_3_1700')"
   ]
  },
  {
   "cell_type": "code",
   "execution_count": 118,
   "metadata": {},
   "outputs": [],
   "source": [
    "mod_best=h2o.get_model(model5_set[69])\n",
    "parameters = mod_best.params\n",
    "dict_to_json(parameters,'XGBoost_grid_1_7_1700')"
   ]
  },
  {
   "cell_type": "code",
   "execution_count": 119,
   "metadata": {},
   "outputs": [],
   "source": [
    "mod_best=h2o.get_model(model5_set[70])\n",
    "parameters = mod_best.params\n",
    "dict_to_json(parameters,'XGBoost_grid_1_8_1700')"
   ]
  },
  {
   "cell_type": "code",
   "execution_count": 120,
   "metadata": {},
   "outputs": [],
   "source": [
    "mod_best=h2o.get_model(model5_set[71])\n",
    "parameters = mod_best.params\n",
    "dict_to_json(parameters,'XGBoost_grid_1_9_1700')"
   ]
  },
  {
   "cell_type": "code",
   "execution_count": 121,
   "metadata": {},
   "outputs": [],
   "source": [
    "mod_best=h2o.get_model(model5_set[72])\n",
    "parameters = mod_best.params\n",
    "dict_to_json(parameters,'XGBoost_grid_1_10_1700')"
   ]
  },
  {
   "cell_type": "code",
   "execution_count": null,
   "metadata": {},
   "outputs": [],
   "source": []
  },
  {
   "cell_type": "code",
   "execution_count": null,
   "metadata": {},
   "outputs": [],
   "source": []
  },
  {
   "cell_type": "code",
   "execution_count": null,
   "metadata": {},
   "outputs": [],
   "source": []
  },
  {
   "cell_type": "code",
   "execution_count": null,
   "metadata": {},
   "outputs": [],
   "source": []
  },
  {
   "cell_type": "code",
   "execution_count": null,
   "metadata": {},
   "outputs": [],
   "source": []
  },
  {
   "cell_type": "code",
   "execution_count": null,
   "metadata": {},
   "outputs": [],
   "source": []
  },
  {
   "cell_type": "code",
   "execution_count": null,
   "metadata": {},
   "outputs": [],
   "source": []
  },
  {
   "cell_type": "code",
   "execution_count": null,
   "metadata": {},
   "outputs": [],
   "source": []
  },
  {
   "cell_type": "code",
   "execution_count": null,
   "metadata": {},
   "outputs": [],
   "source": []
  },
  {
   "cell_type": "code",
   "execution_count": null,
   "metadata": {},
   "outputs": [],
   "source": []
  },
  {
   "cell_type": "code",
   "execution_count": null,
   "metadata": {},
   "outputs": [],
   "source": []
  },
  {
   "cell_type": "code",
   "execution_count": null,
   "metadata": {},
   "outputs": [],
   "source": []
  },
  {
   "cell_type": "code",
   "execution_count": null,
   "metadata": {},
   "outputs": [],
   "source": []
  },
  {
   "cell_type": "code",
   "execution_count": null,
   "metadata": {},
   "outputs": [],
   "source": []
  },
  {
   "cell_type": "code",
   "execution_count": null,
   "metadata": {},
   "outputs": [],
   "source": []
  },
  {
   "cell_type": "code",
   "execution_count": null,
   "metadata": {},
   "outputs": [],
   "source": []
  },
  {
   "cell_type": "code",
   "execution_count": null,
   "metadata": {},
   "outputs": [],
   "source": []
  },
  {
   "cell_type": "code",
   "execution_count": null,
   "metadata": {},
   "outputs": [],
   "source": []
  },
  {
   "cell_type": "code",
   "execution_count": null,
   "metadata": {},
   "outputs": [],
   "source": []
  },
  {
   "cell_type": "code",
   "execution_count": null,
   "metadata": {},
   "outputs": [],
   "source": []
  },
  {
   "cell_type": "code",
   "execution_count": null,
   "metadata": {},
   "outputs": [],
   "source": []
  },
  {
   "cell_type": "code",
   "execution_count": null,
   "metadata": {},
   "outputs": [],
   "source": []
  },
  {
   "cell_type": "code",
   "execution_count": null,
   "metadata": {},
   "outputs": [],
   "source": []
  },
  {
   "cell_type": "code",
   "execution_count": null,
   "metadata": {},
   "outputs": [],
   "source": []
  },
  {
   "cell_type": "code",
   "execution_count": null,
   "metadata": {},
   "outputs": [],
   "source": []
  },
  {
   "cell_type": "code",
   "execution_count": null,
   "metadata": {},
   "outputs": [],
   "source": []
  },
  {
   "cell_type": "code",
   "execution_count": null,
   "metadata": {},
   "outputs": [],
   "source": []
  },
  {
   "cell_type": "code",
   "execution_count": null,
   "metadata": {},
   "outputs": [],
   "source": []
  },
  {
   "cell_type": "code",
   "execution_count": null,
   "metadata": {},
   "outputs": [],
   "source": []
  },
  {
   "cell_type": "code",
   "execution_count": null,
   "metadata": {},
   "outputs": [],
   "source": []
  },
  {
   "cell_type": "code",
   "execution_count": null,
   "metadata": {},
   "outputs": [],
   "source": []
  },
  {
   "cell_type": "code",
   "execution_count": null,
   "metadata": {},
   "outputs": [],
   "source": []
  },
  {
   "cell_type": "code",
   "execution_count": null,
   "metadata": {},
   "outputs": [],
   "source": []
  },
  {
   "cell_type": "code",
   "execution_count": null,
   "metadata": {},
   "outputs": [],
   "source": []
  },
  {
   "cell_type": "code",
   "execution_count": null,
   "metadata": {},
   "outputs": [],
   "source": []
  },
  {
   "cell_type": "code",
   "execution_count": null,
   "metadata": {},
   "outputs": [],
   "source": []
  },
  {
   "cell_type": "code",
   "execution_count": null,
   "metadata": {},
   "outputs": [],
   "source": []
  },
  {
   "cell_type": "code",
   "execution_count": null,
   "metadata": {},
   "outputs": [],
   "source": []
  },
  {
   "cell_type": "code",
   "execution_count": null,
   "metadata": {},
   "outputs": [],
   "source": []
  },
  {
   "cell_type": "code",
   "execution_count": null,
   "metadata": {},
   "outputs": [],
   "source": []
  },
  {
   "cell_type": "code",
   "execution_count": null,
   "metadata": {},
   "outputs": [],
   "source": []
  },
  {
   "cell_type": "code",
   "execution_count": null,
   "metadata": {},
   "outputs": [],
   "source": []
  },
  {
   "cell_type": "code",
   "execution_count": null,
   "metadata": {},
   "outputs": [],
   "source": []
  },
  {
   "cell_type": "code",
   "execution_count": null,
   "metadata": {},
   "outputs": [],
   "source": []
  },
  {
   "cell_type": "code",
   "execution_count": null,
   "metadata": {},
   "outputs": [],
   "source": []
  }
 ],
 "metadata": {
  "kernelspec": {
   "display_name": "Python 3",
   "language": "python",
   "name": "python3"
  },
  "language_info": {
   "codemirror_mode": {
    "name": "ipython",
    "version": 3
   },
   "file_extension": ".py",
   "mimetype": "text/x-python",
   "name": "python",
   "nbconvert_exporter": "python",
   "pygments_lexer": "ipython3",
   "version": "3.7.2"
  }
 },
 "nbformat": 4,
 "nbformat_minor": 2
}
