{
 "cells": [
  {
   "cell_type": "code",
   "execution_count": 48,
   "metadata": {},
   "outputs": [],
   "source": [
    "import h2o\n",
    "from h2o.automl import H2OAutoML\n",
    "import random, os, sys\n",
    "from datetime import datetime\n",
    "import pandas as pd\n",
    "import logging\n",
    "import csv\n",
    "import optparse\n",
    "import time\n",
    "import json\n",
    "from distutils.util import strtobool\n",
    "import psutil\n",
    "\n",
    "import warnings\n",
    "warnings.filterwarnings('ignore')\n",
    "\n"
   ]
  },
  {
   "cell_type": "markdown",
   "metadata": {},
   "source": [
    "A random number between 5555 and 55555 is chosen and initialized to port_no. Memory size of 5 GB is given for h2o."
   ]
  },
  {
   "cell_type": "code",
   "execution_count": 49,
   "metadata": {},
   "outputs": [
    {
     "name": "stdout",
     "output_type": "stream",
     "text": [
      "Checking whether there is an H2O instance running at http://localhost:19649..... not found.\n",
      "Attempting to start a local H2O server...\n",
      "  Java Version: java version \"1.8.0_101\"; Java(TM) SE Runtime Environment (build 1.8.0_101-b13); Java HotSpot(TM) 64-Bit Server VM (build 25.101-b13, mixed mode)\n",
      "  Starting server from /Applications/anaconda3/lib/python3.7/site-packages/h2o/backend/bin/h2o.jar\n",
      "  Ice root: /var/folders/gf/p944hdxd7jq73_9cxfglxn540000gn/T/tmpa0501s73\n",
      "  JVM stdout: /var/folders/gf/p944hdxd7jq73_9cxfglxn540000gn/T/tmpa0501s73/h2o_vaish_started_from_python.out\n",
      "  JVM stderr: /var/folders/gf/p944hdxd7jq73_9cxfglxn540000gn/T/tmpa0501s73/h2o_vaish_started_from_python.err\n",
      "  Server is running at http://127.0.0.1:19649\n",
      "Connecting to H2O server at http://127.0.0.1:19649... successful.\n"
     ]
    },
    {
     "data": {
      "text/html": [
       "<div style=\"overflow:auto\"><table style=\"width:50%\"><tr><td>H2O cluster uptime:</td>\n",
       "<td>01 secs</td></tr>\n",
       "<tr><td>H2O cluster timezone:</td>\n",
       "<td>America/New_York</td></tr>\n",
       "<tr><td>H2O data parsing timezone:</td>\n",
       "<td>UTC</td></tr>\n",
       "<tr><td>H2O cluster version:</td>\n",
       "<td>3.22.1.6</td></tr>\n",
       "<tr><td>H2O cluster version age:</td>\n",
       "<td>1 month and 4 days </td></tr>\n",
       "<tr><td>H2O cluster name:</td>\n",
       "<td>H2O_from_python_vaish_zim4ac</td></tr>\n",
       "<tr><td>H2O cluster total nodes:</td>\n",
       "<td>1</td></tr>\n",
       "<tr><td>H2O cluster free memory:</td>\n",
       "<td>4.792 Gb</td></tr>\n",
       "<tr><td>H2O cluster total cores:</td>\n",
       "<td>8</td></tr>\n",
       "<tr><td>H2O cluster allowed cores:</td>\n",
       "<td>8</td></tr>\n",
       "<tr><td>H2O cluster status:</td>\n",
       "<td>accepting new members, healthy</td></tr>\n",
       "<tr><td>H2O connection url:</td>\n",
       "<td>http://127.0.0.1:19649</td></tr>\n",
       "<tr><td>H2O connection proxy:</td>\n",
       "<td>None</td></tr>\n",
       "<tr><td>H2O internal security:</td>\n",
       "<td>False</td></tr>\n",
       "<tr><td>H2O API Extensions:</td>\n",
       "<td>Amazon S3, XGBoost, Algos, AutoML, Core V3, Core V4</td></tr>\n",
       "<tr><td>Python version:</td>\n",
       "<td>3.7.1 final</td></tr></table></div>"
      ],
      "text/plain": [
       "--------------------------  ---------------------------------------------------\n",
       "H2O cluster uptime:         01 secs\n",
       "H2O cluster timezone:       America/New_York\n",
       "H2O data parsing timezone:  UTC\n",
       "H2O cluster version:        3.22.1.6\n",
       "H2O cluster version age:    1 month and 4 days\n",
       "H2O cluster name:           H2O_from_python_vaish_zim4ac\n",
       "H2O cluster total nodes:    1\n",
       "H2O cluster free memory:    4.792 Gb\n",
       "H2O cluster total cores:    8\n",
       "H2O cluster allowed cores:  8\n",
       "H2O cluster status:         accepting new members, healthy\n",
       "H2O connection url:         http://127.0.0.1:19649\n",
       "H2O connection proxy:\n",
       "H2O internal security:      False\n",
       "H2O API Extensions:         Amazon S3, XGBoost, Algos, AutoML, Core V3, Core V4\n",
       "Python version:             3.7.1 final\n",
       "--------------------------  ---------------------------------------------------"
      ]
     },
     "metadata": {},
     "output_type": "display_data"
    }
   ],
   "source": [
    "port_no=random.randint(5555,55555)\n",
    "h2o.init(strict_version_check=False,min_mem_size_GB=5,port=port_no)"
   ]
  },
  {
   "cell_type": "code",
   "execution_count": 50,
   "metadata": {},
   "outputs": [
    {
     "name": "stdout",
     "output_type": "stream",
     "text": [
      "Parse progress: |█████████████████████████████████████████████████████████| 100%\n"
     ]
    }
   ],
   "source": [
    "#importing the file\n",
    "df = h2o.import_file(path=\"anime_filtered.csv\")"
   ]
  },
  {
   "cell_type": "markdown",
   "metadata": {},
   "source": [
    "Displaying the dataset"
   ]
  },
  {
   "cell_type": "code",
   "execution_count": 51,
   "metadata": {},
   "outputs": [
    {
     "data": {
      "text/html": [
       "<table>\n",
       "<thead>\n",
       "<tr><th style=\"text-align: right;\">  anime_id</th><th>title                        </th><th>title_english               </th><th>title_japanese           </th><th>title_synonyms                                                             </th><th>image_url                                                 </th><th>type  </th><th>source     </th><th style=\"text-align: right;\">  episodes</th><th>status         </th><th>airing  </th><th>aired_string                </th><th>aired                                     </th><th>duration       </th><th>rating                   </th><th style=\"text-align: right;\">  score</th><th style=\"text-align: right;\">  scored_by</th><th style=\"text-align: right;\">  rank</th><th style=\"text-align: right;\">  popularity</th><th style=\"text-align: right;\">  members</th><th style=\"text-align: right;\">  favorites</th><th>background                                                                                                                                                                                                                          </th><th>premiered  </th><th>broadcast                </th><th>related                                                                                                                                                                                                                                                                                                                                                                                                                                                                                                                                                                                                                                                                                                                                                                                                                                                                                              </th><th>producer                                                                                    </th><th>licensor                                </th><th>studio                       </th><th>genre                                                </th><th>opening_theme                                                                                                                                                                                                                                                             </th><th>ending_theme                                                                                                                                                                                                                                                                                                                                                                                                                                                                                                                                                                                        </th></tr>\n",
       "</thead>\n",
       "<tbody>\n",
       "<tr><td style=\"text-align: right;\">     11013</td><td>Inu x Boku SS                </td><td>Inu X Boku Secret Service   </td><td>妖狐×僕SS                </td><td>Youko x Boku SS                                                            </td><td>https://myanimelist.cdn-dena.com/images/anime/12/35893.jpg</td><td>TV    </td><td>Manga      </td><td style=\"text-align: right;\">        12</td><td>Finished Airing</td><td>False   </td><td>Jan 13, 2012 to Mar 30, 2012</td><td>{'from': '2012-01-13', 'to': '2012-03-30'}</td><td>24 min. per ep.</td><td>PG-13 - Teens 13 or older</td><td style=\"text-align: right;\">   7.63</td><td style=\"text-align: right;\">     139250</td><td style=\"text-align: right;\">  1274</td><td style=\"text-align: right;\">         231</td><td style=\"text-align: right;\">   283882</td><td style=\"text-align: right;\">       2809</td><td>Inu x Boku SS was licensed by Sentai Filmworks for North America, while MVM Films licensed it for the United Kingdom. During April 2013, Hanabee Entertainment released the series on DVD and Blu-ray for Australia and New Zealand.</td><td>Winter 2012</td><td>Fridays at Unknown       </td><td>{'Adaptation': [{'mal_id': 17207, 'type': 'manga', 'url': 'https://myanimelist.net/manga/17207/Inu_x_Boku_SS', 'title': 'Inu x Boku SS'}], 'Sequel': [{'mal_id': 13403, 'type': 'anime', 'url': 'https://myanimelist.net/anime/13403/Inu_x_Boku_SS_Special', 'title': 'Inu x Boku SS Special'}]}                                                                                                                                                                                                                                                                                                                                                                                                                                                                                                                                                                                                     </td><td>Aniplex, Square Enix, Mainichi Broadcasting System, Movic, Inu x Boku SS Production Partners</td><td>Sentai Filmworks                        </td><td>David Production             </td><td>Comedy, Supernatural, Romance, Shounen               </td><td>['\"Nirvana\" by MUCC']                                                                                                                                                                                                                                                     </td><td>['#1: \"Nirvana\" by MUCC (eps 1, 11-12)', '#2: \"Rakuen no Photograph (楽園のPhotograph)\" by Soushi Miketsukami (Yuichi Nakamura) (eps 2, 9)', '#3: \"Kimi wa (君は)\" by Ririchiyo Shirakiin (Rina Hidaka) (eps 3, 8)', '#4: \"one way\" by Banri Watanuki (Takuya Eguchi) & Zange Natsume (Mamoru Miyano) (ep 4)', '#5: \"SM Hantei Forum (SM判定フォーラム)\" by Kagerou Shoukiin (Tomokazu Sugita) (ep 5, 10)', '#6: \"sweets parade\" by Karuta Roromiya (Kana Hanazawa) (ep 6)', '#7: \"Taiyou to Tsuki (太陽と月)\" by Renshou Sorinozuka (Yoshimasa Hosoya) & Nobara Yukinokouji (Youko Hikasa) (ep 7)']</td></tr>\n",
       "<tr><td style=\"text-align: right;\">      2104</td><td>Seto no Hanayome             </td><td>My Bride is a Mermaid       </td><td>瀬戸の花嫁               </td><td>The Inland Sea Bride                                                       </td><td>https://myanimelist.cdn-dena.com/images/anime/13/58383.jpg</td><td>TV    </td><td>Manga      </td><td style=\"text-align: right;\">        26</td><td>Finished Airing</td><td>False   </td><td>Apr 2, 2007 to Oct 1, 2007  </td><td>{'from': '2007-04-02', 'to': '2007-10-01'}</td><td>24 min. per ep.</td><td>PG-13 - Teens 13 or older</td><td style=\"text-align: right;\">   7.89</td><td style=\"text-align: right;\">      91206</td><td style=\"text-align: right;\">   727</td><td style=\"text-align: right;\">         366</td><td style=\"text-align: right;\">   204003</td><td style=\"text-align: right;\">       2579</td><td>                                                                                                                                                                                                                                    </td><td>Spring 2007</td><td>Unknown                  </td><td>{'Adaptation': [{'mal_id': 759, 'type': 'manga', 'url': 'https://myanimelist.net/manga/759/Seto_no_Hanayome', 'title': 'Seto no Hanayome'}], 'Sequel': [{'mal_id': 4163, 'type': 'anime', 'url': 'https://myanimelist.net/anime/4163/Seto_no_Hanayome_OVA', 'title': 'Seto no Hanayome OVA'}], 'Side story': [{'mal_id': 5199, 'type': 'anime', 'url': 'https://myanimelist.net/anime/5199/Seto_no_Hanayome_Fan_Disc', 'title': 'Seto no Hanayome Fan Disc'}], 'Alternative version': [{'mal_id': 28385, 'type': 'anime', 'url': 'https://myanimelist.net/anime/28385/Seto_no_Hanayome_Picture_Drama', 'title': 'Seto no Hanayome Picture Drama'}]}                                                                                                                                                                                                                                                  </td><td>TV Tokyo, AIC, Square Enix, Sotsu                                                           </td><td>Funimation                              </td><td>Gonzo                        </td><td>Comedy, Parody, Romance, School, Shounen             </td><td>['\"Romantic summer\" by SUN&LUNAR']                                                                                                                                                                                                                                        </td><td>['#1: \"Ashita e no Hikari (明日への光)\" by Asuka Hinoi (1-13, 26)', '#2: \"Dan Dan Dan\" by SUN&LUNAR (eps 14-25)']                                                                                                                                                                                                                                                                                                                                                                                                                                                                                   </td></tr>\n",
       "<tr><td style=\"text-align: right;\">      5262</td><td>Shugo Chara!! Doki           </td><td>Shugo Chara!! Doki          </td><td>しゅごキャラ！！どきっ   </td><td>Shugo Chara Ninenme, Shugo Chara! Second Year                              </td><td>https://myanimelist.cdn-dena.com/images/anime/11/10645.jpg</td><td>TV    </td><td>Manga      </td><td style=\"text-align: right;\">        51</td><td>Finished Airing</td><td>False   </td><td>Oct 4, 2008 to Sep 25, 2009 </td><td>{'from': '2008-10-04', 'to': '2009-09-25'}</td><td>24 min. per ep.</td><td>PG - Children            </td><td style=\"text-align: right;\">   7.55</td><td style=\"text-align: right;\">      37129</td><td style=\"text-align: right;\">  1508</td><td style=\"text-align: right;\">        1173</td><td style=\"text-align: right;\">    70127</td><td style=\"text-align: right;\">        802</td><td>                                                                                                                                                                                                                                    </td><td>Fall 2008  </td><td>Unknown                  </td><td>{'Adaptation': [{'mal_id': 101, 'type': 'manga', 'url': 'https://myanimelist.net/manga/101/Shugo_Chara', 'title': 'Shugo Chara!'}], 'Prequel': [{'mal_id': 2923, 'type': 'anime', 'url': 'https://myanimelist.net/anime/2923/Shugo_Chara', 'title': 'Shugo Chara!'}], 'Sequel': [{'mal_id': 7082, 'type': 'anime', 'url': 'https://myanimelist.net/anime/7082/Shugo_Chara_Party', 'title': 'Shugo Chara! Party!'}]}                                                                                                                                                                                                                                                                                                                                                                                                                                                                                  </td><td>TV Tokyo, Sotsu                                                                             </td><td>                                        </td><td>Satelight                    </td><td>Comedy, Magic, School, Shoujo                        </td><td>['#1: \"Minna no Tamago (みんなのたまご)\" by Shugo Chara Egg (eps 1-13)', '#2: \"Shugo Shugo! (しゅごしゅご!)\" by Shugo Chara Egg (eps 14-25)', '#3: \"Omakase♪Guardian (おまかせ♪ガーディアン)\" by Guardians 4 (eps 26-38)', '#4: \"School Days\" by Guardians 4 (eps 39-51)']</td><td>['#1: \"Rottara Rottara (ロッタラ ロッタラ)\" by Buono! (eps 1-17)', '#2: \"co.no.mi.chi\" Buono! (eps 18-25)', '#3: \"MY BOY\" by Buono! (eps 26-38)', '#4: \"Take it Easy!\" by Buono! (eps. 39-50)', '#5: \"Honto no Jibun (ホントのじぶん)\" by Buono! (ep 51)']                                                                                                                                                                                                                                                                                                                                          </td></tr>\n",
       "<tr><td style=\"text-align: right;\">       721</td><td>Princess Tutu                </td><td>Princess Tutu               </td><td>プリンセスチュチュ       </td><td>                                                                           </td><td>https://myanimelist.cdn-dena.com/images/anime/13/32209.jpg</td><td>TV    </td><td>Original   </td><td style=\"text-align: right;\">        38</td><td>Finished Airing</td><td>False   </td><td>Aug 16, 2002 to May 23, 2003</td><td>{'from': '2002-08-16', 'to': '2003-05-23'}</td><td>16 min. per ep.</td><td>PG-13 - Teens 13 or older</td><td style=\"text-align: right;\">   8.21</td><td style=\"text-align: right;\">      36501</td><td style=\"text-align: right;\">   307</td><td style=\"text-align: right;\">         916</td><td style=\"text-align: right;\">    93312</td><td style=\"text-align: right;\">       3344</td><td>Princess Tutu aired in two parts. The first part included 13 25-minute-long episodes, while the second part consisted of 24 12-minute-long episodes with a 25-minute-long final episode for a total of 25 episodes.                 </td><td>Summer 2002</td><td>Fridays at Unknown       </td><td>{'Adaptation': [{'mal_id': 1581, 'type': 'manga', 'url': 'https://myanimelist.net/manga/1581/Princess_Tutu', 'title': 'Princess Tutu'}], 'Summary': [{'mal_id': 3265, 'type': 'anime', 'url': 'https://myanimelist.net/anime/3265/Princess_Tutu_Recaps', 'title': 'Princess Tutu Recaps'}]}                                                                                                                                                                                                                                                                                                                                                                                                                                                                                                                                                                                                          </td><td>Memory-Tech, GANSIS, Marvelous AQL                                                          </td><td>ADV Films                               </td><td>Hal Film Maker               </td><td>Comedy, Drama, Magic, Romance, Fantasy               </td><td>['\"Morning Grace\" by Ritsuko Okazaki']                                                                                                                                                                                                                                    </td><td>['\"Watashi No Ai Wa Chiisaikeredo\" by Ritsuko Okazaki']                                                                                                                                                                                                                                                                                                                                                                                                                                                                                                                                             </td></tr>\n",
       "<tr><td style=\"text-align: right;\">     12365</td><td>Bakuman. 3rd Season          </td><td>Bakuman.                    </td><td>バクマン。               </td><td>Bakuman Season 3                                                           </td><td>https://myanimelist.cdn-dena.com/images/anime/6/41845.jpg </td><td>TV    </td><td>Manga      </td><td style=\"text-align: right;\">        25</td><td>Finished Airing</td><td>False   </td><td>Oct 6, 2012 to Mar 30, 2013 </td><td>{'from': '2012-10-06', 'to': '2013-03-30'}</td><td>24 min. per ep.</td><td>PG-13 - Teens 13 or older</td><td style=\"text-align: right;\">   8.67</td><td style=\"text-align: right;\">     107767</td><td style=\"text-align: right;\">    50</td><td style=\"text-align: right;\">         426</td><td style=\"text-align: right;\">   182765</td><td style=\"text-align: right;\">       2082</td><td>                                                                                                                                                                                                                                    </td><td>Fall 2012  </td><td>Unknown                  </td><td>{'Adaptation': [{'mal_id': 9711, 'type': 'manga', 'url': 'https://myanimelist.net/manga/9711/Bakuman', 'title': 'Bakuman.'}], 'Prequel': [{'mal_id': 10030, 'type': 'anime', 'url': 'https://myanimelist.net/anime/10030/Bakuman_2nd_Season', 'title': 'Bakuman. 2nd Season'}, {'mal_id': 15711, 'type': 'anime', 'url': 'https://myanimelist.net/anime/15711/Bakuman__Deraman', 'title': 'Bakuman.: Deraman.'}], 'Other': [{'mal_id': 23361, 'type': 'anime', 'url': 'https://myanimelist.net/anime/23361/Bakuman_3rd_Season_Specials', 'title': 'Bakuman. 3rd Season Specials'}]}                                                                                                                                                                                                                                                                                                                  </td><td>NHK, Shueisha                                                                               </td><td>                                        </td><td>J.C.Staff                    </td><td>Comedy, Drama, Romance, Shounen                      </td><td>['#1: \"Moshimo no Hanashi (もしもの話)\" by nano.RIPE (eps 1-13)', '#2: \"23:40 (23時40分) feat. Base Ball Bear\" by Hyadain (eps 14-25)']                                                                                                                                   </td><td>['#1: \"Pride on Everyday\" by Sphere (eps 1-13)', '#2: \"Yume Sketch (夢スケッチ)\" by JAM Project (eps 14-24)', '#3: \"Moshimo no Hanashi (もしもの話)\" by nano.RIPE (ep 25)']                                                                                                                                                                                                                                                                                                                                                                                                                         </td></tr>\n",
       "<tr><td style=\"text-align: right;\">      6586</td><td>Yume-iro Pâtissière          </td><td>                            </td><td>夢色パティシエール       </td><td>Yumeiro Patissiere, YumePati, Dream-Colored Pastry Chef, Yumeiro Pâtissière</td><td>https://myanimelist.cdn-dena.com/images/anime/12/21674.jpg</td><td>TV    </td><td>Manga      </td><td style=\"text-align: right;\">        50</td><td>Finished Airing</td><td>False   </td><td>Oct 4, 2009 to Sep 26, 2010 </td><td>{'from': '2009-10-04', 'to': '2010-09-26'}</td><td>24 min. per ep.</td><td>G - All Ages             </td><td style=\"text-align: right;\">   8.03</td><td style=\"text-align: right;\">      21618</td><td style=\"text-align: right;\">   526</td><td style=\"text-align: right;\">        1630</td><td style=\"text-align: right;\">    45625</td><td style=\"text-align: right;\">        826</td><td>                                                                                                                                                                                                                                    </td><td>Fall 2009  </td><td>Unknown                  </td><td>{'Adaptation': [{'mal_id': 10386, 'type': 'manga', 'url': 'https://myanimelist.net/manga/10386/Yume-iro_Pâtissière', 'title': 'Yume-iro Pâtissière'}], 'Side story': [{'mal_id': 8894, 'type': 'anime', 'url': 'https://myanimelist.net/anime/8894/Yume-iro_Pâtissière__Mune_Kyun_Tropical_Island', 'title': 'Yume-iro Pâtissière: Mune Kyun Tropical Island!'}], 'Sequel': [{'mal_id': 9441, 'type': 'anime', 'url': 'https://myanimelist.net/anime/9441/Yume-iro_Pâtissière_SP_Professional', 'title': 'Yume-iro Pâtissière SP Professional'}]}                                                                                                                                                                                                                                                                                                                                                    </td><td>Yomiuri Telecasting, DAX Production, Shueisha                                               </td><td>                                        </td><td>Studio Pierrot, Studio Hibari</td><td>Kids, School, Shoujo                                 </td><td>['\"Yume ni Yell! Patissiere♪ (夢にエール！パティシエール♪)\" by Mayumi Gojou']                                                                                                                                                                                             </td><td>['\"Ichigo no Miracle (いちごのミラクルール)\" by Yukina Sugihara']                                                                                                                                                                                                                                                                                                                                                                                                                                                                                                                                   </td></tr>\n",
       "<tr><td style=\"text-align: right;\">       178</td><td>Ultra Maniac                 </td><td>Ultramaniac - Magical Girl  </td><td>ウルトラマニアック       </td><td>                                                                           </td><td>https://myanimelist.cdn-dena.com/images/anime/8/53571.jpg </td><td>TV    </td><td>Manga      </td><td style=\"text-align: right;\">        26</td><td>Finished Airing</td><td>False   </td><td>May 20, 2003 to Nov 11, 2003</td><td>{'from': '2003-05-20', 'to': '2003-11-11'}</td><td>24 min. per ep.</td><td>G - All Ages             </td><td style=\"text-align: right;\">   7.26</td><td style=\"text-align: right;\">       9663</td><td style=\"text-align: right;\">  2594</td><td style=\"text-align: right;\">        2490</td><td style=\"text-align: right;\">    22778</td><td style=\"text-align: right;\">        122</td><td>                                                                                                                                                                                                                                    </td><td>Spring 2003</td><td>Tuesdays at 22:00 (JST)  </td><td>{'Adaptation': [{'mal_id': 956, 'type': 'manga', 'url': 'https://myanimelist.net/manga/956/Ultra_Maniac', 'title': 'Ultra Maniac'}], 'Alternative version': [{'mal_id': 179, 'type': 'anime', 'url': 'https://myanimelist.net/anime/179/Ultra_Maniac_OVA', 'title': 'Ultra Maniac OVA'}]}                                                                                                                                                                                                                                                                                                                                                                                                                                                                                                                                                                                                            </td><td>WAO World, Studio Jack                                                                      </td><td>Discotek Media, Geneon Entertainment USA</td><td>Production Reed              </td><td>Magic, Comedy, Romance, School, Shoujo               </td><td>['\"Kagami no Naka\" by can/goo']                                                                                                                                                                                                                                           </td><td>['\"Hitotsu=Unmei Kyoudoutai\" by can/goo']                                                                                                                                                                                                                                                                                                                                                                                                                                                                                                                                                           </td></tr>\n",
       "<tr><td style=\"text-align: right;\">      2787</td><td>Shakugan no Shana II (Second)</td><td>Shakugan no Shana: Season II</td><td>灼眼のシャナII –Second–  </td><td>Shakugan no Shana 2                                                        </td><td>https://myanimelist.cdn-dena.com/images/anime/10/18669.jpg</td><td>TV    </td><td>Light novel</td><td style=\"text-align: right;\">        24</td><td>Finished Airing</td><td>False   </td><td>Oct 5, 2007 to Mar 28, 2008 </td><td>{'from': '2007-10-05', 'to': '2008-03-28'}</td><td>24 min. per ep.</td><td>PG-13 - Teens 13 or older</td><td style=\"text-align: right;\">   7.72</td><td style=\"text-align: right;\">     126085</td><td style=\"text-align: right;\">  1066</td><td style=\"text-align: right;\">         332</td><td style=\"text-align: right;\">   220591</td><td style=\"text-align: right;\">       1075</td><td>                                                                                                                                                                                                                                    </td><td>Fall 2007  </td><td>Fridays at 01:25 (JST)   </td><td>{'Adaptation': [{'mal_id': 3074, 'type': 'manga', 'url': 'https://myanimelist.net/manga/3074/Shakugan_no_Shana', 'title': 'Shakugan no Shana'}], 'Prequel': [{'mal_id': 355, 'type': 'anime', 'url': 'https://myanimelist.net/anime/355/Shakugan_no_Shana', 'title': 'Shakugan no Shana'}], 'Spin-off': [{'mal_id': 3956, 'type': 'anime', 'url': 'https://myanimelist.net/anime/3956/Shakugan_no_Shana_II_Second_Specials', 'title': 'Shakugan no Shana II (Second) Specials'}, {'mal_id': 14957, 'type': 'anime', 'url': 'https://myanimelist.net/anime/14957/Shakugan_no_Shana__Friagne_to_Marianne_no_Naze_Nani_Shana_Nandemo_Shitsumonbako_2', 'title': 'Shakugan no Shana: Friagne to Marianne no Naze Nani Shana! Nandemo Shitsumonbako! 2'}], 'Sequel': [{'mal_id': 6572, 'type': 'anime', 'url': 'https://myanimelist.net/anime/6572/Shakugan_no_Shana_S', 'title': 'Shakugan no Shana S'}]}</td><td>Geneon Universal Entertainment, ASCII Media Works                                           </td><td>Funimation                              </td><td>J.C.Staff                    </td><td>Action, Drama, Fantasy, Romance, School, Supernatural</td><td>['#1: \"JOINT\" by Mami Kawada (eps 1-15)', '#2: \"BLAZE\" by KOTOKO (16-24)']                                                                                                                                                                                                </td><td>['#1: \"Triangle\" by Kawada Mami (eps 1-15)', '#2: \"Sociometry\" by KOTOKO (eps 16-23)', '#3: \"Sense\" by Kawada Mami (ep 24)']                                                                                                                                                                                                                                                                                                                                                                                                                                                                        </td></tr>\n",
       "<tr><td style=\"text-align: right;\">      4477</td><td>Nodame Cantabile: Paris-hen  </td><td>                            </td><td>のだめカンタービレ 巴里編</td><td>Nodame Cantabile Paris Chapter, Nodame Cantabile Pari-hen                  </td><td>https://myanimelist.cdn-dena.com/images/anime/4/11918.jpg </td><td>TV    </td><td>Manga      </td><td style=\"text-align: right;\">        11</td><td>Finished Airing</td><td>False   </td><td>Oct 10, 2008 to Dec 19, 2008</td><td>{'from': '2008-10-10', 'to': '2008-12-19'}</td><td>23 min. per ep.</td><td>PG-13 - Teens 13 or older</td><td style=\"text-align: right;\">   8.24</td><td style=\"text-align: right;\">      53908</td><td style=\"text-align: right;\">   281</td><td style=\"text-align: right;\">         988</td><td style=\"text-align: right;\">    85660</td><td style=\"text-align: right;\">        282</td><td>                                                                                                                                                                                                                                    </td><td>Fall 2008  </td><td>Fridays at 00:45 (JST)   </td><td>{'Adaptation': [{'mal_id': 419, 'type': 'manga', 'url': 'https://myanimelist.net/manga/419/Nodame_Cantabile', 'title': 'Nodame Cantabile'}], 'Prequel': [{'mal_id': 1698, 'type': 'anime', 'url': 'https://myanimelist.net/anime/1698/Nodame_Cantabile', 'title': 'Nodame Cantabile'}], 'Other': [{'mal_id': 5656, 'type': 'anime', 'url': 'https://myanimelist.net/anime/5656/PuriGorota__Uchuu_no_Yuujou_Daibouken', 'title': 'PuriGorota: Uchuu no Yuujou Daibouken'}], 'Side story': [{'mal_id': 6187, 'type': 'anime', 'url': 'https://myanimelist.net/anime/6187/Nodame_Cantabile_OVA', 'title': 'Nodame Cantabile OVA'}], 'Sequel': [{'mal_id': 8038, 'type': 'anime', 'url': 'https://myanimelist.net/anime/8038/Nodame_Cantabile_Finale_Special', 'title': 'Nodame Cantabile Finale Special'}]}                                                                                             </td><td>Fuji TV, Asmik Ace Entertainment, Sony Music Entertainment                                  </td><td>                                        </td><td>J.C.Staff                    </td><td>Music, Slice of Life, Comedy, Romance, Josei         </td><td>['\"Sky High!\" by The Gospellers']                                                                                                                                                                                                                                         </td><td>['\"東京 et 巴里 (Tokyo and Paris)\" by Emiri Miyamoto x Solita']                                                                                                                                                                                                                                                                                                                                                                                                                                                                                                                                     </td></tr>\n",
       "<tr><td style=\"text-align: right;\">       853</td><td>Ouran Koukou Host Club       </td><td>Ouran High School Host Club </td><td>桜蘭高校ホスト部         </td><td>Ohran Koko Host Club, Ouran Koukou Hosutobu, Ouran Koukou Host Bu, OHSHC   </td><td>https://myanimelist.cdn-dena.com/images/anime/2/71992.jpg </td><td>TV    </td><td>Manga      </td><td style=\"text-align: right;\">        26</td><td>Finished Airing</td><td>False   </td><td>Apr 5, 2006 to Sep 27, 2006 </td><td>{'from': '2006-04-05', 'to': '2006-09-27'}</td><td>23 min. per ep.</td><td>PG-13 - Teens 13 or older</td><td style=\"text-align: right;\">   8.34</td><td style=\"text-align: right;\">     335137</td><td style=\"text-align: right;\">   205</td><td style=\"text-align: right;\">          69</td><td style=\"text-align: right;\">   538843</td><td style=\"text-align: right;\">      24072</td><td>                                                                                                                                                                                                                                    </td><td>Spring 2006</td><td>Wednesdays at 00:50 (JST)</td><td>{'Adaptation': [{'mal_id': 30, 'type': 'manga', 'url': 'https://myanimelist.net/manga/30/Ouran_Koukou_Host_Club', 'title': 'Ouran Koukou Host Club'}]}                                                                                                                                                                                                                                                                                                                                                                                                                                                                                                                                                                                                                                                                                                                                               </td><td>VAP, Hakusensha, Nippon Television Network                                                  </td><td>Funimation                              </td><td>Bones                        </td><td>Comedy, Harem, Romance, School, Shoujo               </td><td>['\"Sakura Kiss\" by Chieko Kawabe']                                                                                                                                                                                                                                        </td><td>['\"Shissou\" by Last Alliance']                                                                                                                                                                                                                                                                                                                                                                                                                                                                                                                                                                      </td></tr>\n",
       "</tbody>\n",
       "</table>"
      ]
     },
     "metadata": {},
     "output_type": "display_data"
    },
    {
     "data": {
      "text/plain": []
     },
     "execution_count": 51,
     "metadata": {},
     "output_type": "execute_result"
    }
   ],
   "source": [
    "df.head()\n",
    "\n"
   ]
  },
  {
   "cell_type": "markdown",
   "metadata": {},
   "source": [
    "__Data Cleaning__\n",
    "\n",
    "The model gives better results if the data is clean with no Nan values."
   ]
  },
  {
   "cell_type": "markdown",
   "metadata": {},
   "source": [
    "Checking for null values"
   ]
  },
  {
   "cell_type": "code",
   "execution_count": 52,
   "metadata": {},
   "outputs": [
    {
     "data": {
      "text/html": [
       "<table>\n",
       "<thead>\n",
       "<tr><th style=\"text-align: right;\">  isNA(anime_id)</th><th style=\"text-align: right;\">  isNA(title)</th><th style=\"text-align: right;\">  isNA(title_english)</th><th style=\"text-align: right;\">  isNA(title_japanese)</th><th style=\"text-align: right;\">  isNA(title_synonyms)</th><th style=\"text-align: right;\">  isNA(image_url)</th><th style=\"text-align: right;\">  isNA(type)</th><th style=\"text-align: right;\">  isNA(source)</th><th style=\"text-align: right;\">  isNA(episodes)</th><th style=\"text-align: right;\">  isNA(status)</th><th style=\"text-align: right;\">  isNA(airing)</th><th style=\"text-align: right;\">  isNA(aired_string)</th><th style=\"text-align: right;\">  isNA(aired)</th><th style=\"text-align: right;\">  isNA(duration)</th><th style=\"text-align: right;\">  isNA(rating)</th><th style=\"text-align: right;\">  isNA(score)</th><th style=\"text-align: right;\">  isNA(scored_by)</th><th style=\"text-align: right;\">  isNA(rank)</th><th style=\"text-align: right;\">  isNA(popularity)</th><th style=\"text-align: right;\">  isNA(members)</th><th style=\"text-align: right;\">  isNA(favorites)</th><th style=\"text-align: right;\">  isNA(background)</th><th style=\"text-align: right;\">  isNA(premiered)</th><th style=\"text-align: right;\">  isNA(broadcast)</th><th style=\"text-align: right;\">  isNA(related)</th><th style=\"text-align: right;\">  isNA(producer)</th><th style=\"text-align: right;\">  isNA(licensor)</th><th style=\"text-align: right;\">  isNA(studio)</th><th style=\"text-align: right;\">  isNA(genre)</th><th style=\"text-align: right;\">  isNA(opening_theme)</th><th style=\"text-align: right;\">  isNA(ending_theme)</th></tr>\n",
       "</thead>\n",
       "<tbody>\n",
       "<tr><td style=\"text-align: right;\">               0</td><td style=\"text-align: right;\">            0</td><td style=\"text-align: right;\">                    0</td><td style=\"text-align: right;\">                     0</td><td style=\"text-align: right;\">                     0</td><td style=\"text-align: right;\">                0</td><td style=\"text-align: right;\">           0</td><td style=\"text-align: right;\">             0</td><td style=\"text-align: right;\">               0</td><td style=\"text-align: right;\">             0</td><td style=\"text-align: right;\">             0</td><td style=\"text-align: right;\">                   0</td><td style=\"text-align: right;\">            0</td><td style=\"text-align: right;\">               0</td><td style=\"text-align: right;\">             0</td><td style=\"text-align: right;\">            0</td><td style=\"text-align: right;\">                0</td><td style=\"text-align: right;\">           0</td><td style=\"text-align: right;\">                 0</td><td style=\"text-align: right;\">              0</td><td style=\"text-align: right;\">                0</td><td style=\"text-align: right;\">                 0</td><td style=\"text-align: right;\">                0</td><td style=\"text-align: right;\">                0</td><td style=\"text-align: right;\">              0</td><td style=\"text-align: right;\">               0</td><td style=\"text-align: right;\">               0</td><td style=\"text-align: right;\">             0</td><td style=\"text-align: right;\">            0</td><td style=\"text-align: right;\">                    0</td><td style=\"text-align: right;\">                   0</td></tr>\n",
       "<tr><td style=\"text-align: right;\">               0</td><td style=\"text-align: right;\">            0</td><td style=\"text-align: right;\">                    0</td><td style=\"text-align: right;\">                     0</td><td style=\"text-align: right;\">                     0</td><td style=\"text-align: right;\">                0</td><td style=\"text-align: right;\">           0</td><td style=\"text-align: right;\">             0</td><td style=\"text-align: right;\">               0</td><td style=\"text-align: right;\">             0</td><td style=\"text-align: right;\">             0</td><td style=\"text-align: right;\">                   0</td><td style=\"text-align: right;\">            0</td><td style=\"text-align: right;\">               0</td><td style=\"text-align: right;\">             0</td><td style=\"text-align: right;\">            0</td><td style=\"text-align: right;\">                0</td><td style=\"text-align: right;\">           0</td><td style=\"text-align: right;\">                 0</td><td style=\"text-align: right;\">              0</td><td style=\"text-align: right;\">                0</td><td style=\"text-align: right;\">                 1</td><td style=\"text-align: right;\">                0</td><td style=\"text-align: right;\">                0</td><td style=\"text-align: right;\">              0</td><td style=\"text-align: right;\">               0</td><td style=\"text-align: right;\">               0</td><td style=\"text-align: right;\">             0</td><td style=\"text-align: right;\">            0</td><td style=\"text-align: right;\">                    0</td><td style=\"text-align: right;\">                   0</td></tr>\n",
       "<tr><td style=\"text-align: right;\">               0</td><td style=\"text-align: right;\">            0</td><td style=\"text-align: right;\">                    0</td><td style=\"text-align: right;\">                     0</td><td style=\"text-align: right;\">                     0</td><td style=\"text-align: right;\">                0</td><td style=\"text-align: right;\">           0</td><td style=\"text-align: right;\">             0</td><td style=\"text-align: right;\">               0</td><td style=\"text-align: right;\">             0</td><td style=\"text-align: right;\">             0</td><td style=\"text-align: right;\">                   0</td><td style=\"text-align: right;\">            0</td><td style=\"text-align: right;\">               0</td><td style=\"text-align: right;\">             0</td><td style=\"text-align: right;\">            0</td><td style=\"text-align: right;\">                0</td><td style=\"text-align: right;\">           0</td><td style=\"text-align: right;\">                 0</td><td style=\"text-align: right;\">              0</td><td style=\"text-align: right;\">                0</td><td style=\"text-align: right;\">                 1</td><td style=\"text-align: right;\">                0</td><td style=\"text-align: right;\">                0</td><td style=\"text-align: right;\">              0</td><td style=\"text-align: right;\">               0</td><td style=\"text-align: right;\">               1</td><td style=\"text-align: right;\">             0</td><td style=\"text-align: right;\">            0</td><td style=\"text-align: right;\">                    0</td><td style=\"text-align: right;\">                   0</td></tr>\n",
       "<tr><td style=\"text-align: right;\">               0</td><td style=\"text-align: right;\">            0</td><td style=\"text-align: right;\">                    0</td><td style=\"text-align: right;\">                     0</td><td style=\"text-align: right;\">                     1</td><td style=\"text-align: right;\">                0</td><td style=\"text-align: right;\">           0</td><td style=\"text-align: right;\">             0</td><td style=\"text-align: right;\">               0</td><td style=\"text-align: right;\">             0</td><td style=\"text-align: right;\">             0</td><td style=\"text-align: right;\">                   0</td><td style=\"text-align: right;\">            0</td><td style=\"text-align: right;\">               0</td><td style=\"text-align: right;\">             0</td><td style=\"text-align: right;\">            0</td><td style=\"text-align: right;\">                0</td><td style=\"text-align: right;\">           0</td><td style=\"text-align: right;\">                 0</td><td style=\"text-align: right;\">              0</td><td style=\"text-align: right;\">                0</td><td style=\"text-align: right;\">                 0</td><td style=\"text-align: right;\">                0</td><td style=\"text-align: right;\">                0</td><td style=\"text-align: right;\">              0</td><td style=\"text-align: right;\">               0</td><td style=\"text-align: right;\">               0</td><td style=\"text-align: right;\">             0</td><td style=\"text-align: right;\">            0</td><td style=\"text-align: right;\">                    0</td><td style=\"text-align: right;\">                   0</td></tr>\n",
       "<tr><td style=\"text-align: right;\">               0</td><td style=\"text-align: right;\">            0</td><td style=\"text-align: right;\">                    0</td><td style=\"text-align: right;\">                     0</td><td style=\"text-align: right;\">                     0</td><td style=\"text-align: right;\">                0</td><td style=\"text-align: right;\">           0</td><td style=\"text-align: right;\">             0</td><td style=\"text-align: right;\">               0</td><td style=\"text-align: right;\">             0</td><td style=\"text-align: right;\">             0</td><td style=\"text-align: right;\">                   0</td><td style=\"text-align: right;\">            0</td><td style=\"text-align: right;\">               0</td><td style=\"text-align: right;\">             0</td><td style=\"text-align: right;\">            0</td><td style=\"text-align: right;\">                0</td><td style=\"text-align: right;\">           0</td><td style=\"text-align: right;\">                 0</td><td style=\"text-align: right;\">              0</td><td style=\"text-align: right;\">                0</td><td style=\"text-align: right;\">                 1</td><td style=\"text-align: right;\">                0</td><td style=\"text-align: right;\">                0</td><td style=\"text-align: right;\">              0</td><td style=\"text-align: right;\">               0</td><td style=\"text-align: right;\">               1</td><td style=\"text-align: right;\">             0</td><td style=\"text-align: right;\">            0</td><td style=\"text-align: right;\">                    0</td><td style=\"text-align: right;\">                   0</td></tr>\n",
       "<tr><td style=\"text-align: right;\">               0</td><td style=\"text-align: right;\">            0</td><td style=\"text-align: right;\">                    1</td><td style=\"text-align: right;\">                     0</td><td style=\"text-align: right;\">                     0</td><td style=\"text-align: right;\">                0</td><td style=\"text-align: right;\">           0</td><td style=\"text-align: right;\">             0</td><td style=\"text-align: right;\">               0</td><td style=\"text-align: right;\">             0</td><td style=\"text-align: right;\">             0</td><td style=\"text-align: right;\">                   0</td><td style=\"text-align: right;\">            0</td><td style=\"text-align: right;\">               0</td><td style=\"text-align: right;\">             0</td><td style=\"text-align: right;\">            0</td><td style=\"text-align: right;\">                0</td><td style=\"text-align: right;\">           0</td><td style=\"text-align: right;\">                 0</td><td style=\"text-align: right;\">              0</td><td style=\"text-align: right;\">                0</td><td style=\"text-align: right;\">                 1</td><td style=\"text-align: right;\">                0</td><td style=\"text-align: right;\">                0</td><td style=\"text-align: right;\">              0</td><td style=\"text-align: right;\">               0</td><td style=\"text-align: right;\">               1</td><td style=\"text-align: right;\">             0</td><td style=\"text-align: right;\">            0</td><td style=\"text-align: right;\">                    0</td><td style=\"text-align: right;\">                   0</td></tr>\n",
       "<tr><td style=\"text-align: right;\">               0</td><td style=\"text-align: right;\">            0</td><td style=\"text-align: right;\">                    0</td><td style=\"text-align: right;\">                     0</td><td style=\"text-align: right;\">                     1</td><td style=\"text-align: right;\">                0</td><td style=\"text-align: right;\">           0</td><td style=\"text-align: right;\">             0</td><td style=\"text-align: right;\">               0</td><td style=\"text-align: right;\">             0</td><td style=\"text-align: right;\">             0</td><td style=\"text-align: right;\">                   0</td><td style=\"text-align: right;\">            0</td><td style=\"text-align: right;\">               0</td><td style=\"text-align: right;\">             0</td><td style=\"text-align: right;\">            0</td><td style=\"text-align: right;\">                0</td><td style=\"text-align: right;\">           0</td><td style=\"text-align: right;\">                 0</td><td style=\"text-align: right;\">              0</td><td style=\"text-align: right;\">                0</td><td style=\"text-align: right;\">                 1</td><td style=\"text-align: right;\">                0</td><td style=\"text-align: right;\">                0</td><td style=\"text-align: right;\">              0</td><td style=\"text-align: right;\">               0</td><td style=\"text-align: right;\">               0</td><td style=\"text-align: right;\">             0</td><td style=\"text-align: right;\">            0</td><td style=\"text-align: right;\">                    0</td><td style=\"text-align: right;\">                   0</td></tr>\n",
       "<tr><td style=\"text-align: right;\">               0</td><td style=\"text-align: right;\">            0</td><td style=\"text-align: right;\">                    0</td><td style=\"text-align: right;\">                     0</td><td style=\"text-align: right;\">                     0</td><td style=\"text-align: right;\">                0</td><td style=\"text-align: right;\">           0</td><td style=\"text-align: right;\">             0</td><td style=\"text-align: right;\">               0</td><td style=\"text-align: right;\">             0</td><td style=\"text-align: right;\">             0</td><td style=\"text-align: right;\">                   0</td><td style=\"text-align: right;\">            0</td><td style=\"text-align: right;\">               0</td><td style=\"text-align: right;\">             0</td><td style=\"text-align: right;\">            0</td><td style=\"text-align: right;\">                0</td><td style=\"text-align: right;\">           0</td><td style=\"text-align: right;\">                 0</td><td style=\"text-align: right;\">              0</td><td style=\"text-align: right;\">                0</td><td style=\"text-align: right;\">                 1</td><td style=\"text-align: right;\">                0</td><td style=\"text-align: right;\">                0</td><td style=\"text-align: right;\">              0</td><td style=\"text-align: right;\">               0</td><td style=\"text-align: right;\">               0</td><td style=\"text-align: right;\">             0</td><td style=\"text-align: right;\">            0</td><td style=\"text-align: right;\">                    0</td><td style=\"text-align: right;\">                   0</td></tr>\n",
       "<tr><td style=\"text-align: right;\">               0</td><td style=\"text-align: right;\">            0</td><td style=\"text-align: right;\">                    1</td><td style=\"text-align: right;\">                     0</td><td style=\"text-align: right;\">                     0</td><td style=\"text-align: right;\">                0</td><td style=\"text-align: right;\">           0</td><td style=\"text-align: right;\">             0</td><td style=\"text-align: right;\">               0</td><td style=\"text-align: right;\">             0</td><td style=\"text-align: right;\">             0</td><td style=\"text-align: right;\">                   0</td><td style=\"text-align: right;\">            0</td><td style=\"text-align: right;\">               0</td><td style=\"text-align: right;\">             0</td><td style=\"text-align: right;\">            0</td><td style=\"text-align: right;\">                0</td><td style=\"text-align: right;\">           0</td><td style=\"text-align: right;\">                 0</td><td style=\"text-align: right;\">              0</td><td style=\"text-align: right;\">                0</td><td style=\"text-align: right;\">                 1</td><td style=\"text-align: right;\">                0</td><td style=\"text-align: right;\">                0</td><td style=\"text-align: right;\">              0</td><td style=\"text-align: right;\">               0</td><td style=\"text-align: right;\">               1</td><td style=\"text-align: right;\">             0</td><td style=\"text-align: right;\">            0</td><td style=\"text-align: right;\">                    0</td><td style=\"text-align: right;\">                   0</td></tr>\n",
       "<tr><td style=\"text-align: right;\">               0</td><td style=\"text-align: right;\">            0</td><td style=\"text-align: right;\">                    0</td><td style=\"text-align: right;\">                     0</td><td style=\"text-align: right;\">                     0</td><td style=\"text-align: right;\">                0</td><td style=\"text-align: right;\">           0</td><td style=\"text-align: right;\">             0</td><td style=\"text-align: right;\">               0</td><td style=\"text-align: right;\">             0</td><td style=\"text-align: right;\">             0</td><td style=\"text-align: right;\">                   0</td><td style=\"text-align: right;\">            0</td><td style=\"text-align: right;\">               0</td><td style=\"text-align: right;\">             0</td><td style=\"text-align: right;\">            0</td><td style=\"text-align: right;\">                0</td><td style=\"text-align: right;\">           0</td><td style=\"text-align: right;\">                 0</td><td style=\"text-align: right;\">              0</td><td style=\"text-align: right;\">                0</td><td style=\"text-align: right;\">                 1</td><td style=\"text-align: right;\">                0</td><td style=\"text-align: right;\">                0</td><td style=\"text-align: right;\">              0</td><td style=\"text-align: right;\">               0</td><td style=\"text-align: right;\">               0</td><td style=\"text-align: right;\">             0</td><td style=\"text-align: right;\">            0</td><td style=\"text-align: right;\">                    0</td><td style=\"text-align: right;\">                   0</td></tr>\n",
       "</tbody>\n",
       "</table>"
      ]
     },
     "metadata": {},
     "output_type": "display_data"
    },
    {
     "data": {
      "text/plain": []
     },
     "execution_count": 52,
     "metadata": {},
     "output_type": "execute_result"
    }
   ],
   "source": [
    "df.isna()"
   ]
  },
  {
   "cell_type": "markdown",
   "metadata": {},
   "source": [
    "__Finding number of missing values__"
   ]
  },
  {
   "cell_type": "code",
   "execution_count": 53,
   "metadata": {},
   "outputs": [],
   "source": [
    "# episodes = df['episodes'].isna().sum()\n",
    "# score = df['score'].isna().sum()\n",
    "# rank = df['rank'].isna().sum()\n",
    "# popularity = df['popularity'].isna().sum()\n",
    "# memebers = df['members'].isna().sum()\n",
    "# favorites = df['favorites'].isna().sum()\n",
    "\n",
    "# print(\"Number of missing values in each numeric column:\")\n",
    "# print(\"Episodes : \"+str(episodes))\n",
    "# print(\"Score : \"+str(score))\n",
    "# print(\"Rank  : \"+str(rank))\n",
    "# print(\"Popularity :\"+str(popularity))\n",
    "# print(\"Members :\"+str(memebers))\n",
    "# print(\"Favorites :\"+str(favorites))\n",
    "\n",
    "      \n",
    "\n",
    "      "
   ]
  },
  {
   "cell_type": "markdown",
   "metadata": {},
   "source": [
    "__Fill the missing values with mean value__"
   ]
  },
  {
   "cell_type": "code",
   "execution_count": 54,
   "metadata": {},
   "outputs": [],
   "source": [
    "# df['rank'] = df['rank'].fillna(method = \"mean\",axis=1)"
   ]
  },
  {
   "cell_type": "code",
   "execution_count": 55,
   "metadata": {},
   "outputs": [],
   "source": [
    "all_variables=None\n",
    "test_path=None\n",
    "nthreads=1 \n",
    "regression=True   \n",
    "model_path=None\n",
    "balance_y=False \n",
    "balance_threshold=0.2\n",
    "name=None \n",
    "server_path=None  \n",
    "run_time=100;\n",
    "min_mem_size = 5;\n",
    "data_path=\"anime_filtered.csv\""
   ]
  },
  {
   "cell_type": "code",
   "execution_count": 56,
   "metadata": {},
   "outputs": [],
   "source": [
    "target = 'score'\n",
    "run_id='SOME_ID_20180617_221529' # Just some arbitrary ID\n",
    "project =\"automl_test\""
   ]
  },
  {
   "cell_type": "code",
   "execution_count": 57,
   "metadata": {},
   "outputs": [],
   "source": [
    "# Functions\n",
    "\n",
    "def alphabet(n):\n",
    "  alpha='0123456789abcdefghijklmnopqrstuvwxyzABCDEFGHIJKLMNOPQRSTUVWXYZ'    \n",
    "  str=''\n",
    "  r=len(alpha)-1   \n",
    "  while len(str)<n:\n",
    "    i=random.randint(0,r)\n",
    "    str+=alpha[i]   \n",
    "  return str\n",
    "  \n",
    "  \n",
    "def set_meta_data(run_id,data,target,run_time,regression,name,path,min_mem_size):\n",
    "  m_data={}\n",
    "  m_data['start_time'] = time.time()\n",
    "  m_data['target']=target\n",
    "  m_data['data_path']=data \n",
    "  m_data['run_time']=run_time\n",
    "  m_data['run_id'] =run_id\n",
    "  m_data['regression']=regression\n",
    "  m_data['scale']=False\n",
    "  m_data['project'] =name\n",
    "  m_data['end_time'] = time.time()\n",
    "  m_data['execution_time'] = 0.0\n",
    "  m_data['run_path'] =path\n",
    "  m_data['min_mem_size'] = min_mem_size\n",
    "  return m_data\n",
    "\n",
    "\n",
    "def dict_to_json(dct,n):\n",
    "  j = json.dumps(dct, indent=4)\n",
    "  f = open(n, 'w')\n",
    "  print(j, file=f)\n",
    "  f.close()\n",
    "  \n",
    "  \n",
    "def stackedensemble(mod):\n",
    "    coef_norm=None\n",
    "    try:\n",
    "      metalearner = h2o.get_model(mod.metalearner()['name'])\n",
    "      coef_norm=metalearner.coef_norm()\n",
    "    except:\n",
    "      pass        \n",
    "    return coef_norm\n",
    "\n",
    "def stackedensemble_df(df):\n",
    "    bm_algo={ 'GBM': None,'GLM': None,'DRF': None,'XRT': None,'Dee': None}\n",
    "    for index, row in df.iterrows():\n",
    "      if len(row['model_id'])>3:\n",
    "        key=row['model_id'][0:3]\n",
    "        if key in bm_algo:\n",
    "          if bm_algo[key] is None:\n",
    "                bm_algo[key]=row['model_id']\n",
    "    bm=list(bm_algo.values()) \n",
    "    bm=list(filter(None.__ne__, bm))             \n",
    "    return bm\n",
    "\n",
    "def se_stats(modl):\n",
    "    d={}\n",
    "    d['algo']=modl.algo\n",
    "    d['model_id']=modl.model_id   \n",
    "    d['auc']=modl.auc()   \n",
    "    d['roc']=modl.roc()\n",
    "    d['mse']=modl.mse()   \n",
    "    d['null_degrees_of_freedom']=modl.null_degrees_of_freedom()\n",
    "    d['null_deviance']=modl.null_deviance()\n",
    "    d['residual_degrees_of_freedom']=modl.residual_degrees_of_freedom()   \n",
    "    d['residual_deviance']=modl.residual_deviance()\n",
    "    d['rmse']=modl.rmse()\n",
    "    return d\n",
    "\n",
    "def get_model_by_algo(algo,models_dict):\n",
    "    mod=None\n",
    "    mod_id=None    \n",
    "    for m in list(models_dict.keys()):\n",
    "        if m[0:3]==algo:\n",
    "            mod_id=m\n",
    "            mod=h2o.get_model(m)      \n",
    "    return mod,mod_id     \n",
    "    \n",
    "    \n",
    "def gbm_stats(modl):\n",
    "    d={}\n",
    "    d['algo']=modl.algo\n",
    "    d['model_id']=modl.model_id   \n",
    "    d['varimp']=modl.varimp()  \n",
    "    return d\n",
    "    \n",
    "    \n",
    "def dl_stats(modl):\n",
    "    d={}\n",
    "    d['algo']=modl.algo\n",
    "    d['model_id']=modl.model_id   \n",
    "    d['varimp']=modl.varimp()  \n",
    "    return d\n",
    "    \n",
    "    \n",
    "def drf_stats(modl):\n",
    "    d={}\n",
    "    d['algo']=modl.algo\n",
    "    d['model_id']=modl.model_id   \n",
    "    d['varimp']=modl.varimp()  \n",
    "    d['roc']=modl.roc()      \n",
    "    return d\n",
    "    \n",
    "def xrt_stats(modl):\n",
    "    d={}\n",
    "    d['algo']=modl.algo\n",
    "    d['model_id']=modl.model_id   \n",
    "    d['varimp']=modl.varimp()  \n",
    "    d['roc']=modl.roc()      \n",
    "    return d\n",
    "    \n",
    "    \n",
    "def glm_stats(modl):\n",
    "    d={}\n",
    "    d['algo']=modl.algo\n",
    "    d['model_id']=modl.model_id   \n",
    "    d['coef']=modl.coef()  \n",
    "    d['coef_norm']=modl.coef_norm()      \n",
    "    return d\n",
    "    \n",
    "def model_performance_stats(perf):\n",
    "    d={}\n",
    "    try:    \n",
    "      d['mse']=perf.mse()\n",
    "    except:\n",
    "      pass      \n",
    "    try:    \n",
    "      d['rmse']=perf.rmse() \n",
    "    except:\n",
    "      pass      \n",
    "    try:    \n",
    "      d['null_degrees_of_freedom']=perf.null_degrees_of_freedom()\n",
    "    except:\n",
    "      pass      \n",
    "    try:    \n",
    "      d['residual_degrees_of_freedom']=perf.residual_degrees_of_freedom()\n",
    "    except:\n",
    "      pass      \n",
    "    try:    \n",
    "      d['residual_deviance']=perf.residual_deviance() \n",
    "    except:\n",
    "      pass      \n",
    "    try:    \n",
    "      d['null_deviance']=perf.null_deviance() \n",
    "    except:\n",
    "      pass      \n",
    "    try:    \n",
    "      d['aic']=perf.aic() \n",
    "    except:\n",
    "      pass      \n",
    "    try:\n",
    "      d['logloss']=perf.logloss() \n",
    "    except:\n",
    "      pass    \n",
    "    try:\n",
    "      d['auc']=perf.auc()\n",
    "    except:\n",
    "      pass  \n",
    "    try:\n",
    "      d['gini']=perf.gini()\n",
    "    except:\n",
    "      pass    \n",
    "    return d\n",
    "    \n",
    "def impute_missing_values(df, x, scal=False):\n",
    "    # determine column types\n",
    "    ints, reals, enums = [], [], []\n",
    "    for key, val in df.types.items():\n",
    "        if key in x:\n",
    "            if val == 'enum':\n",
    "                enums.append(key)\n",
    "            elif val == 'int':\n",
    "                ints.append(key)            \n",
    "            else: \n",
    "                reals.append(key)    \n",
    "    _ = df[reals].impute(method='mean')\n",
    "    _ = df[ints].impute(method='median')\n",
    "    if scal:\n",
    "        df[reals] = df[reals].scale()\n",
    "        df[ints] = df[ints].scale()    \n",
    "    return\n",
    "\n",
    "\n",
    "def get_independent_variables(df, targ):\n",
    "    C = [name for name in df.columns if name != targ]\n",
    "    # determine column types\n",
    "    ints, reals, enums = [], [], []\n",
    "    for key, val in df.types.items():\n",
    "        if key in C:\n",
    "            if val == 'enum':\n",
    "                enums.append(key)\n",
    "            elif val == 'int':\n",
    "                ints.append(key)            \n",
    "            else: \n",
    "                reals.append(key)    \n",
    "    x=ints+enums+reals\n",
    "    return x\n",
    "    \n",
    "def get_all_variables_csv(i):\n",
    "    ivd={}\n",
    "    try:\n",
    "      iv = pd.read_csv(i,header=None)\n",
    "    except:\n",
    "      sys.exit(1)    \n",
    "    col=iv.values.tolist()[0]\n",
    "    dt=iv.values.tolist()[1]\n",
    "    i=0\n",
    "    for c in col:\n",
    "      ivd[c.strip()]=dt[i].strip()\n",
    "      i+=1        \n",
    "    return ivd\n",
    "    \n",
    "    \n",
    "\n",
    "def check_all_variables(df,dct,y=None):     \n",
    "    targ=list(dct.keys())     \n",
    "    for key, val in df.types.items():\n",
    "        if key in targ:\n",
    "          if dct[key] not in ['real','int','enum']:                      \n",
    "            targ.remove(key)  \n",
    "    for key, val in df.types.items():\n",
    "        if key in targ:            \n",
    "          if dct[key] != val:\n",
    "            print('convert ',key,' ',dct[key],' ',val)\n",
    "            if dct[key]=='enum':\n",
    "                try:\n",
    "                  df[key] = df[key].asfactor() \n",
    "                except:\n",
    "                  targ.remove(key)                 \n",
    "            if dct[key]=='int': \n",
    "                try:                \n",
    "                  df[key] = df[key].asnumeric() \n",
    "                except:\n",
    "                  targ.remove(key)                  \n",
    "            if dct[key]=='real':\n",
    "                try:                \n",
    "                  df[key] = df[key].asnumeric()  \n",
    "                except:\n",
    "                  targ.remove(key)                  \n",
    "    if y is None:\n",
    "      y=df.columns[-1] \n",
    "    if y in targ:\n",
    "      targ.remove(y)\n",
    "    else:\n",
    "      y=targ.pop()            \n",
    "    return targ    \n",
    "    \n",
    "def predictions(mod,data,run_id):\n",
    "    test = h2o.import_file(data)\n",
    "    mod_perf=mod_best.model_performance(test)\n",
    "              \n",
    "    stats_test={}\n",
    "    stats_test=model_performance_stats(mod_perf)\n",
    "\n",
    "    n=run_id+'_test_stats.json'\n",
    "    dict_to_json(stats_test,n) \n",
    "\n",
    "    try:    \n",
    "      cf=mod_perf.confusion_matrix(metrics=[\"f1\",\"f2\",\"f0point5\",\"accuracy\",\"precision\",\"recall\",\"specificity\",\"absolute_mcc\",\"min_per_class_accuracy\",\"mean_per_class_accuracy\"])\n",
    "      cf_df=cf[0].table.as_data_frame()\n",
    "      cf_df.to_csv(run_id+'_test_confusion_matrix.csv')\n",
    "    except:\n",
    "      pass\n",
    "\n",
    "    predictions = mod_best.predict(test)\n",
    "    predictions_df=test.cbind(predictions).as_data_frame() \n",
    "    predictions_df.to_csv(run_id+'_predictions.csv')\n",
    "    return\n",
    "\n",
    "def predictions_test(mod,test,run_id):\n",
    "    mod_perf=mod_best.model_performance(test)          \n",
    "    stats_test={}\n",
    "    stats_test=model_performance_stats(mod_perf)\n",
    "    n=run_id+'_test_stats.json'\n",
    "    dict_to_json(stats_test,n) \n",
    "    try:\n",
    "      cf=mod_perf.confusion_matrix()\n",
    "#      cf=mod_perf.confusion_matrix(metrics=[\"f1\",\"f2\",\"f0point5\",\"accuracy\",\"precision\",\"recall\",\"specificity\",\"absolute_mcc\",\"min_per_class_accuracy\",\"mean_per_class_accuracy\"])\n",
    "      cf_df=cf.table.as_data_frame()\n",
    "      cf_df.to_csv(run_id+'_test_confusion_matrix.csv')\n",
    "    except:\n",
    "      pass\n",
    "    predictions = mod_best.predict(test)    \n",
    "    predictions_df=test.cbind(predictions).as_data_frame() \n",
    "    predictions_df.to_csv(run_id+'_predictions.csv')\n",
    "    return predictions\n",
    "\n",
    "def check_X(x,df):\n",
    "    for name in x:\n",
    "        if name not in df.columns:\n",
    "          x.remove(name)  \n",
    "    return x    \n",
    "    \n",
    "    \n",
    "def get_stacked_ensemble(lst):\n",
    "    se=None\n",
    "    for model in model_set:\n",
    "      if 'BestOfFamily' in model:\n",
    "        se=model\n",
    "    if se is None:     \n",
    "      for model in model_set:\n",
    "        if 'AllModels'in model:\n",
    "          se=model           \n",
    "    return se       \n",
    "    \n",
    "def get_variables_types(df):\n",
    "    d={}\n",
    "    for key, val in df.types.items():\n",
    "        d[key]=val           \n",
    "    return d    \n",
    "    \n",
    "#  End Functions"
   ]
  },
  {
   "cell_type": "markdown",
   "metadata": {},
   "source": [
    "X is initialized with all the variables except target and y is initialized with target "
   ]
  },
  {
   "cell_type": "code",
   "execution_count": 58,
   "metadata": {},
   "outputs": [
    {
     "name": "stdout",
     "output_type": "stream",
     "text": [
      "score\n",
      "['anime_id', 'title', 'title_english', 'title_japanese', 'title_synonyms', 'image_url', 'type', 'source', 'episodes', 'status', 'airing', 'aired_string', 'aired', 'duration', 'rating', 'scored_by', 'rank', 'popularity', 'members', 'favorites', 'background', 'premiered', 'broadcast', 'related', 'producer', 'licensor', 'studio', 'genre', 'opening_theme', 'ending_theme']\n"
     ]
    }
   ],
   "source": [
    "\n",
    "y = target\n",
    "X = [name for name in df.columns if name != y]\n",
    "print(y)\n",
    "print(X)"
   ]
  },
  {
   "cell_type": "markdown",
   "metadata": {},
   "source": [
    "A function called automl is declared so that they dont have to be declared for every runtime "
   ]
  },
  {
   "cell_type": "code",
   "execution_count": 59,
   "metadata": {},
   "outputs": [],
   "source": [
    "def automl(maxruntime,X,Y,df):\n",
    "    aml = H2OAutoML(max_runtime_secs=maxruntime,exclude_algos = ['DeepLearning'])\n",
    "    aml.train(x=X,y=y,training_frame=df)\n",
    "    return aml"
   ]
  },
  {
   "cell_type": "markdown",
   "metadata": {},
   "source": [
    "dict_to_json is defined to generate json files with hyperparameters of every model generated for each runtime."
   ]
  },
  {
   "cell_type": "code",
   "execution_count": 60,
   "metadata": {},
   "outputs": [],
   "source": [
    "def dict_to_json(dct,n):  \n",
    "    j = json.dumps(dct, indent=4)\n",
    "    f = open(n, 'w')\n",
    "    print(j, file=f)\n",
    "    f.close()"
   ]
  },
  {
   "cell_type": "markdown",
   "metadata": {},
   "source": [
    "## Run Time = 333 seconds"
   ]
  },
  {
   "cell_type": "code",
   "execution_count": 61,
   "metadata": {},
   "outputs": [],
   "source": [
    "os.chdir(\"/Users/vaish\")\n",
    "run_id='333_RUNTIME'    \n",
    "#os.chdir(server_path) \n",
    "server_path=None;\n",
    "\n",
    "os.mkdir(run_id)\n",
    "os.chdir(run_id)    \n",
    "\n",
    "\n",
    "name = 'Anime'+run_id\n",
    "server_path"
   ]
  },
  {
   "cell_type": "code",
   "execution_count": 62,
   "metadata": {},
   "outputs": [],
   "source": [
    "if server_path==None:\n",
    "    server_path=os.path.abspath(\"/Users/vaish\")\n",
    "run_dir = os.path.join(server_path,run_id)"
   ]
  },
  {
   "cell_type": "code",
   "execution_count": 63,
   "metadata": {},
   "outputs": [
    {
     "name": "stdout",
     "output_type": "stream",
     "text": [
      "{'start_time': 1555608324.1827571, 'target': 'score', 'data_path': 'anime_filtered.csv', 'run_time': 100, 'run_id': '333_RUNTIME', 'regression': True, 'scale': False, 'project': 'Anime333_RUNTIME', 'end_time': 1555608324.1827579, 'execution_time': 0.0, 'run_path': '/Users/vaish/333_RUNTIME', 'min_mem_size': 5}\n"
     ]
    }
   ],
   "source": [
    "meta_data = set_meta_data(run_id,data_path,target,run_time,regression,name,run_dir,min_mem_size)\n",
    "print(meta_data)"
   ]
  },
  {
   "cell_type": "code",
   "execution_count": 64,
   "metadata": {},
   "outputs": [],
   "source": [
    "meta_data['X']=X  \n",
    "model_start_time = time.time()"
   ]
  },
  {
   "cell_type": "code",
   "execution_count": 65,
   "metadata": {},
   "outputs": [
    {
     "name": "stdout",
     "output_type": "stream",
     "text": [
      "AutoML progress: |████████████████████████████████████████████████████████| 100%\n"
     ]
    }
   ],
   "source": [
    "aml = automl(333,X,y,df)"
   ]
  },
  {
   "cell_type": "code",
   "execution_count": 66,
   "metadata": {},
   "outputs": [],
   "source": [
    "meta_data['run_time'] = 333\n",
    "meta_data['end_time'] = time.time()\n",
    "meta_data['execution_time'] = meta_data['end_time'] - meta_data['start_time']\n",
    "  "
   ]
  },
  {
   "cell_type": "code",
   "execution_count": 67,
   "metadata": {},
   "outputs": [
    {
     "data": {
      "text/html": [
       "<table>\n",
       "<thead>\n",
       "<tr><th>model_id                                           </th><th style=\"text-align: right;\">  mean_residual_deviance</th><th style=\"text-align: right;\">    rmse</th><th style=\"text-align: right;\">     mse</th><th style=\"text-align: right;\">     mae</th><th style=\"text-align: right;\">    rmsle</th></tr>\n",
       "</thead>\n",
       "<tbody>\n",
       "<tr><td>StackedEnsemble_AllModels_AutoML_20190418_132524   </td><td style=\"text-align: right;\">                0.216875</td><td style=\"text-align: right;\">0.465698</td><td style=\"text-align: right;\">0.216875</td><td style=\"text-align: right;\">0.217555</td><td style=\"text-align: right;\">0.0878519</td></tr>\n",
       "<tr><td>StackedEnsemble_BestOfFamily_AutoML_20190418_132524</td><td style=\"text-align: right;\">                0.216875</td><td style=\"text-align: right;\">0.465698</td><td style=\"text-align: right;\">0.216875</td><td style=\"text-align: right;\">0.217555</td><td style=\"text-align: right;\">0.0878519</td></tr>\n",
       "<tr><td>XGBoost_1_AutoML_20190418_132524                   </td><td style=\"text-align: right;\">                0.219609</td><td style=\"text-align: right;\">0.468625</td><td style=\"text-align: right;\">0.219609</td><td style=\"text-align: right;\">0.219726</td><td style=\"text-align: right;\">0.0845298</td></tr>\n",
       "<tr><td>DRF_1_AutoML_20190418_132524                       </td><td style=\"text-align: right;\">                0.255272</td><td style=\"text-align: right;\">0.505244</td><td style=\"text-align: right;\">0.255272</td><td style=\"text-align: right;\">0.232563</td><td style=\"text-align: right;\">0.10153  </td></tr>\n",
       "<tr><td>GLM_grid_1_AutoML_20190418_132524_model_1          </td><td style=\"text-align: right;\">                0.689229</td><td style=\"text-align: right;\">0.830198</td><td style=\"text-align: right;\">0.689229</td><td style=\"text-align: right;\">0.537088</td><td style=\"text-align: right;\">0.234518 </td></tr>\n",
       "<tr><td>XRT_1_AutoML_20190418_132524                       </td><td style=\"text-align: right;\">                3.43902 </td><td style=\"text-align: right;\">1.85446 </td><td style=\"text-align: right;\">3.43902 </td><td style=\"text-align: right;\">1.7169  </td><td style=\"text-align: right;\">0.320046 </td></tr>\n",
       "</tbody>\n",
       "</table>"
      ]
     },
     "metadata": {},
     "output_type": "display_data"
    },
    {
     "data": {
      "text/plain": []
     },
     "execution_count": 67,
     "metadata": {},
     "output_type": "execute_result"
    }
   ],
   "source": [
    "aml.leaderboard"
   ]
  },
  {
   "cell_type": "code",
   "execution_count": 68,
   "metadata": {},
   "outputs": [
    {
     "data": {
      "text/html": [
       "<div>\n",
       "<style scoped>\n",
       "    .dataframe tbody tr th:only-of-type {\n",
       "        vertical-align: middle;\n",
       "    }\n",
       "\n",
       "    .dataframe tbody tr th {\n",
       "        vertical-align: top;\n",
       "    }\n",
       "\n",
       "    .dataframe thead th {\n",
       "        text-align: right;\n",
       "    }\n",
       "</style>\n",
       "<table border=\"1\" class=\"dataframe\">\n",
       "  <thead>\n",
       "    <tr style=\"text-align: right;\">\n",
       "      <th></th>\n",
       "      <th>model_id</th>\n",
       "      <th>mean_residual_deviance</th>\n",
       "      <th>rmse</th>\n",
       "      <th>mse</th>\n",
       "      <th>mae</th>\n",
       "      <th>rmsle</th>\n",
       "    </tr>\n",
       "  </thead>\n",
       "  <tbody>\n",
       "    <tr>\n",
       "      <th>0</th>\n",
       "      <td>StackedEnsemble_AllModels_AutoML_20190418_132524</td>\n",
       "      <td>0.216875</td>\n",
       "      <td>0.465698</td>\n",
       "      <td>0.216875</td>\n",
       "      <td>0.217555</td>\n",
       "      <td>0.087852</td>\n",
       "    </tr>\n",
       "    <tr>\n",
       "      <th>1</th>\n",
       "      <td>StackedEnsemble_BestOfFamily_AutoML_20190418_1...</td>\n",
       "      <td>0.216875</td>\n",
       "      <td>0.465698</td>\n",
       "      <td>0.216875</td>\n",
       "      <td>0.217555</td>\n",
       "      <td>0.087852</td>\n",
       "    </tr>\n",
       "    <tr>\n",
       "      <th>2</th>\n",
       "      <td>XGBoost_1_AutoML_20190418_132524</td>\n",
       "      <td>0.219609</td>\n",
       "      <td>0.468625</td>\n",
       "      <td>0.219609</td>\n",
       "      <td>0.219726</td>\n",
       "      <td>0.084530</td>\n",
       "    </tr>\n",
       "    <tr>\n",
       "      <th>3</th>\n",
       "      <td>DRF_1_AutoML_20190418_132524</td>\n",
       "      <td>0.255272</td>\n",
       "      <td>0.505244</td>\n",
       "      <td>0.255272</td>\n",
       "      <td>0.232563</td>\n",
       "      <td>0.101530</td>\n",
       "    </tr>\n",
       "    <tr>\n",
       "      <th>4</th>\n",
       "      <td>GLM_grid_1_AutoML_20190418_132524_model_1</td>\n",
       "      <td>0.689229</td>\n",
       "      <td>0.830198</td>\n",
       "      <td>0.689229</td>\n",
       "      <td>0.537088</td>\n",
       "      <td>0.234518</td>\n",
       "    </tr>\n",
       "    <tr>\n",
       "      <th>5</th>\n",
       "      <td>XRT_1_AutoML_20190418_132524</td>\n",
       "      <td>3.439020</td>\n",
       "      <td>1.854459</td>\n",
       "      <td>3.439020</td>\n",
       "      <td>1.716900</td>\n",
       "      <td>0.320046</td>\n",
       "    </tr>\n",
       "  </tbody>\n",
       "</table>\n",
       "</div>"
      ],
      "text/plain": [
       "                                            model_id  mean_residual_deviance  \\\n",
       "0   StackedEnsemble_AllModels_AutoML_20190418_132524                0.216875   \n",
       "1  StackedEnsemble_BestOfFamily_AutoML_20190418_1...                0.216875   \n",
       "2                   XGBoost_1_AutoML_20190418_132524                0.219609   \n",
       "3                       DRF_1_AutoML_20190418_132524                0.255272   \n",
       "4          GLM_grid_1_AutoML_20190418_132524_model_1                0.689229   \n",
       "5                       XRT_1_AutoML_20190418_132524                3.439020   \n",
       "\n",
       "       rmse       mse       mae     rmsle  \n",
       "0  0.465698  0.216875  0.217555  0.087852  \n",
       "1  0.465698  0.216875  0.217555  0.087852  \n",
       "2  0.468625  0.219609  0.219726  0.084530  \n",
       "3  0.505244  0.255272  0.232563  0.101530  \n",
       "4  0.830198  0.689229  0.537088  0.234518  \n",
       "5  1.854459  3.439020  1.716900  0.320046  "
      ]
     },
     "execution_count": 68,
     "metadata": {},
     "output_type": "execute_result"
    }
   ],
   "source": [
    "aml_leaderboard_df=aml.leaderboard.as_data_frame()\n",
    "aml_leaderboard_df"
   ]
  },
  {
   "cell_type": "code",
   "execution_count": 69,
   "metadata": {},
   "outputs": [],
   "source": [
    "length = len(aml_leaderboard_df)\n",
    "length\n",
    "meta_data[\"models_generated\"] = length"
   ]
  },
  {
   "cell_type": "code",
   "execution_count": 70,
   "metadata": {},
   "outputs": [],
   "source": [
    "# save leaderboard\n",
    "leaderboard_stats=run_id+'_leaderboard.csv'\n",
    "aml_leaderboard_df.to_csv(leaderboard_stats)"
   ]
  },
  {
   "cell_type": "code",
   "execution_count": 76,
   "metadata": {},
   "outputs": [
    {
     "data": {
      "text/plain": [
       "0     StackedEnsemble_AllModels_AutoML_20190418_132524\n",
       "1    StackedEnsemble_BestOfFamily_AutoML_20190418_1...\n",
       "2                     XGBoost_1_AutoML_20190418_132524\n",
       "3                         DRF_1_AutoML_20190418_132524\n",
       "4            GLM_grid_1_AutoML_20190418_132524_model_1\n",
       "5                         XRT_1_AutoML_20190418_132524\n",
       "Name: model_id, dtype: object"
      ]
     },
     "execution_count": 76,
     "metadata": {},
     "output_type": "execute_result"
    }
   ],
   "source": [
    "aml_leaderboard_df=aml.leaderboard.as_data_frame()\n",
    "model_set=aml_leaderboard_df['model_id']\n",
    "model_set"
   ]
  },
  {
   "cell_type": "code",
   "execution_count": 77,
   "metadata": {},
   "outputs": [],
   "source": [
    "count = 0;\n",
    "for i in model_set:\n",
    "    count = count+1;"
   ]
  },
  {
   "cell_type": "code",
   "execution_count": 78,
   "metadata": {},
   "outputs": [],
   "source": [
    "for i in range(0,count):\n",
    "    mod_best=h2o.get_model(model_set[i])\n",
    "    parameters = mod_best.params\n",
    "    n= str((model_set[i]))+'__333'\n",
    "    dict_to_json(parameters,n)"
   ]
  },
  {
   "cell_type": "code",
   "execution_count": 79,
   "metadata": {},
   "outputs": [],
   "source": [
    "# Update and save meta data\n",
    "\n",
    "\n",
    "n=run_id+'_meta_data.json'\n",
    "dict_to_json(meta_data,n)"
   ]
  },
  {
   "cell_type": "code",
   "execution_count": 80,
   "metadata": {},
   "outputs": [
    {
     "data": {
      "text/plain": [
       "{'start_time': 1555608324.1827571,\n",
       " 'target': 'score',\n",
       " 'data_path': 'anime_filtered.csv',\n",
       " 'run_time': 333,\n",
       " 'run_id': '333_RUNTIME',\n",
       " 'regression': True,\n",
       " 'scale': False,\n",
       " 'project': 'Anime333_RUNTIME',\n",
       " 'end_time': 1555608660.957762,\n",
       " 'execution_time': 336.775004863739,\n",
       " 'run_path': '/Users/vaish/333_RUNTIME',\n",
       " 'min_mem_size': 5,\n",
       " 'X': ['anime_id',\n",
       "  'title',\n",
       "  'title_english',\n",
       "  'title_japanese',\n",
       "  'title_synonyms',\n",
       "  'image_url',\n",
       "  'type',\n",
       "  'source',\n",
       "  'episodes',\n",
       "  'status',\n",
       "  'airing',\n",
       "  'aired_string',\n",
       "  'aired',\n",
       "  'duration',\n",
       "  'rating',\n",
       "  'scored_by',\n",
       "  'rank',\n",
       "  'popularity',\n",
       "  'members',\n",
       "  'favorites',\n",
       "  'background',\n",
       "  'premiered',\n",
       "  'broadcast',\n",
       "  'related',\n",
       "  'producer',\n",
       "  'licensor',\n",
       "  'studio',\n",
       "  'genre',\n",
       "  'opening_theme',\n",
       "  'ending_theme'],\n",
       " 'models_generated': 6}"
      ]
     },
     "execution_count": 80,
     "metadata": {},
     "output_type": "execute_result"
    }
   ],
   "source": [
    "meta_data"
   ]
  },
  {
   "cell_type": "markdown",
   "metadata": {},
   "source": [
    "## Run Time = 500 seconds"
   ]
  },
  {
   "cell_type": "code",
   "execution_count": null,
   "metadata": {},
   "outputs": [],
   "source": []
  },
  {
   "cell_type": "code",
   "execution_count": 81,
   "metadata": {},
   "outputs": [],
   "source": [
    "os.chdir(\"/Users/vaish\")"
   ]
  },
  {
   "cell_type": "code",
   "execution_count": 82,
   "metadata": {},
   "outputs": [
    {
     "data": {
      "text/plain": [
       "'.'"
      ]
     },
     "execution_count": 82,
     "metadata": {},
     "output_type": "execute_result"
    }
   ],
   "source": [
    "os.curdir"
   ]
  },
  {
   "cell_type": "code",
   "execution_count": 85,
   "metadata": {},
   "outputs": [],
   "source": [
    "#os.chdir(\"/Users/vaish\")\n",
    "run_id='500_RUNTIME'\n",
    "    \n",
    "    \n",
    "#os.chdir(server_path) \n",
    "server_path=None;\n",
    "\n",
    "os.mkdir(run_id)\n",
    "os.chdir(run_id)    \n",
    "\n",
    "\n",
    "name = 'Anime'+run_id\n",
    "server_path"
   ]
  },
  {
   "cell_type": "code",
   "execution_count": 86,
   "metadata": {},
   "outputs": [],
   "source": [
    "if server_path==None:\n",
    "    server_path=os.path.abspath(\"/Users/vaish\")\n",
    "run_dir = os.path.join(server_path,run_id)"
   ]
  },
  {
   "cell_type": "code",
   "execution_count": 87,
   "metadata": {},
   "outputs": [
    {
     "name": "stdout",
     "output_type": "stream",
     "text": [
      "{'start_time': 1555609848.8160708, 'target': 'score', 'data_path': 'anime_filtered.csv', 'run_time': 100, 'run_id': '500_RUNTIME', 'regression': True, 'scale': False, 'project': 'Anime500_RUNTIME', 'end_time': 1555609848.816073, 'execution_time': 0.0, 'run_path': '/Users/vaish/500_RUNTIME', 'min_mem_size': 5}\n"
     ]
    }
   ],
   "source": [
    "meta_data = set_meta_data(run_id,data_path,target,run_time,regression,name,run_dir,min_mem_size)\n",
    "print(meta_data)"
   ]
  },
  {
   "cell_type": "code",
   "execution_count": 88,
   "metadata": {},
   "outputs": [],
   "source": [
    "server_path=os.path.abspath(os.curdir)\n",
    "meta_data['server_path'] = server_path"
   ]
  },
  {
   "cell_type": "code",
   "execution_count": 89,
   "metadata": {},
   "outputs": [],
   "source": [
    "# logfile=run_id+'_autoh2o_log.zip'\n",
    "# logs_path=os.path.join(run_dir,'logs')\n",
    "# print(logs_path,' ',logfile)"
   ]
  },
  {
   "cell_type": "code",
   "execution_count": 90,
   "metadata": {},
   "outputs": [],
   "source": [
    "meta_data['X']=X  "
   ]
  },
  {
   "cell_type": "markdown",
   "metadata": {},
   "source": [
    "automl function is called and initialized with runtime , x, y , df values."
   ]
  },
  {
   "cell_type": "code",
   "execution_count": 91,
   "metadata": {},
   "outputs": [],
   "source": [
    "model_start_time = time.time()"
   ]
  },
  {
   "cell_type": "code",
   "execution_count": 92,
   "metadata": {},
   "outputs": [
    {
     "name": "stdout",
     "output_type": "stream",
     "text": [
      "AutoML progress: |████████████████████████████████████████████████████████| 100%\n"
     ]
    }
   ],
   "source": [
    "aml1 = automl(500,X,y,df)"
   ]
  },
  {
   "cell_type": "code",
   "execution_count": 93,
   "metadata": {},
   "outputs": [],
   "source": [
    "meta_data['run_time'] = 500"
   ]
  },
  {
   "cell_type": "code",
   "execution_count": 94,
   "metadata": {},
   "outputs": [],
   "source": [
    "meta_data['end_time'] = time.time()\n",
    "meta_data['execution_time'] = meta_data['end_time'] - meta_data['start_time']"
   ]
  },
  {
   "cell_type": "markdown",
   "metadata": {},
   "source": [
    "leaderboard is generated for this model.But more models will be generated "
   ]
  },
  {
   "cell_type": "code",
   "execution_count": 95,
   "metadata": {},
   "outputs": [
    {
     "data": {
      "text/html": [
       "<table>\n",
       "<thead>\n",
       "<tr><th>model_id                                           </th><th style=\"text-align: right;\">  mean_residual_deviance</th><th style=\"text-align: right;\">    rmse</th><th style=\"text-align: right;\">     mse</th><th style=\"text-align: right;\">     mae</th><th style=\"text-align: right;\">    rmsle</th></tr>\n",
       "</thead>\n",
       "<tbody>\n",
       "<tr><td>XGBoost_2_AutoML_20190418_135050                   </td><td style=\"text-align: right;\">                0.202491</td><td style=\"text-align: right;\">0.44999 </td><td style=\"text-align: right;\">0.202491</td><td style=\"text-align: right;\">0.202766</td><td style=\"text-align: right;\">0.0795664</td></tr>\n",
       "<tr><td>StackedEnsemble_BestOfFamily_AutoML_20190418_132524</td><td style=\"text-align: right;\">                0.216875</td><td style=\"text-align: right;\">0.465698</td><td style=\"text-align: right;\">0.216875</td><td style=\"text-align: right;\">0.217555</td><td style=\"text-align: right;\">0.0878519</td></tr>\n",
       "<tr><td>StackedEnsemble_AllModels_AutoML_20190418_132524   </td><td style=\"text-align: right;\">                0.216875</td><td style=\"text-align: right;\">0.465698</td><td style=\"text-align: right;\">0.216875</td><td style=\"text-align: right;\">0.217555</td><td style=\"text-align: right;\">0.0878519</td></tr>\n",
       "<tr><td>XGBoost_1_AutoML_20190418_135050                   </td><td style=\"text-align: right;\">                0.219316</td><td style=\"text-align: right;\">0.468312</td><td style=\"text-align: right;\">0.219316</td><td style=\"text-align: right;\">0.219897</td><td style=\"text-align: right;\">0.0844326</td></tr>\n",
       "<tr><td>XGBoost_1_AutoML_20190418_132524                   </td><td style=\"text-align: right;\">                0.219609</td><td style=\"text-align: right;\">0.468625</td><td style=\"text-align: right;\">0.219609</td><td style=\"text-align: right;\">0.219726</td><td style=\"text-align: right;\">0.0845298</td></tr>\n",
       "<tr><td>DRF_1_AutoML_20190418_132524                       </td><td style=\"text-align: right;\">                0.255272</td><td style=\"text-align: right;\">0.505244</td><td style=\"text-align: right;\">0.255272</td><td style=\"text-align: right;\">0.232563</td><td style=\"text-align: right;\">0.10153  </td></tr>\n",
       "<tr><td>DRF_1_AutoML_20190418_135050                       </td><td style=\"text-align: right;\">                0.256428</td><td style=\"text-align: right;\">0.506387</td><td style=\"text-align: right;\">0.256428</td><td style=\"text-align: right;\">0.233798</td><td style=\"text-align: right;\">0.103826 </td></tr>\n",
       "<tr><td>GLM_grid_1_AutoML_20190418_135050_model_1          </td><td style=\"text-align: right;\">                0.467525</td><td style=\"text-align: right;\">0.683758</td><td style=\"text-align: right;\">0.467525</td><td style=\"text-align: right;\">0.432327</td><td style=\"text-align: right;\">0.177202 </td></tr>\n",
       "<tr><td>GLM_grid_1_AutoML_20190418_132524_model_1          </td><td style=\"text-align: right;\">                0.689229</td><td style=\"text-align: right;\">0.830198</td><td style=\"text-align: right;\">0.689229</td><td style=\"text-align: right;\">0.537088</td><td style=\"text-align: right;\">0.234518 </td></tr>\n",
       "<tr><td>XRT_1_AutoML_20190418_132524                       </td><td style=\"text-align: right;\">                3.43902 </td><td style=\"text-align: right;\">1.85446 </td><td style=\"text-align: right;\">3.43902 </td><td style=\"text-align: right;\">1.7169  </td><td style=\"text-align: right;\">0.320046 </td></tr>\n",
       "</tbody>\n",
       "</table>"
      ]
     },
     "metadata": {},
     "output_type": "display_data"
    },
    {
     "data": {
      "text/plain": []
     },
     "execution_count": 95,
     "metadata": {},
     "output_type": "execute_result"
    }
   ],
   "source": [
    "aml1.leaderboard"
   ]
  },
  {
   "cell_type": "code",
   "execution_count": 96,
   "metadata": {},
   "outputs": [
    {
     "data": {
      "text/html": [
       "<div>\n",
       "<style scoped>\n",
       "    .dataframe tbody tr th:only-of-type {\n",
       "        vertical-align: middle;\n",
       "    }\n",
       "\n",
       "    .dataframe tbody tr th {\n",
       "        vertical-align: top;\n",
       "    }\n",
       "\n",
       "    .dataframe thead th {\n",
       "        text-align: right;\n",
       "    }\n",
       "</style>\n",
       "<table border=\"1\" class=\"dataframe\">\n",
       "  <thead>\n",
       "    <tr style=\"text-align: right;\">\n",
       "      <th></th>\n",
       "      <th>model_id</th>\n",
       "      <th>mean_residual_deviance</th>\n",
       "      <th>rmse</th>\n",
       "      <th>mse</th>\n",
       "      <th>mae</th>\n",
       "      <th>rmsle</th>\n",
       "    </tr>\n",
       "  </thead>\n",
       "  <tbody>\n",
       "    <tr>\n",
       "      <th>0</th>\n",
       "      <td>XGBoost_2_AutoML_20190418_135050</td>\n",
       "      <td>0.202491</td>\n",
       "      <td>0.449990</td>\n",
       "      <td>0.202491</td>\n",
       "      <td>0.202766</td>\n",
       "      <td>0.079566</td>\n",
       "    </tr>\n",
       "    <tr>\n",
       "      <th>1</th>\n",
       "      <td>StackedEnsemble_BestOfFamily_AutoML_20190418_1...</td>\n",
       "      <td>0.216875</td>\n",
       "      <td>0.465698</td>\n",
       "      <td>0.216875</td>\n",
       "      <td>0.217555</td>\n",
       "      <td>0.087852</td>\n",
       "    </tr>\n",
       "    <tr>\n",
       "      <th>2</th>\n",
       "      <td>StackedEnsemble_AllModels_AutoML_20190418_132524</td>\n",
       "      <td>0.216875</td>\n",
       "      <td>0.465698</td>\n",
       "      <td>0.216875</td>\n",
       "      <td>0.217555</td>\n",
       "      <td>0.087852</td>\n",
       "    </tr>\n",
       "    <tr>\n",
       "      <th>3</th>\n",
       "      <td>XGBoost_1_AutoML_20190418_135050</td>\n",
       "      <td>0.219316</td>\n",
       "      <td>0.468312</td>\n",
       "      <td>0.219316</td>\n",
       "      <td>0.219897</td>\n",
       "      <td>0.084433</td>\n",
       "    </tr>\n",
       "    <tr>\n",
       "      <th>4</th>\n",
       "      <td>XGBoost_1_AutoML_20190418_132524</td>\n",
       "      <td>0.219609</td>\n",
       "      <td>0.468625</td>\n",
       "      <td>0.219609</td>\n",
       "      <td>0.219726</td>\n",
       "      <td>0.084530</td>\n",
       "    </tr>\n",
       "    <tr>\n",
       "      <th>5</th>\n",
       "      <td>DRF_1_AutoML_20190418_132524</td>\n",
       "      <td>0.255272</td>\n",
       "      <td>0.505244</td>\n",
       "      <td>0.255272</td>\n",
       "      <td>0.232563</td>\n",
       "      <td>0.101530</td>\n",
       "    </tr>\n",
       "    <tr>\n",
       "      <th>6</th>\n",
       "      <td>DRF_1_AutoML_20190418_135050</td>\n",
       "      <td>0.256428</td>\n",
       "      <td>0.506387</td>\n",
       "      <td>0.256428</td>\n",
       "      <td>0.233798</td>\n",
       "      <td>0.103826</td>\n",
       "    </tr>\n",
       "    <tr>\n",
       "      <th>7</th>\n",
       "      <td>GLM_grid_1_AutoML_20190418_135050_model_1</td>\n",
       "      <td>0.467525</td>\n",
       "      <td>0.683758</td>\n",
       "      <td>0.467525</td>\n",
       "      <td>0.432327</td>\n",
       "      <td>0.177202</td>\n",
       "    </tr>\n",
       "    <tr>\n",
       "      <th>8</th>\n",
       "      <td>GLM_grid_1_AutoML_20190418_132524_model_1</td>\n",
       "      <td>0.689229</td>\n",
       "      <td>0.830198</td>\n",
       "      <td>0.689229</td>\n",
       "      <td>0.537088</td>\n",
       "      <td>0.234518</td>\n",
       "    </tr>\n",
       "    <tr>\n",
       "      <th>9</th>\n",
       "      <td>XRT_1_AutoML_20190418_132524</td>\n",
       "      <td>3.439020</td>\n",
       "      <td>1.854459</td>\n",
       "      <td>3.439020</td>\n",
       "      <td>1.716900</td>\n",
       "      <td>0.320046</td>\n",
       "    </tr>\n",
       "    <tr>\n",
       "      <th>10</th>\n",
       "      <td>XRT_1_AutoML_20190418_135050</td>\n",
       "      <td>6.728234</td>\n",
       "      <td>2.593884</td>\n",
       "      <td>6.728234</td>\n",
       "      <td>2.461238</td>\n",
       "      <td>0.476782</td>\n",
       "    </tr>\n",
       "  </tbody>\n",
       "</table>\n",
       "</div>"
      ],
      "text/plain": [
       "                                             model_id  mean_residual_deviance  \\\n",
       "0                    XGBoost_2_AutoML_20190418_135050                0.202491   \n",
       "1   StackedEnsemble_BestOfFamily_AutoML_20190418_1...                0.216875   \n",
       "2    StackedEnsemble_AllModels_AutoML_20190418_132524                0.216875   \n",
       "3                    XGBoost_1_AutoML_20190418_135050                0.219316   \n",
       "4                    XGBoost_1_AutoML_20190418_132524                0.219609   \n",
       "5                        DRF_1_AutoML_20190418_132524                0.255272   \n",
       "6                        DRF_1_AutoML_20190418_135050                0.256428   \n",
       "7           GLM_grid_1_AutoML_20190418_135050_model_1                0.467525   \n",
       "8           GLM_grid_1_AutoML_20190418_132524_model_1                0.689229   \n",
       "9                        XRT_1_AutoML_20190418_132524                3.439020   \n",
       "10                       XRT_1_AutoML_20190418_135050                6.728234   \n",
       "\n",
       "        rmse       mse       mae     rmsle  \n",
       "0   0.449990  0.202491  0.202766  0.079566  \n",
       "1   0.465698  0.216875  0.217555  0.087852  \n",
       "2   0.465698  0.216875  0.217555  0.087852  \n",
       "3   0.468312  0.219316  0.219897  0.084433  \n",
       "4   0.468625  0.219609  0.219726  0.084530  \n",
       "5   0.505244  0.255272  0.232563  0.101530  \n",
       "6   0.506387  0.256428  0.233798  0.103826  \n",
       "7   0.683758  0.467525  0.432327  0.177202  \n",
       "8   0.830198  0.689229  0.537088  0.234518  \n",
       "9   1.854459  3.439020  1.716900  0.320046  \n",
       "10  2.593884  6.728234  2.461238  0.476782  "
      ]
     },
     "execution_count": 96,
     "metadata": {},
     "output_type": "execute_result"
    }
   ],
   "source": [
    "aml1_leaderboard_df=aml1.leaderboard.as_data_frame()\n",
    "aml1_leaderboard_df"
   ]
  },
  {
   "cell_type": "code",
   "execution_count": 97,
   "metadata": {},
   "outputs": [],
   "source": [
    "length = len(aml1_leaderboard_df)\n",
    "length\n",
    "meta_data[\"models_generated\"] = length"
   ]
  },
  {
   "cell_type": "code",
   "execution_count": 98,
   "metadata": {},
   "outputs": [],
   "source": [
    "# save leaderboard\n",
    "leaderboard_stats=run_id+'_leaderboard_500.csv'\n",
    "aml1_leaderboard_df.to_csv(leaderboard_stats)"
   ]
  },
  {
   "cell_type": "code",
   "execution_count": 99,
   "metadata": {},
   "outputs": [
    {
     "data": {
      "text/plain": [
       "0                      XGBoost_2_AutoML_20190418_135050\n",
       "1     StackedEnsemble_BestOfFamily_AutoML_20190418_1...\n",
       "2      StackedEnsemble_AllModels_AutoML_20190418_132524\n",
       "3                      XGBoost_1_AutoML_20190418_135050\n",
       "4                      XGBoost_1_AutoML_20190418_132524\n",
       "5                          DRF_1_AutoML_20190418_132524\n",
       "6                          DRF_1_AutoML_20190418_135050\n",
       "7             GLM_grid_1_AutoML_20190418_135050_model_1\n",
       "8             GLM_grid_1_AutoML_20190418_132524_model_1\n",
       "9                          XRT_1_AutoML_20190418_132524\n",
       "10                         XRT_1_AutoML_20190418_135050\n",
       "Name: model_id, dtype: object"
      ]
     },
     "execution_count": 99,
     "metadata": {},
     "output_type": "execute_result"
    }
   ],
   "source": [
    "aml1_leaderboard_df=aml1.leaderboard.as_data_frame()\n",
    "model1_set=aml1_leaderboard_df['model_id']\n",
    "model1_set"
   ]
  },
  {
   "cell_type": "code",
   "execution_count": 100,
   "metadata": {},
   "outputs": [],
   "source": [
    "count = 0;\n",
    "for i in model1_set:\n",
    "    count = count+1;"
   ]
  },
  {
   "cell_type": "code",
   "execution_count": 101,
   "metadata": {},
   "outputs": [],
   "source": [
    "for i in range(0,count):\n",
    "    mod_best=h2o.get_model(model1_set[i])\n",
    "    parameters = mod_best.params\n",
    "    n= str((model1_set[i]))+'__500'\n",
    "    dict_to_json(parameters,n)"
   ]
  },
  {
   "cell_type": "code",
   "execution_count": 102,
   "metadata": {},
   "outputs": [],
   "source": [
    "# Update and save meta data\n",
    "\n",
    "\n",
    "  \n",
    "n=run_id+'_meta_data.json'\n",
    "dict_to_json(meta_data,n)"
   ]
  },
  {
   "cell_type": "code",
   "execution_count": 103,
   "metadata": {},
   "outputs": [
    {
     "data": {
      "text/plain": [
       "{'start_time': 1555609848.8160708,\n",
       " 'target': 'score',\n",
       " 'data_path': 'anime_filtered.csv',\n",
       " 'run_time': 500,\n",
       " 'run_id': '500_RUNTIME',\n",
       " 'regression': True,\n",
       " 'scale': False,\n",
       " 'project': 'Anime500_RUNTIME',\n",
       " 'end_time': 1555610355.41185,\n",
       " 'execution_time': 506.59577918052673,\n",
       " 'run_path': '/Users/vaish/500_RUNTIME',\n",
       " 'min_mem_size': 5,\n",
       " 'server_path': '/Users/vaish/500_RUNTIME',\n",
       " 'X': ['anime_id',\n",
       "  'title',\n",
       "  'title_english',\n",
       "  'title_japanese',\n",
       "  'title_synonyms',\n",
       "  'image_url',\n",
       "  'type',\n",
       "  'source',\n",
       "  'episodes',\n",
       "  'status',\n",
       "  'airing',\n",
       "  'aired_string',\n",
       "  'aired',\n",
       "  'duration',\n",
       "  'rating',\n",
       "  'scored_by',\n",
       "  'rank',\n",
       "  'popularity',\n",
       "  'members',\n",
       "  'favorites',\n",
       "  'background',\n",
       "  'premiered',\n",
       "  'broadcast',\n",
       "  'related',\n",
       "  'producer',\n",
       "  'licensor',\n",
       "  'studio',\n",
       "  'genre',\n",
       "  'opening_theme',\n",
       "  'ending_theme'],\n",
       " 'models_generated': 11}"
      ]
     },
     "execution_count": 103,
     "metadata": {},
     "output_type": "execute_result"
    }
   ],
   "source": [
    "meta_data"
   ]
  },
  {
   "cell_type": "markdown",
   "metadata": {},
   "source": [
    "## Run Time = 700 seconds"
   ]
  },
  {
   "cell_type": "code",
   "execution_count": 104,
   "metadata": {},
   "outputs": [],
   "source": [
    "os.chdir(\"/Users/vaish\")"
   ]
  },
  {
   "cell_type": "code",
   "execution_count": 105,
   "metadata": {},
   "outputs": [],
   "source": [
    "#os.chdir(\"/Users/vaish\")\n",
    "run_id='700_RUNTIME'\n",
    "    \n",
    "    \n",
    "#os.chdir(server_path) \n",
    "server_path=None;\n",
    "\n",
    "os.mkdir(run_id)\n",
    "os.chdir(run_id)    \n",
    "\n",
    "\n",
    "name = 'Anime'+run_id\n",
    "server_path"
   ]
  },
  {
   "cell_type": "code",
   "execution_count": 106,
   "metadata": {},
   "outputs": [],
   "source": [
    "if server_path==None:\n",
    "    server_path=os.path.abspath(\"/Users/vaish\")\n",
    "run_dir = os.path.join(server_path,run_id)"
   ]
  },
  {
   "cell_type": "code",
   "execution_count": 107,
   "metadata": {},
   "outputs": [
    {
     "name": "stdout",
     "output_type": "stream",
     "text": [
      "{'start_time': 1555610614.650784, 'target': 'score', 'data_path': 'anime_filtered.csv', 'run_time': 100, 'run_id': '700_RUNTIME', 'regression': True, 'scale': False, 'project': 'Anime700_RUNTIME', 'end_time': 1555610614.650814, 'execution_time': 0.0, 'run_path': '/Users/vaish/700_RUNTIME', 'min_mem_size': 5}\n"
     ]
    }
   ],
   "source": [
    "meta_data = set_meta_data(run_id,data_path,target,run_time,regression,name,run_dir,min_mem_size)\n",
    "print(meta_data)"
   ]
  },
  {
   "cell_type": "code",
   "execution_count": 108,
   "metadata": {},
   "outputs": [],
   "source": [
    "server_path=os.path.abspath(os.curdir)\n",
    "meta_data['server_path'] = server_path"
   ]
  },
  {
   "cell_type": "code",
   "execution_count": 109,
   "metadata": {},
   "outputs": [],
   "source": [
    "meta_data['X']=X  "
   ]
  },
  {
   "cell_type": "code",
   "execution_count": 110,
   "metadata": {},
   "outputs": [],
   "source": [
    "model_start_time = time.time()"
   ]
  },
  {
   "cell_type": "code",
   "execution_count": 111,
   "metadata": {},
   "outputs": [
    {
     "name": "stdout",
     "output_type": "stream",
     "text": [
      "AutoML progress: |████████████████████████████████████████████████████████| 100%\n"
     ]
    }
   ],
   "source": [
    "aml2 = automl(700,X,y,df)"
   ]
  },
  {
   "cell_type": "code",
   "execution_count": 112,
   "metadata": {},
   "outputs": [],
   "source": [
    "meta_data['run_time'] = 700"
   ]
  },
  {
   "cell_type": "code",
   "execution_count": 113,
   "metadata": {},
   "outputs": [],
   "source": [
    "meta_data['end_time'] = time.time()\n",
    "meta_data['execution_time'] = meta_data['end_time'] - meta_data['start_time']"
   ]
  },
  {
   "cell_type": "code",
   "execution_count": 114,
   "metadata": {},
   "outputs": [
    {
     "data": {
      "text/html": [
       "<table>\n",
       "<thead>\n",
       "<tr><th>model_id                                           </th><th style=\"text-align: right;\">  mean_residual_deviance</th><th style=\"text-align: right;\">    rmse</th><th style=\"text-align: right;\">     mse</th><th style=\"text-align: right;\">     mae</th><th style=\"text-align: right;\">    rmsle</th></tr>\n",
       "</thead>\n",
       "<tbody>\n",
       "<tr><td>XGBoost_3_AutoML_20190418_140346                   </td><td style=\"text-align: right;\">                0.196366</td><td style=\"text-align: right;\">0.443132</td><td style=\"text-align: right;\">0.196366</td><td style=\"text-align: right;\">0.195467</td><td style=\"text-align: right;\">0.0793003</td></tr>\n",
       "<tr><td>XGBoost_grid_1_AutoML_20190418_140346_model_1      </td><td style=\"text-align: right;\">                0.201388</td><td style=\"text-align: right;\">0.448762</td><td style=\"text-align: right;\">0.201388</td><td style=\"text-align: right;\">0.197417</td><td style=\"text-align: right;\">0.0798868</td></tr>\n",
       "<tr><td>XGBoost_2_AutoML_20190418_135050                   </td><td style=\"text-align: right;\">                0.202491</td><td style=\"text-align: right;\">0.44999 </td><td style=\"text-align: right;\">0.202491</td><td style=\"text-align: right;\">0.202766</td><td style=\"text-align: right;\">0.0795664</td></tr>\n",
       "<tr><td>XGBoost_2_AutoML_20190418_140346                   </td><td style=\"text-align: right;\">                0.205276</td><td style=\"text-align: right;\">0.453074</td><td style=\"text-align: right;\">0.205276</td><td style=\"text-align: right;\">0.206034</td><td style=\"text-align: right;\">0.0810562</td></tr>\n",
       "<tr><td>StackedEnsemble_BestOfFamily_AutoML_20190418_132524</td><td style=\"text-align: right;\">                0.216875</td><td style=\"text-align: right;\">0.465698</td><td style=\"text-align: right;\">0.216875</td><td style=\"text-align: right;\">0.217555</td><td style=\"text-align: right;\">0.0878519</td></tr>\n",
       "<tr><td>StackedEnsemble_AllModels_AutoML_20190418_132524   </td><td style=\"text-align: right;\">                0.216875</td><td style=\"text-align: right;\">0.465698</td><td style=\"text-align: right;\">0.216875</td><td style=\"text-align: right;\">0.217555</td><td style=\"text-align: right;\">0.0878519</td></tr>\n",
       "<tr><td>XGBoost_1_AutoML_20190418_135050                   </td><td style=\"text-align: right;\">                0.219316</td><td style=\"text-align: right;\">0.468312</td><td style=\"text-align: right;\">0.219316</td><td style=\"text-align: right;\">0.219897</td><td style=\"text-align: right;\">0.0844326</td></tr>\n",
       "<tr><td>XGBoost_1_AutoML_20190418_132524                   </td><td style=\"text-align: right;\">                0.219609</td><td style=\"text-align: right;\">0.468625</td><td style=\"text-align: right;\">0.219609</td><td style=\"text-align: right;\">0.219726</td><td style=\"text-align: right;\">0.0845298</td></tr>\n",
       "<tr><td>XGBoost_1_AutoML_20190418_140346                   </td><td style=\"text-align: right;\">                0.2224  </td><td style=\"text-align: right;\">0.471593</td><td style=\"text-align: right;\">0.2224  </td><td style=\"text-align: right;\">0.223829</td><td style=\"text-align: right;\">0.085251 </td></tr>\n",
       "<tr><td>DRF_1_AutoML_20190418_140346                       </td><td style=\"text-align: right;\">                0.251938</td><td style=\"text-align: right;\">0.501934</td><td style=\"text-align: right;\">0.251938</td><td style=\"text-align: right;\">0.228844</td><td style=\"text-align: right;\">0.101846 </td></tr>\n",
       "</tbody>\n",
       "</table>"
      ]
     },
     "metadata": {},
     "output_type": "display_data"
    },
    {
     "data": {
      "text/plain": []
     },
     "execution_count": 114,
     "metadata": {},
     "output_type": "execute_result"
    }
   ],
   "source": [
    "aml2.leaderboard"
   ]
  },
  {
   "cell_type": "code",
   "execution_count": 116,
   "metadata": {},
   "outputs": [
    {
     "data": {
      "text/plain": [
       "0                      XGBoost_3_AutoML_20190418_140346\n",
       "1         XGBoost_grid_1_AutoML_20190418_140346_model_1\n",
       "2                      XGBoost_2_AutoML_20190418_135050\n",
       "3                      XGBoost_2_AutoML_20190418_140346\n",
       "4     StackedEnsemble_BestOfFamily_AutoML_20190418_1...\n",
       "5      StackedEnsemble_AllModels_AutoML_20190418_132524\n",
       "6                      XGBoost_1_AutoML_20190418_135050\n",
       "7                      XGBoost_1_AutoML_20190418_132524\n",
       "8                      XGBoost_1_AutoML_20190418_140346\n",
       "9                          DRF_1_AutoML_20190418_140346\n",
       "10                         DRF_1_AutoML_20190418_132524\n",
       "11                         DRF_1_AutoML_20190418_135050\n",
       "12                         GBM_3_AutoML_20190418_140346\n",
       "13                         GBM_2_AutoML_20190418_140346\n",
       "14                         GBM_4_AutoML_20190418_140346\n",
       "15            GBM_grid_1_AutoML_20190418_140346_model_1\n",
       "16                         GBM_5_AutoML_20190418_140346\n",
       "17                         GBM_1_AutoML_20190418_140346\n",
       "18            GBM_grid_1_AutoML_20190418_140346_model_2\n",
       "19            GBM_grid_1_AutoML_20190418_140346_model_3\n",
       "20            GLM_grid_1_AutoML_20190418_135050_model_1\n",
       "21            GLM_grid_1_AutoML_20190418_140346_model_1\n",
       "22            GLM_grid_1_AutoML_20190418_132524_model_1\n",
       "23            GBM_grid_1_AutoML_20190418_140346_model_4\n",
       "24                         XRT_1_AutoML_20190418_132524\n",
       "25                         XRT_1_AutoML_20190418_140346\n",
       "26                         XRT_1_AutoML_20190418_135050\n",
       "27        XGBoost_grid_1_AutoML_20190418_140346_model_2\n",
       "Name: model_id, dtype: object"
      ]
     },
     "execution_count": 116,
     "metadata": {},
     "output_type": "execute_result"
    }
   ],
   "source": [
    "aml2_leaderboard_df=aml2.leaderboard.as_data_frame()\n",
    "model2_set=aml2_leaderboard_df['model_id']\n",
    "model2_set"
   ]
  },
  {
   "cell_type": "code",
   "execution_count": 117,
   "metadata": {},
   "outputs": [],
   "source": [
    "length = len(aml2_leaderboard_df)\n",
    "length\n",
    "meta_data[\"models_generated\"] = length"
   ]
  },
  {
   "cell_type": "code",
   "execution_count": 118,
   "metadata": {},
   "outputs": [],
   "source": [
    "# save leaderboard\n",
    "leaderboard_stats=run_id+'_leaderboard_700.csv'\n",
    "aml2_leaderboard_df.to_csv(leaderboard_stats)"
   ]
  },
  {
   "cell_type": "code",
   "execution_count": 119,
   "metadata": {},
   "outputs": [],
   "source": [
    "count = 0;\n",
    "for i in model2_set:\n",
    "    count = count+1;"
   ]
  },
  {
   "cell_type": "code",
   "execution_count": 120,
   "metadata": {},
   "outputs": [],
   "source": [
    "for i in range(0,count):\n",
    "    mod_best=h2o.get_model(model2_set[i])\n",
    "    parameters = mod_best.params\n",
    "    n= str((model2_set[i]))+'__700'\n",
    "    dict_to_json(parameters,n)"
   ]
  },
  {
   "cell_type": "code",
   "execution_count": 121,
   "metadata": {},
   "outputs": [],
   "source": [
    "# Update and save meta data\n",
    "\n",
    "\n",
    "  \n",
    "n=run_id+'_meta_data.json'\n",
    "dict_to_json(meta_data,n)"
   ]
  },
  {
   "cell_type": "code",
   "execution_count": 122,
   "metadata": {},
   "outputs": [
    {
     "data": {
      "text/plain": [
       "{'start_time': 1555610614.650784,\n",
       " 'target': 'score',\n",
       " 'data_path': 'anime_filtered.csv',\n",
       " 'run_time': 700,\n",
       " 'run_id': '700_RUNTIME',\n",
       " 'regression': True,\n",
       " 'scale': False,\n",
       " 'project': 'Anime700_RUNTIME',\n",
       " 'end_time': 1555611302.392215,\n",
       " 'execution_time': 687.7414309978485,\n",
       " 'run_path': '/Users/vaish/700_RUNTIME',\n",
       " 'min_mem_size': 5,\n",
       " 'server_path': '/Users/vaish/700_RUNTIME',\n",
       " 'X': ['anime_id',\n",
       "  'title',\n",
       "  'title_english',\n",
       "  'title_japanese',\n",
       "  'title_synonyms',\n",
       "  'image_url',\n",
       "  'type',\n",
       "  'source',\n",
       "  'episodes',\n",
       "  'status',\n",
       "  'airing',\n",
       "  'aired_string',\n",
       "  'aired',\n",
       "  'duration',\n",
       "  'rating',\n",
       "  'scored_by',\n",
       "  'rank',\n",
       "  'popularity',\n",
       "  'members',\n",
       "  'favorites',\n",
       "  'background',\n",
       "  'premiered',\n",
       "  'broadcast',\n",
       "  'related',\n",
       "  'producer',\n",
       "  'licensor',\n",
       "  'studio',\n",
       "  'genre',\n",
       "  'opening_theme',\n",
       "  'ending_theme'],\n",
       " 'models_generated': 28}"
      ]
     },
     "execution_count": 122,
     "metadata": {},
     "output_type": "execute_result"
    }
   ],
   "source": [
    "meta_data"
   ]
  },
  {
   "cell_type": "markdown",
   "metadata": {},
   "source": [
    "## Run Time = 1000 seconds"
   ]
  },
  {
   "cell_type": "code",
   "execution_count": 123,
   "metadata": {},
   "outputs": [],
   "source": [
    "os.chdir(\"/Users/vaish\")\n",
    "run_id='1000_RUNTIME'\n",
    "    \n",
    "    \n",
    "#os.chdir(server_path) \n",
    "server_path=None;\n",
    "\n",
    "os.mkdir(run_id)\n",
    "os.chdir(run_id)    \n",
    "\n",
    "\n",
    "name = 'Anime'+run_id\n",
    "server_path"
   ]
  },
  {
   "cell_type": "code",
   "execution_count": 124,
   "metadata": {},
   "outputs": [],
   "source": [
    "if server_path==None:\n",
    "    server_path=os.path.abspath(\"/Users/vaish\")\n",
    "run_dir = os.path.join(server_path,run_id)"
   ]
  },
  {
   "cell_type": "code",
   "execution_count": 125,
   "metadata": {},
   "outputs": [
    {
     "name": "stdout",
     "output_type": "stream",
     "text": [
      "{'start_time': 1555611747.5302348, 'target': 'score', 'data_path': 'anime_filtered.csv', 'run_time': 100, 'run_id': '1000_RUNTIME', 'regression': True, 'scale': False, 'project': 'Anime1000_RUNTIME', 'end_time': 1555611747.530238, 'execution_time': 0.0, 'run_path': '/Users/vaish/1000_RUNTIME', 'min_mem_size': 5}\n"
     ]
    }
   ],
   "source": [
    "meta_data = set_meta_data(run_id,data_path,target,run_time,regression,name,run_dir,min_mem_size)\n",
    "print(meta_data)"
   ]
  },
  {
   "cell_type": "code",
   "execution_count": 126,
   "metadata": {},
   "outputs": [],
   "source": [
    "server_path=os.path.abspath(os.curdir)\n",
    "meta_data['server_path'] = server_path\n",
    "meta_data['X']=X  \n",
    "meta_data['run_time'] = 1000\n",
    "model_start_time = time.time()"
   ]
  },
  {
   "cell_type": "code",
   "execution_count": 127,
   "metadata": {},
   "outputs": [
    {
     "name": "stdout",
     "output_type": "stream",
     "text": [
      "AutoML progress: |████████████████████████████████████████████████████████| 100%\n"
     ]
    }
   ],
   "source": [
    "aml3 = automl(1000,X,y,df)"
   ]
  },
  {
   "cell_type": "code",
   "execution_count": 128,
   "metadata": {},
   "outputs": [],
   "source": [
    "meta_data['end_time'] = time.time()\n",
    "meta_data['execution_time'] = meta_data['end_time'] - meta_data['start_time']"
   ]
  },
  {
   "cell_type": "code",
   "execution_count": 129,
   "metadata": {},
   "outputs": [
    {
     "data": {
      "text/html": [
       "<table>\n",
       "<thead>\n",
       "<tr><th>model_id                                           </th><th style=\"text-align: right;\">  mean_residual_deviance</th><th style=\"text-align: right;\">    rmse</th><th style=\"text-align: right;\">     mse</th><th style=\"text-align: right;\">     mae</th><th style=\"text-align: right;\">    rmsle</th></tr>\n",
       "</thead>\n",
       "<tbody>\n",
       "<tr><td>XGBoost_3_AutoML_20190418_142243                   </td><td style=\"text-align: right;\">                0.195239</td><td style=\"text-align: right;\">0.441858</td><td style=\"text-align: right;\">0.195239</td><td style=\"text-align: right;\">0.196002</td><td style=\"text-align: right;\">0.0793644</td></tr>\n",
       "<tr><td>XGBoost_3_AutoML_20190418_140346                   </td><td style=\"text-align: right;\">                0.196366</td><td style=\"text-align: right;\">0.443132</td><td style=\"text-align: right;\">0.196366</td><td style=\"text-align: right;\">0.195467</td><td style=\"text-align: right;\">0.0793003</td></tr>\n",
       "<tr><td>XGBoost_grid_1_AutoML_20190418_140346_model_1      </td><td style=\"text-align: right;\">                0.201388</td><td style=\"text-align: right;\">0.448762</td><td style=\"text-align: right;\">0.201388</td><td style=\"text-align: right;\">0.197417</td><td style=\"text-align: right;\">0.0798868</td></tr>\n",
       "<tr><td>XGBoost_2_AutoML_20190418_135050                   </td><td style=\"text-align: right;\">                0.202491</td><td style=\"text-align: right;\">0.44999 </td><td style=\"text-align: right;\">0.202491</td><td style=\"text-align: right;\">0.202766</td><td style=\"text-align: right;\">0.0795664</td></tr>\n",
       "<tr><td>XGBoost_2_AutoML_20190418_142243                   </td><td style=\"text-align: right;\">                0.204895</td><td style=\"text-align: right;\">0.452653</td><td style=\"text-align: right;\">0.204895</td><td style=\"text-align: right;\">0.203246</td><td style=\"text-align: right;\">0.0804148</td></tr>\n",
       "<tr><td>XGBoost_2_AutoML_20190418_140346                   </td><td style=\"text-align: right;\">                0.205276</td><td style=\"text-align: right;\">0.453074</td><td style=\"text-align: right;\">0.205276</td><td style=\"text-align: right;\">0.206034</td><td style=\"text-align: right;\">0.0810562</td></tr>\n",
       "<tr><td>XGBoost_grid_1_AutoML_20190418_142243_model_1      </td><td style=\"text-align: right;\">                0.215551</td><td style=\"text-align: right;\">0.464275</td><td style=\"text-align: right;\">0.215551</td><td style=\"text-align: right;\">0.216542</td><td style=\"text-align: right;\">0.0857264</td></tr>\n",
       "<tr><td>StackedEnsemble_BestOfFamily_AutoML_20190418_132524</td><td style=\"text-align: right;\">                0.216875</td><td style=\"text-align: right;\">0.465698</td><td style=\"text-align: right;\">0.216875</td><td style=\"text-align: right;\">0.217555</td><td style=\"text-align: right;\">0.0878519</td></tr>\n",
       "<tr><td>StackedEnsemble_AllModels_AutoML_20190418_132524   </td><td style=\"text-align: right;\">                0.216875</td><td style=\"text-align: right;\">0.465698</td><td style=\"text-align: right;\">0.216875</td><td style=\"text-align: right;\">0.217555</td><td style=\"text-align: right;\">0.0878519</td></tr>\n",
       "<tr><td>XGBoost_1_AutoML_20190418_135050                   </td><td style=\"text-align: right;\">                0.219316</td><td style=\"text-align: right;\">0.468312</td><td style=\"text-align: right;\">0.219316</td><td style=\"text-align: right;\">0.219897</td><td style=\"text-align: right;\">0.0844326</td></tr>\n",
       "</tbody>\n",
       "</table>"
      ]
     },
     "metadata": {},
     "output_type": "display_data"
    },
    {
     "data": {
      "text/plain": []
     },
     "execution_count": 129,
     "metadata": {},
     "output_type": "execute_result"
    }
   ],
   "source": [
    "aml3.leaderboard"
   ]
  },
  {
   "cell_type": "code",
   "execution_count": 130,
   "metadata": {},
   "outputs": [
    {
     "data": {
      "text/plain": [
       "0                      XGBoost_3_AutoML_20190418_142243\n",
       "1                      XGBoost_3_AutoML_20190418_140346\n",
       "2         XGBoost_grid_1_AutoML_20190418_140346_model_1\n",
       "3                      XGBoost_2_AutoML_20190418_135050\n",
       "4                      XGBoost_2_AutoML_20190418_142243\n",
       "5                      XGBoost_2_AutoML_20190418_140346\n",
       "6         XGBoost_grid_1_AutoML_20190418_142243_model_1\n",
       "7     StackedEnsemble_BestOfFamily_AutoML_20190418_1...\n",
       "8      StackedEnsemble_AllModels_AutoML_20190418_132524\n",
       "9                      XGBoost_1_AutoML_20190418_135050\n",
       "10                     XGBoost_1_AutoML_20190418_132524\n",
       "11                     XGBoost_1_AutoML_20190418_142243\n",
       "12                     XGBoost_1_AutoML_20190418_140346\n",
       "13                         DRF_1_AutoML_20190418_140346\n",
       "14                         DRF_1_AutoML_20190418_132524\n",
       "15                         DRF_1_AutoML_20190418_135050\n",
       "16                         GBM_3_AutoML_20190418_140346\n",
       "17                         GBM_4_AutoML_20190418_142243\n",
       "18                         DRF_1_AutoML_20190418_142243\n",
       "19                         GBM_1_AutoML_20190418_142243\n",
       "20                         GBM_2_AutoML_20190418_140346\n",
       "21                         GBM_4_AutoML_20190418_140346\n",
       "22                         GBM_3_AutoML_20190418_142243\n",
       "23            GBM_grid_1_AutoML_20190418_140346_model_1\n",
       "24                         GBM_5_AutoML_20190418_142243\n",
       "25                         GBM_2_AutoML_20190418_142243\n",
       "26                         GBM_5_AutoML_20190418_140346\n",
       "27                         GBM_1_AutoML_20190418_140346\n",
       "28            GBM_grid_1_AutoML_20190418_142243_model_2\n",
       "29            GBM_grid_1_AutoML_20190418_140346_model_2\n",
       "30            GBM_grid_1_AutoML_20190418_142243_model_1\n",
       "31            GBM_grid_1_AutoML_20190418_140346_model_3\n",
       "32            GLM_grid_1_AutoML_20190418_142243_model_1\n",
       "33            GLM_grid_1_AutoML_20190418_135050_model_1\n",
       "34            GLM_grid_1_AutoML_20190418_140346_model_1\n",
       "35            GBM_grid_1_AutoML_20190418_142243_model_3\n",
       "36            GLM_grid_1_AutoML_20190418_132524_model_1\n",
       "37        XGBoost_grid_1_AutoML_20190418_142243_model_2\n",
       "38            GBM_grid_1_AutoML_20190418_140346_model_4\n",
       "39                         XRT_1_AutoML_20190418_142243\n",
       "40                         XRT_1_AutoML_20190418_132524\n",
       "41        XGBoost_grid_1_AutoML_20190418_142243_model_3\n",
       "42                         XRT_1_AutoML_20190418_140346\n",
       "43                         XRT_1_AutoML_20190418_135050\n",
       "44        XGBoost_grid_1_AutoML_20190418_140346_model_2\n",
       "Name: model_id, dtype: object"
      ]
     },
     "execution_count": 130,
     "metadata": {},
     "output_type": "execute_result"
    }
   ],
   "source": [
    "aml3_leaderboard_df=aml3.leaderboard.as_data_frame()\n",
    "model3_set=aml3_leaderboard_df['model_id']\n",
    "model3_set"
   ]
  },
  {
   "cell_type": "code",
   "execution_count": 131,
   "metadata": {},
   "outputs": [],
   "source": [
    "length = len(aml3_leaderboard_df)\n",
    "length\n",
    "meta_data[\"models_generated\"] = length"
   ]
  },
  {
   "cell_type": "code",
   "execution_count": 132,
   "metadata": {},
   "outputs": [],
   "source": [
    "# save leaderboard\n",
    "leaderboard_stats=run_id+'_leaderboard_1000.csv'\n",
    "aml3_leaderboard_df.to_csv(leaderboard_stats)"
   ]
  },
  {
   "cell_type": "code",
   "execution_count": 133,
   "metadata": {},
   "outputs": [],
   "source": [
    "count = 0;\n",
    "for i in model3_set:\n",
    "    count = count+1;"
   ]
  },
  {
   "cell_type": "code",
   "execution_count": 134,
   "metadata": {},
   "outputs": [],
   "source": [
    "for i in range(0,count):\n",
    "    mod_best=h2o.get_model(model3_set[i])\n",
    "    parameters = mod_best.params\n",
    "    n= str((model3_set[i]))+'__1000'\n",
    "    dict_to_json(parameters,n)"
   ]
  },
  {
   "cell_type": "code",
   "execution_count": 135,
   "metadata": {},
   "outputs": [
    {
     "data": {
      "text/plain": [
       "{'start_time': 1555611747.5302348,\n",
       " 'target': 'score',\n",
       " 'data_path': 'anime_filtered.csv',\n",
       " 'run_time': 1000,\n",
       " 'run_id': '1000_RUNTIME',\n",
       " 'regression': True,\n",
       " 'scale': False,\n",
       " 'project': 'Anime1000_RUNTIME',\n",
       " 'end_time': 1555612697.375198,\n",
       " 'execution_time': 949.8449630737305,\n",
       " 'run_path': '/Users/vaish/1000_RUNTIME',\n",
       " 'min_mem_size': 5,\n",
       " 'server_path': '/Users/vaish/1000_RUNTIME',\n",
       " 'X': ['anime_id',\n",
       "  'title',\n",
       "  'title_english',\n",
       "  'title_japanese',\n",
       "  'title_synonyms',\n",
       "  'image_url',\n",
       "  'type',\n",
       "  'source',\n",
       "  'episodes',\n",
       "  'status',\n",
       "  'airing',\n",
       "  'aired_string',\n",
       "  'aired',\n",
       "  'duration',\n",
       "  'rating',\n",
       "  'scored_by',\n",
       "  'rank',\n",
       "  'popularity',\n",
       "  'members',\n",
       "  'favorites',\n",
       "  'background',\n",
       "  'premiered',\n",
       "  'broadcast',\n",
       "  'related',\n",
       "  'producer',\n",
       "  'licensor',\n",
       "  'studio',\n",
       "  'genre',\n",
       "  'opening_theme',\n",
       "  'ending_theme'],\n",
       " 'models_generated': 45}"
      ]
     },
     "execution_count": 135,
     "metadata": {},
     "output_type": "execute_result"
    }
   ],
   "source": [
    "# Update and save meta data\n",
    "\n",
    "\n",
    "  \n",
    "n=run_id+'_meta_data.json'\n",
    "dict_to_json(meta_data,n)\n",
    "meta_data"
   ]
  },
  {
   "cell_type": "code",
   "execution_count": null,
   "metadata": {},
   "outputs": [],
   "source": []
  },
  {
   "cell_type": "markdown",
   "metadata": {},
   "source": [
    "## Run Time = 1300 seconds"
   ]
  },
  {
   "cell_type": "code",
   "execution_count": 136,
   "metadata": {},
   "outputs": [],
   "source": [
    "os.chdir(\"/Users/vaish\")\n",
    "run_id='1300_RUNTIME'\n",
    "    \n",
    "    \n",
    "#os.chdir(server_path) \n",
    "server_path=None;\n",
    "\n",
    "os.mkdir(run_id)\n",
    "os.chdir(run_id)    \n",
    "\n",
    "\n",
    "name = 'Anime'+run_id\n",
    "server_path"
   ]
  },
  {
   "cell_type": "code",
   "execution_count": 137,
   "metadata": {},
   "outputs": [],
   "source": [
    "if server_path==None:\n",
    "    server_path=os.path.abspath(\"/Users/vaish\")\n",
    "run_dir = os.path.join(server_path,run_id)"
   ]
  },
  {
   "cell_type": "code",
   "execution_count": 138,
   "metadata": {},
   "outputs": [
    {
     "name": "stdout",
     "output_type": "stream",
     "text": [
      "{'start_time': 1555612948.8270872, 'target': 'score', 'data_path': 'anime_filtered.csv', 'run_time': 100, 'run_id': '1300_RUNTIME', 'regression': True, 'scale': False, 'project': 'Anime1300_RUNTIME', 'end_time': 1555612948.827115, 'execution_time': 0.0, 'run_path': '/Users/vaish/1300_RUNTIME', 'min_mem_size': 5}\n"
     ]
    }
   ],
   "source": [
    "meta_data = set_meta_data(run_id,data_path,target,run_time,regression,name,run_dir,min_mem_size)\n",
    "print(meta_data)"
   ]
  },
  {
   "cell_type": "code",
   "execution_count": 139,
   "metadata": {},
   "outputs": [],
   "source": [
    "server_path=os.path.abspath(os.curdir)\n",
    "meta_data['server_path'] = server_path\n",
    "meta_data['X']=X  \n",
    "meta_data['run_time'] = 1300\n",
    "model_start_time = time.time()"
   ]
  },
  {
   "cell_type": "code",
   "execution_count": 140,
   "metadata": {},
   "outputs": [
    {
     "name": "stdout",
     "output_type": "stream",
     "text": [
      "AutoML progress: |████████████████████████████████████████████████████████| 100%\n"
     ]
    }
   ],
   "source": [
    "aml4 = automl(1300,X,y,df)"
   ]
  },
  {
   "cell_type": "code",
   "execution_count": 141,
   "metadata": {},
   "outputs": [],
   "source": [
    "meta_data['end_time'] = time.time()\n",
    "meta_data['execution_time'] = meta_data['end_time'] - meta_data['start_time']"
   ]
  },
  {
   "cell_type": "code",
   "execution_count": 142,
   "metadata": {},
   "outputs": [
    {
     "data": {
      "text/html": [
       "<table>\n",
       "<thead>\n",
       "<tr><th>model_id                                     </th><th style=\"text-align: right;\">  mean_residual_deviance</th><th style=\"text-align: right;\">    rmse</th><th style=\"text-align: right;\">     mse</th><th style=\"text-align: right;\">     mae</th><th style=\"text-align: right;\">    rmsle</th></tr>\n",
       "</thead>\n",
       "<tbody>\n",
       "<tr><td>XGBoost_3_AutoML_20190418_142243             </td><td style=\"text-align: right;\">                0.195239</td><td style=\"text-align: right;\">0.441858</td><td style=\"text-align: right;\">0.195239</td><td style=\"text-align: right;\">0.196002</td><td style=\"text-align: right;\">0.0793644</td></tr>\n",
       "<tr><td>XGBoost_3_AutoML_20190418_144229             </td><td style=\"text-align: right;\">                0.196313</td><td style=\"text-align: right;\">0.443072</td><td style=\"text-align: right;\">0.196313</td><td style=\"text-align: right;\">0.195386</td><td style=\"text-align: right;\">0.0799686</td></tr>\n",
       "<tr><td>XGBoost_3_AutoML_20190418_140346             </td><td style=\"text-align: right;\">                0.196366</td><td style=\"text-align: right;\">0.443132</td><td style=\"text-align: right;\">0.196366</td><td style=\"text-align: right;\">0.195467</td><td style=\"text-align: right;\">0.0793003</td></tr>\n",
       "<tr><td>XGBoost_grid_1_AutoML_20190418_140346_model_1</td><td style=\"text-align: right;\">                0.201388</td><td style=\"text-align: right;\">0.448762</td><td style=\"text-align: right;\">0.201388</td><td style=\"text-align: right;\">0.197417</td><td style=\"text-align: right;\">0.0798868</td></tr>\n",
       "<tr><td>XGBoost_2_AutoML_20190418_135050             </td><td style=\"text-align: right;\">                0.202491</td><td style=\"text-align: right;\">0.44999 </td><td style=\"text-align: right;\">0.202491</td><td style=\"text-align: right;\">0.202766</td><td style=\"text-align: right;\">0.0795664</td></tr>\n",
       "<tr><td>XGBoost_2_AutoML_20190418_144229             </td><td style=\"text-align: right;\">                0.204362</td><td style=\"text-align: right;\">0.452064</td><td style=\"text-align: right;\">0.204362</td><td style=\"text-align: right;\">0.202908</td><td style=\"text-align: right;\">0.0810301</td></tr>\n",
       "<tr><td>XGBoost_2_AutoML_20190418_142243             </td><td style=\"text-align: right;\">                0.204895</td><td style=\"text-align: right;\">0.452653</td><td style=\"text-align: right;\">0.204895</td><td style=\"text-align: right;\">0.203246</td><td style=\"text-align: right;\">0.0804148</td></tr>\n",
       "<tr><td>XGBoost_grid_1_AutoML_20190418_144229_model_1</td><td style=\"text-align: right;\">                0.205175</td><td style=\"text-align: right;\">0.452962</td><td style=\"text-align: right;\">0.205175</td><td style=\"text-align: right;\">0.194991</td><td style=\"text-align: right;\">0.0814935</td></tr>\n",
       "<tr><td>XGBoost_2_AutoML_20190418_140346             </td><td style=\"text-align: right;\">                0.205276</td><td style=\"text-align: right;\">0.453074</td><td style=\"text-align: right;\">0.205276</td><td style=\"text-align: right;\">0.206034</td><td style=\"text-align: right;\">0.0810562</td></tr>\n",
       "<tr><td>XGBoost_grid_1_AutoML_20190418_142243_model_1</td><td style=\"text-align: right;\">                0.215551</td><td style=\"text-align: right;\">0.464275</td><td style=\"text-align: right;\">0.215551</td><td style=\"text-align: right;\">0.216542</td><td style=\"text-align: right;\">0.0857264</td></tr>\n",
       "</tbody>\n",
       "</table>"
      ]
     },
     "metadata": {},
     "output_type": "display_data"
    },
    {
     "data": {
      "text/plain": []
     },
     "execution_count": 142,
     "metadata": {},
     "output_type": "execute_result"
    }
   ],
   "source": [
    "aml4.leaderboard"
   ]
  },
  {
   "cell_type": "code",
   "execution_count": 143,
   "metadata": {},
   "outputs": [
    {
     "data": {
      "text/plain": [
       "0                      XGBoost_3_AutoML_20190418_142243\n",
       "1                      XGBoost_3_AutoML_20190418_144229\n",
       "2                      XGBoost_3_AutoML_20190418_140346\n",
       "3         XGBoost_grid_1_AutoML_20190418_140346_model_1\n",
       "4                      XGBoost_2_AutoML_20190418_135050\n",
       "5                      XGBoost_2_AutoML_20190418_144229\n",
       "6                      XGBoost_2_AutoML_20190418_142243\n",
       "7         XGBoost_grid_1_AutoML_20190418_144229_model_1\n",
       "8                      XGBoost_2_AutoML_20190418_140346\n",
       "9         XGBoost_grid_1_AutoML_20190418_142243_model_1\n",
       "10                     XGBoost_1_AutoML_20190418_144229\n",
       "11    StackedEnsemble_BestOfFamily_AutoML_20190418_1...\n",
       "12     StackedEnsemble_AllModels_AutoML_20190418_132524\n",
       "13                     XGBoost_1_AutoML_20190418_135050\n",
       "14                     XGBoost_1_AutoML_20190418_132524\n",
       "15                     XGBoost_1_AutoML_20190418_142243\n",
       "16        XGBoost_grid_1_AutoML_20190418_144229_model_2\n",
       "17                     XGBoost_1_AutoML_20190418_140346\n",
       "18                         DRF_1_AutoML_20190418_140346\n",
       "19                         DRF_1_AutoML_20190418_132524\n",
       "20                         DRF_1_AutoML_20190418_144229\n",
       "21                         DRF_1_AutoML_20190418_135050\n",
       "22                         GBM_3_AutoML_20190418_140346\n",
       "23            GBM_grid_1_AutoML_20190418_144229_model_1\n",
       "24                         GBM_4_AutoML_20190418_142243\n",
       "25                         DRF_1_AutoML_20190418_142243\n",
       "26                         GBM_1_AutoML_20190418_142243\n",
       "27                         GBM_2_AutoML_20190418_140346\n",
       "28                         GBM_4_AutoML_20190418_144229\n",
       "29            GBM_grid_1_AutoML_20190418_144229_model_2\n",
       "                            ...                        \n",
       "35            GBM_grid_1_AutoML_20190418_140346_model_1\n",
       "36                         GBM_5_AutoML_20190418_142243\n",
       "37                         GBM_5_AutoML_20190418_144229\n",
       "38                         GBM_2_AutoML_20190418_142243\n",
       "39                         GBM_5_AutoML_20190418_140346\n",
       "40                         GBM_1_AutoML_20190418_140346\n",
       "41            GBM_grid_1_AutoML_20190418_144229_model_4\n",
       "42            GBM_grid_1_AutoML_20190418_142243_model_2\n",
       "43            GBM_grid_1_AutoML_20190418_144229_model_3\n",
       "44        XGBoost_grid_1_AutoML_20190418_144229_model_4\n",
       "45            GBM_grid_1_AutoML_20190418_140346_model_2\n",
       "46            GBM_grid_1_AutoML_20190418_142243_model_1\n",
       "47            GBM_grid_1_AutoML_20190418_140346_model_3\n",
       "48            GLM_grid_1_AutoML_20190418_135050_model_1\n",
       "49            GLM_grid_1_AutoML_20190418_144229_model_1\n",
       "50            GLM_grid_1_AutoML_20190418_142243_model_1\n",
       "51            GLM_grid_1_AutoML_20190418_140346_model_1\n",
       "52            GBM_grid_1_AutoML_20190418_142243_model_3\n",
       "53            GLM_grid_1_AutoML_20190418_132524_model_1\n",
       "54        XGBoost_grid_1_AutoML_20190418_142243_model_2\n",
       "55            GBM_grid_1_AutoML_20190418_144229_model_5\n",
       "56            GBM_grid_1_AutoML_20190418_140346_model_4\n",
       "57                         XRT_1_AutoML_20190418_142243\n",
       "58                         XRT_1_AutoML_20190418_144229\n",
       "59                         XRT_1_AutoML_20190418_132524\n",
       "60        XGBoost_grid_1_AutoML_20190418_142243_model_3\n",
       "61                         XRT_1_AutoML_20190418_140346\n",
       "62                         XRT_1_AutoML_20190418_135050\n",
       "63        XGBoost_grid_1_AutoML_20190418_140346_model_2\n",
       "64        XGBoost_grid_1_AutoML_20190418_144229_model_3\n",
       "Name: model_id, Length: 65, dtype: object"
      ]
     },
     "execution_count": 143,
     "metadata": {},
     "output_type": "execute_result"
    }
   ],
   "source": [
    "aml4_leaderboard_df=aml4.leaderboard.as_data_frame()\n",
    "model4_set=aml4_leaderboard_df['model_id']\n",
    "model4_set"
   ]
  },
  {
   "cell_type": "code",
   "execution_count": 144,
   "metadata": {},
   "outputs": [],
   "source": [
    "length = len(aml4_leaderboard_df)\n",
    "length\n",
    "meta_data[\"models_generated\"] = length"
   ]
  },
  {
   "cell_type": "code",
   "execution_count": 145,
   "metadata": {},
   "outputs": [],
   "source": [
    "# save leaderboard\n",
    "leaderboard_stats=run_id+'_leaderboard_1300.csv'\n",
    "aml4_leaderboard_df.to_csv(leaderboard_stats)"
   ]
  },
  {
   "cell_type": "code",
   "execution_count": 146,
   "metadata": {},
   "outputs": [],
   "source": [
    "count = 0;\n",
    "for i in model4_set:\n",
    "    count = count+1;"
   ]
  },
  {
   "cell_type": "code",
   "execution_count": 147,
   "metadata": {},
   "outputs": [],
   "source": [
    "for i in range(0,count):\n",
    "    mod_best=h2o.get_model(model4_set[i])\n",
    "    parameters = mod_best.params\n",
    "    n= str((model4_set[i]))+'__1300'\n",
    "    dict_to_json(parameters,n)"
   ]
  },
  {
   "cell_type": "code",
   "execution_count": 148,
   "metadata": {},
   "outputs": [
    {
     "data": {
      "text/plain": [
       "{'start_time': 1555612948.8270872,\n",
       " 'target': 'score',\n",
       " 'data_path': 'anime_filtered.csv',\n",
       " 'run_time': 1300,\n",
       " 'run_id': '1300_RUNTIME',\n",
       " 'regression': True,\n",
       " 'scale': False,\n",
       " 'project': 'Anime1300_RUNTIME',\n",
       " 'end_time': 1555614164.644346,\n",
       " 'execution_time': 1215.8172588348389,\n",
       " 'run_path': '/Users/vaish/1300_RUNTIME',\n",
       " 'min_mem_size': 5,\n",
       " 'server_path': '/Users/vaish/1300_RUNTIME',\n",
       " 'X': ['anime_id',\n",
       "  'title',\n",
       "  'title_english',\n",
       "  'title_japanese',\n",
       "  'title_synonyms',\n",
       "  'image_url',\n",
       "  'type',\n",
       "  'source',\n",
       "  'episodes',\n",
       "  'status',\n",
       "  'airing',\n",
       "  'aired_string',\n",
       "  'aired',\n",
       "  'duration',\n",
       "  'rating',\n",
       "  'scored_by',\n",
       "  'rank',\n",
       "  'popularity',\n",
       "  'members',\n",
       "  'favorites',\n",
       "  'background',\n",
       "  'premiered',\n",
       "  'broadcast',\n",
       "  'related',\n",
       "  'producer',\n",
       "  'licensor',\n",
       "  'studio',\n",
       "  'genre',\n",
       "  'opening_theme',\n",
       "  'ending_theme'],\n",
       " 'models_generated': 65}"
      ]
     },
     "execution_count": 148,
     "metadata": {},
     "output_type": "execute_result"
    }
   ],
   "source": [
    "# Update and save meta data\n",
    "\n",
    "  \n",
    "n=run_id+'_meta_data.json'\n",
    "dict_to_json(meta_data,n)\n",
    "meta_data"
   ]
  },
  {
   "cell_type": "markdown",
   "metadata": {},
   "source": [
    "## Run Time = 1500 seconds "
   ]
  },
  {
   "cell_type": "code",
   "execution_count": 149,
   "metadata": {},
   "outputs": [],
   "source": [
    "os.chdir(\"/Users/vaish\")\n",
    "run_id='1500_RUNTIME'\n",
    "    \n",
    "    \n",
    "#os.chdir(server_path) \n",
    "server_path=None;\n",
    "\n",
    "os.mkdir(run_id)\n",
    "os.chdir(run_id)    \n",
    "\n",
    "\n",
    "name = 'Anime'+run_id\n",
    "server_path"
   ]
  },
  {
   "cell_type": "code",
   "execution_count": 150,
   "metadata": {},
   "outputs": [],
   "source": [
    "if server_path==None:\n",
    "    server_path=os.path.abspath(\"/Users/vaish\")\n",
    "run_dir = os.path.join(server_path,run_id)"
   ]
  },
  {
   "cell_type": "code",
   "execution_count": 151,
   "metadata": {},
   "outputs": [
    {
     "name": "stdout",
     "output_type": "stream",
     "text": [
      "{'start_time': 1555614176.6865852, 'target': 'score', 'data_path': 'anime_filtered.csv', 'run_time': 100, 'run_id': '1500_RUNTIME', 'regression': True, 'scale': False, 'project': 'Anime1500_RUNTIME', 'end_time': 1555614176.6865869, 'execution_time': 0.0, 'run_path': '/Users/vaish/1500_RUNTIME', 'min_mem_size': 5}\n"
     ]
    }
   ],
   "source": [
    "meta_data = set_meta_data(run_id,data_path,target,run_time,regression,name,run_dir,min_mem_size)\n",
    "print(meta_data)"
   ]
  },
  {
   "cell_type": "code",
   "execution_count": 152,
   "metadata": {},
   "outputs": [],
   "source": [
    "server_path=os.path.abspath(os.curdir)\n",
    "meta_data['server_path'] = server_path\n",
    "meta_data['X']=X  \n",
    "meta_data['run_time'] = 1500\n",
    "model_start_time = time.time()"
   ]
  },
  {
   "cell_type": "code",
   "execution_count": 153,
   "metadata": {},
   "outputs": [
    {
     "name": "stdout",
     "output_type": "stream",
     "text": [
      "AutoML progress: |████████████████████████████████████████████████████████| 100%\n"
     ]
    }
   ],
   "source": [
    "aml5 = automl(1500,X,y,df)"
   ]
  },
  {
   "cell_type": "code",
   "execution_count": 154,
   "metadata": {},
   "outputs": [],
   "source": [
    "meta_data['end_time'] = time.time()\n",
    "meta_data['execution_time'] = meta_data['end_time'] - meta_data['start_time']"
   ]
  },
  {
   "cell_type": "code",
   "execution_count": 155,
   "metadata": {},
   "outputs": [
    {
     "data": {
      "text/html": [
       "<table>\n",
       "<thead>\n",
       "<tr><th>model_id                                     </th><th style=\"text-align: right;\">  mean_residual_deviance</th><th style=\"text-align: right;\">    rmse</th><th style=\"text-align: right;\">     mse</th><th style=\"text-align: right;\">     mae</th><th style=\"text-align: right;\">    rmsle</th></tr>\n",
       "</thead>\n",
       "<tbody>\n",
       "<tr><td>XGBoost_3_AutoML_20190418_142243             </td><td style=\"text-align: right;\">                0.195239</td><td style=\"text-align: right;\">0.441858</td><td style=\"text-align: right;\">0.195239</td><td style=\"text-align: right;\">0.196002</td><td style=\"text-align: right;\">0.0793644</td></tr>\n",
       "<tr><td>XGBoost_grid_1_AutoML_20190418_150256_model_2</td><td style=\"text-align: right;\">                0.19621 </td><td style=\"text-align: right;\">0.442956</td><td style=\"text-align: right;\">0.19621 </td><td style=\"text-align: right;\">0.200008</td><td style=\"text-align: right;\">0.0802531</td></tr>\n",
       "<tr><td>XGBoost_3_AutoML_20190418_144229             </td><td style=\"text-align: right;\">                0.196313</td><td style=\"text-align: right;\">0.443072</td><td style=\"text-align: right;\">0.196313</td><td style=\"text-align: right;\">0.195386</td><td style=\"text-align: right;\">0.0799686</td></tr>\n",
       "<tr><td>XGBoost_3_AutoML_20190418_140346             </td><td style=\"text-align: right;\">                0.196366</td><td style=\"text-align: right;\">0.443132</td><td style=\"text-align: right;\">0.196366</td><td style=\"text-align: right;\">0.195467</td><td style=\"text-align: right;\">0.0793003</td></tr>\n",
       "<tr><td>XGBoost_3_AutoML_20190418_150256             </td><td style=\"text-align: right;\">                0.196792</td><td style=\"text-align: right;\">0.443612</td><td style=\"text-align: right;\">0.196792</td><td style=\"text-align: right;\">0.197304</td><td style=\"text-align: right;\">0.0800835</td></tr>\n",
       "<tr><td>XGBoost_grid_1_AutoML_20190418_140346_model_1</td><td style=\"text-align: right;\">                0.201388</td><td style=\"text-align: right;\">0.448762</td><td style=\"text-align: right;\">0.201388</td><td style=\"text-align: right;\">0.197417</td><td style=\"text-align: right;\">0.0798868</td></tr>\n",
       "<tr><td>XGBoost_2_AutoML_20190418_135050             </td><td style=\"text-align: right;\">                0.202491</td><td style=\"text-align: right;\">0.44999 </td><td style=\"text-align: right;\">0.202491</td><td style=\"text-align: right;\">0.202766</td><td style=\"text-align: right;\">0.0795664</td></tr>\n",
       "<tr><td>XGBoost_2_AutoML_20190418_150256             </td><td style=\"text-align: right;\">                0.202636</td><td style=\"text-align: right;\">0.450151</td><td style=\"text-align: right;\">0.202636</td><td style=\"text-align: right;\">0.202175</td><td style=\"text-align: right;\">0.0805979</td></tr>\n",
       "<tr><td>XGBoost_2_AutoML_20190418_144229             </td><td style=\"text-align: right;\">                0.204362</td><td style=\"text-align: right;\">0.452064</td><td style=\"text-align: right;\">0.204362</td><td style=\"text-align: right;\">0.202908</td><td style=\"text-align: right;\">0.0810301</td></tr>\n",
       "<tr><td>XGBoost_grid_1_AutoML_20190418_150256_model_5</td><td style=\"text-align: right;\">                0.204612</td><td style=\"text-align: right;\">0.45234 </td><td style=\"text-align: right;\">0.204612</td><td style=\"text-align: right;\">0.229776</td><td style=\"text-align: right;\">0.0823881</td></tr>\n",
       "</tbody>\n",
       "</table>"
      ]
     },
     "metadata": {},
     "output_type": "display_data"
    },
    {
     "data": {
      "text/plain": []
     },
     "execution_count": 155,
     "metadata": {},
     "output_type": "execute_result"
    }
   ],
   "source": [
    "aml5.leaderboard"
   ]
  },
  {
   "cell_type": "code",
   "execution_count": 156,
   "metadata": {},
   "outputs": [
    {
     "data": {
      "text/plain": [
       "0                      XGBoost_3_AutoML_20190418_142243\n",
       "1         XGBoost_grid_1_AutoML_20190418_150256_model_2\n",
       "2                      XGBoost_3_AutoML_20190418_144229\n",
       "3                      XGBoost_3_AutoML_20190418_140346\n",
       "4                      XGBoost_3_AutoML_20190418_150256\n",
       "5         XGBoost_grid_1_AutoML_20190418_140346_model_1\n",
       "6                      XGBoost_2_AutoML_20190418_135050\n",
       "7                      XGBoost_2_AutoML_20190418_150256\n",
       "8                      XGBoost_2_AutoML_20190418_144229\n",
       "9         XGBoost_grid_1_AutoML_20190418_150256_model_5\n",
       "10                     XGBoost_2_AutoML_20190418_142243\n",
       "11        XGBoost_grid_1_AutoML_20190418_144229_model_1\n",
       "12                     XGBoost_2_AutoML_20190418_140346\n",
       "13        XGBoost_grid_1_AutoML_20190418_142243_model_1\n",
       "14                     XGBoost_1_AutoML_20190418_144229\n",
       "15    StackedEnsemble_BestOfFamily_AutoML_20190418_1...\n",
       "16     StackedEnsemble_AllModels_AutoML_20190418_132524\n",
       "17                     XGBoost_1_AutoML_20190418_150256\n",
       "18                     XGBoost_1_AutoML_20190418_135050\n",
       "19                     XGBoost_1_AutoML_20190418_132524\n",
       "20                     XGBoost_1_AutoML_20190418_142243\n",
       "21        XGBoost_grid_1_AutoML_20190418_144229_model_2\n",
       "22                     XGBoost_1_AutoML_20190418_140346\n",
       "23        XGBoost_grid_1_AutoML_20190418_150256_model_1\n",
       "24                         DRF_1_AutoML_20190418_140346\n",
       "25                         GBM_1_AutoML_20190418_150256\n",
       "26                         DRF_1_AutoML_20190418_132524\n",
       "27                         GBM_4_AutoML_20190418_150256\n",
       "28                         DRF_1_AutoML_20190418_150256\n",
       "29                         DRF_1_AutoML_20190418_144229\n",
       "                            ...                        \n",
       "58            GBM_grid_1_AutoML_20190418_144229_model_3\n",
       "59            GBM_grid_1_AutoML_20190418_150256_model_4\n",
       "60        XGBoost_grid_1_AutoML_20190418_144229_model_4\n",
       "61            GBM_grid_1_AutoML_20190418_140346_model_2\n",
       "62            GBM_grid_1_AutoML_20190418_142243_model_1\n",
       "63            GBM_grid_1_AutoML_20190418_150256_model_2\n",
       "64            GBM_grid_1_AutoML_20190418_140346_model_3\n",
       "65        XGBoost_grid_1_AutoML_20190418_150256_model_3\n",
       "66            GLM_grid_1_AutoML_20190418_150256_model_1\n",
       "67            GLM_grid_1_AutoML_20190418_135050_model_1\n",
       "68            GLM_grid_1_AutoML_20190418_144229_model_1\n",
       "69            GLM_grid_1_AutoML_20190418_142243_model_1\n",
       "70            GLM_grid_1_AutoML_20190418_140346_model_1\n",
       "71            GBM_grid_1_AutoML_20190418_142243_model_3\n",
       "72            GLM_grid_1_AutoML_20190418_132524_model_1\n",
       "73        XGBoost_grid_1_AutoML_20190418_142243_model_2\n",
       "74            GBM_grid_1_AutoML_20190418_144229_model_5\n",
       "75            GBM_grid_1_AutoML_20190418_150256_model_6\n",
       "76            GBM_grid_1_AutoML_20190418_150256_model_7\n",
       "77            GBM_grid_1_AutoML_20190418_140346_model_4\n",
       "78                         XRT_1_AutoML_20190418_142243\n",
       "79                         XRT_1_AutoML_20190418_144229\n",
       "80                         XRT_1_AutoML_20190418_132524\n",
       "81        XGBoost_grid_1_AutoML_20190418_142243_model_3\n",
       "82                         XRT_1_AutoML_20190418_140346\n",
       "83                         XRT_1_AutoML_20190418_150256\n",
       "84                         XRT_1_AutoML_20190418_135050\n",
       "85        XGBoost_grid_1_AutoML_20190418_140346_model_2\n",
       "86        XGBoost_grid_1_AutoML_20190418_150256_model_4\n",
       "87        XGBoost_grid_1_AutoML_20190418_144229_model_3\n",
       "Name: model_id, Length: 88, dtype: object"
      ]
     },
     "execution_count": 156,
     "metadata": {},
     "output_type": "execute_result"
    }
   ],
   "source": [
    "aml5_leaderboard_df=aml5.leaderboard.as_data_frame()\n",
    "model5_set=aml5_leaderboard_df['model_id']\n",
    "model5_set"
   ]
  },
  {
   "cell_type": "code",
   "execution_count": 157,
   "metadata": {},
   "outputs": [],
   "source": [
    "length = len(aml5_leaderboard_df)\n",
    "length\n",
    "meta_data[\"models_generated\"] = length"
   ]
  },
  {
   "cell_type": "code",
   "execution_count": 158,
   "metadata": {},
   "outputs": [],
   "source": [
    "# save leaderboard\n",
    "leaderboard_stats=run_id+'_leaderboard_1500.csv'\n",
    "aml5_leaderboard_df.to_csv(leaderboard_stats)"
   ]
  },
  {
   "cell_type": "code",
   "execution_count": 159,
   "metadata": {},
   "outputs": [],
   "source": [
    "count = 0;\n",
    "for i in model5_set:\n",
    "    count = count+1;"
   ]
  },
  {
   "cell_type": "code",
   "execution_count": 160,
   "metadata": {},
   "outputs": [],
   "source": [
    "for i in range(0,count):\n",
    "    mod_best=h2o.get_model(model5_set[i])\n",
    "    parameters = mod_best.params\n",
    "    n= str((model5_set[i]))+'__1500'\n",
    "    dict_to_json(parameters,n)"
   ]
  },
  {
   "cell_type": "code",
   "execution_count": 161,
   "metadata": {},
   "outputs": [
    {
     "data": {
      "text/plain": [
       "{'start_time': 1555614176.6865852,\n",
       " 'target': 'score',\n",
       " 'data_path': 'anime_filtered.csv',\n",
       " 'run_time': 1500,\n",
       " 'run_id': '1500_RUNTIME',\n",
       " 'regression': True,\n",
       " 'scale': False,\n",
       " 'project': 'Anime1500_RUNTIME',\n",
       " 'end_time': 1555615552.060034,\n",
       " 'execution_time': 1375.3734488487244,\n",
       " 'run_path': '/Users/vaish/1500_RUNTIME',\n",
       " 'min_mem_size': 5,\n",
       " 'server_path': '/Users/vaish/1500_RUNTIME',\n",
       " 'X': ['anime_id',\n",
       "  'title',\n",
       "  'title_english',\n",
       "  'title_japanese',\n",
       "  'title_synonyms',\n",
       "  'image_url',\n",
       "  'type',\n",
       "  'source',\n",
       "  'episodes',\n",
       "  'status',\n",
       "  'airing',\n",
       "  'aired_string',\n",
       "  'aired',\n",
       "  'duration',\n",
       "  'rating',\n",
       "  'scored_by',\n",
       "  'rank',\n",
       "  'popularity',\n",
       "  'members',\n",
       "  'favorites',\n",
       "  'background',\n",
       "  'premiered',\n",
       "  'broadcast',\n",
       "  'related',\n",
       "  'producer',\n",
       "  'licensor',\n",
       "  'studio',\n",
       "  'genre',\n",
       "  'opening_theme',\n",
       "  'ending_theme'],\n",
       " 'models_generated': 88}"
      ]
     },
     "execution_count": 161,
     "metadata": {},
     "output_type": "execute_result"
    }
   ],
   "source": [
    "# Update and save meta data  \n",
    "n=run_id+'_meta_data.json'\n",
    "dict_to_json(meta_data,n)\n",
    "meta_data"
   ]
  },
  {
   "cell_type": "code",
   "execution_count": null,
   "metadata": {},
   "outputs": [],
   "source": []
  }
 ],
 "metadata": {
  "kernelspec": {
   "display_name": "Python 3",
   "language": "python",
   "name": "python3"
  },
  "language_info": {
   "codemirror_mode": {
    "name": "ipython",
    "version": 3
   },
   "file_extension": ".py",
   "mimetype": "text/x-python",
   "name": "python",
   "nbconvert_exporter": "python",
   "pygments_lexer": "ipython3",
   "version": "3.7.1"
  }
 },
 "nbformat": 4,
 "nbformat_minor": 2
}
