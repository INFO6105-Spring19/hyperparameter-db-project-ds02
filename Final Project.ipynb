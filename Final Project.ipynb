{
 "cells": [
  {
   "cell_type": "code",
   "execution_count": 1,
   "metadata": {},
   "outputs": [],
   "source": [
    "import h2o\n",
    "from h2o.automl import H2OAutoML\n",
    "import random, os, sys\n",
    "from datetime import datetime\n",
    "import pandas as pd\n",
    "import logging\n",
    "import csv\n",
    "import optparse\n",
    "import time\n",
    "import json\n",
    "from distutils.util import strtobool\n",
    "import psutil\n",
    "\n",
    "import warnings\n",
    "warnings.filterwarnings('ignore')\n",
    "\n"
   ]
  },
  {
   "cell_type": "code",
   "execution_count": 2,
   "metadata": {},
   "outputs": [
    {
     "name": "stdout",
     "output_type": "stream",
     "text": [
      "Checking whether there is an H2O instance running at http://localhost:14192..... not found.\n",
      "Attempting to start a local H2O server...\n",
      "  Java Version: java version \"1.8.0_101\"; Java(TM) SE Runtime Environment (build 1.8.0_101-b13); Java HotSpot(TM) 64-Bit Server VM (build 25.101-b13, mixed mode)\n",
      "  Starting server from /Applications/anaconda3/lib/python3.7/site-packages/h2o/backend/bin/h2o.jar\n",
      "  Ice root: /var/folders/gf/p944hdxd7jq73_9cxfglxn540000gn/T/tmptpab_3fy\n",
      "  JVM stdout: /var/folders/gf/p944hdxd7jq73_9cxfglxn540000gn/T/tmptpab_3fy/h2o_vaish_started_from_python.out\n",
      "  JVM stderr: /var/folders/gf/p944hdxd7jq73_9cxfglxn540000gn/T/tmptpab_3fy/h2o_vaish_started_from_python.err\n",
      "  Server is running at http://127.0.0.1:14192\n",
      "Connecting to H2O server at http://127.0.0.1:14192... successful.\n"
     ]
    },
    {
     "data": {
      "text/html": [
       "<div style=\"overflow:auto\"><table style=\"width:50%\"><tr><td>H2O cluster uptime:</td>\n",
       "<td>02 secs</td></tr>\n",
       "<tr><td>H2O cluster timezone:</td>\n",
       "<td>America/New_York</td></tr>\n",
       "<tr><td>H2O data parsing timezone:</td>\n",
       "<td>UTC</td></tr>\n",
       "<tr><td>H2O cluster version:</td>\n",
       "<td>3.22.1.6</td></tr>\n",
       "<tr><td>H2O cluster version age:</td>\n",
       "<td>29 days </td></tr>\n",
       "<tr><td>H2O cluster name:</td>\n",
       "<td>H2O_from_python_vaish_8p06fl</td></tr>\n",
       "<tr><td>H2O cluster total nodes:</td>\n",
       "<td>1</td></tr>\n",
       "<tr><td>H2O cluster free memory:</td>\n",
       "<td>4.792 Gb</td></tr>\n",
       "<tr><td>H2O cluster total cores:</td>\n",
       "<td>8</td></tr>\n",
       "<tr><td>H2O cluster allowed cores:</td>\n",
       "<td>8</td></tr>\n",
       "<tr><td>H2O cluster status:</td>\n",
       "<td>accepting new members, healthy</td></tr>\n",
       "<tr><td>H2O connection url:</td>\n",
       "<td>http://127.0.0.1:14192</td></tr>\n",
       "<tr><td>H2O connection proxy:</td>\n",
       "<td>None</td></tr>\n",
       "<tr><td>H2O internal security:</td>\n",
       "<td>False</td></tr>\n",
       "<tr><td>H2O API Extensions:</td>\n",
       "<td>Amazon S3, XGBoost, Algos, AutoML, Core V3, Core V4</td></tr>\n",
       "<tr><td>Python version:</td>\n",
       "<td>3.7.1 final</td></tr></table></div>"
      ],
      "text/plain": [
       "--------------------------  ---------------------------------------------------\n",
       "H2O cluster uptime:         02 secs\n",
       "H2O cluster timezone:       America/New_York\n",
       "H2O data parsing timezone:  UTC\n",
       "H2O cluster version:        3.22.1.6\n",
       "H2O cluster version age:    29 days\n",
       "H2O cluster name:           H2O_from_python_vaish_8p06fl\n",
       "H2O cluster total nodes:    1\n",
       "H2O cluster free memory:    4.792 Gb\n",
       "H2O cluster total cores:    8\n",
       "H2O cluster allowed cores:  8\n",
       "H2O cluster status:         accepting new members, healthy\n",
       "H2O connection url:         http://127.0.0.1:14192\n",
       "H2O connection proxy:\n",
       "H2O internal security:      False\n",
       "H2O API Extensions:         Amazon S3, XGBoost, Algos, AutoML, Core V3, Core V4\n",
       "Python version:             3.7.1 final\n",
       "--------------------------  ---------------------------------------------------"
      ]
     },
     "metadata": {},
     "output_type": "display_data"
    }
   ],
   "source": [
    "port_no=random.randint(5555,55555)\n",
    "h2o.init(strict_version_check=False,min_mem_size_GB=5,port=port_no)"
   ]
  },
  {
   "cell_type": "code",
   "execution_count": 3,
   "metadata": {},
   "outputs": [
    {
     "name": "stdout",
     "output_type": "stream",
     "text": [
      "Parse progress: |█████████████████████████████████████████████████████████| 100%\n"
     ]
    }
   ],
   "source": [
    "#h2o.connect()\n",
    "df = h2o.import_file(path=\"anime_filtered.csv\")"
   ]
  },
  {
   "cell_type": "code",
   "execution_count": 4,
   "metadata": {},
   "outputs": [
    {
     "data": {
      "text/html": [
       "<table>\n",
       "<thead>\n",
       "<tr><th style=\"text-align: right;\">  anime_id</th><th>title                        </th><th>title_english               </th><th>title_japanese           </th><th>title_synonyms                                                             </th><th>image_url                                                 </th><th>type  </th><th>source     </th><th style=\"text-align: right;\">  episodes</th><th>status         </th><th>airing  </th><th>aired_string                </th><th>aired                                     </th><th>duration       </th><th>rating                   </th><th style=\"text-align: right;\">  score</th><th style=\"text-align: right;\">  scored_by</th><th style=\"text-align: right;\">  rank</th><th style=\"text-align: right;\">  popularity</th><th style=\"text-align: right;\">  members</th><th style=\"text-align: right;\">  favorites</th><th>background                                                                                                                                                                                                                          </th><th>premiered  </th><th>broadcast                </th><th>related                                                                                                                                                                                                                                                                                                                                                                                                                                                                                                                                                                                                                                                                                                                                                                                                                                                                                              </th><th>producer                                                                                    </th><th>licensor                                </th><th>studio                       </th><th>genre                                                </th><th>opening_theme                                                                                                                                                                                                                                                             </th><th>ending_theme                                                                                                                                                                                                                                                                                                                                                                                                                                                                                                                                                                                        </th></tr>\n",
       "</thead>\n",
       "<tbody>\n",
       "<tr><td style=\"text-align: right;\">     11013</td><td>Inu x Boku SS                </td><td>Inu X Boku Secret Service   </td><td>妖狐×僕SS                </td><td>Youko x Boku SS                                                            </td><td>https://myanimelist.cdn-dena.com/images/anime/12/35893.jpg</td><td>TV    </td><td>Manga      </td><td style=\"text-align: right;\">        12</td><td>Finished Airing</td><td>False   </td><td>Jan 13, 2012 to Mar 30, 2012</td><td>{'from': '2012-01-13', 'to': '2012-03-30'}</td><td>24 min. per ep.</td><td>PG-13 - Teens 13 or older</td><td style=\"text-align: right;\">   7.63</td><td style=\"text-align: right;\">     139250</td><td style=\"text-align: right;\">  1274</td><td style=\"text-align: right;\">         231</td><td style=\"text-align: right;\">   283882</td><td style=\"text-align: right;\">       2809</td><td>Inu x Boku SS was licensed by Sentai Filmworks for North America, while MVM Films licensed it for the United Kingdom. During April 2013, Hanabee Entertainment released the series on DVD and Blu-ray for Australia and New Zealand.</td><td>Winter 2012</td><td>Fridays at Unknown       </td><td>{'Adaptation': [{'mal_id': 17207, 'type': 'manga', 'url': 'https://myanimelist.net/manga/17207/Inu_x_Boku_SS', 'title': 'Inu x Boku SS'}], 'Sequel': [{'mal_id': 13403, 'type': 'anime', 'url': 'https://myanimelist.net/anime/13403/Inu_x_Boku_SS_Special', 'title': 'Inu x Boku SS Special'}]}                                                                                                                                                                                                                                                                                                                                                                                                                                                                                                                                                                                                     </td><td>Aniplex, Square Enix, Mainichi Broadcasting System, Movic, Inu x Boku SS Production Partners</td><td>Sentai Filmworks                        </td><td>David Production             </td><td>Comedy, Supernatural, Romance, Shounen               </td><td>['\"Nirvana\" by MUCC']                                                                                                                                                                                                                                                     </td><td>['#1: \"Nirvana\" by MUCC (eps 1, 11-12)', '#2: \"Rakuen no Photograph (楽園のPhotograph)\" by Soushi Miketsukami (Yuichi Nakamura) (eps 2, 9)', '#3: \"Kimi wa (君は)\" by Ririchiyo Shirakiin (Rina Hidaka) (eps 3, 8)', '#4: \"one way\" by Banri Watanuki (Takuya Eguchi) & Zange Natsume (Mamoru Miyano) (ep 4)', '#5: \"SM Hantei Forum (SM判定フォーラム)\" by Kagerou Shoukiin (Tomokazu Sugita) (ep 5, 10)', '#6: \"sweets parade\" by Karuta Roromiya (Kana Hanazawa) (ep 6)', '#7: \"Taiyou to Tsuki (太陽と月)\" by Renshou Sorinozuka (Yoshimasa Hosoya) & Nobara Yukinokouji (Youko Hikasa) (ep 7)']</td></tr>\n",
       "<tr><td style=\"text-align: right;\">      2104</td><td>Seto no Hanayome             </td><td>My Bride is a Mermaid       </td><td>瀬戸の花嫁               </td><td>The Inland Sea Bride                                                       </td><td>https://myanimelist.cdn-dena.com/images/anime/13/58383.jpg</td><td>TV    </td><td>Manga      </td><td style=\"text-align: right;\">        26</td><td>Finished Airing</td><td>False   </td><td>Apr 2, 2007 to Oct 1, 2007  </td><td>{'from': '2007-04-02', 'to': '2007-10-01'}</td><td>24 min. per ep.</td><td>PG-13 - Teens 13 or older</td><td style=\"text-align: right;\">   7.89</td><td style=\"text-align: right;\">      91206</td><td style=\"text-align: right;\">   727</td><td style=\"text-align: right;\">         366</td><td style=\"text-align: right;\">   204003</td><td style=\"text-align: right;\">       2579</td><td>                                                                                                                                                                                                                                    </td><td>Spring 2007</td><td>Unknown                  </td><td>{'Adaptation': [{'mal_id': 759, 'type': 'manga', 'url': 'https://myanimelist.net/manga/759/Seto_no_Hanayome', 'title': 'Seto no Hanayome'}], 'Sequel': [{'mal_id': 4163, 'type': 'anime', 'url': 'https://myanimelist.net/anime/4163/Seto_no_Hanayome_OVA', 'title': 'Seto no Hanayome OVA'}], 'Side story': [{'mal_id': 5199, 'type': 'anime', 'url': 'https://myanimelist.net/anime/5199/Seto_no_Hanayome_Fan_Disc', 'title': 'Seto no Hanayome Fan Disc'}], 'Alternative version': [{'mal_id': 28385, 'type': 'anime', 'url': 'https://myanimelist.net/anime/28385/Seto_no_Hanayome_Picture_Drama', 'title': 'Seto no Hanayome Picture Drama'}]}                                                                                                                                                                                                                                                  </td><td>TV Tokyo, AIC, Square Enix, Sotsu                                                           </td><td>Funimation                              </td><td>Gonzo                        </td><td>Comedy, Parody, Romance, School, Shounen             </td><td>['\"Romantic summer\" by SUN&LUNAR']                                                                                                                                                                                                                                        </td><td>['#1: \"Ashita e no Hikari (明日への光)\" by Asuka Hinoi (1-13, 26)', '#2: \"Dan Dan Dan\" by SUN&LUNAR (eps 14-25)']                                                                                                                                                                                                                                                                                                                                                                                                                                                                                   </td></tr>\n",
       "<tr><td style=\"text-align: right;\">      5262</td><td>Shugo Chara!! Doki           </td><td>Shugo Chara!! Doki          </td><td>しゅごキャラ！！どきっ   </td><td>Shugo Chara Ninenme, Shugo Chara! Second Year                              </td><td>https://myanimelist.cdn-dena.com/images/anime/11/10645.jpg</td><td>TV    </td><td>Manga      </td><td style=\"text-align: right;\">        51</td><td>Finished Airing</td><td>False   </td><td>Oct 4, 2008 to Sep 25, 2009 </td><td>{'from': '2008-10-04', 'to': '2009-09-25'}</td><td>24 min. per ep.</td><td>PG - Children            </td><td style=\"text-align: right;\">   7.55</td><td style=\"text-align: right;\">      37129</td><td style=\"text-align: right;\">  1508</td><td style=\"text-align: right;\">        1173</td><td style=\"text-align: right;\">    70127</td><td style=\"text-align: right;\">        802</td><td>                                                                                                                                                                                                                                    </td><td>Fall 2008  </td><td>Unknown                  </td><td>{'Adaptation': [{'mal_id': 101, 'type': 'manga', 'url': 'https://myanimelist.net/manga/101/Shugo_Chara', 'title': 'Shugo Chara!'}], 'Prequel': [{'mal_id': 2923, 'type': 'anime', 'url': 'https://myanimelist.net/anime/2923/Shugo_Chara', 'title': 'Shugo Chara!'}], 'Sequel': [{'mal_id': 7082, 'type': 'anime', 'url': 'https://myanimelist.net/anime/7082/Shugo_Chara_Party', 'title': 'Shugo Chara! Party!'}]}                                                                                                                                                                                                                                                                                                                                                                                                                                                                                  </td><td>TV Tokyo, Sotsu                                                                             </td><td>                                        </td><td>Satelight                    </td><td>Comedy, Magic, School, Shoujo                        </td><td>['#1: \"Minna no Tamago (みんなのたまご)\" by Shugo Chara Egg (eps 1-13)', '#2: \"Shugo Shugo! (しゅごしゅご!)\" by Shugo Chara Egg (eps 14-25)', '#3: \"Omakase♪Guardian (おまかせ♪ガーディアン)\" by Guardians 4 (eps 26-38)', '#4: \"School Days\" by Guardians 4 (eps 39-51)']</td><td>['#1: \"Rottara Rottara (ロッタラ ロッタラ)\" by Buono! (eps 1-17)', '#2: \"co.no.mi.chi\" Buono! (eps 18-25)', '#3: \"MY BOY\" by Buono! (eps 26-38)', '#4: \"Take it Easy!\" by Buono! (eps. 39-50)', '#5: \"Honto no Jibun (ホントのじぶん)\" by Buono! (ep 51)']                                                                                                                                                                                                                                                                                                                                          </td></tr>\n",
       "<tr><td style=\"text-align: right;\">       721</td><td>Princess Tutu                </td><td>Princess Tutu               </td><td>プリンセスチュチュ       </td><td>                                                                           </td><td>https://myanimelist.cdn-dena.com/images/anime/13/32209.jpg</td><td>TV    </td><td>Original   </td><td style=\"text-align: right;\">        38</td><td>Finished Airing</td><td>False   </td><td>Aug 16, 2002 to May 23, 2003</td><td>{'from': '2002-08-16', 'to': '2003-05-23'}</td><td>16 min. per ep.</td><td>PG-13 - Teens 13 or older</td><td style=\"text-align: right;\">   8.21</td><td style=\"text-align: right;\">      36501</td><td style=\"text-align: right;\">   307</td><td style=\"text-align: right;\">         916</td><td style=\"text-align: right;\">    93312</td><td style=\"text-align: right;\">       3344</td><td>Princess Tutu aired in two parts. The first part included 13 25-minute-long episodes, while the second part consisted of 24 12-minute-long episodes with a 25-minute-long final episode for a total of 25 episodes.                 </td><td>Summer 2002</td><td>Fridays at Unknown       </td><td>{'Adaptation': [{'mal_id': 1581, 'type': 'manga', 'url': 'https://myanimelist.net/manga/1581/Princess_Tutu', 'title': 'Princess Tutu'}], 'Summary': [{'mal_id': 3265, 'type': 'anime', 'url': 'https://myanimelist.net/anime/3265/Princess_Tutu_Recaps', 'title': 'Princess Tutu Recaps'}]}                                                                                                                                                                                                                                                                                                                                                                                                                                                                                                                                                                                                          </td><td>Memory-Tech, GANSIS, Marvelous AQL                                                          </td><td>ADV Films                               </td><td>Hal Film Maker               </td><td>Comedy, Drama, Magic, Romance, Fantasy               </td><td>['\"Morning Grace\" by Ritsuko Okazaki']                                                                                                                                                                                                                                    </td><td>['\"Watashi No Ai Wa Chiisaikeredo\" by Ritsuko Okazaki']                                                                                                                                                                                                                                                                                                                                                                                                                                                                                                                                             </td></tr>\n",
       "<tr><td style=\"text-align: right;\">     12365</td><td>Bakuman. 3rd Season          </td><td>Bakuman.                    </td><td>バクマン。               </td><td>Bakuman Season 3                                                           </td><td>https://myanimelist.cdn-dena.com/images/anime/6/41845.jpg </td><td>TV    </td><td>Manga      </td><td style=\"text-align: right;\">        25</td><td>Finished Airing</td><td>False   </td><td>Oct 6, 2012 to Mar 30, 2013 </td><td>{'from': '2012-10-06', 'to': '2013-03-30'}</td><td>24 min. per ep.</td><td>PG-13 - Teens 13 or older</td><td style=\"text-align: right;\">   8.67</td><td style=\"text-align: right;\">     107767</td><td style=\"text-align: right;\">    50</td><td style=\"text-align: right;\">         426</td><td style=\"text-align: right;\">   182765</td><td style=\"text-align: right;\">       2082</td><td>                                                                                                                                                                                                                                    </td><td>Fall 2012  </td><td>Unknown                  </td><td>{'Adaptation': [{'mal_id': 9711, 'type': 'manga', 'url': 'https://myanimelist.net/manga/9711/Bakuman', 'title': 'Bakuman.'}], 'Prequel': [{'mal_id': 10030, 'type': 'anime', 'url': 'https://myanimelist.net/anime/10030/Bakuman_2nd_Season', 'title': 'Bakuman. 2nd Season'}, {'mal_id': 15711, 'type': 'anime', 'url': 'https://myanimelist.net/anime/15711/Bakuman__Deraman', 'title': 'Bakuman.: Deraman.'}], 'Other': [{'mal_id': 23361, 'type': 'anime', 'url': 'https://myanimelist.net/anime/23361/Bakuman_3rd_Season_Specials', 'title': 'Bakuman. 3rd Season Specials'}]}                                                                                                                                                                                                                                                                                                                  </td><td>NHK, Shueisha                                                                               </td><td>                                        </td><td>J.C.Staff                    </td><td>Comedy, Drama, Romance, Shounen                      </td><td>['#1: \"Moshimo no Hanashi (もしもの話)\" by nano.RIPE (eps 1-13)', '#2: \"23:40 (23時40分) feat. Base Ball Bear\" by Hyadain (eps 14-25)']                                                                                                                                   </td><td>['#1: \"Pride on Everyday\" by Sphere (eps 1-13)', '#2: \"Yume Sketch (夢スケッチ)\" by JAM Project (eps 14-24)', '#3: \"Moshimo no Hanashi (もしもの話)\" by nano.RIPE (ep 25)']                                                                                                                                                                                                                                                                                                                                                                                                                         </td></tr>\n",
       "<tr><td style=\"text-align: right;\">      6586</td><td>Yume-iro Pâtissière          </td><td>                            </td><td>夢色パティシエール       </td><td>Yumeiro Patissiere, YumePati, Dream-Colored Pastry Chef, Yumeiro Pâtissière</td><td>https://myanimelist.cdn-dena.com/images/anime/12/21674.jpg</td><td>TV    </td><td>Manga      </td><td style=\"text-align: right;\">        50</td><td>Finished Airing</td><td>False   </td><td>Oct 4, 2009 to Sep 26, 2010 </td><td>{'from': '2009-10-04', 'to': '2010-09-26'}</td><td>24 min. per ep.</td><td>G - All Ages             </td><td style=\"text-align: right;\">   8.03</td><td style=\"text-align: right;\">      21618</td><td style=\"text-align: right;\">   526</td><td style=\"text-align: right;\">        1630</td><td style=\"text-align: right;\">    45625</td><td style=\"text-align: right;\">        826</td><td>                                                                                                                                                                                                                                    </td><td>Fall 2009  </td><td>Unknown                  </td><td>{'Adaptation': [{'mal_id': 10386, 'type': 'manga', 'url': 'https://myanimelist.net/manga/10386/Yume-iro_Pâtissière', 'title': 'Yume-iro Pâtissière'}], 'Side story': [{'mal_id': 8894, 'type': 'anime', 'url': 'https://myanimelist.net/anime/8894/Yume-iro_Pâtissière__Mune_Kyun_Tropical_Island', 'title': 'Yume-iro Pâtissière: Mune Kyun Tropical Island!'}], 'Sequel': [{'mal_id': 9441, 'type': 'anime', 'url': 'https://myanimelist.net/anime/9441/Yume-iro_Pâtissière_SP_Professional', 'title': 'Yume-iro Pâtissière SP Professional'}]}                                                                                                                                                                                                                                                                                                                                                    </td><td>Yomiuri Telecasting, DAX Production, Shueisha                                               </td><td>                                        </td><td>Studio Pierrot, Studio Hibari</td><td>Kids, School, Shoujo                                 </td><td>['\"Yume ni Yell! Patissiere♪ (夢にエール！パティシエール♪)\" by Mayumi Gojou']                                                                                                                                                                                             </td><td>['\"Ichigo no Miracle (いちごのミラクルール)\" by Yukina Sugihara']                                                                                                                                                                                                                                                                                                                                                                                                                                                                                                                                   </td></tr>\n",
       "<tr><td style=\"text-align: right;\">       178</td><td>Ultra Maniac                 </td><td>Ultramaniac - Magical Girl  </td><td>ウルトラマニアック       </td><td>                                                                           </td><td>https://myanimelist.cdn-dena.com/images/anime/8/53571.jpg </td><td>TV    </td><td>Manga      </td><td style=\"text-align: right;\">        26</td><td>Finished Airing</td><td>False   </td><td>May 20, 2003 to Nov 11, 2003</td><td>{'from': '2003-05-20', 'to': '2003-11-11'}</td><td>24 min. per ep.</td><td>G - All Ages             </td><td style=\"text-align: right;\">   7.26</td><td style=\"text-align: right;\">       9663</td><td style=\"text-align: right;\">  2594</td><td style=\"text-align: right;\">        2490</td><td style=\"text-align: right;\">    22778</td><td style=\"text-align: right;\">        122</td><td>                                                                                                                                                                                                                                    </td><td>Spring 2003</td><td>Tuesdays at 22:00 (JST)  </td><td>{'Adaptation': [{'mal_id': 956, 'type': 'manga', 'url': 'https://myanimelist.net/manga/956/Ultra_Maniac', 'title': 'Ultra Maniac'}], 'Alternative version': [{'mal_id': 179, 'type': 'anime', 'url': 'https://myanimelist.net/anime/179/Ultra_Maniac_OVA', 'title': 'Ultra Maniac OVA'}]}                                                                                                                                                                                                                                                                                                                                                                                                                                                                                                                                                                                                            </td><td>WAO World, Studio Jack                                                                      </td><td>Discotek Media, Geneon Entertainment USA</td><td>Production Reed              </td><td>Magic, Comedy, Romance, School, Shoujo               </td><td>['\"Kagami no Naka\" by can/goo']                                                                                                                                                                                                                                           </td><td>['\"Hitotsu=Unmei Kyoudoutai\" by can/goo']                                                                                                                                                                                                                                                                                                                                                                                                                                                                                                                                                           </td></tr>\n",
       "<tr><td style=\"text-align: right;\">      2787</td><td>Shakugan no Shana II (Second)</td><td>Shakugan no Shana: Season II</td><td>灼眼のシャナII –Second–  </td><td>Shakugan no Shana 2                                                        </td><td>https://myanimelist.cdn-dena.com/images/anime/10/18669.jpg</td><td>TV    </td><td>Light novel</td><td style=\"text-align: right;\">        24</td><td>Finished Airing</td><td>False   </td><td>Oct 5, 2007 to Mar 28, 2008 </td><td>{'from': '2007-10-05', 'to': '2008-03-28'}</td><td>24 min. per ep.</td><td>PG-13 - Teens 13 or older</td><td style=\"text-align: right;\">   7.72</td><td style=\"text-align: right;\">     126085</td><td style=\"text-align: right;\">  1066</td><td style=\"text-align: right;\">         332</td><td style=\"text-align: right;\">   220591</td><td style=\"text-align: right;\">       1075</td><td>                                                                                                                                                                                                                                    </td><td>Fall 2007  </td><td>Fridays at 01:25 (JST)   </td><td>{'Adaptation': [{'mal_id': 3074, 'type': 'manga', 'url': 'https://myanimelist.net/manga/3074/Shakugan_no_Shana', 'title': 'Shakugan no Shana'}], 'Prequel': [{'mal_id': 355, 'type': 'anime', 'url': 'https://myanimelist.net/anime/355/Shakugan_no_Shana', 'title': 'Shakugan no Shana'}], 'Spin-off': [{'mal_id': 3956, 'type': 'anime', 'url': 'https://myanimelist.net/anime/3956/Shakugan_no_Shana_II_Second_Specials', 'title': 'Shakugan no Shana II (Second) Specials'}, {'mal_id': 14957, 'type': 'anime', 'url': 'https://myanimelist.net/anime/14957/Shakugan_no_Shana__Friagne_to_Marianne_no_Naze_Nani_Shana_Nandemo_Shitsumonbako_2', 'title': 'Shakugan no Shana: Friagne to Marianne no Naze Nani Shana! Nandemo Shitsumonbako! 2'}], 'Sequel': [{'mal_id': 6572, 'type': 'anime', 'url': 'https://myanimelist.net/anime/6572/Shakugan_no_Shana_S', 'title': 'Shakugan no Shana S'}]}</td><td>Geneon Universal Entertainment, ASCII Media Works                                           </td><td>Funimation                              </td><td>J.C.Staff                    </td><td>Action, Drama, Fantasy, Romance, School, Supernatural</td><td>['#1: \"JOINT\" by Mami Kawada (eps 1-15)', '#2: \"BLAZE\" by KOTOKO (16-24)']                                                                                                                                                                                                </td><td>['#1: \"Triangle\" by Kawada Mami (eps 1-15)', '#2: \"Sociometry\" by KOTOKO (eps 16-23)', '#3: \"Sense\" by Kawada Mami (ep 24)']                                                                                                                                                                                                                                                                                                                                                                                                                                                                        </td></tr>\n",
       "<tr><td style=\"text-align: right;\">      4477</td><td>Nodame Cantabile: Paris-hen  </td><td>                            </td><td>のだめカンタービレ 巴里編</td><td>Nodame Cantabile Paris Chapter, Nodame Cantabile Pari-hen                  </td><td>https://myanimelist.cdn-dena.com/images/anime/4/11918.jpg </td><td>TV    </td><td>Manga      </td><td style=\"text-align: right;\">        11</td><td>Finished Airing</td><td>False   </td><td>Oct 10, 2008 to Dec 19, 2008</td><td>{'from': '2008-10-10', 'to': '2008-12-19'}</td><td>23 min. per ep.</td><td>PG-13 - Teens 13 or older</td><td style=\"text-align: right;\">   8.24</td><td style=\"text-align: right;\">      53908</td><td style=\"text-align: right;\">   281</td><td style=\"text-align: right;\">         988</td><td style=\"text-align: right;\">    85660</td><td style=\"text-align: right;\">        282</td><td>                                                                                                                                                                                                                                    </td><td>Fall 2008  </td><td>Fridays at 00:45 (JST)   </td><td>{'Adaptation': [{'mal_id': 419, 'type': 'manga', 'url': 'https://myanimelist.net/manga/419/Nodame_Cantabile', 'title': 'Nodame Cantabile'}], 'Prequel': [{'mal_id': 1698, 'type': 'anime', 'url': 'https://myanimelist.net/anime/1698/Nodame_Cantabile', 'title': 'Nodame Cantabile'}], 'Other': [{'mal_id': 5656, 'type': 'anime', 'url': 'https://myanimelist.net/anime/5656/PuriGorota__Uchuu_no_Yuujou_Daibouken', 'title': 'PuriGorota: Uchuu no Yuujou Daibouken'}], 'Side story': [{'mal_id': 6187, 'type': 'anime', 'url': 'https://myanimelist.net/anime/6187/Nodame_Cantabile_OVA', 'title': 'Nodame Cantabile OVA'}], 'Sequel': [{'mal_id': 8038, 'type': 'anime', 'url': 'https://myanimelist.net/anime/8038/Nodame_Cantabile_Finale_Special', 'title': 'Nodame Cantabile Finale Special'}]}                                                                                             </td><td>Fuji TV, Asmik Ace Entertainment, Sony Music Entertainment                                  </td><td>                                        </td><td>J.C.Staff                    </td><td>Music, Slice of Life, Comedy, Romance, Josei         </td><td>['\"Sky High!\" by The Gospellers']                                                                                                                                                                                                                                         </td><td>['\"東京 et 巴里 (Tokyo and Paris)\" by Emiri Miyamoto x Solita']                                                                                                                                                                                                                                                                                                                                                                                                                                                                                                                                     </td></tr>\n",
       "<tr><td style=\"text-align: right;\">       853</td><td>Ouran Koukou Host Club       </td><td>Ouran High School Host Club </td><td>桜蘭高校ホスト部         </td><td>Ohran Koko Host Club, Ouran Koukou Hosutobu, Ouran Koukou Host Bu, OHSHC   </td><td>https://myanimelist.cdn-dena.com/images/anime/2/71992.jpg </td><td>TV    </td><td>Manga      </td><td style=\"text-align: right;\">        26</td><td>Finished Airing</td><td>False   </td><td>Apr 5, 2006 to Sep 27, 2006 </td><td>{'from': '2006-04-05', 'to': '2006-09-27'}</td><td>23 min. per ep.</td><td>PG-13 - Teens 13 or older</td><td style=\"text-align: right;\">   8.34</td><td style=\"text-align: right;\">     335137</td><td style=\"text-align: right;\">   205</td><td style=\"text-align: right;\">          69</td><td style=\"text-align: right;\">   538843</td><td style=\"text-align: right;\">      24072</td><td>                                                                                                                                                                                                                                    </td><td>Spring 2006</td><td>Wednesdays at 00:50 (JST)</td><td>{'Adaptation': [{'mal_id': 30, 'type': 'manga', 'url': 'https://myanimelist.net/manga/30/Ouran_Koukou_Host_Club', 'title': 'Ouran Koukou Host Club'}]}                                                                                                                                                                                                                                                                                                                                                                                                                                                                                                                                                                                                                                                                                                                                               </td><td>VAP, Hakusensha, Nippon Television Network                                                  </td><td>Funimation                              </td><td>Bones                        </td><td>Comedy, Harem, Romance, School, Shoujo               </td><td>['\"Sakura Kiss\" by Chieko Kawabe']                                                                                                                                                                                                                                        </td><td>['\"Shissou\" by Last Alliance']                                                                                                                                                                                                                                                                                                                                                                                                                                                                                                                                                                      </td></tr>\n",
       "</tbody>\n",
       "</table>"
      ]
     },
     "metadata": {},
     "output_type": "display_data"
    },
    {
     "data": {
      "text/plain": []
     },
     "execution_count": 4,
     "metadata": {},
     "output_type": "execute_result"
    }
   ],
   "source": [
    "df.head()\n",
    "\n"
   ]
  },
  {
   "cell_type": "markdown",
   "metadata": {},
   "source": [
    "__Data Cleaning__"
   ]
  },
  {
   "cell_type": "code",
   "execution_count": 5,
   "metadata": {},
   "outputs": [
    {
     "data": {
      "text/html": [
       "<table>\n",
       "<thead>\n",
       "<tr><th style=\"text-align: right;\">  isNA(anime_id)</th><th style=\"text-align: right;\">  isNA(title)</th><th style=\"text-align: right;\">  isNA(title_english)</th><th style=\"text-align: right;\">  isNA(title_japanese)</th><th style=\"text-align: right;\">  isNA(title_synonyms)</th><th style=\"text-align: right;\">  isNA(image_url)</th><th style=\"text-align: right;\">  isNA(type)</th><th style=\"text-align: right;\">  isNA(source)</th><th style=\"text-align: right;\">  isNA(episodes)</th><th style=\"text-align: right;\">  isNA(status)</th><th style=\"text-align: right;\">  isNA(airing)</th><th style=\"text-align: right;\">  isNA(aired_string)</th><th style=\"text-align: right;\">  isNA(aired)</th><th style=\"text-align: right;\">  isNA(duration)</th><th style=\"text-align: right;\">  isNA(rating)</th><th style=\"text-align: right;\">  isNA(score)</th><th style=\"text-align: right;\">  isNA(scored_by)</th><th style=\"text-align: right;\">  isNA(rank)</th><th style=\"text-align: right;\">  isNA(popularity)</th><th style=\"text-align: right;\">  isNA(members)</th><th style=\"text-align: right;\">  isNA(favorites)</th><th style=\"text-align: right;\">  isNA(background)</th><th style=\"text-align: right;\">  isNA(premiered)</th><th style=\"text-align: right;\">  isNA(broadcast)</th><th style=\"text-align: right;\">  isNA(related)</th><th style=\"text-align: right;\">  isNA(producer)</th><th style=\"text-align: right;\">  isNA(licensor)</th><th style=\"text-align: right;\">  isNA(studio)</th><th style=\"text-align: right;\">  isNA(genre)</th><th style=\"text-align: right;\">  isNA(opening_theme)</th><th style=\"text-align: right;\">  isNA(ending_theme)</th></tr>\n",
       "</thead>\n",
       "<tbody>\n",
       "<tr><td style=\"text-align: right;\">               0</td><td style=\"text-align: right;\">            0</td><td style=\"text-align: right;\">                    0</td><td style=\"text-align: right;\">                     0</td><td style=\"text-align: right;\">                     0</td><td style=\"text-align: right;\">                0</td><td style=\"text-align: right;\">           0</td><td style=\"text-align: right;\">             0</td><td style=\"text-align: right;\">               0</td><td style=\"text-align: right;\">             0</td><td style=\"text-align: right;\">             0</td><td style=\"text-align: right;\">                   0</td><td style=\"text-align: right;\">            0</td><td style=\"text-align: right;\">               0</td><td style=\"text-align: right;\">             0</td><td style=\"text-align: right;\">            0</td><td style=\"text-align: right;\">                0</td><td style=\"text-align: right;\">           0</td><td style=\"text-align: right;\">                 0</td><td style=\"text-align: right;\">              0</td><td style=\"text-align: right;\">                0</td><td style=\"text-align: right;\">                 0</td><td style=\"text-align: right;\">                0</td><td style=\"text-align: right;\">                0</td><td style=\"text-align: right;\">              0</td><td style=\"text-align: right;\">               0</td><td style=\"text-align: right;\">               0</td><td style=\"text-align: right;\">             0</td><td style=\"text-align: right;\">            0</td><td style=\"text-align: right;\">                    0</td><td style=\"text-align: right;\">                   0</td></tr>\n",
       "<tr><td style=\"text-align: right;\">               0</td><td style=\"text-align: right;\">            0</td><td style=\"text-align: right;\">                    0</td><td style=\"text-align: right;\">                     0</td><td style=\"text-align: right;\">                     0</td><td style=\"text-align: right;\">                0</td><td style=\"text-align: right;\">           0</td><td style=\"text-align: right;\">             0</td><td style=\"text-align: right;\">               0</td><td style=\"text-align: right;\">             0</td><td style=\"text-align: right;\">             0</td><td style=\"text-align: right;\">                   0</td><td style=\"text-align: right;\">            0</td><td style=\"text-align: right;\">               0</td><td style=\"text-align: right;\">             0</td><td style=\"text-align: right;\">            0</td><td style=\"text-align: right;\">                0</td><td style=\"text-align: right;\">           0</td><td style=\"text-align: right;\">                 0</td><td style=\"text-align: right;\">              0</td><td style=\"text-align: right;\">                0</td><td style=\"text-align: right;\">                 1</td><td style=\"text-align: right;\">                0</td><td style=\"text-align: right;\">                0</td><td style=\"text-align: right;\">              0</td><td style=\"text-align: right;\">               0</td><td style=\"text-align: right;\">               0</td><td style=\"text-align: right;\">             0</td><td style=\"text-align: right;\">            0</td><td style=\"text-align: right;\">                    0</td><td style=\"text-align: right;\">                   0</td></tr>\n",
       "<tr><td style=\"text-align: right;\">               0</td><td style=\"text-align: right;\">            0</td><td style=\"text-align: right;\">                    0</td><td style=\"text-align: right;\">                     0</td><td style=\"text-align: right;\">                     0</td><td style=\"text-align: right;\">                0</td><td style=\"text-align: right;\">           0</td><td style=\"text-align: right;\">             0</td><td style=\"text-align: right;\">               0</td><td style=\"text-align: right;\">             0</td><td style=\"text-align: right;\">             0</td><td style=\"text-align: right;\">                   0</td><td style=\"text-align: right;\">            0</td><td style=\"text-align: right;\">               0</td><td style=\"text-align: right;\">             0</td><td style=\"text-align: right;\">            0</td><td style=\"text-align: right;\">                0</td><td style=\"text-align: right;\">           0</td><td style=\"text-align: right;\">                 0</td><td style=\"text-align: right;\">              0</td><td style=\"text-align: right;\">                0</td><td style=\"text-align: right;\">                 1</td><td style=\"text-align: right;\">                0</td><td style=\"text-align: right;\">                0</td><td style=\"text-align: right;\">              0</td><td style=\"text-align: right;\">               0</td><td style=\"text-align: right;\">               1</td><td style=\"text-align: right;\">             0</td><td style=\"text-align: right;\">            0</td><td style=\"text-align: right;\">                    0</td><td style=\"text-align: right;\">                   0</td></tr>\n",
       "<tr><td style=\"text-align: right;\">               0</td><td style=\"text-align: right;\">            0</td><td style=\"text-align: right;\">                    0</td><td style=\"text-align: right;\">                     0</td><td style=\"text-align: right;\">                     1</td><td style=\"text-align: right;\">                0</td><td style=\"text-align: right;\">           0</td><td style=\"text-align: right;\">             0</td><td style=\"text-align: right;\">               0</td><td style=\"text-align: right;\">             0</td><td style=\"text-align: right;\">             0</td><td style=\"text-align: right;\">                   0</td><td style=\"text-align: right;\">            0</td><td style=\"text-align: right;\">               0</td><td style=\"text-align: right;\">             0</td><td style=\"text-align: right;\">            0</td><td style=\"text-align: right;\">                0</td><td style=\"text-align: right;\">           0</td><td style=\"text-align: right;\">                 0</td><td style=\"text-align: right;\">              0</td><td style=\"text-align: right;\">                0</td><td style=\"text-align: right;\">                 0</td><td style=\"text-align: right;\">                0</td><td style=\"text-align: right;\">                0</td><td style=\"text-align: right;\">              0</td><td style=\"text-align: right;\">               0</td><td style=\"text-align: right;\">               0</td><td style=\"text-align: right;\">             0</td><td style=\"text-align: right;\">            0</td><td style=\"text-align: right;\">                    0</td><td style=\"text-align: right;\">                   0</td></tr>\n",
       "<tr><td style=\"text-align: right;\">               0</td><td style=\"text-align: right;\">            0</td><td style=\"text-align: right;\">                    0</td><td style=\"text-align: right;\">                     0</td><td style=\"text-align: right;\">                     0</td><td style=\"text-align: right;\">                0</td><td style=\"text-align: right;\">           0</td><td style=\"text-align: right;\">             0</td><td style=\"text-align: right;\">               0</td><td style=\"text-align: right;\">             0</td><td style=\"text-align: right;\">             0</td><td style=\"text-align: right;\">                   0</td><td style=\"text-align: right;\">            0</td><td style=\"text-align: right;\">               0</td><td style=\"text-align: right;\">             0</td><td style=\"text-align: right;\">            0</td><td style=\"text-align: right;\">                0</td><td style=\"text-align: right;\">           0</td><td style=\"text-align: right;\">                 0</td><td style=\"text-align: right;\">              0</td><td style=\"text-align: right;\">                0</td><td style=\"text-align: right;\">                 1</td><td style=\"text-align: right;\">                0</td><td style=\"text-align: right;\">                0</td><td style=\"text-align: right;\">              0</td><td style=\"text-align: right;\">               0</td><td style=\"text-align: right;\">               1</td><td style=\"text-align: right;\">             0</td><td style=\"text-align: right;\">            0</td><td style=\"text-align: right;\">                    0</td><td style=\"text-align: right;\">                   0</td></tr>\n",
       "<tr><td style=\"text-align: right;\">               0</td><td style=\"text-align: right;\">            0</td><td style=\"text-align: right;\">                    1</td><td style=\"text-align: right;\">                     0</td><td style=\"text-align: right;\">                     0</td><td style=\"text-align: right;\">                0</td><td style=\"text-align: right;\">           0</td><td style=\"text-align: right;\">             0</td><td style=\"text-align: right;\">               0</td><td style=\"text-align: right;\">             0</td><td style=\"text-align: right;\">             0</td><td style=\"text-align: right;\">                   0</td><td style=\"text-align: right;\">            0</td><td style=\"text-align: right;\">               0</td><td style=\"text-align: right;\">             0</td><td style=\"text-align: right;\">            0</td><td style=\"text-align: right;\">                0</td><td style=\"text-align: right;\">           0</td><td style=\"text-align: right;\">                 0</td><td style=\"text-align: right;\">              0</td><td style=\"text-align: right;\">                0</td><td style=\"text-align: right;\">                 1</td><td style=\"text-align: right;\">                0</td><td style=\"text-align: right;\">                0</td><td style=\"text-align: right;\">              0</td><td style=\"text-align: right;\">               0</td><td style=\"text-align: right;\">               1</td><td style=\"text-align: right;\">             0</td><td style=\"text-align: right;\">            0</td><td style=\"text-align: right;\">                    0</td><td style=\"text-align: right;\">                   0</td></tr>\n",
       "<tr><td style=\"text-align: right;\">               0</td><td style=\"text-align: right;\">            0</td><td style=\"text-align: right;\">                    0</td><td style=\"text-align: right;\">                     0</td><td style=\"text-align: right;\">                     1</td><td style=\"text-align: right;\">                0</td><td style=\"text-align: right;\">           0</td><td style=\"text-align: right;\">             0</td><td style=\"text-align: right;\">               0</td><td style=\"text-align: right;\">             0</td><td style=\"text-align: right;\">             0</td><td style=\"text-align: right;\">                   0</td><td style=\"text-align: right;\">            0</td><td style=\"text-align: right;\">               0</td><td style=\"text-align: right;\">             0</td><td style=\"text-align: right;\">            0</td><td style=\"text-align: right;\">                0</td><td style=\"text-align: right;\">           0</td><td style=\"text-align: right;\">                 0</td><td style=\"text-align: right;\">              0</td><td style=\"text-align: right;\">                0</td><td style=\"text-align: right;\">                 1</td><td style=\"text-align: right;\">                0</td><td style=\"text-align: right;\">                0</td><td style=\"text-align: right;\">              0</td><td style=\"text-align: right;\">               0</td><td style=\"text-align: right;\">               0</td><td style=\"text-align: right;\">             0</td><td style=\"text-align: right;\">            0</td><td style=\"text-align: right;\">                    0</td><td style=\"text-align: right;\">                   0</td></tr>\n",
       "<tr><td style=\"text-align: right;\">               0</td><td style=\"text-align: right;\">            0</td><td style=\"text-align: right;\">                    0</td><td style=\"text-align: right;\">                     0</td><td style=\"text-align: right;\">                     0</td><td style=\"text-align: right;\">                0</td><td style=\"text-align: right;\">           0</td><td style=\"text-align: right;\">             0</td><td style=\"text-align: right;\">               0</td><td style=\"text-align: right;\">             0</td><td style=\"text-align: right;\">             0</td><td style=\"text-align: right;\">                   0</td><td style=\"text-align: right;\">            0</td><td style=\"text-align: right;\">               0</td><td style=\"text-align: right;\">             0</td><td style=\"text-align: right;\">            0</td><td style=\"text-align: right;\">                0</td><td style=\"text-align: right;\">           0</td><td style=\"text-align: right;\">                 0</td><td style=\"text-align: right;\">              0</td><td style=\"text-align: right;\">                0</td><td style=\"text-align: right;\">                 1</td><td style=\"text-align: right;\">                0</td><td style=\"text-align: right;\">                0</td><td style=\"text-align: right;\">              0</td><td style=\"text-align: right;\">               0</td><td style=\"text-align: right;\">               0</td><td style=\"text-align: right;\">             0</td><td style=\"text-align: right;\">            0</td><td style=\"text-align: right;\">                    0</td><td style=\"text-align: right;\">                   0</td></tr>\n",
       "<tr><td style=\"text-align: right;\">               0</td><td style=\"text-align: right;\">            0</td><td style=\"text-align: right;\">                    1</td><td style=\"text-align: right;\">                     0</td><td style=\"text-align: right;\">                     0</td><td style=\"text-align: right;\">                0</td><td style=\"text-align: right;\">           0</td><td style=\"text-align: right;\">             0</td><td style=\"text-align: right;\">               0</td><td style=\"text-align: right;\">             0</td><td style=\"text-align: right;\">             0</td><td style=\"text-align: right;\">                   0</td><td style=\"text-align: right;\">            0</td><td style=\"text-align: right;\">               0</td><td style=\"text-align: right;\">             0</td><td style=\"text-align: right;\">            0</td><td style=\"text-align: right;\">                0</td><td style=\"text-align: right;\">           0</td><td style=\"text-align: right;\">                 0</td><td style=\"text-align: right;\">              0</td><td style=\"text-align: right;\">                0</td><td style=\"text-align: right;\">                 1</td><td style=\"text-align: right;\">                0</td><td style=\"text-align: right;\">                0</td><td style=\"text-align: right;\">              0</td><td style=\"text-align: right;\">               0</td><td style=\"text-align: right;\">               1</td><td style=\"text-align: right;\">             0</td><td style=\"text-align: right;\">            0</td><td style=\"text-align: right;\">                    0</td><td style=\"text-align: right;\">                   0</td></tr>\n",
       "<tr><td style=\"text-align: right;\">               0</td><td style=\"text-align: right;\">            0</td><td style=\"text-align: right;\">                    0</td><td style=\"text-align: right;\">                     0</td><td style=\"text-align: right;\">                     0</td><td style=\"text-align: right;\">                0</td><td style=\"text-align: right;\">           0</td><td style=\"text-align: right;\">             0</td><td style=\"text-align: right;\">               0</td><td style=\"text-align: right;\">             0</td><td style=\"text-align: right;\">             0</td><td style=\"text-align: right;\">                   0</td><td style=\"text-align: right;\">            0</td><td style=\"text-align: right;\">               0</td><td style=\"text-align: right;\">             0</td><td style=\"text-align: right;\">            0</td><td style=\"text-align: right;\">                0</td><td style=\"text-align: right;\">           0</td><td style=\"text-align: right;\">                 0</td><td style=\"text-align: right;\">              0</td><td style=\"text-align: right;\">                0</td><td style=\"text-align: right;\">                 1</td><td style=\"text-align: right;\">                0</td><td style=\"text-align: right;\">                0</td><td style=\"text-align: right;\">              0</td><td style=\"text-align: right;\">               0</td><td style=\"text-align: right;\">               0</td><td style=\"text-align: right;\">             0</td><td style=\"text-align: right;\">            0</td><td style=\"text-align: right;\">                    0</td><td style=\"text-align: right;\">                   0</td></tr>\n",
       "</tbody>\n",
       "</table>"
      ]
     },
     "metadata": {},
     "output_type": "display_data"
    },
    {
     "data": {
      "text/plain": []
     },
     "execution_count": 5,
     "metadata": {},
     "output_type": "execute_result"
    }
   ],
   "source": [
    "df.isna()"
   ]
  },
  {
   "cell_type": "markdown",
   "metadata": {},
   "source": [
    "__Finding number of missing values__"
   ]
  },
  {
   "cell_type": "code",
   "execution_count": 6,
   "metadata": {},
   "outputs": [],
   "source": [
    "# episodes = df['episodes'].isna().sum()\n",
    "# score = df['score'].isna().sum()\n",
    "# rank = df['rank'].isna().sum()\n",
    "# popularity = df['popularity'].isna().sum()\n",
    "# memebers = df['members'].isna().sum()\n",
    "# favorites = df['favorites'].isna().sum()\n",
    "\n",
    "# print(\"Number of missing values in each numeric column:\")\n",
    "# print(\"Episodes : \"+str(episodes))\n",
    "# print(\"Score : \"+str(score))\n",
    "# print(\"Rank  : \"+str(rank))\n",
    "# print(\"Popularity :\"+str(popularity))\n",
    "# print(\"Members :\"+str(memebers))\n",
    "# print(\"Favorites :\"+str(favorites))\n",
    "\n",
    "      \n",
    "\n",
    "      "
   ]
  },
  {
   "cell_type": "markdown",
   "metadata": {},
   "source": [
    "__Fill the missing values with mean value__"
   ]
  },
  {
   "cell_type": "code",
   "execution_count": 7,
   "metadata": {},
   "outputs": [],
   "source": [
    "# df['rank'] = df['rank'].fillna(method = \"mean\",axis=1)"
   ]
  },
  {
   "cell_type": "code",
   "execution_count": 8,
   "metadata": {},
   "outputs": [],
   "source": [
    "target = 'score'\n",
    "run_id='SOME_ID_20180617_221529' # Just some arbitrary ID\n",
    "classification=False\n",
    "scale=False\n",
    "max_models=None\n",
    "balance_y=False # balance_classes=balance_y\n",
    "balance_threshold=0.2\n",
    "project =\"automl_test\""
   ]
  },
  {
   "cell_type": "code",
   "execution_count": 9,
   "metadata": {},
   "outputs": [
    {
     "name": "stdout",
     "output_type": "stream",
     "text": [
      "score\n",
      "['anime_id', 'title', 'title_english', 'title_japanese', 'title_synonyms', 'image_url', 'type', 'source', 'episodes', 'status', 'airing', 'aired_string', 'aired', 'duration', 'rating', 'scored_by', 'rank', 'popularity', 'members', 'favorites', 'background', 'premiered', 'broadcast', 'related', 'producer', 'licensor', 'studio', 'genre', 'opening_theme', 'ending_theme']\n"
     ]
    }
   ],
   "source": [
    "\n",
    "y = target\n",
    "X = [name for name in df.columns if name != y]\n",
    "print(y)\n",
    "print(X)"
   ]
  },
  {
   "cell_type": "code",
   "execution_count": 11,
   "metadata": {},
   "outputs": [],
   "source": [
    "def automl(maxruntime,X,Y,df):\n",
    "    aml = H2OAutoML(max_runtime_secs=maxruntime,exclude_algos = ['DeepLearning'])\n",
    "    aml.train(x=X,y=y,training_frame=df)\n",
    "    return aml"
   ]
  },
  {
   "cell_type": "code",
   "execution_count": 14,
   "metadata": {},
   "outputs": [],
   "source": [
    "def dict_to_json(dct,n):  \n",
    "    j = json.dumps(dct, indent=4)\n",
    "    f = open(n, 'w')\n",
    "    print(j, file=f)\n",
    "    f.close()"
   ]
  },
  {
   "cell_type": "markdown",
   "metadata": {},
   "source": [
    "## Run Time = 500 seconds"
   ]
  },
  {
   "cell_type": "code",
   "execution_count": 13,
   "metadata": {},
   "outputs": [
    {
     "name": "stdout",
     "output_type": "stream",
     "text": [
      "AutoML progress: |████████████████████████████████████████████████████████| 100%\n"
     ]
    }
   ],
   "source": [
    "aml1 = automl(500,X,y,df)"
   ]
  },
  {
   "cell_type": "code",
   "execution_count": 15,
   "metadata": {},
   "outputs": [
    {
     "data": {
      "text/html": [
       "<table>\n",
       "<thead>\n",
       "<tr><th>model_id                                           </th><th style=\"text-align: right;\">  mean_residual_deviance</th><th style=\"text-align: right;\">    rmse</th><th style=\"text-align: right;\">     mse</th><th style=\"text-align: right;\">     mae</th><th style=\"text-align: right;\">    rmsle</th></tr>\n",
       "</thead>\n",
       "<tbody>\n",
       "<tr><td>StackedEnsemble_BestOfFamily_AutoML_20190412_124727</td><td style=\"text-align: right;\">                0.205102</td><td style=\"text-align: right;\">0.452882</td><td style=\"text-align: right;\">0.205102</td><td style=\"text-align: right;\">0.20297 </td><td style=\"text-align: right;\">0.0832548</td></tr>\n",
       "<tr><td>StackedEnsemble_AllModels_AutoML_20190412_124727   </td><td style=\"text-align: right;\">                0.205305</td><td style=\"text-align: right;\">0.453105</td><td style=\"text-align: right;\">0.205305</td><td style=\"text-align: right;\">0.203702</td><td style=\"text-align: right;\">0.0831319</td></tr>\n",
       "<tr><td>XGBoost_2_AutoML_20190412_124727                   </td><td style=\"text-align: right;\">                0.206188</td><td style=\"text-align: right;\">0.454079</td><td style=\"text-align: right;\">0.206188</td><td style=\"text-align: right;\">0.204595</td><td style=\"text-align: right;\">0.0813363</td></tr>\n",
       "<tr><td>XGBoost_1_AutoML_20190412_124727                   </td><td style=\"text-align: right;\">                0.218826</td><td style=\"text-align: right;\">0.467789</td><td style=\"text-align: right;\">0.218826</td><td style=\"text-align: right;\">0.220033</td><td style=\"text-align: right;\">0.0847444</td></tr>\n",
       "<tr><td>DRF_1_AutoML_20190412_124727                       </td><td style=\"text-align: right;\">                0.257882</td><td style=\"text-align: right;\">0.50782 </td><td style=\"text-align: right;\">0.257882</td><td style=\"text-align: right;\">0.235459</td><td style=\"text-align: right;\">0.102106 </td></tr>\n",
       "<tr><td>GLM_grid_1_AutoML_20190412_124727_model_1          </td><td style=\"text-align: right;\">                0.467525</td><td style=\"text-align: right;\">0.683758</td><td style=\"text-align: right;\">0.467525</td><td style=\"text-align: right;\">0.432327</td><td style=\"text-align: right;\">0.177202 </td></tr>\n",
       "<tr><td>XRT_1_AutoML_20190412_124727                       </td><td style=\"text-align: right;\">                3.10289 </td><td style=\"text-align: right;\">1.7615  </td><td style=\"text-align: right;\">3.10289 </td><td style=\"text-align: right;\">1.60348 </td><td style=\"text-align: right;\">0.30331  </td></tr>\n",
       "</tbody>\n",
       "</table>"
      ]
     },
     "metadata": {},
     "output_type": "display_data"
    },
    {
     "data": {
      "text/plain": []
     },
     "execution_count": 15,
     "metadata": {},
     "output_type": "execute_result"
    }
   ],
   "source": [
    "aml1.leaderboard"
   ]
  },
  {
   "cell_type": "code",
   "execution_count": 46,
   "metadata": {},
   "outputs": [
    {
     "data": {
      "text/plain": [
       "0    StackedEnsemble_BestOfFamily_AutoML_20190412_1...\n",
       "1     StackedEnsemble_AllModels_AutoML_20190412_124727\n",
       "2                     XGBoost_2_AutoML_20190412_124727\n",
       "3                     XGBoost_1_AutoML_20190412_124727\n",
       "4                         DRF_1_AutoML_20190412_124727\n",
       "5            GLM_grid_1_AutoML_20190412_124727_model_1\n",
       "6                         XRT_1_AutoML_20190412_124727\n",
       "Name: model_id, dtype: object"
      ]
     },
     "execution_count": 46,
     "metadata": {},
     "output_type": "execute_result"
    }
   ],
   "source": [
    "aml1_leaderboard_df=aml1.leaderboard.as_data_frame()\n",
    "model1_set=aml1_leaderboard_df['model_id']\n",
    "model1_set"
   ]
  },
  {
   "cell_type": "markdown",
   "metadata": {},
   "source": [
    "__XGBoost models for 500 Runtime__ "
   ]
  },
  {
   "cell_type": "code",
   "execution_count": 47,
   "metadata": {},
   "outputs": [],
   "source": [
    "mod_best=h2o.get_model(model1_set[2])\n",
    "parameters = mod_best.params"
   ]
  },
  {
   "cell_type": "code",
   "execution_count": 48,
   "metadata": {},
   "outputs": [],
   "source": [
    "dict_to_json(parameters,'XGBoost_2_500')"
   ]
  },
  {
   "cell_type": "code",
   "execution_count": 49,
   "metadata": {},
   "outputs": [],
   "source": [
    "mod_best=h2o.get_model(model1_set[3])\n",
    "parameters = mod_best.params"
   ]
  },
  {
   "cell_type": "code",
   "execution_count": 50,
   "metadata": {},
   "outputs": [],
   "source": [
    "dict_to_json(parameters,'XGBoost_1_500')"
   ]
  },
  {
   "cell_type": "markdown",
   "metadata": {},
   "source": [
    "__DRF model for 500 Runtime__ "
   ]
  },
  {
   "cell_type": "code",
   "execution_count": 51,
   "metadata": {},
   "outputs": [],
   "source": [
    "mod_best=h2o.get_model(model1_set[4])\n",
    "parameters = mod_best.params"
   ]
  },
  {
   "cell_type": "code",
   "execution_count": 52,
   "metadata": {},
   "outputs": [],
   "source": [
    "dict_to_json(parameters,'DRF_500')"
   ]
  },
  {
   "cell_type": "markdown",
   "metadata": {},
   "source": [
    "__GLM model for 500 Runtime__ "
   ]
  },
  {
   "cell_type": "code",
   "execution_count": 53,
   "metadata": {},
   "outputs": [],
   "source": [
    "mod_best=h2o.get_model(model1_set[5])\n",
    "parameters = mod_best.params"
   ]
  },
  {
   "cell_type": "code",
   "execution_count": 54,
   "metadata": {},
   "outputs": [],
   "source": [
    "dict_to_json(parameters,'GLM_500')"
   ]
  },
  {
   "cell_type": "markdown",
   "metadata": {},
   "source": [
    "__XRT model for 500 Runtime__ "
   ]
  },
  {
   "cell_type": "code",
   "execution_count": 58,
   "metadata": {},
   "outputs": [],
   "source": [
    "mod_best=h2o.get_model(model1_set[6])\n",
    "parameters = mod_best.params"
   ]
  },
  {
   "cell_type": "code",
   "execution_count": 59,
   "metadata": {},
   "outputs": [],
   "source": [
    "dict_to_json(parameters,'XRT_500')"
   ]
  },
  {
   "cell_type": "code",
   "execution_count": null,
   "metadata": {},
   "outputs": [],
   "source": []
  },
  {
   "cell_type": "markdown",
   "metadata": {},
   "source": [
    "## Run Time = 700 seconds"
   ]
  },
  {
   "cell_type": "code",
   "execution_count": 32,
   "metadata": {},
   "outputs": [
    {
     "name": "stdout",
     "output_type": "stream",
     "text": [
      "AutoML progress: |████████████████████████████████████████████████████████| 100%\n"
     ]
    }
   ],
   "source": [
    "aml2 = automl(700,X,y,df)"
   ]
  },
  {
   "cell_type": "code",
   "execution_count": 33,
   "metadata": {},
   "outputs": [
    {
     "data": {
      "text/html": [
       "<table>\n",
       "<thead>\n",
       "<tr><th>model_id                                           </th><th style=\"text-align: right;\">  mean_residual_deviance</th><th style=\"text-align: right;\">    rmse</th><th style=\"text-align: right;\">     mse</th><th style=\"text-align: right;\">     mae</th><th style=\"text-align: right;\">    rmsle</th></tr>\n",
       "</thead>\n",
       "<tbody>\n",
       "<tr><td>StackedEnsemble_BestOfFamily_AutoML_20190412_131028</td><td style=\"text-align: right;\">                0.195458</td><td style=\"text-align: right;\">0.442107</td><td style=\"text-align: right;\">0.195458</td><td style=\"text-align: right;\">0.195702</td><td style=\"text-align: right;\">0.0812831</td></tr>\n",
       "<tr><td>XGBoost_3_AutoML_20190412_131028                   </td><td style=\"text-align: right;\">                0.195959</td><td style=\"text-align: right;\">0.442673</td><td style=\"text-align: right;\">0.195959</td><td style=\"text-align: right;\">0.197886</td><td style=\"text-align: right;\">0.0795756</td></tr>\n",
       "<tr><td>XGBoost_3_AutoML_20190412_141431                   </td><td style=\"text-align: right;\">                0.197651</td><td style=\"text-align: right;\">0.44458 </td><td style=\"text-align: right;\">0.197651</td><td style=\"text-align: right;\">0.198364</td><td style=\"text-align: right;\">0.0803356</td></tr>\n",
       "<tr><td>XGBoost_3_AutoML_20190412_135449                   </td><td style=\"text-align: right;\">                0.199544</td><td style=\"text-align: right;\">0.446703</td><td style=\"text-align: right;\">0.199544</td><td style=\"text-align: right;\">0.19734 </td><td style=\"text-align: right;\">0.0806918</td></tr>\n",
       "<tr><td>XGBoost_2_AutoML_20190412_141431                   </td><td style=\"text-align: right;\">                0.204233</td><td style=\"text-align: right;\">0.451922</td><td style=\"text-align: right;\">0.204233</td><td style=\"text-align: right;\">0.203345</td><td style=\"text-align: right;\">0.080766 </td></tr>\n",
       "<tr><td>XGBoost_2_AutoML_20190412_135449                   </td><td style=\"text-align: right;\">                0.204452</td><td style=\"text-align: right;\">0.452164</td><td style=\"text-align: right;\">0.204452</td><td style=\"text-align: right;\">0.202191</td><td style=\"text-align: right;\">0.0804954</td></tr>\n",
       "<tr><td>XGBoost_2_AutoML_20190412_131028                   </td><td style=\"text-align: right;\">                0.204981</td><td style=\"text-align: right;\">0.452748</td><td style=\"text-align: right;\">0.204981</td><td style=\"text-align: right;\">0.206051</td><td style=\"text-align: right;\">0.0810478</td></tr>\n",
       "<tr><td>StackedEnsemble_BestOfFamily_AutoML_20190412_124727</td><td style=\"text-align: right;\">                0.205102</td><td style=\"text-align: right;\">0.452882</td><td style=\"text-align: right;\">0.205102</td><td style=\"text-align: right;\">0.20297 </td><td style=\"text-align: right;\">0.0832548</td></tr>\n",
       "<tr><td>StackedEnsemble_AllModels_AutoML_20190412_124727   </td><td style=\"text-align: right;\">                0.205305</td><td style=\"text-align: right;\">0.453105</td><td style=\"text-align: right;\">0.205305</td><td style=\"text-align: right;\">0.203702</td><td style=\"text-align: right;\">0.0831319</td></tr>\n",
       "<tr><td>XGBoost_2_AutoML_20190412_124727                   </td><td style=\"text-align: right;\">                0.206188</td><td style=\"text-align: right;\">0.454079</td><td style=\"text-align: right;\">0.206188</td><td style=\"text-align: right;\">0.204595</td><td style=\"text-align: right;\">0.0813363</td></tr>\n",
       "</tbody>\n",
       "</table>"
      ]
     },
     "metadata": {},
     "output_type": "display_data"
    },
    {
     "data": {
      "text/plain": []
     },
     "execution_count": 33,
     "metadata": {},
     "output_type": "execute_result"
    }
   ],
   "source": [
    "aml2.leaderboard"
   ]
  },
  {
   "cell_type": "code",
   "execution_count": 34,
   "metadata": {},
   "outputs": [
    {
     "data": {
      "text/plain": [
       "0     StackedEnsemble_BestOfFamily_AutoML_20190412_1...\n",
       "1                      XGBoost_3_AutoML_20190412_131028\n",
       "2                      XGBoost_3_AutoML_20190412_141431\n",
       "3                      XGBoost_3_AutoML_20190412_135449\n",
       "4                      XGBoost_2_AutoML_20190412_141431\n",
       "5                      XGBoost_2_AutoML_20190412_135449\n",
       "6                      XGBoost_2_AutoML_20190412_131028\n",
       "7     StackedEnsemble_BestOfFamily_AutoML_20190412_1...\n",
       "8      StackedEnsemble_AllModels_AutoML_20190412_124727\n",
       "9                      XGBoost_2_AutoML_20190412_124727\n",
       "10                     XGBoost_1_AutoML_20190412_141431\n",
       "11                     XGBoost_1_AutoML_20190412_131028\n",
       "12                     XGBoost_1_AutoML_20190412_124727\n",
       "13                     XGBoost_1_AutoML_20190412_135449\n",
       "14                         DRF_1_AutoML_20190412_135449\n",
       "15                         DRF_1_AutoML_20190412_132201\n",
       "16                         DRF_1_AutoML_20190412_141431\n",
       "17                         GBM_3_AutoML_20190412_131028\n",
       "18                         DRF_1_AutoML_20190412_131028\n",
       "19                         GBM_2_AutoML_20190412_131028\n",
       "20                         GBM_4_AutoML_20190412_135449\n",
       "21                         DRF_1_AutoML_20190412_124727\n",
       "22                         GBM_2_AutoML_20190412_135449\n",
       "23                         GBM_1_AutoML_20190412_141431\n",
       "24                         GBM_1_AutoML_20190412_131028\n",
       "25                         GBM_4_AutoML_20190412_131028\n",
       "26                         GBM_1_AutoML_20190412_135449\n",
       "27                         GBM_3_AutoML_20190412_135449\n",
       "28                         GBM_5_AutoML_20190412_135449\n",
       "29                         GBM_5_AutoML_20190412_131028\n",
       "30            GLM_grid_1_AutoML_20190412_131028_model_1\n",
       "31            GLM_grid_1_AutoML_20190412_124727_model_1\n",
       "32            GLM_grid_1_AutoML_20190412_135449_model_1\n",
       "33            GLM_grid_1_AutoML_20190412_141431_model_1\n",
       "34            GLM_grid_1_AutoML_20190412_132201_model_1\n",
       "35            GBM_grid_1_AutoML_20190412_131028_model_1\n",
       "36                         XRT_1_AutoML_20190412_131028\n",
       "37                         XRT_1_AutoML_20190412_141431\n",
       "38                         XRT_1_AutoML_20190412_124727\n",
       "39                         XRT_1_AutoML_20190412_132201\n",
       "40        XGBoost_grid_1_AutoML_20190412_131028_model_1\n",
       "41        XGBoost_grid_1_AutoML_20190412_135449_model_1\n",
       "42                         XRT_1_AutoML_20190412_135449\n",
       "Name: model_id, dtype: object"
      ]
     },
     "execution_count": 34,
     "metadata": {},
     "output_type": "execute_result"
    }
   ],
   "source": [
    "aml2_leaderboard_df=aml2.leaderboard.as_data_frame()\n",
    "model2_set=aml2_leaderboard_df['model_id']\n",
    "model2_set"
   ]
  },
  {
   "cell_type": "markdown",
   "metadata": {},
   "source": [
    "__XGBoost models for 700 Runtime__ "
   ]
  },
  {
   "cell_type": "code",
   "execution_count": 60,
   "metadata": {},
   "outputs": [],
   "source": [
    "mod_best=h2o.get_model(model2_set[1])\n",
    "parameters = mod_best.params"
   ]
  },
  {
   "cell_type": "code",
   "execution_count": 61,
   "metadata": {},
   "outputs": [],
   "source": [
    "dict_to_json(parameters,'XGBoost_3_1_700')"
   ]
  },
  {
   "cell_type": "code",
   "execution_count": 62,
   "metadata": {},
   "outputs": [],
   "source": [
    "mod_best=h2o.get_model(model2_set[2])\n",
    "parameters = mod_best.params"
   ]
  },
  {
   "cell_type": "code",
   "execution_count": 63,
   "metadata": {},
   "outputs": [],
   "source": [
    "dict_to_json(parameters,'XGBoost_3_2_700')"
   ]
  },
  {
   "cell_type": "code",
   "execution_count": 64,
   "metadata": {},
   "outputs": [],
   "source": [
    "mod_best=h2o.get_model(model2_set[3])\n",
    "parameters = mod_best.params"
   ]
  },
  {
   "cell_type": "code",
   "execution_count": 65,
   "metadata": {},
   "outputs": [],
   "source": [
    "dict_to_json(parameters,'XGBoost_3_3_700')"
   ]
  },
  {
   "cell_type": "code",
   "execution_count": 66,
   "metadata": {},
   "outputs": [],
   "source": [
    "mod_best=h2o.get_model(model2_set[4])\n",
    "parameters = mod_best.params"
   ]
  },
  {
   "cell_type": "code",
   "execution_count": 67,
   "metadata": {},
   "outputs": [],
   "source": [
    "dict_to_json(parameters,'XGBoost_2_1_700')"
   ]
  },
  {
   "cell_type": "code",
   "execution_count": 68,
   "metadata": {},
   "outputs": [],
   "source": [
    "mod_best=h2o.get_model(model2_set[5])\n",
    "parameters = mod_best.params"
   ]
  },
  {
   "cell_type": "code",
   "execution_count": 69,
   "metadata": {},
   "outputs": [],
   "source": [
    "dict_to_json(parameters,'XGBoost_2_2_700')"
   ]
  },
  {
   "cell_type": "code",
   "execution_count": 70,
   "metadata": {},
   "outputs": [],
   "source": [
    "mod_best=h2o.get_model(model2_set[6])\n",
    "parameters = mod_best.params"
   ]
  },
  {
   "cell_type": "code",
   "execution_count": 71,
   "metadata": {},
   "outputs": [],
   "source": [
    "dict_to_json(parameters,'XGBoost_2_3_700')"
   ]
  },
  {
   "cell_type": "code",
   "execution_count": 72,
   "metadata": {},
   "outputs": [],
   "source": [
    "mod_best=h2o.get_model(model2_set[9])\n",
    "parameters = mod_best.params"
   ]
  },
  {
   "cell_type": "code",
   "execution_count": 73,
   "metadata": {},
   "outputs": [],
   "source": [
    "dict_to_json(parameters,'XGBoost_2_4_700')"
   ]
  },
  {
   "cell_type": "code",
   "execution_count": 74,
   "metadata": {},
   "outputs": [],
   "source": [
    "mod_best=h2o.get_model(model2_set[10])\n",
    "parameters = mod_best.params"
   ]
  },
  {
   "cell_type": "code",
   "execution_count": 75,
   "metadata": {},
   "outputs": [],
   "source": [
    "dict_to_json(parameters,'XGBoost_1_1_700')"
   ]
  },
  {
   "cell_type": "code",
   "execution_count": 76,
   "metadata": {},
   "outputs": [],
   "source": [
    "mod_best=h2o.get_model(model2_set[11])\n",
    "parameters = mod_best.params"
   ]
  },
  {
   "cell_type": "code",
   "execution_count": 77,
   "metadata": {},
   "outputs": [],
   "source": [
    "dict_to_json(parameters,'XGBoost_1_2_700')"
   ]
  },
  {
   "cell_type": "code",
   "execution_count": 78,
   "metadata": {},
   "outputs": [],
   "source": [
    "mod_best=h2o.get_model(model2_set[12])\n",
    "parameters = mod_best.params"
   ]
  },
  {
   "cell_type": "code",
   "execution_count": 79,
   "metadata": {},
   "outputs": [],
   "source": [
    "dict_to_json(parameters,'XGBoost_1_3_700')"
   ]
  },
  {
   "cell_type": "code",
   "execution_count": 80,
   "metadata": {},
   "outputs": [],
   "source": [
    "mod_best=h2o.get_model(model2_set[13])\n",
    "parameters = mod_best.params"
   ]
  },
  {
   "cell_type": "code",
   "execution_count": 81,
   "metadata": {},
   "outputs": [],
   "source": [
    "dict_to_json(parameters,'XGBoost_1_4_700')"
   ]
  },
  {
   "cell_type": "markdown",
   "metadata": {},
   "source": [
    "__XGBoost models for 700 Runtime__ "
   ]
  },
  {
   "cell_type": "code",
   "execution_count": 82,
   "metadata": {},
   "outputs": [],
   "source": [
    "mod_best=h2o.get_model(model2_set[40])\n",
    "parameters = mod_best.params\n",
    "dict_to_json(parameters,'XGBoost_grid1_1_700')"
   ]
  },
  {
   "cell_type": "code",
   "execution_count": 83,
   "metadata": {},
   "outputs": [],
   "source": [
    "mod_best=h2o.get_model(model2_set[41])\n",
    "parameters = mod_best.params\n",
    "dict_to_json(parameters,'XGBoost_grid1_2_700')"
   ]
  },
  {
   "cell_type": "code",
   "execution_count": null,
   "metadata": {},
   "outputs": [],
   "source": []
  },
  {
   "cell_type": "markdown",
   "metadata": {},
   "source": [
    "__DRF models for 700 Runtime__ "
   ]
  },
  {
   "cell_type": "code",
   "execution_count": 84,
   "metadata": {},
   "outputs": [],
   "source": [
    "mod_best=h2o.get_model(model2_set[14])\n",
    "parameters = mod_best.params"
   ]
  },
  {
   "cell_type": "code",
   "execution_count": 85,
   "metadata": {},
   "outputs": [],
   "source": [
    "dict_to_json(parameters,'DRF_1_1_700')"
   ]
  },
  {
   "cell_type": "code",
   "execution_count": 86,
   "metadata": {},
   "outputs": [],
   "source": [
    "mod_best=h2o.get_model(model2_set[15])\n",
    "parameters = mod_best.params"
   ]
  },
  {
   "cell_type": "code",
   "execution_count": 87,
   "metadata": {},
   "outputs": [],
   "source": [
    "dict_to_json(parameters,'DRF_1_2_700')"
   ]
  },
  {
   "cell_type": "code",
   "execution_count": 88,
   "metadata": {},
   "outputs": [],
   "source": [
    "mod_best=h2o.get_model(model2_set[16])\n",
    "parameters = mod_best.params"
   ]
  },
  {
   "cell_type": "code",
   "execution_count": 89,
   "metadata": {},
   "outputs": [],
   "source": [
    "dict_to_json(parameters,'DRF_1_3_700')"
   ]
  },
  {
   "cell_type": "code",
   "execution_count": 90,
   "metadata": {},
   "outputs": [],
   "source": [
    "mod_best=h2o.get_model(model2_set[18])\n",
    "parameters = mod_best.params"
   ]
  },
  {
   "cell_type": "code",
   "execution_count": 91,
   "metadata": {},
   "outputs": [],
   "source": [
    "dict_to_json(parameters,'DRF_1_4_700')"
   ]
  },
  {
   "cell_type": "code",
   "execution_count": 92,
   "metadata": {},
   "outputs": [],
   "source": [
    "mod_best=h2o.get_model(model2_set[21])\n",
    "parameters = mod_best.params"
   ]
  },
  {
   "cell_type": "code",
   "execution_count": 93,
   "metadata": {},
   "outputs": [],
   "source": [
    "dict_to_json(parameters,'DRF_1_5_700')"
   ]
  },
  {
   "cell_type": "markdown",
   "metadata": {},
   "source": [
    "__GBM models for 700 Runtime__ "
   ]
  },
  {
   "cell_type": "code",
   "execution_count": 94,
   "metadata": {},
   "outputs": [],
   "source": [
    "mod_best=h2o.get_model(model2_set[17])\n",
    "parameters = mod_best.params"
   ]
  },
  {
   "cell_type": "code",
   "execution_count": 95,
   "metadata": {},
   "outputs": [],
   "source": [
    "dict_to_json(parameters,'GBM_3_1_700')"
   ]
  },
  {
   "cell_type": "code",
   "execution_count": 96,
   "metadata": {},
   "outputs": [],
   "source": [
    "mod_best=h2o.get_model(model2_set[19])\n",
    "parameters = mod_best.params"
   ]
  },
  {
   "cell_type": "code",
   "execution_count": 97,
   "metadata": {},
   "outputs": [],
   "source": [
    "dict_to_json(parameters,'GBM_2_1_700')"
   ]
  },
  {
   "cell_type": "code",
   "execution_count": 98,
   "metadata": {},
   "outputs": [],
   "source": [
    "mod_best=h2o.get_model(model2_set[20])\n",
    "parameters = mod_best.params"
   ]
  },
  {
   "cell_type": "code",
   "execution_count": 99,
   "metadata": {},
   "outputs": [],
   "source": [
    "dict_to_json(parameters,'GBM_4_1_700')"
   ]
  },
  {
   "cell_type": "code",
   "execution_count": 100,
   "metadata": {},
   "outputs": [],
   "source": [
    "mod_best=h2o.get_model(model2_set[22])\n",
    "parameters = mod_best.params"
   ]
  },
  {
   "cell_type": "code",
   "execution_count": 101,
   "metadata": {},
   "outputs": [],
   "source": [
    "dict_to_json(parameters,'GBM_2_2_700')"
   ]
  },
  {
   "cell_type": "code",
   "execution_count": 102,
   "metadata": {},
   "outputs": [],
   "source": [
    "mod_best=h2o.get_model(model2_set[23])\n",
    "parameters = mod_best.params"
   ]
  },
  {
   "cell_type": "code",
   "execution_count": 103,
   "metadata": {},
   "outputs": [],
   "source": [
    "dict_to_json(parameters,'GBM_1_1_700')"
   ]
  },
  {
   "cell_type": "code",
   "execution_count": 104,
   "metadata": {},
   "outputs": [],
   "source": [
    "mod_best=h2o.get_model(model2_set[24])\n",
    "parameters = mod_best.params\n",
    "dict_to_json(parameters,'GBM_1_2_700')"
   ]
  },
  {
   "cell_type": "code",
   "execution_count": 105,
   "metadata": {},
   "outputs": [],
   "source": [
    "mod_best=h2o.get_model(model2_set[25])\n",
    "parameters = mod_best.params\n",
    "dict_to_json(parameters,'GBM_4_2_700')"
   ]
  },
  {
   "cell_type": "code",
   "execution_count": 106,
   "metadata": {},
   "outputs": [],
   "source": [
    "mod_best=h2o.get_model(model2_set[26])\n",
    "parameters = mod_best.params\n",
    "dict_to_json(parameters,'GBM_1_3_700')"
   ]
  },
  {
   "cell_type": "code",
   "execution_count": 107,
   "metadata": {},
   "outputs": [],
   "source": [
    "mod_best=h2o.get_model(model2_set[27])\n",
    "parameters = mod_best.params\n",
    "dict_to_json(parameters,'GBM_3_1_700')"
   ]
  },
  {
   "cell_type": "code",
   "execution_count": 108,
   "metadata": {},
   "outputs": [],
   "source": [
    "mod_best=h2o.get_model(model2_set[28])\n",
    "parameters = mod_best.params\n",
    "dict_to_json(parameters,'GBM_5_1_700')"
   ]
  },
  {
   "cell_type": "code",
   "execution_count": 109,
   "metadata": {},
   "outputs": [],
   "source": [
    "mod_best=h2o.get_model(model2_set[29])\n",
    "parameters = mod_best.params\n",
    "dict_to_json(parameters,'GBM_5_2_700')"
   ]
  },
  {
   "cell_type": "markdown",
   "metadata": {},
   "source": [
    "__GLM models for 700 Runtime__ "
   ]
  },
  {
   "cell_type": "code",
   "execution_count": 110,
   "metadata": {},
   "outputs": [],
   "source": [
    "mod_best=h2o.get_model(model2_set[30])\n",
    "parameters = mod_best.params"
   ]
  },
  {
   "cell_type": "code",
   "execution_count": 111,
   "metadata": {},
   "outputs": [],
   "source": [
    "dict_to_json(parameters,'GLM_grid1_1_700')"
   ]
  },
  {
   "cell_type": "code",
   "execution_count": 112,
   "metadata": {},
   "outputs": [],
   "source": [
    "mod_best=h2o.get_model(model2_set[31])\n",
    "parameters = mod_best.params\n",
    "dict_to_json(parameters,'GLM_grid1_2_700')"
   ]
  },
  {
   "cell_type": "code",
   "execution_count": 113,
   "metadata": {},
   "outputs": [],
   "source": [
    "mod_best=h2o.get_model(model2_set[32])\n",
    "parameters = mod_best.params\n",
    "dict_to_json(parameters,'GLM_grid1_3_700')"
   ]
  },
  {
   "cell_type": "code",
   "execution_count": 114,
   "metadata": {},
   "outputs": [],
   "source": [
    "mod_best=h2o.get_model(model2_set[33])\n",
    "parameters = mod_best.params\n",
    "dict_to_json(parameters,'GLM_grid1_4_700')"
   ]
  },
  {
   "cell_type": "code",
   "execution_count": 115,
   "metadata": {},
   "outputs": [],
   "source": [
    "mod_best=h2o.get_model(model2_set[34])\n",
    "parameters = mod_best.params\n",
    "dict_to_json(parameters,'GLM_grid1_5_700')"
   ]
  },
  {
   "cell_type": "code",
   "execution_count": 116,
   "metadata": {},
   "outputs": [],
   "source": [
    "mod_best=h2o.get_model(model2_set[35])\n",
    "parameters = mod_best.params\n",
    "dict_to_json(parameters,'GLM_grid1_6_700')"
   ]
  },
  {
   "cell_type": "markdown",
   "metadata": {},
   "source": [
    "__XRT models for 700 Runtime__ "
   ]
  },
  {
   "cell_type": "code",
   "execution_count": 117,
   "metadata": {},
   "outputs": [],
   "source": [
    "mod_best=h2o.get_model(model2_set[36])\n",
    "parameters = mod_best.params\n",
    "dict_to_json(parameters,'XRT_1_1_700')"
   ]
  },
  {
   "cell_type": "code",
   "execution_count": 118,
   "metadata": {},
   "outputs": [],
   "source": [
    "mod_best=h2o.get_model(model2_set[37])\n",
    "parameters = mod_best.params\n",
    "dict_to_json(parameters,'XRT_1_2_700')"
   ]
  },
  {
   "cell_type": "code",
   "execution_count": 119,
   "metadata": {},
   "outputs": [],
   "source": [
    "mod_best=h2o.get_model(model2_set[38])\n",
    "parameters = mod_best.params\n",
    "dict_to_json(parameters,'XRT_1_3_700')"
   ]
  },
  {
   "cell_type": "code",
   "execution_count": 120,
   "metadata": {},
   "outputs": [],
   "source": [
    "mod_best=h2o.get_model(model2_set[39])\n",
    "parameters = mod_best.params\n",
    "dict_to_json(parameters,'XRT_1_4_700')"
   ]
  },
  {
   "cell_type": "code",
   "execution_count": 121,
   "metadata": {},
   "outputs": [],
   "source": [
    "mod_best=h2o.get_model(model2_set[42])\n",
    "parameters = mod_best.params\n",
    "dict_to_json(parameters,'XRT_1_5_700')"
   ]
  },
  {
   "cell_type": "code",
   "execution_count": null,
   "metadata": {},
   "outputs": [],
   "source": []
  },
  {
   "cell_type": "code",
   "execution_count": null,
   "metadata": {},
   "outputs": [],
   "source": [
    "model1_path = h2o.save_model(model=mod1_best, path=\"/tmp/model1\", force=True)"
   ]
  },
  {
   "cell_type": "markdown",
   "metadata": {},
   "source": [
    "## Run Time = 1000 seconds"
   ]
  },
  {
   "cell_type": "code",
   "execution_count": 36,
   "metadata": {},
   "outputs": [
    {
     "name": "stdout",
     "output_type": "stream",
     "text": [
      "AutoML progress: |████████████████████████████████████████████████████████| 100%\n"
     ]
    }
   ],
   "source": [
    "aml3 = automl(1000,X,y,df)"
   ]
  },
  {
   "cell_type": "code",
   "execution_count": 37,
   "metadata": {},
   "outputs": [
    {
     "data": {
      "text/html": [
       "<table>\n",
       "<thead>\n",
       "<tr><th>model_id                                           </th><th style=\"text-align: right;\">  mean_residual_deviance</th><th style=\"text-align: right;\">    rmse</th><th style=\"text-align: right;\">     mse</th><th style=\"text-align: right;\">     mae</th><th style=\"text-align: right;\">    rmsle</th></tr>\n",
       "</thead>\n",
       "<tbody>\n",
       "<tr><td>StackedEnsemble_BestOfFamily_AutoML_20190412_131028</td><td style=\"text-align: right;\">                0.195458</td><td style=\"text-align: right;\">0.442107</td><td style=\"text-align: right;\">0.195458</td><td style=\"text-align: right;\">0.195702</td><td style=\"text-align: right;\">0.0812831</td></tr>\n",
       "<tr><td>XGBoost_3_AutoML_20190412_131028                   </td><td style=\"text-align: right;\">                0.195959</td><td style=\"text-align: right;\">0.442673</td><td style=\"text-align: right;\">0.195959</td><td style=\"text-align: right;\">0.197886</td><td style=\"text-align: right;\">0.0795756</td></tr>\n",
       "<tr><td>XGBoost_3_AutoML_20190412_141431                   </td><td style=\"text-align: right;\">                0.197651</td><td style=\"text-align: right;\">0.44458 </td><td style=\"text-align: right;\">0.197651</td><td style=\"text-align: right;\">0.198364</td><td style=\"text-align: right;\">0.0803356</td></tr>\n",
       "<tr><td>XGBoost_3_AutoML_20190412_135449                   </td><td style=\"text-align: right;\">                0.199544</td><td style=\"text-align: right;\">0.446703</td><td style=\"text-align: right;\">0.199544</td><td style=\"text-align: right;\">0.19734 </td><td style=\"text-align: right;\">0.0806918</td></tr>\n",
       "<tr><td>XGBoost_3_AutoML_20190412_143250                   </td><td style=\"text-align: right;\">                0.200043</td><td style=\"text-align: right;\">0.447261</td><td style=\"text-align: right;\">0.200043</td><td style=\"text-align: right;\">0.197577</td><td style=\"text-align: right;\">0.0805597</td></tr>\n",
       "<tr><td>XGBoost_2_AutoML_20190412_141431                   </td><td style=\"text-align: right;\">                0.204233</td><td style=\"text-align: right;\">0.451922</td><td style=\"text-align: right;\">0.204233</td><td style=\"text-align: right;\">0.203345</td><td style=\"text-align: right;\">0.080766 </td></tr>\n",
       "<tr><td>XGBoost_2_AutoML_20190412_135449                   </td><td style=\"text-align: right;\">                0.204452</td><td style=\"text-align: right;\">0.452164</td><td style=\"text-align: right;\">0.204452</td><td style=\"text-align: right;\">0.202191</td><td style=\"text-align: right;\">0.0804954</td></tr>\n",
       "<tr><td>XGBoost_2_AutoML_20190412_131028                   </td><td style=\"text-align: right;\">                0.204981</td><td style=\"text-align: right;\">0.452748</td><td style=\"text-align: right;\">0.204981</td><td style=\"text-align: right;\">0.206051</td><td style=\"text-align: right;\">0.0810478</td></tr>\n",
       "<tr><td>StackedEnsemble_BestOfFamily_AutoML_20190412_124727</td><td style=\"text-align: right;\">                0.205102</td><td style=\"text-align: right;\">0.452882</td><td style=\"text-align: right;\">0.205102</td><td style=\"text-align: right;\">0.20297 </td><td style=\"text-align: right;\">0.0832548</td></tr>\n",
       "<tr><td>StackedEnsemble_AllModels_AutoML_20190412_124727   </td><td style=\"text-align: right;\">                0.205305</td><td style=\"text-align: right;\">0.453105</td><td style=\"text-align: right;\">0.205305</td><td style=\"text-align: right;\">0.203702</td><td style=\"text-align: right;\">0.0831319</td></tr>\n",
       "</tbody>\n",
       "</table>"
      ]
     },
     "metadata": {},
     "output_type": "display_data"
    },
    {
     "data": {
      "text/plain": []
     },
     "execution_count": 37,
     "metadata": {},
     "output_type": "execute_result"
    }
   ],
   "source": [
    "aml3.leaderboard"
   ]
  },
  {
   "cell_type": "code",
   "execution_count": 45,
   "metadata": {},
   "outputs": [
    {
     "data": {
      "text/plain": [
       "0     StackedEnsemble_BestOfFamily_AutoML_20190412_1...\n",
       "1                      XGBoost_3_AutoML_20190412_131028\n",
       "2                      XGBoost_3_AutoML_20190412_141431\n",
       "3                      XGBoost_3_AutoML_20190412_135449\n",
       "4                      XGBoost_3_AutoML_20190412_143250\n",
       "5                      XGBoost_2_AutoML_20190412_141431\n",
       "6                      XGBoost_2_AutoML_20190412_135449\n",
       "7                      XGBoost_2_AutoML_20190412_131028\n",
       "8     StackedEnsemble_BestOfFamily_AutoML_20190412_1...\n",
       "9      StackedEnsemble_AllModels_AutoML_20190412_124727\n",
       "10                     XGBoost_2_AutoML_20190412_143250\n",
       "11                     XGBoost_2_AutoML_20190412_124727\n",
       "12                     XGBoost_1_AutoML_20190412_141431\n",
       "13                     XGBoost_1_AutoML_20190412_131028\n",
       "14                     XGBoost_1_AutoML_20190412_124727\n",
       "15                     XGBoost_1_AutoML_20190412_143250\n",
       "16                     XGBoost_1_AutoML_20190412_135449\n",
       "17                     XGBoost_1_AutoML_20190412_142651\n",
       "18                         DRF_1_AutoML_20190412_135449\n",
       "19                         DRF_1_AutoML_20190412_132201\n",
       "20                         GBM_3_AutoML_20190412_143250\n",
       "21                         GBM_1_AutoML_20190412_143250\n",
       "22                         DRF_1_AutoML_20190412_142651\n",
       "23                         DRF_1_AutoML_20190412_143250\n",
       "24                         DRF_1_AutoML_20190412_141431\n",
       "25                         GBM_3_AutoML_20190412_131028\n",
       "26                         DRF_1_AutoML_20190412_131028\n",
       "27                         GBM_2_AutoML_20190412_131028\n",
       "28                         GBM_4_AutoML_20190412_135449\n",
       "29                         GBM_4_AutoML_20190412_143250\n",
       "30                         DRF_1_AutoML_20190412_124727\n",
       "31                         GBM_2_AutoML_20190412_135449\n",
       "32                         GBM_1_AutoML_20190412_141431\n",
       "33                         GBM_1_AutoML_20190412_131028\n",
       "34                         GBM_4_AutoML_20190412_131028\n",
       "35                         GBM_1_AutoML_20190412_135449\n",
       "36                         GBM_3_AutoML_20190412_135449\n",
       "37                         GBM_5_AutoML_20190412_135449\n",
       "38                         GBM_2_AutoML_20190412_143250\n",
       "39                         GBM_5_AutoML_20190412_143250\n",
       "40                         GBM_5_AutoML_20190412_131028\n",
       "41            GLM_grid_1_AutoML_20190412_131028_model_1\n",
       "42            GLM_grid_1_AutoML_20190412_124727_model_1\n",
       "43            GLM_grid_1_AutoML_20190412_135449_model_1\n",
       "44            GLM_grid_1_AutoML_20190412_143250_model_1\n",
       "45            GLM_grid_1_AutoML_20190412_141431_model_1\n",
       "46            GLM_grid_1_AutoML_20190412_132201_model_1\n",
       "47            GLM_grid_1_AutoML_20190412_142651_model_1\n",
       "48            GBM_grid_1_AutoML_20190412_131028_model_1\n",
       "49                         XRT_1_AutoML_20190412_131028\n",
       "50                         XRT_1_AutoML_20190412_141431\n",
       "51                         XRT_1_AutoML_20190412_124727\n",
       "52                         XRT_1_AutoML_20190412_132201\n",
       "53                         XRT_1_AutoML_20190412_143250\n",
       "54                         XRT_1_AutoML_20190412_142651\n",
       "55        XGBoost_grid_1_AutoML_20190412_131028_model_1\n",
       "56        XGBoost_grid_1_AutoML_20190412_135449_model_1\n",
       "57                         XRT_1_AutoML_20190412_135449\n",
       "Name: model_id, dtype: object"
      ]
     },
     "execution_count": 45,
     "metadata": {},
     "output_type": "execute_result"
    }
   ],
   "source": [
    "aml3_leaderboard_df=aml3.leaderboard.as_data_frame()\n",
    "model3_set=aml3_leaderboard_df['model_id']\n",
    "model3_set"
   ]
  },
  {
   "cell_type": "code",
   "execution_count": null,
   "metadata": {},
   "outputs": [],
   "source": []
  },
  {
   "cell_type": "code",
   "execution_count": null,
   "metadata": {},
   "outputs": [],
   "source": []
  },
  {
   "cell_type": "code",
   "execution_count": null,
   "metadata": {},
   "outputs": [],
   "source": []
  },
  {
   "cell_type": "code",
   "execution_count": null,
   "metadata": {},
   "outputs": [],
   "source": []
  },
  {
   "cell_type": "code",
   "execution_count": null,
   "metadata": {},
   "outputs": [],
   "source": []
  },
  {
   "cell_type": "code",
   "execution_count": null,
   "metadata": {},
   "outputs": [],
   "source": []
  },
  {
   "cell_type": "code",
   "execution_count": null,
   "metadata": {},
   "outputs": [],
   "source": []
  },
  {
   "cell_type": "code",
   "execution_count": null,
   "metadata": {},
   "outputs": [],
   "source": []
  },
  {
   "cell_type": "code",
   "execution_count": null,
   "metadata": {},
   "outputs": [],
   "source": []
  },
  {
   "cell_type": "code",
   "execution_count": null,
   "metadata": {},
   "outputs": [],
   "source": []
  },
  {
   "cell_type": "code",
   "execution_count": null,
   "metadata": {},
   "outputs": [],
   "source": []
  },
  {
   "cell_type": "code",
   "execution_count": null,
   "metadata": {},
   "outputs": [],
   "source": []
  },
  {
   "cell_type": "code",
   "execution_count": null,
   "metadata": {},
   "outputs": [],
   "source": [
    "model2_path = h2o.save_model(model=mod2_best, path=\"/tmp/model2\", force=True)"
   ]
  },
  {
   "cell_type": "code",
   "execution_count": null,
   "metadata": {},
   "outputs": [],
   "source": []
  },
  {
   "cell_type": "code",
   "execution_count": null,
   "metadata": {},
   "outputs": [],
   "source": []
  },
  {
   "cell_type": "markdown",
   "metadata": {},
   "source": [
    "## Run Time = 1300 seconds"
   ]
  },
  {
   "cell_type": "code",
   "execution_count": 39,
   "metadata": {},
   "outputs": [
    {
     "name": "stdout",
     "output_type": "stream",
     "text": [
      "AutoML progress: |████████████████████████████████████████████████████████| 100%\n"
     ]
    }
   ],
   "source": [
    "aml4 = automl(1300,X,y,df)"
   ]
  },
  {
   "cell_type": "code",
   "execution_count": 40,
   "metadata": {},
   "outputs": [
    {
     "data": {
      "text/html": [
       "<table>\n",
       "<thead>\n",
       "<tr><th>model_id                                           </th><th style=\"text-align: right;\">  mean_residual_deviance</th><th style=\"text-align: right;\">    rmse</th><th style=\"text-align: right;\">     mse</th><th style=\"text-align: right;\">     mae</th><th style=\"text-align: right;\">    rmsle</th></tr>\n",
       "</thead>\n",
       "<tbody>\n",
       "<tr><td>StackedEnsemble_BestOfFamily_AutoML_20190412_131028</td><td style=\"text-align: right;\">                0.195458</td><td style=\"text-align: right;\">0.442107</td><td style=\"text-align: right;\">0.195458</td><td style=\"text-align: right;\">0.195702</td><td style=\"text-align: right;\">0.0812831</td></tr>\n",
       "<tr><td>XGBoost_3_AutoML_20190412_131028                   </td><td style=\"text-align: right;\">                0.195959</td><td style=\"text-align: right;\">0.442673</td><td style=\"text-align: right;\">0.195959</td><td style=\"text-align: right;\">0.197886</td><td style=\"text-align: right;\">0.0795756</td></tr>\n",
       "<tr><td>XGBoost_3_AutoML_20190412_141431                   </td><td style=\"text-align: right;\">                0.197651</td><td style=\"text-align: right;\">0.44458 </td><td style=\"text-align: right;\">0.197651</td><td style=\"text-align: right;\">0.198364</td><td style=\"text-align: right;\">0.0803356</td></tr>\n",
       "<tr><td>XGBoost_3_AutoML_20190412_135449                   </td><td style=\"text-align: right;\">                0.199544</td><td style=\"text-align: right;\">0.446703</td><td style=\"text-align: right;\">0.199544</td><td style=\"text-align: right;\">0.19734 </td><td style=\"text-align: right;\">0.0806918</td></tr>\n",
       "<tr><td>XGBoost_3_AutoML_20190412_143250                   </td><td style=\"text-align: right;\">                0.200043</td><td style=\"text-align: right;\">0.447261</td><td style=\"text-align: right;\">0.200043</td><td style=\"text-align: right;\">0.197577</td><td style=\"text-align: right;\">0.0805597</td></tr>\n",
       "<tr><td>XGBoost_2_AutoML_20190412_141431                   </td><td style=\"text-align: right;\">                0.204233</td><td style=\"text-align: right;\">0.451922</td><td style=\"text-align: right;\">0.204233</td><td style=\"text-align: right;\">0.203345</td><td style=\"text-align: right;\">0.080766 </td></tr>\n",
       "<tr><td>XGBoost_2_AutoML_20190412_135449                   </td><td style=\"text-align: right;\">                0.204452</td><td style=\"text-align: right;\">0.452164</td><td style=\"text-align: right;\">0.204452</td><td style=\"text-align: right;\">0.202191</td><td style=\"text-align: right;\">0.0804954</td></tr>\n",
       "<tr><td>XGBoost_2_AutoML_20190412_131028                   </td><td style=\"text-align: right;\">                0.204981</td><td style=\"text-align: right;\">0.452748</td><td style=\"text-align: right;\">0.204981</td><td style=\"text-align: right;\">0.206051</td><td style=\"text-align: right;\">0.0810478</td></tr>\n",
       "<tr><td>StackedEnsemble_BestOfFamily_AutoML_20190412_124727</td><td style=\"text-align: right;\">                0.205102</td><td style=\"text-align: right;\">0.452882</td><td style=\"text-align: right;\">0.205102</td><td style=\"text-align: right;\">0.20297 </td><td style=\"text-align: right;\">0.0832548</td></tr>\n",
       "<tr><td>StackedEnsemble_AllModels_AutoML_20190412_124727   </td><td style=\"text-align: right;\">                0.205305</td><td style=\"text-align: right;\">0.453105</td><td style=\"text-align: right;\">0.205305</td><td style=\"text-align: right;\">0.203702</td><td style=\"text-align: right;\">0.0831319</td></tr>\n",
       "</tbody>\n",
       "</table>"
      ]
     },
     "metadata": {},
     "output_type": "display_data"
    },
    {
     "data": {
      "text/plain": []
     },
     "execution_count": 40,
     "metadata": {},
     "output_type": "execute_result"
    }
   ],
   "source": [
    "aml4.leaderboard"
   ]
  },
  {
   "cell_type": "code",
   "execution_count": 41,
   "metadata": {},
   "outputs": [
    {
     "data": {
      "text/plain": [
       "0     StackedEnsemble_BestOfFamily_AutoML_20190412_1...\n",
       "1                      XGBoost_3_AutoML_20190412_131028\n",
       "2                      XGBoost_3_AutoML_20190412_141431\n",
       "3                      XGBoost_3_AutoML_20190412_135449\n",
       "4                      XGBoost_3_AutoML_20190412_143250\n",
       "5                      XGBoost_2_AutoML_20190412_141431\n",
       "6                      XGBoost_2_AutoML_20190412_135449\n",
       "7                      XGBoost_2_AutoML_20190412_131028\n",
       "8     StackedEnsemble_BestOfFamily_AutoML_20190412_1...\n",
       "9      StackedEnsemble_AllModels_AutoML_20190412_124727\n",
       "10                     XGBoost_2_AutoML_20190412_143250\n",
       "11                     XGBoost_2_AutoML_20190412_124727\n",
       "12                     XGBoost_1_AutoML_20190412_141431\n",
       "13                     XGBoost_1_AutoML_20190412_131028\n",
       "14                     XGBoost_1_AutoML_20190412_124727\n",
       "15                     XGBoost_1_AutoML_20190412_143250\n",
       "16                     XGBoost_1_AutoML_20190412_135449\n",
       "17                     XGBoost_1_AutoML_20190412_142651\n",
       "18                         DRF_1_AutoML_20190412_135449\n",
       "19                         DRF_1_AutoML_20190412_132201\n",
       "20                         GBM_3_AutoML_20190412_143250\n",
       "21                         GBM_1_AutoML_20190412_143250\n",
       "22                         DRF_1_AutoML_20190412_142651\n",
       "23                         DRF_1_AutoML_20190412_143250\n",
       "24                         DRF_1_AutoML_20190412_141431\n",
       "25                         GBM_3_AutoML_20190412_131028\n",
       "26                         DRF_1_AutoML_20190412_131028\n",
       "27                         GBM_2_AutoML_20190412_131028\n",
       "28                         GBM_4_AutoML_20190412_135449\n",
       "29                         GBM_4_AutoML_20190412_143250\n",
       "30                         DRF_1_AutoML_20190412_124727\n",
       "31                         GBM_2_AutoML_20190412_135449\n",
       "32                         GBM_1_AutoML_20190412_141431\n",
       "33                         GBM_1_AutoML_20190412_131028\n",
       "34                         GBM_4_AutoML_20190412_131028\n",
       "35                         GBM_1_AutoML_20190412_135449\n",
       "36                         GBM_3_AutoML_20190412_135449\n",
       "37                         GBM_5_AutoML_20190412_135449\n",
       "38                         GBM_2_AutoML_20190412_143250\n",
       "39                         GBM_5_AutoML_20190412_143250\n",
       "40                         GBM_5_AutoML_20190412_131028\n",
       "41            GLM_grid_1_AutoML_20190412_131028_model_1\n",
       "42            GLM_grid_1_AutoML_20190412_124727_model_1\n",
       "43            GLM_grid_1_AutoML_20190412_135449_model_1\n",
       "44            GLM_grid_1_AutoML_20190412_143250_model_1\n",
       "45            GLM_grid_1_AutoML_20190412_141431_model_1\n",
       "46            GLM_grid_1_AutoML_20190412_132201_model_1\n",
       "47            GLM_grid_1_AutoML_20190412_142651_model_1\n",
       "48            GBM_grid_1_AutoML_20190412_131028_model_1\n",
       "49                         XRT_1_AutoML_20190412_131028\n",
       "50                         XRT_1_AutoML_20190412_141431\n",
       "51                         XRT_1_AutoML_20190412_124727\n",
       "52                         XRT_1_AutoML_20190412_132201\n",
       "53                         XRT_1_AutoML_20190412_143250\n",
       "54                         XRT_1_AutoML_20190412_142651\n",
       "55        XGBoost_grid_1_AutoML_20190412_131028_model_1\n",
       "56        XGBoost_grid_1_AutoML_20190412_135449_model_1\n",
       "57                         XRT_1_AutoML_20190412_135449\n",
       "Name: model_id, dtype: object"
      ]
     },
     "execution_count": 41,
     "metadata": {},
     "output_type": "execute_result"
    }
   ],
   "source": [
    "aml4_leaderboard_df=aml4.leaderboard.as_data_frame()\n",
    "model4_set=aml4_leaderboard_df['model_id']\n",
    "model4_set"
   ]
  },
  {
   "cell_type": "markdown",
   "metadata": {},
   "source": [
    "__XGBoost models for 1300 Runtime__ "
   ]
  },
  {
   "cell_type": "code",
   "execution_count": null,
   "metadata": {},
   "outputs": [],
   "source": [
    "mod_best=h2o.get_model(model4_set[1])\n",
    "parameters = mod_best.params\n",
    "dict_to_json(parameters,'XGBoost_3_1_1300')"
   ]
  },
  {
   "cell_type": "code",
   "execution_count": null,
   "metadata": {},
   "outputs": [],
   "source": [
    "mod_best=h2o.get_model(model4_set[2])\n",
    "parameters = mod_best.params\n",
    "dict_to_json(parameters,'XGBoost_3_2_1300')"
   ]
  },
  {
   "cell_type": "code",
   "execution_count": null,
   "metadata": {},
   "outputs": [],
   "source": [
    "mod_best=h2o.get_model(model4_set[3])\n",
    "parameters = mod_best.params\n",
    "dict_to_json(parameters,'XGBoost_3_3_1300')"
   ]
  },
  {
   "cell_type": "code",
   "execution_count": null,
   "metadata": {},
   "outputs": [],
   "source": [
    "mod_best=h2o.get_model(model4_set[4])\n",
    "parameters = mod_best.params\n",
    "dict_to_json(parameters,'XGBoost_3_4_1300')"
   ]
  },
  {
   "cell_type": "code",
   "execution_count": null,
   "metadata": {},
   "outputs": [],
   "source": [
    "mod_best=h2o.get_model(model4_set[5])\n",
    "parameters = mod_best.params\n",
    "dict_to_json(parameters,'XGBoost_2_1_1300')"
   ]
  },
  {
   "cell_type": "code",
   "execution_count": null,
   "metadata": {},
   "outputs": [],
   "source": [
    "mod_best=h2o.get_model(model4_set[6])\n",
    "parameters = mod_best.params\n",
    "dict_to_json(parameters,'XGBoost_2_2_1300')"
   ]
  },
  {
   "cell_type": "code",
   "execution_count": null,
   "metadata": {},
   "outputs": [],
   "source": [
    "mod_best=h2o.get_model(model4_set[7])\n",
    "parameters = mod_best.params\n",
    "dict_to_json(parameters,'XGBoost_2_3_1300')"
   ]
  },
  {
   "cell_type": "code",
   "execution_count": null,
   "metadata": {},
   "outputs": [],
   "source": [
    "mod_best=h2o.get_model(model4_set[10])\n",
    "parameters = mod_best.params\n",
    "dict_to_json(parameters,'XGBoost_2_4_1300')"
   ]
  },
  {
   "cell_type": "code",
   "execution_count": null,
   "metadata": {},
   "outputs": [],
   "source": [
    "mod_best=h2o.get_model(model4_set[11])\n",
    "parameters = mod_best.params\n",
    "dict_to_json(parameters,'XGBoost_2_5_1300')"
   ]
  },
  {
   "cell_type": "code",
   "execution_count": null,
   "metadata": {},
   "outputs": [],
   "source": [
    "mod_best=h2o.get_model(model4_set[12])\n",
    "parameters = mod_best.params\n",
    "dict_to_json(parameters,'XGBoost_1_1_1300')"
   ]
  },
  {
   "cell_type": "code",
   "execution_count": null,
   "metadata": {},
   "outputs": [],
   "source": [
    "mod_best=h2o.get_model(model4_set[13])\n",
    "parameters = mod_best.params\n",
    "dict_to_json(parameters,'XGBoost_1_2_1300')"
   ]
  },
  {
   "cell_type": "code",
   "execution_count": null,
   "metadata": {},
   "outputs": [],
   "source": [
    "mod_best=h2o.get_model(model4_set[14])\n",
    "parameters = mod_best.params\n",
    "dict_to_json(parameters,'XGBoost_1_3_1300')"
   ]
  },
  {
   "cell_type": "code",
   "execution_count": null,
   "metadata": {},
   "outputs": [],
   "source": [
    "mod_best=h2o.get_model(model4_set[15])\n",
    "parameters = mod_best.params\n",
    "dict_to_json(parameters,'XGBoost_1_4_1300')"
   ]
  },
  {
   "cell_type": "code",
   "execution_count": null,
   "metadata": {},
   "outputs": [],
   "source": [
    "mod_best=h2o.get_model(model4_set[16])\n",
    "parameters = mod_best.params\n",
    "dict_to_json(parameters,'XGBoost_1_5_1300')"
   ]
  },
  {
   "cell_type": "code",
   "execution_count": null,
   "metadata": {},
   "outputs": [],
   "source": [
    "mod_best=h2o.get_model(model4_set[17])\n",
    "parameters = mod_best.params\n",
    "dict_to_json(parameters,'XGBoost_1_6_1300')"
   ]
  },
  {
   "cell_type": "code",
   "execution_count": null,
   "metadata": {},
   "outputs": [],
   "source": [
    "mod_best=h2o.get_model(model4_set[55])\n",
    "parameters = mod_best.params\n",
    "dict_to_json(parameters,'XGBoost_grid1_1_1300')"
   ]
  },
  {
   "cell_type": "code",
   "execution_count": null,
   "metadata": {},
   "outputs": [],
   "source": [
    "mod_best=h2o.get_model(model4_set[56])\n",
    "parameters = mod_best.params\n",
    "dict_to_json(parameters,'XGBoost_grid1_2_1300')"
   ]
  },
  {
   "cell_type": "markdown",
   "metadata": {},
   "source": [
    "__DRF models for 1300 Runtime__ "
   ]
  },
  {
   "cell_type": "code",
   "execution_count": null,
   "metadata": {},
   "outputs": [],
   "source": [
    "mod_best=h2o.get_model(model4_set[18])\n",
    "parameters = mod_best.params\n",
    "dict_to_json(parameters,'DRF_1_1_1300')"
   ]
  },
  {
   "cell_type": "code",
   "execution_count": null,
   "metadata": {},
   "outputs": [],
   "source": [
    "mod_best=h2o.get_model(model4_set[19])\n",
    "parameters = mod_best.params\n",
    "dict_to_json(parameters,'DRF_1_2_1300')"
   ]
  },
  {
   "cell_type": "code",
   "execution_count": null,
   "metadata": {},
   "outputs": [],
   "source": [
    "mod_best=h2o.get_model(model4_set[22])\n",
    "parameters = mod_best.params\n",
    "dict_to_json(parameters,'DRF_1_3_1300')"
   ]
  },
  {
   "cell_type": "code",
   "execution_count": null,
   "metadata": {},
   "outputs": [],
   "source": [
    "mod_best=h2o.get_model(model4_set[23])\n",
    "parameters = mod_best.params\n",
    "dict_to_json(parameters,'DRF_1_4_1300')"
   ]
  },
  {
   "cell_type": "code",
   "execution_count": null,
   "metadata": {},
   "outputs": [],
   "source": [
    "mod_best=h2o.get_model(model4_set[24])\n",
    "parameters = mod_best.params\n",
    "dict_to_json(parameters,'DRF_1_5_1300')"
   ]
  },
  {
   "cell_type": "code",
   "execution_count": null,
   "metadata": {},
   "outputs": [],
   "source": [
    "mod_best=h2o.get_model(model4_set[26])\n",
    "parameters = mod_best.params\n",
    "dict_to_json(parameters,'DRF_1_6_1300')"
   ]
  },
  {
   "cell_type": "code",
   "execution_count": null,
   "metadata": {},
   "outputs": [],
   "source": [
    "mod_best=h2o.get_model(model4_set[30])\n",
    "parameters = mod_best.params\n",
    "dict_to_json(parameters,'DRF_1_7_1300')"
   ]
  },
  {
   "cell_type": "code",
   "execution_count": null,
   "metadata": {},
   "outputs": [],
   "source": []
  },
  {
   "cell_type": "markdown",
   "metadata": {},
   "source": [
    "__GBM models for 1300 Runtime__ "
   ]
  },
  {
   "cell_type": "code",
   "execution_count": null,
   "metadata": {},
   "outputs": [],
   "source": [
    "mod_best=h2o.get_model(model4_set[21])\n",
    "parameters = mod_best.params\n",
    "dict_to_json(parameters,'GBM_1_1_1300')"
   ]
  },
  {
   "cell_type": "code",
   "execution_count": null,
   "metadata": {},
   "outputs": [],
   "source": [
    "mod_best=h2o.get_model(model4_set[25])\n",
    "parameters = mod_best.params\n",
    "dict_to_json(parameters,'GBM_3_1_1300')"
   ]
  },
  {
   "cell_type": "code",
   "execution_count": null,
   "metadata": {},
   "outputs": [],
   "source": [
    "mod_best=h2o.get_model(model4_set[27])\n",
    "parameters = mod_best.params\n",
    "dict_to_json(parameters,'GBM_2_1_1300')"
   ]
  },
  {
   "cell_type": "code",
   "execution_count": null,
   "metadata": {},
   "outputs": [],
   "source": [
    "mod_best=h2o.get_model(model4_set[28])\n",
    "parameters = mod_best.params\n",
    "dict_to_json(parameters,'GBM_4_1_1300')"
   ]
  },
  {
   "cell_type": "code",
   "execution_count": null,
   "metadata": {},
   "outputs": [],
   "source": [
    "mod_best=h2o.get_model(model4_set[29])\n",
    "parameters = mod_best.params\n",
    "dict_to_json(parameters,'GBM_4_2_1300')"
   ]
  },
  {
   "cell_type": "code",
   "execution_count": null,
   "metadata": {},
   "outputs": [],
   "source": [
    "mod_best=h2o.get_model(model4_set[31])\n",
    "parameters = mod_best.params\n",
    "dict_to_json(parameters,'GBM_2_2_1300')"
   ]
  },
  {
   "cell_type": "code",
   "execution_count": null,
   "metadata": {},
   "outputs": [],
   "source": [
    "mod_best=h2o.get_model(model4_set[32])\n",
    "parameters = mod_best.params\n",
    "dict_to_json(parameters,'GBM_1_2_1300')"
   ]
  },
  {
   "cell_type": "code",
   "execution_count": null,
   "metadata": {},
   "outputs": [],
   "source": [
    "mod_best=h2o.get_model(model4_set[33])\n",
    "parameters = mod_best.params\n",
    "dict_to_json(parameters,'GBM_1_3_1300')"
   ]
  },
  {
   "cell_type": "code",
   "execution_count": null,
   "metadata": {},
   "outputs": [],
   "source": [
    "mod_best=h2o.get_model(model4_set[34])\n",
    "parameters = mod_best.params\n",
    "dict_to_json(parameters,'GBM_4_3_1300')"
   ]
  },
  {
   "cell_type": "code",
   "execution_count": null,
   "metadata": {},
   "outputs": [],
   "source": [
    "mod_best=h2o.get_model(model4_set[35])\n",
    "parameters = mod_best.params\n",
    "dict_to_json(parameters,'GBM_1_4_1300')"
   ]
  },
  {
   "cell_type": "code",
   "execution_count": null,
   "metadata": {},
   "outputs": [],
   "source": [
    "mod_best=h2o.get_model(model4_set[36])\n",
    "parameters = mod_best.params\n",
    "dict_to_json(parameters,'GBM_3_2_1300')"
   ]
  },
  {
   "cell_type": "code",
   "execution_count": null,
   "metadata": {},
   "outputs": [],
   "source": [
    "mod_best=h2o.get_model(model4_set[37])\n",
    "parameters = mod_best.params\n",
    "dict_to_json(parameters,'GBM_5_1_1300')"
   ]
  },
  {
   "cell_type": "code",
   "execution_count": null,
   "metadata": {},
   "outputs": [],
   "source": [
    "mod_best=h2o.get_model(model4_set[38])\n",
    "parameters = mod_best.params\n",
    "dict_to_json(parameters,'GBM_2_3_1300')"
   ]
  },
  {
   "cell_type": "code",
   "execution_count": null,
   "metadata": {},
   "outputs": [],
   "source": [
    "mod_best=h2o.get_model(model4_set[39])\n",
    "parameters = mod_best.params\n",
    "dict_to_json(parameters,'GBM_5_2_1300')"
   ]
  },
  {
   "cell_type": "code",
   "execution_count": null,
   "metadata": {},
   "outputs": [],
   "source": [
    "mod_best=h2o.get_model(model4_set[40])\n",
    "parameters = mod_best.params\n",
    "dict_to_json(parameters,'GBM_5_3_1300')"
   ]
  },
  {
   "cell_type": "code",
   "execution_count": null,
   "metadata": {},
   "outputs": [],
   "source": [
    "mod_best=h2o.get_model(model4_set[48])\n",
    "parameters = mod_best.params\n",
    "dict_to_json(parameters,'GBM_grid1_1_1300')"
   ]
  },
  {
   "cell_type": "markdown",
   "metadata": {},
   "source": [
    "__GLM models for 1300 Runtime__ "
   ]
  },
  {
   "cell_type": "code",
   "execution_count": null,
   "metadata": {},
   "outputs": [],
   "source": [
    "mod_best=h2o.get_model(model4_set[41])\n",
    "parameters = mod_best.params\n",
    "dict_to_json(parameters,'GLM_grid1_1_1300')"
   ]
  },
  {
   "cell_type": "code",
   "execution_count": null,
   "metadata": {},
   "outputs": [],
   "source": [
    "mod_best=h2o.get_model(model4_set[42])\n",
    "parameters = mod_best.params\n",
    "dict_to_json(parameters,'GLM_grid1_2_1300')"
   ]
  },
  {
   "cell_type": "code",
   "execution_count": null,
   "metadata": {},
   "outputs": [],
   "source": [
    "mod_best=h2o.get_model(model4_set[43])\n",
    "parameters = mod_best.params\n",
    "dict_to_json(parameters,'GLM_grid1_3_1300')"
   ]
  },
  {
   "cell_type": "code",
   "execution_count": null,
   "metadata": {},
   "outputs": [],
   "source": [
    "mod_best=h2o.get_model(model4_set[44])\n",
    "parameters = mod_best.params\n",
    "dict_to_json(parameters,'GLM_grid1_4_1300')"
   ]
  },
  {
   "cell_type": "code",
   "execution_count": null,
   "metadata": {},
   "outputs": [],
   "source": [
    "mod_best=h2o.get_model(model4_set[45])\n",
    "parameters = mod_best.params\n",
    "dict_to_json(parameters,'GLM_grid1_5_1300')"
   ]
  },
  {
   "cell_type": "code",
   "execution_count": null,
   "metadata": {},
   "outputs": [],
   "source": [
    "mod_best=h2o.get_model(model4_set[46])\n",
    "parameters = mod_best.params\n",
    "dict_to_json(parameters,'GLM_grid1_6_1300')"
   ]
  },
  {
   "cell_type": "code",
   "execution_count": null,
   "metadata": {},
   "outputs": [],
   "source": [
    "mod_best=h2o.get_model(model4_set[47])\n",
    "parameters = mod_best.params\n",
    "dict_to_json(parameters,'GLM_grid1_7_1300')"
   ]
  },
  {
   "cell_type": "markdown",
   "metadata": {},
   "source": [
    "__XRT models for 1300 Runtime__ "
   ]
  },
  {
   "cell_type": "code",
   "execution_count": null,
   "metadata": {},
   "outputs": [],
   "source": [
    "mod_best=h2o.get_model(model4_set[49])\n",
    "parameters = mod_best.params\n",
    "dict_to_json(parameters,'XRT_1_1_1300')"
   ]
  },
  {
   "cell_type": "code",
   "execution_count": null,
   "metadata": {},
   "outputs": [],
   "source": [
    "mod_best=h2o.get_model(model4_set[50])\n",
    "parameters = mod_best.params\n",
    "dict_to_json(parameters,'XRT_1_2_1300')"
   ]
  },
  {
   "cell_type": "code",
   "execution_count": null,
   "metadata": {},
   "outputs": [],
   "source": [
    "mod_best=h2o.get_model(model4_set[51])\n",
    "parameters = mod_best.params\n",
    "dict_to_json(parameters,'XRT_1_3_1300')"
   ]
  },
  {
   "cell_type": "code",
   "execution_count": null,
   "metadata": {},
   "outputs": [],
   "source": [
    "mod_best=h2o.get_model(model4_set[52])\n",
    "parameters = mod_best.params\n",
    "dict_to_json(parameters,'XRT_1_4_1300')"
   ]
  },
  {
   "cell_type": "code",
   "execution_count": null,
   "metadata": {},
   "outputs": [],
   "source": [
    "mod_best=h2o.get_model(model4_set[53])\n",
    "parameters = mod_best.params\n",
    "dict_to_json(parameters,'XRT_1_5_1300')"
   ]
  },
  {
   "cell_type": "code",
   "execution_count": null,
   "metadata": {},
   "outputs": [],
   "source": [
    "mod_best=h2o.get_model(model4_set[54])\n",
    "parameters = mod_best.params \n",
    "dict_to_json(parameters,'XRT_1_6_1300')"
   ]
  },
  {
   "cell_type": "code",
   "execution_count": null,
   "metadata": {},
   "outputs": [],
   "source": [
    "mod_best=h2o.get_model(model4_set[57])\n",
    "parameters = mod_best.params \n",
    "dict_to_json(parameters,'XRT_1_7_1300')"
   ]
  },
  {
   "cell_type": "code",
   "execution_count": null,
   "metadata": {},
   "outputs": [],
   "source": []
  },
  {
   "cell_type": "code",
   "execution_count": null,
   "metadata": {},
   "outputs": [],
   "source": []
  },
  {
   "cell_type": "code",
   "execution_count": null,
   "metadata": {},
   "outputs": [],
   "source": []
  },
  {
   "cell_type": "code",
   "execution_count": null,
   "metadata": {},
   "outputs": [],
   "source": []
  },
  {
   "cell_type": "markdown",
   "metadata": {},
   "source": [
    "## Run Time = 1700 seconds "
   ]
  },
  {
   "cell_type": "code",
   "execution_count": 42,
   "metadata": {},
   "outputs": [
    {
     "name": "stdout",
     "output_type": "stream",
     "text": [
      "AutoML progress: |████████████████████████████████████████████████████████| 100%\n"
     ]
    }
   ],
   "source": [
    "aml5 = automl(1700,X,y,df)"
   ]
  },
  {
   "cell_type": "code",
   "execution_count": 43,
   "metadata": {},
   "outputs": [
    {
     "data": {
      "text/html": [
       "<table>\n",
       "<thead>\n",
       "<tr><th>model_id                                           </th><th style=\"text-align: right;\">  mean_residual_deviance</th><th style=\"text-align: right;\">    rmse</th><th style=\"text-align: right;\">     mse</th><th style=\"text-align: right;\">     mae</th><th style=\"text-align: right;\">    rmsle</th></tr>\n",
       "</thead>\n",
       "<tbody>\n",
       "<tr><td>XGBoost_3_AutoML_20190412_153329                   </td><td style=\"text-align: right;\">                0.195041</td><td style=\"text-align: right;\">0.441635</td><td style=\"text-align: right;\">0.195041</td><td style=\"text-align: right;\">0.197616</td><td style=\"text-align: right;\">0.0797988</td></tr>\n",
       "<tr><td>StackedEnsemble_BestOfFamily_AutoML_20190412_131028</td><td style=\"text-align: right;\">                0.195458</td><td style=\"text-align: right;\">0.442107</td><td style=\"text-align: right;\">0.195458</td><td style=\"text-align: right;\">0.195702</td><td style=\"text-align: right;\">0.0812831</td></tr>\n",
       "<tr><td>XGBoost_3_AutoML_20190412_131028                   </td><td style=\"text-align: right;\">                0.195959</td><td style=\"text-align: right;\">0.442673</td><td style=\"text-align: right;\">0.195959</td><td style=\"text-align: right;\">0.197886</td><td style=\"text-align: right;\">0.0795756</td></tr>\n",
       "<tr><td>XGBoost_3_AutoML_20190412_141431                   </td><td style=\"text-align: right;\">                0.197651</td><td style=\"text-align: right;\">0.44458 </td><td style=\"text-align: right;\">0.197651</td><td style=\"text-align: right;\">0.198364</td><td style=\"text-align: right;\">0.0803356</td></tr>\n",
       "<tr><td>XGBoost_grid_1_AutoML_20190412_153329_model_2      </td><td style=\"text-align: right;\">                0.198966</td><td style=\"text-align: right;\">0.446056</td><td style=\"text-align: right;\">0.198966</td><td style=\"text-align: right;\">0.187045</td><td style=\"text-align: right;\">0.0791853</td></tr>\n",
       "<tr><td>XGBoost_3_AutoML_20190412_135449                   </td><td style=\"text-align: right;\">                0.199544</td><td style=\"text-align: right;\">0.446703</td><td style=\"text-align: right;\">0.199544</td><td style=\"text-align: right;\">0.19734 </td><td style=\"text-align: right;\">0.0806918</td></tr>\n",
       "<tr><td>XGBoost_3_AutoML_20190412_143250                   </td><td style=\"text-align: right;\">                0.200043</td><td style=\"text-align: right;\">0.447261</td><td style=\"text-align: right;\">0.200043</td><td style=\"text-align: right;\">0.197577</td><td style=\"text-align: right;\">0.0805597</td></tr>\n",
       "<tr><td>XGBoost_2_AutoML_20190412_141431                   </td><td style=\"text-align: right;\">                0.204233</td><td style=\"text-align: right;\">0.451922</td><td style=\"text-align: right;\">0.204233</td><td style=\"text-align: right;\">0.203345</td><td style=\"text-align: right;\">0.080766 </td></tr>\n",
       "<tr><td>XGBoost_2_AutoML_20190412_135449                   </td><td style=\"text-align: right;\">                0.204452</td><td style=\"text-align: right;\">0.452164</td><td style=\"text-align: right;\">0.204452</td><td style=\"text-align: right;\">0.202191</td><td style=\"text-align: right;\">0.0804954</td></tr>\n",
       "<tr><td>XGBoost_2_AutoML_20190412_153329                   </td><td style=\"text-align: right;\">                0.204609</td><td style=\"text-align: right;\">0.452338</td><td style=\"text-align: right;\">0.204609</td><td style=\"text-align: right;\">0.203669</td><td style=\"text-align: right;\">0.0812081</td></tr>\n",
       "</tbody>\n",
       "</table>"
      ]
     },
     "metadata": {},
     "output_type": "display_data"
    },
    {
     "data": {
      "text/plain": []
     },
     "execution_count": 43,
     "metadata": {},
     "output_type": "execute_result"
    }
   ],
   "source": [
    "aml5.leaderboard"
   ]
  },
  {
   "cell_type": "code",
   "execution_count": 122,
   "metadata": {},
   "outputs": [
    {
     "data": {
      "text/plain": [
       "0                      XGBoost_3_AutoML_20190412_153329\n",
       "1     StackedEnsemble_BestOfFamily_AutoML_20190412_1...\n",
       "2                      XGBoost_3_AutoML_20190412_131028\n",
       "3                      XGBoost_3_AutoML_20190412_141431\n",
       "4         XGBoost_grid_1_AutoML_20190412_153329_model_2\n",
       "5                      XGBoost_3_AutoML_20190412_135449\n",
       "6                      XGBoost_3_AutoML_20190412_143250\n",
       "7                      XGBoost_2_AutoML_20190412_141431\n",
       "8                      XGBoost_2_AutoML_20190412_135449\n",
       "9                      XGBoost_2_AutoML_20190412_153329\n",
       "10                     XGBoost_2_AutoML_20190412_131028\n",
       "11    StackedEnsemble_BestOfFamily_AutoML_20190412_1...\n",
       "12     StackedEnsemble_AllModels_AutoML_20190412_124727\n",
       "13                     XGBoost_2_AutoML_20190412_143250\n",
       "14                     XGBoost_2_AutoML_20190412_124727\n",
       "15                     XGBoost_1_AutoML_20190412_141431\n",
       "16                     XGBoost_1_AutoML_20190412_131028\n",
       "17                     XGBoost_1_AutoML_20190412_124727\n",
       "18                     XGBoost_1_AutoML_20190412_143250\n",
       "19                     XGBoost_1_AutoML_20190412_153329\n",
       "20                     XGBoost_1_AutoML_20190412_135449\n",
       "21                     XGBoost_1_AutoML_20190412_142651\n",
       "22                         DRF_1_AutoML_20190412_135449\n",
       "23                         DRF_1_AutoML_20190412_132201\n",
       "24                         GBM_3_AutoML_20190412_143250\n",
       "25                         GBM_1_AutoML_20190412_143250\n",
       "26                         DRF_1_AutoML_20190412_142651\n",
       "27                         DRF_1_AutoML_20190412_143250\n",
       "28                         DRF_1_AutoML_20190412_153329\n",
       "29                         DRF_1_AutoML_20190412_141431\n",
       "                            ...                        \n",
       "50                         GBM_1_AutoML_20190412_153329\n",
       "51                         GBM_5_AutoML_20190412_131028\n",
       "52            GBM_grid_1_AutoML_20190412_153329_model_2\n",
       "53            GBM_grid_1_AutoML_20190412_153329_model_1\n",
       "54        XGBoost_grid_1_AutoML_20190412_153329_model_4\n",
       "55            GLM_grid_1_AutoML_20190412_131028_model_1\n",
       "56            GLM_grid_1_AutoML_20190412_124727_model_1\n",
       "57            GLM_grid_1_AutoML_20190412_135449_model_1\n",
       "58            GLM_grid_1_AutoML_20190412_143250_model_1\n",
       "59            GLM_grid_1_AutoML_20190412_141431_model_1\n",
       "60            GLM_grid_1_AutoML_20190412_132201_model_1\n",
       "61            GLM_grid_1_AutoML_20190412_153329_model_1\n",
       "62            GLM_grid_1_AutoML_20190412_142651_model_1\n",
       "63            GBM_grid_1_AutoML_20190412_153329_model_5\n",
       "64        XGBoost_grid_1_AutoML_20190412_153329_model_1\n",
       "65            GBM_grid_1_AutoML_20190412_153329_model_4\n",
       "66            GBM_grid_1_AutoML_20190412_131028_model_1\n",
       "67                         XRT_1_AutoML_20190412_131028\n",
       "68                         XRT_1_AutoML_20190412_141431\n",
       "69                         XRT_1_AutoML_20190412_124727\n",
       "70                         XRT_1_AutoML_20190412_153329\n",
       "71                         XRT_1_AutoML_20190412_132201\n",
       "72        XGBoost_grid_1_AutoML_20190412_153329_model_5\n",
       "73                         XRT_1_AutoML_20190412_143250\n",
       "74                         XRT_1_AutoML_20190412_142651\n",
       "75        XGBoost_grid_1_AutoML_20190412_153329_model_3\n",
       "76        XGBoost_grid_1_AutoML_20190412_131028_model_1\n",
       "77        XGBoost_grid_1_AutoML_20190412_135449_model_1\n",
       "78                         XRT_1_AutoML_20190412_135449\n",
       "79        XGBoost_grid_1_AutoML_20190412_153329_model_6\n",
       "Name: model_id, Length: 80, dtype: object"
      ]
     },
     "execution_count": 122,
     "metadata": {},
     "output_type": "execute_result"
    }
   ],
   "source": [
    "aml5_leaderboard_df=aml5.leaderboard.as_data_frame()\n",
    "model5_set=aml5_leaderboard_df['model_id']\n",
    "model5_set"
   ]
  },
  {
   "cell_type": "code",
   "execution_count": null,
   "metadata": {},
   "outputs": [],
   "source": []
  },
  {
   "cell_type": "code",
   "execution_count": null,
   "metadata": {},
   "outputs": [],
   "source": []
  }
 ],
 "metadata": {
  "kernelspec": {
   "display_name": "Python 3",
   "language": "python",
   "name": "python3"
  },
  "language_info": {
   "codemirror_mode": {
    "name": "ipython",
    "version": 3
   },
   "file_extension": ".py",
   "mimetype": "text/x-python",
   "name": "python",
   "nbconvert_exporter": "python",
   "pygments_lexer": "ipython3",
   "version": "3.7.1"
  }
 },
 "nbformat": 4,
 "nbformat_minor": 2
}
