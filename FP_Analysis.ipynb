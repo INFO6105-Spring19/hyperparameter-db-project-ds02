{
 "cells": [
  {
   "cell_type": "code",
   "execution_count": 15,
   "metadata": {},
   "outputs": [],
   "source": [
    "#importing\n",
    "import h2o\n",
    "from h2o.automl import H2OAutoML\n",
    "import random, os, sys\n",
    "from datetime import datetime\n",
    "import pandas as pd\n",
    "import logging\n",
    "import csv\n",
    "import optparse\n",
    "import time\n",
    "import json\n",
    "from distutils.util import strtobool\n",
    "import psutil\n",
    "\n",
    "import warnings\n",
    "warnings.filterwarnings('ignore')\n",
    "\n"
   ]
  },
  {
   "cell_type": "code",
   "execution_count": 16,
   "metadata": {},
   "outputs": [
    {
     "name": "stdout",
     "output_type": "stream",
     "text": [
      "Checking whether there is an H2O instance running at http://localhost:44750..... not found.\n",
      "Attempting to start a local H2O server...\n",
      "  Java Version: java version \"1.8.0_101\"; Java(TM) SE Runtime Environment (build 1.8.0_101-b13); Java HotSpot(TM) 64-Bit Server VM (build 25.101-b13, mixed mode)\n",
      "  Starting server from /Applications/anaconda3/lib/python3.7/site-packages/h2o/backend/bin/h2o.jar\n",
      "  Ice root: /var/folders/gf/p944hdxd7jq73_9cxfglxn540000gn/T/tmpbrd3ufe6\n",
      "  JVM stdout: /var/folders/gf/p944hdxd7jq73_9cxfglxn540000gn/T/tmpbrd3ufe6/h2o_vaish_started_from_python.out\n",
      "  JVM stderr: /var/folders/gf/p944hdxd7jq73_9cxfglxn540000gn/T/tmpbrd3ufe6/h2o_vaish_started_from_python.err\n",
      "  Server is running at http://127.0.0.1:44750\n",
      "Connecting to H2O server at http://127.0.0.1:44750... successful.\n"
     ]
    },
    {
     "data": {
      "text/html": [
       "<div style=\"overflow:auto\"><table style=\"width:50%\"><tr><td>H2O cluster uptime:</td>\n",
       "<td>01 secs</td></tr>\n",
       "<tr><td>H2O cluster timezone:</td>\n",
       "<td>America/New_York</td></tr>\n",
       "<tr><td>H2O data parsing timezone:</td>\n",
       "<td>UTC</td></tr>\n",
       "<tr><td>H2O cluster version:</td>\n",
       "<td>3.22.1.6</td></tr>\n",
       "<tr><td>H2O cluster version age:</td>\n",
       "<td>1 month and 9 days </td></tr>\n",
       "<tr><td>H2O cluster name:</td>\n",
       "<td>H2O_from_python_vaish_ccpp6f</td></tr>\n",
       "<tr><td>H2O cluster total nodes:</td>\n",
       "<td>1</td></tr>\n",
       "<tr><td>H2O cluster free memory:</td>\n",
       "<td>4.792 Gb</td></tr>\n",
       "<tr><td>H2O cluster total cores:</td>\n",
       "<td>8</td></tr>\n",
       "<tr><td>H2O cluster allowed cores:</td>\n",
       "<td>8</td></tr>\n",
       "<tr><td>H2O cluster status:</td>\n",
       "<td>accepting new members, healthy</td></tr>\n",
       "<tr><td>H2O connection url:</td>\n",
       "<td>http://127.0.0.1:44750</td></tr>\n",
       "<tr><td>H2O connection proxy:</td>\n",
       "<td>None</td></tr>\n",
       "<tr><td>H2O internal security:</td>\n",
       "<td>False</td></tr>\n",
       "<tr><td>H2O API Extensions:</td>\n",
       "<td>Amazon S3, XGBoost, Algos, AutoML, Core V3, Core V4</td></tr>\n",
       "<tr><td>Python version:</td>\n",
       "<td>3.7.1 final</td></tr></table></div>"
      ],
      "text/plain": [
       "--------------------------  ---------------------------------------------------\n",
       "H2O cluster uptime:         01 secs\n",
       "H2O cluster timezone:       America/New_York\n",
       "H2O data parsing timezone:  UTC\n",
       "H2O cluster version:        3.22.1.6\n",
       "H2O cluster version age:    1 month and 9 days\n",
       "H2O cluster name:           H2O_from_python_vaish_ccpp6f\n",
       "H2O cluster total nodes:    1\n",
       "H2O cluster free memory:    4.792 Gb\n",
       "H2O cluster total cores:    8\n",
       "H2O cluster allowed cores:  8\n",
       "H2O cluster status:         accepting new members, healthy\n",
       "H2O connection url:         http://127.0.0.1:44750\n",
       "H2O connection proxy:\n",
       "H2O internal security:      False\n",
       "H2O API Extensions:         Amazon S3, XGBoost, Algos, AutoML, Core V3, Core V4\n",
       "Python version:             3.7.1 final\n",
       "--------------------------  ---------------------------------------------------"
      ]
     },
     "metadata": {},
     "output_type": "display_data"
    }
   ],
   "source": [
    "port_no=random.randint(5555,55555)\n",
    "h2o.init(strict_version_check=False,min_mem_size_GB=5,port=port_no)"
   ]
  },
  {
   "cell_type": "code",
   "execution_count": 17,
   "metadata": {},
   "outputs": [
    {
     "name": "stdout",
     "output_type": "stream",
     "text": [
      "Parse progress: |█████████████████████████████████████████████████████████| 100%\n"
     ]
    }
   ],
   "source": [
    "#importing the file\n",
    "df = h2o.import_file(path=\"XGboost.csv\")"
   ]
  },
  {
   "cell_type": "code",
   "execution_count": 18,
   "metadata": {},
   "outputs": [
    {
     "data": {
      "text/html": [
       "<table>\n",
       "<thead>\n",
       "<tr><th>name                                         </th><th style=\"text-align: right;\">  nfolds</th><th style=\"text-align: right;\">        seed</th><th style=\"text-align: right;\">  solver</th><th>kc_val_mo  </th><th>kc_val_pr  </th><th>fold_assignment  </th><th style=\"text-align: right;\">  ntrees</th><th style=\"text-align: right;\">  max_runtime_secs</th><th style=\"text-align: right;\">  stopping_rounds</th><th>stopping_metric  </th><th style=\"text-align: right;\">  stopping_tolerance</th><th style=\"text-align: right;\">  max_depth</th><th style=\"text-align: right;\">  learn_rate</th><th style=\"text-align: right;\">  min_rows</th><th style=\"text-align: right;\">  sample_rate</th><th style=\"text-align: right;\">  col_sam_rate</th><th style=\"text-align: right;\">  col_sam_r_per_tree</th><th style=\"text-align: right;\">  score_tree_interval</th></tr>\n",
       "</thead>\n",
       "<tbody>\n",
       "<tr><td>XGBoost_1_AutoML_20190418_132524             </td><td style=\"text-align: right;\">       5</td><td style=\"text-align: right;\"> 5.9207e+18 </td><td style=\"text-align: right;\">     nan</td><td>False      </td><td>True       </td><td>Modulo           </td><td style=\"text-align: right;\">     197</td><td style=\"text-align: right;\">                 8</td><td style=\"text-align: right;\">                3</td><td>deviance         </td><td style=\"text-align: right;\">            0.008312</td><td style=\"text-align: right;\">         20</td><td style=\"text-align: right;\">        0.05</td><td style=\"text-align: right;\">     10   </td><td style=\"text-align: right;\">          0.6</td><td style=\"text-align: right;\">           0.8</td><td style=\"text-align: right;\">                 0.8</td><td style=\"text-align: right;\">                    5</td></tr>\n",
       "<tr><td>XGBoost_1_AutoML_20190418_132524             </td><td style=\"text-align: right;\">       5</td><td style=\"text-align: right;\"> 5.9207e+18 </td><td style=\"text-align: right;\">     nan</td><td>False      </td><td>True       </td><td>Modulo           </td><td style=\"text-align: right;\">     197</td><td style=\"text-align: right;\">                 8</td><td style=\"text-align: right;\">                3</td><td>deviance         </td><td style=\"text-align: right;\">            0.008312</td><td style=\"text-align: right;\">         20</td><td style=\"text-align: right;\">        0.05</td><td style=\"text-align: right;\">     10   </td><td style=\"text-align: right;\">          0.6</td><td style=\"text-align: right;\">           0.8</td><td style=\"text-align: right;\">                 0.8</td><td style=\"text-align: right;\">                    5</td></tr>\n",
       "<tr><td>XGBoost_1_AutoML_20190418_132524             </td><td style=\"text-align: right;\">       5</td><td style=\"text-align: right;\"> 5.9207e+18 </td><td style=\"text-align: right;\">     nan</td><td>False      </td><td>True       </td><td>Modulo           </td><td style=\"text-align: right;\">     197</td><td style=\"text-align: right;\">                 8</td><td style=\"text-align: right;\">                3</td><td>deviance         </td><td style=\"text-align: right;\">            0.008312</td><td style=\"text-align: right;\">         20</td><td style=\"text-align: right;\">        0.05</td><td style=\"text-align: right;\">     10   </td><td style=\"text-align: right;\">          0.6</td><td style=\"text-align: right;\">           0.8</td><td style=\"text-align: right;\">                 0.8</td><td style=\"text-align: right;\">                    5</td></tr>\n",
       "<tr><td>XGBoost_1_AutoML_20190418_132524             </td><td style=\"text-align: right;\">       5</td><td style=\"text-align: right;\"> 5.9207e+18 </td><td style=\"text-align: right;\">     nan</td><td>False      </td><td>True       </td><td>Modulo           </td><td style=\"text-align: right;\">     197</td><td style=\"text-align: right;\">                 8</td><td style=\"text-align: right;\">                3</td><td>deviance         </td><td style=\"text-align: right;\">            0.008312</td><td style=\"text-align: right;\">         20</td><td style=\"text-align: right;\">        0.05</td><td style=\"text-align: right;\">     10   </td><td style=\"text-align: right;\">          0.6</td><td style=\"text-align: right;\">           0.8</td><td style=\"text-align: right;\">                 0.8</td><td style=\"text-align: right;\">                    5</td></tr>\n",
       "<tr><td>XGBoost_1_AutoML_20190418_132524             </td><td style=\"text-align: right;\">       5</td><td style=\"text-align: right;\"> 5.9207e+18 </td><td style=\"text-align: right;\">     nan</td><td>False      </td><td>True       </td><td>Modulo           </td><td style=\"text-align: right;\">     197</td><td style=\"text-align: right;\">                 8</td><td style=\"text-align: right;\">                3</td><td>deviance         </td><td style=\"text-align: right;\">            0.008312</td><td style=\"text-align: right;\">         20</td><td style=\"text-align: right;\">        0.05</td><td style=\"text-align: right;\">     10   </td><td style=\"text-align: right;\">          0.6</td><td style=\"text-align: right;\">           0.8</td><td style=\"text-align: right;\">                 0.8</td><td style=\"text-align: right;\">                    5</td></tr>\n",
       "<tr><td>XGBoost_1_AutoML_20190418_132524             </td><td style=\"text-align: right;\">       5</td><td style=\"text-align: right;\"> 5.9207e+18 </td><td style=\"text-align: right;\">     nan</td><td>False      </td><td>True       </td><td>Modulo           </td><td style=\"text-align: right;\">     197</td><td style=\"text-align: right;\">                 8</td><td style=\"text-align: right;\">                3</td><td>deviance         </td><td style=\"text-align: right;\">            0.008312</td><td style=\"text-align: right;\">         20</td><td style=\"text-align: right;\">        0.05</td><td style=\"text-align: right;\">     10   </td><td style=\"text-align: right;\">          0.6</td><td style=\"text-align: right;\">           0.8</td><td style=\"text-align: right;\">                 0.8</td><td style=\"text-align: right;\">                    5</td></tr>\n",
       "<tr><td>XGBoost_1_AutoML_20190418_135050             </td><td style=\"text-align: right;\">       5</td><td style=\"text-align: right;\"> 7.23078e+18</td><td style=\"text-align: right;\">     nan</td><td>False      </td><td>True       </td><td>Modulo           </td><td style=\"text-align: right;\">     127</td><td style=\"text-align: right;\">                53</td><td style=\"text-align: right;\">                3</td><td>deviance         </td><td style=\"text-align: right;\">            0.008312</td><td style=\"text-align: right;\">         20</td><td style=\"text-align: right;\">        0.05</td><td style=\"text-align: right;\">     10   </td><td style=\"text-align: right;\">          0.6</td><td style=\"text-align: right;\">           0.8</td><td style=\"text-align: right;\">                 0.8</td><td style=\"text-align: right;\">                    5</td></tr>\n",
       "<tr><td>XGBoost_1_AutoML_20190418_135050             </td><td style=\"text-align: right;\">       5</td><td style=\"text-align: right;\"> 7.23078e+18</td><td style=\"text-align: right;\">     nan</td><td>False      </td><td>True       </td><td>Modulo           </td><td style=\"text-align: right;\">     127</td><td style=\"text-align: right;\">                53</td><td style=\"text-align: right;\">                3</td><td>deviance         </td><td style=\"text-align: right;\">            0.008312</td><td style=\"text-align: right;\">         20</td><td style=\"text-align: right;\">        0.05</td><td style=\"text-align: right;\">     10   </td><td style=\"text-align: right;\">          0.6</td><td style=\"text-align: right;\">           0.8</td><td style=\"text-align: right;\">                 0.8</td><td style=\"text-align: right;\">                    5</td></tr>\n",
       "<tr><td>XGBoost_1_AutoML_20190418_135050             </td><td style=\"text-align: right;\">       5</td><td style=\"text-align: right;\"> 7.23078e+18</td><td style=\"text-align: right;\">     nan</td><td>False      </td><td>True       </td><td>Modulo           </td><td style=\"text-align: right;\">     127</td><td style=\"text-align: right;\">                53</td><td style=\"text-align: right;\">                3</td><td>deviance         </td><td style=\"text-align: right;\">            0.008312</td><td style=\"text-align: right;\">         20</td><td style=\"text-align: right;\">        0.05</td><td style=\"text-align: right;\">     10   </td><td style=\"text-align: right;\">          0.6</td><td style=\"text-align: right;\">           0.8</td><td style=\"text-align: right;\">                 0.8</td><td style=\"text-align: right;\">                    5</td></tr>\n",
       "<tr><td>XGBoost_1_AutoML_20190418_135050             </td><td style=\"text-align: right;\">       5</td><td style=\"text-align: right;\"> 7.23078e+18</td><td style=\"text-align: right;\">     nan</td><td>False      </td><td>True       </td><td>Modulo           </td><td style=\"text-align: right;\">     127</td><td style=\"text-align: right;\">                53</td><td style=\"text-align: right;\">                3</td><td>deviance         </td><td style=\"text-align: right;\">            0.008312</td><td style=\"text-align: right;\">         20</td><td style=\"text-align: right;\">        0.05</td><td style=\"text-align: right;\">     10   </td><td style=\"text-align: right;\">          0.6</td><td style=\"text-align: right;\">           0.8</td><td style=\"text-align: right;\">                 0.8</td><td style=\"text-align: right;\">                    5</td></tr>\n",
       "<tr><td>XGBoost_1_AutoML_20190418_135050             </td><td style=\"text-align: right;\">       5</td><td style=\"text-align: right;\"> 7.23078e+18</td><td style=\"text-align: right;\">     nan</td><td>False      </td><td>True       </td><td>Modulo           </td><td style=\"text-align: right;\">     127</td><td style=\"text-align: right;\">                53</td><td style=\"text-align: right;\">                3</td><td>deviance         </td><td style=\"text-align: right;\">            0.008312</td><td style=\"text-align: right;\">         20</td><td style=\"text-align: right;\">        0.05</td><td style=\"text-align: right;\">     10   </td><td style=\"text-align: right;\">          0.6</td><td style=\"text-align: right;\">           0.8</td><td style=\"text-align: right;\">                 0.8</td><td style=\"text-align: right;\">                    5</td></tr>\n",
       "<tr><td>XGBoost_1_AutoML_20190418_140346             </td><td style=\"text-align: right;\">       5</td><td style=\"text-align: right;\">-8.1866e+18 </td><td style=\"text-align: right;\">     nan</td><td>False      </td><td>True       </td><td>Modulo           </td><td style=\"text-align: right;\">     119</td><td style=\"text-align: right;\">                 0</td><td style=\"text-align: right;\">                0</td><td>deviance         </td><td style=\"text-align: right;\">            0.008312</td><td style=\"text-align: right;\">         20</td><td style=\"text-align: right;\">        0.05</td><td style=\"text-align: right;\">     10   </td><td style=\"text-align: right;\">          0.6</td><td style=\"text-align: right;\">           0.8</td><td style=\"text-align: right;\">                 0.8</td><td style=\"text-align: right;\">                    5</td></tr>\n",
       "<tr><td>XGBoost_1_AutoML_20190418_140346             </td><td style=\"text-align: right;\">       5</td><td style=\"text-align: right;\">-8.1866e+18 </td><td style=\"text-align: right;\">     nan</td><td>False      </td><td>True       </td><td>Modulo           </td><td style=\"text-align: right;\">     119</td><td style=\"text-align: right;\">                 0</td><td style=\"text-align: right;\">                0</td><td>deviance         </td><td style=\"text-align: right;\">            0.008312</td><td style=\"text-align: right;\">         20</td><td style=\"text-align: right;\">        0.05</td><td style=\"text-align: right;\">     10   </td><td style=\"text-align: right;\">          0.6</td><td style=\"text-align: right;\">           0.8</td><td style=\"text-align: right;\">                 0.8</td><td style=\"text-align: right;\">                    5</td></tr>\n",
       "<tr><td>XGBoost_1_AutoML_20190418_140346             </td><td style=\"text-align: right;\">       5</td><td style=\"text-align: right;\">-8.1866e+18 </td><td style=\"text-align: right;\">     nan</td><td>False      </td><td>True       </td><td>Modulo           </td><td style=\"text-align: right;\">     119</td><td style=\"text-align: right;\">                 0</td><td style=\"text-align: right;\">                0</td><td>deviance         </td><td style=\"text-align: right;\">            0.008312</td><td style=\"text-align: right;\">         20</td><td style=\"text-align: right;\">        0.05</td><td style=\"text-align: right;\">     10   </td><td style=\"text-align: right;\">          0.6</td><td style=\"text-align: right;\">           0.8</td><td style=\"text-align: right;\">                 0.8</td><td style=\"text-align: right;\">                    5</td></tr>\n",
       "<tr><td>XGBoost_1_AutoML_20190418_140346             </td><td style=\"text-align: right;\">       5</td><td style=\"text-align: right;\">-8.1866e+18 </td><td style=\"text-align: right;\">     nan</td><td>False      </td><td>True       </td><td>Modulo           </td><td style=\"text-align: right;\">     119</td><td style=\"text-align: right;\">                 0</td><td style=\"text-align: right;\">                0</td><td>deviance         </td><td style=\"text-align: right;\">            0.008312</td><td style=\"text-align: right;\">         20</td><td style=\"text-align: right;\">        0.05</td><td style=\"text-align: right;\">     10   </td><td style=\"text-align: right;\">          0.6</td><td style=\"text-align: right;\">           0.8</td><td style=\"text-align: right;\">                 0.8</td><td style=\"text-align: right;\">                    5</td></tr>\n",
       "<tr><td>XGBoost_1_AutoML_20190418_142243             </td><td style=\"text-align: right;\">       5</td><td style=\"text-align: right;\"> 5.25438e+18</td><td style=\"text-align: right;\">     nan</td><td>False      </td><td>True       </td><td>Modulo           </td><td style=\"text-align: right;\">     120</td><td style=\"text-align: right;\">                 0</td><td style=\"text-align: right;\">                0</td><td>deviance         </td><td style=\"text-align: right;\">            0.008312</td><td style=\"text-align: right;\">         20</td><td style=\"text-align: right;\">        0.05</td><td style=\"text-align: right;\">     10   </td><td style=\"text-align: right;\">          0.6</td><td style=\"text-align: right;\">           0.8</td><td style=\"text-align: right;\">                 0.8</td><td style=\"text-align: right;\">                    5</td></tr>\n",
       "<tr><td>XGBoost_1_AutoML_20190418_142243             </td><td style=\"text-align: right;\">       5</td><td style=\"text-align: right;\"> 5.25438e+18</td><td style=\"text-align: right;\">     nan</td><td>False      </td><td>True       </td><td>Modulo           </td><td style=\"text-align: right;\">     120</td><td style=\"text-align: right;\">                 0</td><td style=\"text-align: right;\">                0</td><td>deviance         </td><td style=\"text-align: right;\">            0.008312</td><td style=\"text-align: right;\">         20</td><td style=\"text-align: right;\">        0.05</td><td style=\"text-align: right;\">     10   </td><td style=\"text-align: right;\">          0.6</td><td style=\"text-align: right;\">           0.8</td><td style=\"text-align: right;\">                 0.8</td><td style=\"text-align: right;\">                    5</td></tr>\n",
       "<tr><td>XGBoost_1_AutoML_20190418_142243             </td><td style=\"text-align: right;\">       5</td><td style=\"text-align: right;\"> 5.25438e+18</td><td style=\"text-align: right;\">     nan</td><td>False      </td><td>True       </td><td>Modulo           </td><td style=\"text-align: right;\">     120</td><td style=\"text-align: right;\">                 0</td><td style=\"text-align: right;\">                0</td><td>deviance         </td><td style=\"text-align: right;\">            0.008312</td><td style=\"text-align: right;\">         20</td><td style=\"text-align: right;\">        0.05</td><td style=\"text-align: right;\">     10   </td><td style=\"text-align: right;\">          0.6</td><td style=\"text-align: right;\">           0.8</td><td style=\"text-align: right;\">                 0.8</td><td style=\"text-align: right;\">                    5</td></tr>\n",
       "<tr><td>XGBoost_1_AutoML_20190418_144229             </td><td style=\"text-align: right;\">       5</td><td style=\"text-align: right;\"> 3.54236e+18</td><td style=\"text-align: right;\">     nan</td><td>False      </td><td>True       </td><td>Modulo           </td><td style=\"text-align: right;\">     121</td><td style=\"text-align: right;\">                 0</td><td style=\"text-align: right;\">                0</td><td>deviance         </td><td style=\"text-align: right;\">            0.008312</td><td style=\"text-align: right;\">         20</td><td style=\"text-align: right;\">        0.05</td><td style=\"text-align: right;\">     10   </td><td style=\"text-align: right;\">          0.6</td><td style=\"text-align: right;\">           0.8</td><td style=\"text-align: right;\">                 0.8</td><td style=\"text-align: right;\">                    5</td></tr>\n",
       "<tr><td>XGBoost_1_AutoML_20190418_144229             </td><td style=\"text-align: right;\">       5</td><td style=\"text-align: right;\"> 3.54236e+18</td><td style=\"text-align: right;\">     nan</td><td>False      </td><td>True       </td><td>Modulo           </td><td style=\"text-align: right;\">     121</td><td style=\"text-align: right;\">                 0</td><td style=\"text-align: right;\">                0</td><td>deviance         </td><td style=\"text-align: right;\">            0.008312</td><td style=\"text-align: right;\">         20</td><td style=\"text-align: right;\">        0.05</td><td style=\"text-align: right;\">     10   </td><td style=\"text-align: right;\">          0.6</td><td style=\"text-align: right;\">           0.8</td><td style=\"text-align: right;\">                 0.8</td><td style=\"text-align: right;\">                    5</td></tr>\n",
       "<tr><td>XGBoost_1_AutoML_20190418_150256             </td><td style=\"text-align: right;\">       5</td><td style=\"text-align: right;\"> 8.50284e+18</td><td style=\"text-align: right;\">     nan</td><td>False      </td><td>True       </td><td>Modulo           </td><td style=\"text-align: right;\">     121</td><td style=\"text-align: right;\">                 0</td><td style=\"text-align: right;\">                0</td><td>deviance         </td><td style=\"text-align: right;\">            0.008312</td><td style=\"text-align: right;\">         20</td><td style=\"text-align: right;\">        0.05</td><td style=\"text-align: right;\">     10   </td><td style=\"text-align: right;\">          0.6</td><td style=\"text-align: right;\">           0.8</td><td style=\"text-align: right;\">                 0.8</td><td style=\"text-align: right;\">                    5</td></tr>\n",
       "<tr><td>XGBoost_2_AutoML_20190418_135050             </td><td style=\"text-align: right;\">       5</td><td style=\"text-align: right;\"> 7.23078e+18</td><td style=\"text-align: right;\">     nan</td><td>False      </td><td>True       </td><td>Modulo           </td><td style=\"text-align: right;\">     127</td><td style=\"text-align: right;\">                53</td><td style=\"text-align: right;\">                3</td><td>deviance         </td><td style=\"text-align: right;\">            0.008312</td><td style=\"text-align: right;\">         20</td><td style=\"text-align: right;\">        0.05</td><td style=\"text-align: right;\">     10   </td><td style=\"text-align: right;\">          0.6</td><td style=\"text-align: right;\">           0.8</td><td style=\"text-align: right;\">                 0.8</td><td style=\"text-align: right;\">                    5</td></tr>\n",
       "<tr><td>XGBoost_2_AutoML_20190418_135050             </td><td style=\"text-align: right;\">       5</td><td style=\"text-align: right;\"> 7.23078e+18</td><td style=\"text-align: right;\">     nan</td><td>False      </td><td>True       </td><td>Modulo           </td><td style=\"text-align: right;\">     127</td><td style=\"text-align: right;\">                53</td><td style=\"text-align: right;\">                3</td><td>deviance         </td><td style=\"text-align: right;\">            0.008312</td><td style=\"text-align: right;\">         20</td><td style=\"text-align: right;\">        0.05</td><td style=\"text-align: right;\">     10   </td><td style=\"text-align: right;\">          0.6</td><td style=\"text-align: right;\">           0.8</td><td style=\"text-align: right;\">                 0.8</td><td style=\"text-align: right;\">                    5</td></tr>\n",
       "<tr><td>XGBoost_2_AutoML_20190418_135050             </td><td style=\"text-align: right;\">       5</td><td style=\"text-align: right;\"> 7.23078e+18</td><td style=\"text-align: right;\">     nan</td><td>False      </td><td>True       </td><td>Modulo           </td><td style=\"text-align: right;\">     127</td><td style=\"text-align: right;\">                53</td><td style=\"text-align: right;\">                3</td><td>deviance         </td><td style=\"text-align: right;\">            0.008312</td><td style=\"text-align: right;\">         20</td><td style=\"text-align: right;\">        0.05</td><td style=\"text-align: right;\">     10   </td><td style=\"text-align: right;\">          0.6</td><td style=\"text-align: right;\">           0.8</td><td style=\"text-align: right;\">                 0.8</td><td style=\"text-align: right;\">                    5</td></tr>\n",
       "<tr><td>XGBoost_2_AutoML_20190418_135050             </td><td style=\"text-align: right;\">       5</td><td style=\"text-align: right;\"> 7.23078e+18</td><td style=\"text-align: right;\">     nan</td><td>False      </td><td>True       </td><td>Modulo           </td><td style=\"text-align: right;\">     127</td><td style=\"text-align: right;\">                53</td><td style=\"text-align: right;\">                3</td><td>deviance         </td><td style=\"text-align: right;\">            0.008312</td><td style=\"text-align: right;\">         20</td><td style=\"text-align: right;\">        0.05</td><td style=\"text-align: right;\">     10   </td><td style=\"text-align: right;\">          0.6</td><td style=\"text-align: right;\">           0.8</td><td style=\"text-align: right;\">                 0.8</td><td style=\"text-align: right;\">                    5</td></tr>\n",
       "<tr><td>XGBoost_2_AutoML_20190418_135050             </td><td style=\"text-align: right;\">       5</td><td style=\"text-align: right;\"> 7.23078e+18</td><td style=\"text-align: right;\">     nan</td><td>False      </td><td>True       </td><td>Modulo           </td><td style=\"text-align: right;\">     127</td><td style=\"text-align: right;\">                53</td><td style=\"text-align: right;\">                3</td><td>deviance         </td><td style=\"text-align: right;\">            0.008312</td><td style=\"text-align: right;\">         20</td><td style=\"text-align: right;\">        0.05</td><td style=\"text-align: right;\">     10   </td><td style=\"text-align: right;\">          0.6</td><td style=\"text-align: right;\">           0.8</td><td style=\"text-align: right;\">                 0.8</td><td style=\"text-align: right;\">                    5</td></tr>\n",
       "<tr><td>XGBoost_2_AutoML_20190418_140346             </td><td style=\"text-align: right;\">       5</td><td style=\"text-align: right;\">-8.1866e+18 </td><td style=\"text-align: right;\">     nan</td><td>False      </td><td>True       </td><td>Modulo           </td><td style=\"text-align: right;\">     119</td><td style=\"text-align: right;\">                 0</td><td style=\"text-align: right;\">                0</td><td>deviance         </td><td style=\"text-align: right;\">            0.008312</td><td style=\"text-align: right;\">         20</td><td style=\"text-align: right;\">        0.05</td><td style=\"text-align: right;\">     10   </td><td style=\"text-align: right;\">          0.6</td><td style=\"text-align: right;\">           0.8</td><td style=\"text-align: right;\">                 0.8</td><td style=\"text-align: right;\">                    5</td></tr>\n",
       "<tr><td>XGBoost_2_AutoML_20190418_140346             </td><td style=\"text-align: right;\">       5</td><td style=\"text-align: right;\">-8.1866e+18 </td><td style=\"text-align: right;\">     nan</td><td>False      </td><td>True       </td><td>Modulo           </td><td style=\"text-align: right;\">     119</td><td style=\"text-align: right;\">                 0</td><td style=\"text-align: right;\">                0</td><td>deviance         </td><td style=\"text-align: right;\">            0.008312</td><td style=\"text-align: right;\">         20</td><td style=\"text-align: right;\">        0.05</td><td style=\"text-align: right;\">     10   </td><td style=\"text-align: right;\">          0.6</td><td style=\"text-align: right;\">           0.8</td><td style=\"text-align: right;\">                 0.8</td><td style=\"text-align: right;\">                    5</td></tr>\n",
       "<tr><td>XGBoost_2_AutoML_20190418_140346             </td><td style=\"text-align: right;\">       5</td><td style=\"text-align: right;\">-8.1866e+18 </td><td style=\"text-align: right;\">     nan</td><td>False      </td><td>True       </td><td>Modulo           </td><td style=\"text-align: right;\">     119</td><td style=\"text-align: right;\">                 0</td><td style=\"text-align: right;\">                0</td><td>deviance         </td><td style=\"text-align: right;\">            0.008312</td><td style=\"text-align: right;\">         20</td><td style=\"text-align: right;\">        0.05</td><td style=\"text-align: right;\">     10   </td><td style=\"text-align: right;\">          0.6</td><td style=\"text-align: right;\">           0.8</td><td style=\"text-align: right;\">                 0.8</td><td style=\"text-align: right;\">                    5</td></tr>\n",
       "<tr><td>XGBoost_2_AutoML_20190418_140346             </td><td style=\"text-align: right;\">       5</td><td style=\"text-align: right;\">-8.1866e+18 </td><td style=\"text-align: right;\">     nan</td><td>False      </td><td>True       </td><td>Modulo           </td><td style=\"text-align: right;\">     119</td><td style=\"text-align: right;\">                 0</td><td style=\"text-align: right;\">                0</td><td>deviance         </td><td style=\"text-align: right;\">            0.008312</td><td style=\"text-align: right;\">         20</td><td style=\"text-align: right;\">        0.05</td><td style=\"text-align: right;\">     10   </td><td style=\"text-align: right;\">          0.6</td><td style=\"text-align: right;\">           0.8</td><td style=\"text-align: right;\">                 0.8</td><td style=\"text-align: right;\">                    5</td></tr>\n",
       "<tr><td>XGBoost_2_AutoML_20190418_142243             </td><td style=\"text-align: right;\">       5</td><td style=\"text-align: right;\"> 5.25438e+18</td><td style=\"text-align: right;\">     nan</td><td>False      </td><td>True       </td><td>Modulo           </td><td style=\"text-align: right;\">     120</td><td style=\"text-align: right;\">                 0</td><td style=\"text-align: right;\">                0</td><td>deviance         </td><td style=\"text-align: right;\">            0.008312</td><td style=\"text-align: right;\">         20</td><td style=\"text-align: right;\">        0.05</td><td style=\"text-align: right;\">     10   </td><td style=\"text-align: right;\">          0.6</td><td style=\"text-align: right;\">           0.8</td><td style=\"text-align: right;\">                 0.8</td><td style=\"text-align: right;\">                    5</td></tr>\n",
       "<tr><td>XGBoost_2_AutoML_20190418_142243             </td><td style=\"text-align: right;\">       5</td><td style=\"text-align: right;\"> 5.25438e+18</td><td style=\"text-align: right;\">     nan</td><td>False      </td><td>True       </td><td>Modulo           </td><td style=\"text-align: right;\">     120</td><td style=\"text-align: right;\">                 0</td><td style=\"text-align: right;\">                0</td><td>deviance         </td><td style=\"text-align: right;\">            0.008312</td><td style=\"text-align: right;\">         20</td><td style=\"text-align: right;\">        0.05</td><td style=\"text-align: right;\">     10   </td><td style=\"text-align: right;\">          0.6</td><td style=\"text-align: right;\">           0.8</td><td style=\"text-align: right;\">                 0.8</td><td style=\"text-align: right;\">                    5</td></tr>\n",
       "<tr><td>XGBoost_2_AutoML_20190418_142243             </td><td style=\"text-align: right;\">       5</td><td style=\"text-align: right;\"> 5.25438e+18</td><td style=\"text-align: right;\">     nan</td><td>False      </td><td>True       </td><td>Modulo           </td><td style=\"text-align: right;\">     120</td><td style=\"text-align: right;\">                 0</td><td style=\"text-align: right;\">                0</td><td>deviance         </td><td style=\"text-align: right;\">            0.008312</td><td style=\"text-align: right;\">         20</td><td style=\"text-align: right;\">        0.05</td><td style=\"text-align: right;\">     10   </td><td style=\"text-align: right;\">          0.6</td><td style=\"text-align: right;\">           0.8</td><td style=\"text-align: right;\">                 0.8</td><td style=\"text-align: right;\">                    5</td></tr>\n",
       "<tr><td>XGBoost_2_AutoML_20190418_144229             </td><td style=\"text-align: right;\">       5</td><td style=\"text-align: right;\"> 3.54236e+18</td><td style=\"text-align: right;\">     nan</td><td>False      </td><td>True       </td><td>Modulo           </td><td style=\"text-align: right;\">     121</td><td style=\"text-align: right;\">                 0</td><td style=\"text-align: right;\">                0</td><td>deviance         </td><td style=\"text-align: right;\">            0.008312</td><td style=\"text-align: right;\">         20</td><td style=\"text-align: right;\">        0.05</td><td style=\"text-align: right;\">     10   </td><td style=\"text-align: right;\">          0.6</td><td style=\"text-align: right;\">           0.8</td><td style=\"text-align: right;\">                 0.8</td><td style=\"text-align: right;\">                    5</td></tr>\n",
       "<tr><td>XGBoost_2_AutoML_20190418_144229             </td><td style=\"text-align: right;\">       5</td><td style=\"text-align: right;\"> 3.54236e+18</td><td style=\"text-align: right;\">     nan</td><td>False      </td><td>True       </td><td>Modulo           </td><td style=\"text-align: right;\">     121</td><td style=\"text-align: right;\">                 0</td><td style=\"text-align: right;\">                0</td><td>deviance         </td><td style=\"text-align: right;\">            0.008312</td><td style=\"text-align: right;\">         20</td><td style=\"text-align: right;\">        0.05</td><td style=\"text-align: right;\">     10   </td><td style=\"text-align: right;\">          0.6</td><td style=\"text-align: right;\">           0.8</td><td style=\"text-align: right;\">                 0.8</td><td style=\"text-align: right;\">                    5</td></tr>\n",
       "<tr><td>XGBoost_2_AutoML_20190418_150256             </td><td style=\"text-align: right;\">       5</td><td style=\"text-align: right;\"> 8.50284e+18</td><td style=\"text-align: right;\">     nan</td><td>False      </td><td>True       </td><td>Modulo           </td><td style=\"text-align: right;\">     121</td><td style=\"text-align: right;\">                 0</td><td style=\"text-align: right;\">                0</td><td>deviance         </td><td style=\"text-align: right;\">            0.008312</td><td style=\"text-align: right;\">         20</td><td style=\"text-align: right;\">        0.05</td><td style=\"text-align: right;\">     10   </td><td style=\"text-align: right;\">          0.6</td><td style=\"text-align: right;\">           0.8</td><td style=\"text-align: right;\">                 0.8</td><td style=\"text-align: right;\">                    5</td></tr>\n",
       "<tr><td>XGBoost_3_AutoML_20190418_140346             </td><td style=\"text-align: right;\">       5</td><td style=\"text-align: right;\">-8.1866e+18 </td><td style=\"text-align: right;\">     nan</td><td>False      </td><td>True       </td><td>Modulo           </td><td style=\"text-align: right;\">     119</td><td style=\"text-align: right;\">                 0</td><td style=\"text-align: right;\">                0</td><td>deviance         </td><td style=\"text-align: right;\">            0.008312</td><td style=\"text-align: right;\">         20</td><td style=\"text-align: right;\">        0.05</td><td style=\"text-align: right;\">     10   </td><td style=\"text-align: right;\">          0.6</td><td style=\"text-align: right;\">           0.8</td><td style=\"text-align: right;\">                 0.8</td><td style=\"text-align: right;\">                    5</td></tr>\n",
       "<tr><td>XGBoost_3_AutoML_20190418_140346             </td><td style=\"text-align: right;\">       5</td><td style=\"text-align: right;\">-8.1866e+18 </td><td style=\"text-align: right;\">     nan</td><td>False      </td><td>True       </td><td>Modulo           </td><td style=\"text-align: right;\">     119</td><td style=\"text-align: right;\">                 0</td><td style=\"text-align: right;\">                0</td><td>deviance         </td><td style=\"text-align: right;\">            0.008312</td><td style=\"text-align: right;\">         20</td><td style=\"text-align: right;\">        0.05</td><td style=\"text-align: right;\">     10   </td><td style=\"text-align: right;\">          0.6</td><td style=\"text-align: right;\">           0.8</td><td style=\"text-align: right;\">                 0.8</td><td style=\"text-align: right;\">                    5</td></tr>\n",
       "<tr><td>XGBoost_3_AutoML_20190418_140346             </td><td style=\"text-align: right;\">       5</td><td style=\"text-align: right;\">-8.1866e+18 </td><td style=\"text-align: right;\">     nan</td><td>False      </td><td>True       </td><td>Modulo           </td><td style=\"text-align: right;\">     119</td><td style=\"text-align: right;\">                 0</td><td style=\"text-align: right;\">                0</td><td>deviance         </td><td style=\"text-align: right;\">            0.008312</td><td style=\"text-align: right;\">         20</td><td style=\"text-align: right;\">        0.05</td><td style=\"text-align: right;\">     10   </td><td style=\"text-align: right;\">          0.6</td><td style=\"text-align: right;\">           0.8</td><td style=\"text-align: right;\">                 0.8</td><td style=\"text-align: right;\">                    5</td></tr>\n",
       "<tr><td>XGBoost_3_AutoML_20190418_140346             </td><td style=\"text-align: right;\">       5</td><td style=\"text-align: right;\">-8.1866e+18 </td><td style=\"text-align: right;\">     nan</td><td>False      </td><td>True       </td><td>Modulo           </td><td style=\"text-align: right;\">     119</td><td style=\"text-align: right;\">                 0</td><td style=\"text-align: right;\">                0</td><td>deviance         </td><td style=\"text-align: right;\">            0.008312</td><td style=\"text-align: right;\">         20</td><td style=\"text-align: right;\">        0.05</td><td style=\"text-align: right;\">     10   </td><td style=\"text-align: right;\">          0.6</td><td style=\"text-align: right;\">           0.8</td><td style=\"text-align: right;\">                 0.8</td><td style=\"text-align: right;\">                    5</td></tr>\n",
       "<tr><td>XGBoost_3_AutoML_20190418_142243             </td><td style=\"text-align: right;\">       5</td><td style=\"text-align: right;\"> 5.25438e+18</td><td style=\"text-align: right;\">     nan</td><td>False      </td><td>True       </td><td>Modulo           </td><td style=\"text-align: right;\">     120</td><td style=\"text-align: right;\">                 0</td><td style=\"text-align: right;\">                0</td><td>deviance         </td><td style=\"text-align: right;\">            0.008312</td><td style=\"text-align: right;\">         20</td><td style=\"text-align: right;\">        0.05</td><td style=\"text-align: right;\">     10   </td><td style=\"text-align: right;\">          0.6</td><td style=\"text-align: right;\">           0.8</td><td style=\"text-align: right;\">                 0.8</td><td style=\"text-align: right;\">                    5</td></tr>\n",
       "<tr><td>XGBoost_3_AutoML_20190418_142243             </td><td style=\"text-align: right;\">       5</td><td style=\"text-align: right;\"> 5.25438e+18</td><td style=\"text-align: right;\">     nan</td><td>False      </td><td>True       </td><td>Modulo           </td><td style=\"text-align: right;\">     120</td><td style=\"text-align: right;\">                 0</td><td style=\"text-align: right;\">                0</td><td>deviance         </td><td style=\"text-align: right;\">            0.008312</td><td style=\"text-align: right;\">         20</td><td style=\"text-align: right;\">        0.05</td><td style=\"text-align: right;\">     10   </td><td style=\"text-align: right;\">          0.6</td><td style=\"text-align: right;\">           0.8</td><td style=\"text-align: right;\">                 0.8</td><td style=\"text-align: right;\">                    5</td></tr>\n",
       "<tr><td>XGBoost_3_AutoML_20190418_142243             </td><td style=\"text-align: right;\">       5</td><td style=\"text-align: right;\"> 5.25438e+18</td><td style=\"text-align: right;\">     nan</td><td>False      </td><td>True       </td><td>Modulo           </td><td style=\"text-align: right;\">     120</td><td style=\"text-align: right;\">                 0</td><td style=\"text-align: right;\">                0</td><td>deviance         </td><td style=\"text-align: right;\">            0.008312</td><td style=\"text-align: right;\">         20</td><td style=\"text-align: right;\">        0.05</td><td style=\"text-align: right;\">     10   </td><td style=\"text-align: right;\">          0.6</td><td style=\"text-align: right;\">           0.8</td><td style=\"text-align: right;\">                 0.8</td><td style=\"text-align: right;\">                    5</td></tr>\n",
       "<tr><td>XGBoost_3_AutoML_20190418_144229             </td><td style=\"text-align: right;\">       5</td><td style=\"text-align: right;\"> 3.54236e+18</td><td style=\"text-align: right;\">     nan</td><td>False      </td><td>True       </td><td>Modulo           </td><td style=\"text-align: right;\">     121</td><td style=\"text-align: right;\">                 0</td><td style=\"text-align: right;\">                0</td><td>deviance         </td><td style=\"text-align: right;\">            0.008312</td><td style=\"text-align: right;\">         20</td><td style=\"text-align: right;\">        0.05</td><td style=\"text-align: right;\">     10   </td><td style=\"text-align: right;\">          0.6</td><td style=\"text-align: right;\">           0.8</td><td style=\"text-align: right;\">                 0.8</td><td style=\"text-align: right;\">                    5</td></tr>\n",
       "<tr><td>XGBoost_3_AutoML_20190418_144229             </td><td style=\"text-align: right;\">       5</td><td style=\"text-align: right;\"> 3.54236e+18</td><td style=\"text-align: right;\">     nan</td><td>False      </td><td>True       </td><td>Modulo           </td><td style=\"text-align: right;\">     121</td><td style=\"text-align: right;\">                 0</td><td style=\"text-align: right;\">                0</td><td>deviance         </td><td style=\"text-align: right;\">            0.008312</td><td style=\"text-align: right;\">         20</td><td style=\"text-align: right;\">        0.05</td><td style=\"text-align: right;\">     10   </td><td style=\"text-align: right;\">          0.6</td><td style=\"text-align: right;\">           0.8</td><td style=\"text-align: right;\">                 0.8</td><td style=\"text-align: right;\">                    5</td></tr>\n",
       "<tr><td>XGBoost_3_AutoML_20190418_150256             </td><td style=\"text-align: right;\">       5</td><td style=\"text-align: right;\"> 8.50284e+18</td><td style=\"text-align: right;\">     nan</td><td>False      </td><td>True       </td><td>Modulo           </td><td style=\"text-align: right;\">     121</td><td style=\"text-align: right;\">                 0</td><td style=\"text-align: right;\">                0</td><td>deviance         </td><td style=\"text-align: right;\">            0.008312</td><td style=\"text-align: right;\">         20</td><td style=\"text-align: right;\">        0.05</td><td style=\"text-align: right;\">     10   </td><td style=\"text-align: right;\">          0.6</td><td style=\"text-align: right;\">           0.8</td><td style=\"text-align: right;\">                 0.8</td><td style=\"text-align: right;\">                    5</td></tr>\n",
       "<tr><td>XGBoost_grid_1_AutoML_20190418_140346_model_1</td><td style=\"text-align: right;\">       5</td><td style=\"text-align: right;\"> 5.92175e+18</td><td style=\"text-align: right;\">     nan</td><td>False      </td><td>True       </td><td>Modulo           </td><td style=\"text-align: right;\">     152</td><td style=\"text-align: right;\">                 0</td><td style=\"text-align: right;\">                0</td><td>deviance         </td><td style=\"text-align: right;\">            0.008312</td><td style=\"text-align: right;\">         10</td><td style=\"text-align: right;\">        0.05</td><td style=\"text-align: right;\">     10   </td><td style=\"text-align: right;\">          0.8</td><td style=\"text-align: right;\">           0.6</td><td style=\"text-align: right;\">                 0.9</td><td style=\"text-align: right;\">                    5</td></tr>\n",
       "<tr><td>XGBoost_grid_1_AutoML_20190418_140346_model_1</td><td style=\"text-align: right;\">       5</td><td style=\"text-align: right;\"> 5.92175e+18</td><td style=\"text-align: right;\">     nan</td><td>False      </td><td>True       </td><td>Modulo           </td><td style=\"text-align: right;\">     152</td><td style=\"text-align: right;\">                 0</td><td style=\"text-align: right;\">                0</td><td>deviance         </td><td style=\"text-align: right;\">            0.008312</td><td style=\"text-align: right;\">         10</td><td style=\"text-align: right;\">        0.05</td><td style=\"text-align: right;\">     10   </td><td style=\"text-align: right;\">          0.8</td><td style=\"text-align: right;\">           0.6</td><td style=\"text-align: right;\">                 0.9</td><td style=\"text-align: right;\">                    5</td></tr>\n",
       "<tr><td>XGBoost_grid_1_AutoML_20190418_140346_model_1</td><td style=\"text-align: right;\">       5</td><td style=\"text-align: right;\"> 5.92175e+18</td><td style=\"text-align: right;\">     nan</td><td>False      </td><td>True       </td><td>Modulo           </td><td style=\"text-align: right;\">     152</td><td style=\"text-align: right;\">                 0</td><td style=\"text-align: right;\">                0</td><td>deviance         </td><td style=\"text-align: right;\">            0.008312</td><td style=\"text-align: right;\">         10</td><td style=\"text-align: right;\">        0.05</td><td style=\"text-align: right;\">     10   </td><td style=\"text-align: right;\">          0.8</td><td style=\"text-align: right;\">           0.6</td><td style=\"text-align: right;\">                 0.9</td><td style=\"text-align: right;\">                    5</td></tr>\n",
       "<tr><td>XGBoost_grid_1_AutoML_20190418_140346_model_1</td><td style=\"text-align: right;\">       5</td><td style=\"text-align: right;\"> 5.92175e+18</td><td style=\"text-align: right;\">     nan</td><td>False      </td><td>True       </td><td>Modulo           </td><td style=\"text-align: right;\">     152</td><td style=\"text-align: right;\">                 0</td><td style=\"text-align: right;\">                0</td><td>deviance         </td><td style=\"text-align: right;\">            0.008312</td><td style=\"text-align: right;\">         10</td><td style=\"text-align: right;\">        0.05</td><td style=\"text-align: right;\">     10   </td><td style=\"text-align: right;\">          0.8</td><td style=\"text-align: right;\">           0.6</td><td style=\"text-align: right;\">                 0.9</td><td style=\"text-align: right;\">                    5</td></tr>\n",
       "<tr><td>XGBoost_grid_1_AutoML_20190418_140346_model_2</td><td style=\"text-align: right;\">       5</td><td style=\"text-align: right;\">-4.2052e+18 </td><td style=\"text-align: right;\">     nan</td><td>False      </td><td>True       </td><td>Modulo           </td><td style=\"text-align: right;\">      13</td><td style=\"text-align: right;\">                 0</td><td style=\"text-align: right;\">                0</td><td>deviance         </td><td style=\"text-align: right;\">            0.008312</td><td style=\"text-align: right;\">         15</td><td style=\"text-align: right;\">        0.05</td><td style=\"text-align: right;\">     10   </td><td style=\"text-align: right;\">          0.8</td><td style=\"text-align: right;\">           1  </td><td style=\"text-align: right;\">                 1  </td><td style=\"text-align: right;\">                    5</td></tr>\n",
       "<tr><td>XGBoost_grid_1_AutoML_20190418_140346_model_2</td><td style=\"text-align: right;\">       5</td><td style=\"text-align: right;\">-4.2052e+18 </td><td style=\"text-align: right;\">     nan</td><td>False      </td><td>True       </td><td>Modulo           </td><td style=\"text-align: right;\">      13</td><td style=\"text-align: right;\">                 0</td><td style=\"text-align: right;\">                0</td><td>deviance         </td><td style=\"text-align: right;\">            0.008312</td><td style=\"text-align: right;\">         15</td><td style=\"text-align: right;\">        0.05</td><td style=\"text-align: right;\">     10   </td><td style=\"text-align: right;\">          0.8</td><td style=\"text-align: right;\">           1  </td><td style=\"text-align: right;\">                 1  </td><td style=\"text-align: right;\">                    5</td></tr>\n",
       "<tr><td>XGBoost_grid_1_AutoML_20190418_140346_model_2</td><td style=\"text-align: right;\">       5</td><td style=\"text-align: right;\">-4.2052e+18 </td><td style=\"text-align: right;\">     nan</td><td>False      </td><td>True       </td><td>Modulo           </td><td style=\"text-align: right;\">      13</td><td style=\"text-align: right;\">                 0</td><td style=\"text-align: right;\">                0</td><td>deviance         </td><td style=\"text-align: right;\">            0.008312</td><td style=\"text-align: right;\">         15</td><td style=\"text-align: right;\">        0.05</td><td style=\"text-align: right;\">     10   </td><td style=\"text-align: right;\">          0.8</td><td style=\"text-align: right;\">           1  </td><td style=\"text-align: right;\">                 1  </td><td style=\"text-align: right;\">                    5</td></tr>\n",
       "<tr><td>XGBoost_grid_1_AutoML_20190418_140346_model_2</td><td style=\"text-align: right;\">       5</td><td style=\"text-align: right;\">-4.2052e+18 </td><td style=\"text-align: right;\">     nan</td><td>False      </td><td>True       </td><td>Modulo           </td><td style=\"text-align: right;\">      13</td><td style=\"text-align: right;\">                 0</td><td style=\"text-align: right;\">                0</td><td>deviance         </td><td style=\"text-align: right;\">            0.008312</td><td style=\"text-align: right;\">         15</td><td style=\"text-align: right;\">        0.05</td><td style=\"text-align: right;\">     10   </td><td style=\"text-align: right;\">          0.8</td><td style=\"text-align: right;\">           1  </td><td style=\"text-align: right;\">                 1  </td><td style=\"text-align: right;\">                    5</td></tr>\n",
       "<tr><td>XGBoost_grid_1_AutoML_20190418_142243_model_1</td><td style=\"text-align: right;\">       5</td><td style=\"text-align: right;\">-4.38205e+18</td><td style=\"text-align: right;\">     nan</td><td>False      </td><td>True       </td><td>Modulo           </td><td style=\"text-align: right;\">     203</td><td style=\"text-align: right;\">                 0</td><td style=\"text-align: right;\">                0</td><td>deviance         </td><td style=\"text-align: right;\">            0.008312</td><td style=\"text-align: right;\">          5</td><td style=\"text-align: right;\">        0.05</td><td style=\"text-align: right;\">     20   </td><td style=\"text-align: right;\">          0.6</td><td style=\"text-align: right;\">           0.8</td><td style=\"text-align: right;\">                 0.9</td><td style=\"text-align: right;\">                    5</td></tr>\n",
       "<tr><td>XGBoost_grid_1_AutoML_20190418_142243_model_1</td><td style=\"text-align: right;\">       5</td><td style=\"text-align: right;\">-4.38205e+18</td><td style=\"text-align: right;\">     nan</td><td>False      </td><td>True       </td><td>Modulo           </td><td style=\"text-align: right;\">     203</td><td style=\"text-align: right;\">                 0</td><td style=\"text-align: right;\">                0</td><td>deviance         </td><td style=\"text-align: right;\">            0.008312</td><td style=\"text-align: right;\">          5</td><td style=\"text-align: right;\">        0.05</td><td style=\"text-align: right;\">     20   </td><td style=\"text-align: right;\">          0.6</td><td style=\"text-align: right;\">           0.8</td><td style=\"text-align: right;\">                 0.9</td><td style=\"text-align: right;\">                    5</td></tr>\n",
       "<tr><td>XGBoost_grid_1_AutoML_20190418_142243_model_1</td><td style=\"text-align: right;\">       5</td><td style=\"text-align: right;\">-4.38205e+18</td><td style=\"text-align: right;\">     nan</td><td>False      </td><td>True       </td><td>Modulo           </td><td style=\"text-align: right;\">     203</td><td style=\"text-align: right;\">                 0</td><td style=\"text-align: right;\">                0</td><td>deviance         </td><td style=\"text-align: right;\">            0.008312</td><td style=\"text-align: right;\">          5</td><td style=\"text-align: right;\">        0.05</td><td style=\"text-align: right;\">     20   </td><td style=\"text-align: right;\">          0.6</td><td style=\"text-align: right;\">           0.8</td><td style=\"text-align: right;\">                 0.9</td><td style=\"text-align: right;\">                    5</td></tr>\n",
       "<tr><td>XGBoost_grid_1_AutoML_20190418_142243_model_2</td><td style=\"text-align: right;\">       5</td><td style=\"text-align: right;\"> 1.50952e+18</td><td style=\"text-align: right;\">     nan</td><td>False      </td><td>True       </td><td>Modulo           </td><td style=\"text-align: right;\">     110</td><td style=\"text-align: right;\">                 0</td><td style=\"text-align: right;\">                0</td><td>deviance         </td><td style=\"text-align: right;\">            0.008312</td><td style=\"text-align: right;\">         15</td><td style=\"text-align: right;\">        0.05</td><td style=\"text-align: right;\">      1   </td><td style=\"text-align: right;\">          0.6</td><td style=\"text-align: right;\">           0.6</td><td style=\"text-align: right;\">                 0.7</td><td style=\"text-align: right;\">                    5</td></tr>\n",
       "<tr><td>XGBoost_grid_1_AutoML_20190418_142243_model_2</td><td style=\"text-align: right;\">       5</td><td style=\"text-align: right;\"> 1.50952e+18</td><td style=\"text-align: right;\">     nan</td><td>False      </td><td>True       </td><td>Modulo           </td><td style=\"text-align: right;\">     110</td><td style=\"text-align: right;\">                 0</td><td style=\"text-align: right;\">                0</td><td>deviance         </td><td style=\"text-align: right;\">            0.008312</td><td style=\"text-align: right;\">         15</td><td style=\"text-align: right;\">        0.05</td><td style=\"text-align: right;\">      1   </td><td style=\"text-align: right;\">          0.6</td><td style=\"text-align: right;\">           0.6</td><td style=\"text-align: right;\">                 0.7</td><td style=\"text-align: right;\">                    5</td></tr>\n",
       "<tr><td>XGBoost_grid_1_AutoML_20190418_142243_model_2</td><td style=\"text-align: right;\">       5</td><td style=\"text-align: right;\"> 1.50952e+18</td><td style=\"text-align: right;\">     nan</td><td>False      </td><td>True       </td><td>Modulo           </td><td style=\"text-align: right;\">     110</td><td style=\"text-align: right;\">                 0</td><td style=\"text-align: right;\">                0</td><td>deviance         </td><td style=\"text-align: right;\">            0.008312</td><td style=\"text-align: right;\">         15</td><td style=\"text-align: right;\">        0.05</td><td style=\"text-align: right;\">      1   </td><td style=\"text-align: right;\">          0.6</td><td style=\"text-align: right;\">           0.6</td><td style=\"text-align: right;\">                 0.7</td><td style=\"text-align: right;\">                    5</td></tr>\n",
       "<tr><td>XGBoost_grid_1_AutoML_20190418_142243_model_3</td><td style=\"text-align: right;\">       5</td><td style=\"text-align: right;\">-6.15616e+17</td><td style=\"text-align: right;\">     nan</td><td>False      </td><td>True       </td><td>Modulo           </td><td style=\"text-align: right;\">      20</td><td style=\"text-align: right;\">                 0</td><td style=\"text-align: right;\">                0</td><td>deviance         </td><td style=\"text-align: right;\">            0.008312</td><td style=\"text-align: right;\">         15</td><td style=\"text-align: right;\">        0.05</td><td style=\"text-align: right;\">      0.1 </td><td style=\"text-align: right;\">          1  </td><td style=\"text-align: right;\">           0.8</td><td style=\"text-align: right;\">                 0.9</td><td style=\"text-align: right;\">                    5</td></tr>\n",
       "<tr><td>XGBoost_grid_1_AutoML_20190418_142243_model_3</td><td style=\"text-align: right;\">       5</td><td style=\"text-align: right;\">-6.15616e+17</td><td style=\"text-align: right;\">     nan</td><td>False      </td><td>True       </td><td>Modulo           </td><td style=\"text-align: right;\">      20</td><td style=\"text-align: right;\">                 0</td><td style=\"text-align: right;\">                0</td><td>deviance         </td><td style=\"text-align: right;\">            0.008312</td><td style=\"text-align: right;\">         15</td><td style=\"text-align: right;\">        0.05</td><td style=\"text-align: right;\">      0.1 </td><td style=\"text-align: right;\">          1  </td><td style=\"text-align: right;\">           0.8</td><td style=\"text-align: right;\">                 0.9</td><td style=\"text-align: right;\">                    5</td></tr>\n",
       "<tr><td>XGBoost_grid_1_AutoML_20190418_142243_model_3</td><td style=\"text-align: right;\">       5</td><td style=\"text-align: right;\">-6.15616e+17</td><td style=\"text-align: right;\">     nan</td><td>False      </td><td>True       </td><td>Modulo           </td><td style=\"text-align: right;\">      20</td><td style=\"text-align: right;\">                 0</td><td style=\"text-align: right;\">                0</td><td>deviance         </td><td style=\"text-align: right;\">            0.008312</td><td style=\"text-align: right;\">         15</td><td style=\"text-align: right;\">        0.05</td><td style=\"text-align: right;\">      0.1 </td><td style=\"text-align: right;\">          1  </td><td style=\"text-align: right;\">           0.8</td><td style=\"text-align: right;\">                 0.9</td><td style=\"text-align: right;\">                    5</td></tr>\n",
       "<tr><td>XGBoost_grid_1_AutoML_20190418_144229_model_1</td><td style=\"text-align: right;\">       5</td><td style=\"text-align: right;\"> 3.56222e+18</td><td style=\"text-align: right;\">     nan</td><td>False      </td><td>True       </td><td>Modulo           </td><td style=\"text-align: right;\">     145</td><td style=\"text-align: right;\">                 0</td><td style=\"text-align: right;\">                0</td><td>deviance         </td><td style=\"text-align: right;\">            0.008312</td><td style=\"text-align: right;\">         15</td><td style=\"text-align: right;\">        0.05</td><td style=\"text-align: right;\">      1   </td><td style=\"text-align: right;\">          1  </td><td style=\"text-align: right;\">           0.8</td><td style=\"text-align: right;\">                 0.8</td><td style=\"text-align: right;\">                    5</td></tr>\n",
       "<tr><td>XGBoost_grid_1_AutoML_20190418_144229_model_1</td><td style=\"text-align: right;\">       5</td><td style=\"text-align: right;\"> 3.56222e+18</td><td style=\"text-align: right;\">     nan</td><td>False      </td><td>True       </td><td>Modulo           </td><td style=\"text-align: right;\">     145</td><td style=\"text-align: right;\">                 0</td><td style=\"text-align: right;\">                0</td><td>deviance         </td><td style=\"text-align: right;\">            0.008312</td><td style=\"text-align: right;\">         15</td><td style=\"text-align: right;\">        0.05</td><td style=\"text-align: right;\">      1   </td><td style=\"text-align: right;\">          1  </td><td style=\"text-align: right;\">           0.8</td><td style=\"text-align: right;\">                 0.8</td><td style=\"text-align: right;\">                    5</td></tr>\n",
       "<tr><td>XGBoost_grid_1_AutoML_20190418_144229_model_2</td><td style=\"text-align: right;\">       5</td><td style=\"text-align: right;\">-7.78885e+17</td><td style=\"text-align: right;\">     nan</td><td>False      </td><td>True       </td><td>Modulo           </td><td style=\"text-align: right;\">     276</td><td style=\"text-align: right;\">                 0</td><td style=\"text-align: right;\">                0</td><td>deviance         </td><td style=\"text-align: right;\">            0.008312</td><td style=\"text-align: right;\">          5</td><td style=\"text-align: right;\">        0.05</td><td style=\"text-align: right;\">      5   </td><td style=\"text-align: right;\">          1  </td><td style=\"text-align: right;\">           1  </td><td style=\"text-align: right;\">                 0.7</td><td style=\"text-align: right;\">                    5</td></tr>\n",
       "<tr><td>XGBoost_grid_1_AutoML_20190418_144229_model_2</td><td style=\"text-align: right;\">       5</td><td style=\"text-align: right;\">-7.78885e+17</td><td style=\"text-align: right;\">     nan</td><td>False      </td><td>True       </td><td>Modulo           </td><td style=\"text-align: right;\">     276</td><td style=\"text-align: right;\">                 0</td><td style=\"text-align: right;\">                0</td><td>deviance         </td><td style=\"text-align: right;\">            0.008312</td><td style=\"text-align: right;\">          5</td><td style=\"text-align: right;\">        0.05</td><td style=\"text-align: right;\">      5   </td><td style=\"text-align: right;\">          1  </td><td style=\"text-align: right;\">           1  </td><td style=\"text-align: right;\">                 0.7</td><td style=\"text-align: right;\">                    5</td></tr>\n",
       "<tr><td>XGBoost_grid_1_AutoML_20190418_144229_model_3</td><td style=\"text-align: right;\">       5</td><td style=\"text-align: right;\">-6.51011e+18</td><td style=\"text-align: right;\">     nan</td><td>False      </td><td>True       </td><td>Modulo           </td><td style=\"text-align: right;\">      79</td><td style=\"text-align: right;\">                 0</td><td style=\"text-align: right;\">                0</td><td>deviance         </td><td style=\"text-align: right;\">            0.008312</td><td style=\"text-align: right;\">          5</td><td style=\"text-align: right;\">        0.05</td><td style=\"text-align: right;\">      3   </td><td style=\"text-align: right;\">          0.6</td><td style=\"text-align: right;\">           1  </td><td style=\"text-align: right;\">                 0.7</td><td style=\"text-align: right;\">                    5</td></tr>\n",
       "<tr><td>XGBoost_grid_1_AutoML_20190418_144229_model_3</td><td style=\"text-align: right;\">       5</td><td style=\"text-align: right;\">-6.51011e+18</td><td style=\"text-align: right;\">     nan</td><td>False      </td><td>True       </td><td>Modulo           </td><td style=\"text-align: right;\">      79</td><td style=\"text-align: right;\">                 0</td><td style=\"text-align: right;\">                0</td><td>deviance         </td><td style=\"text-align: right;\">            0.008312</td><td style=\"text-align: right;\">          5</td><td style=\"text-align: right;\">        0.05</td><td style=\"text-align: right;\">      3   </td><td style=\"text-align: right;\">          0.6</td><td style=\"text-align: right;\">           1  </td><td style=\"text-align: right;\">                 0.7</td><td style=\"text-align: right;\">                    5</td></tr>\n",
       "<tr><td>XGBoost_grid_1_AutoML_20190418_144229_model_4</td><td style=\"text-align: right;\">       5</td><td style=\"text-align: right;\">-1.96536e+18</td><td style=\"text-align: right;\">     nan</td><td>False      </td><td>True       </td><td>Modulo           </td><td style=\"text-align: right;\">      60</td><td style=\"text-align: right;\">                 0</td><td style=\"text-align: right;\">                0</td><td>deviance         </td><td style=\"text-align: right;\">            0.008312</td><td style=\"text-align: right;\">          5</td><td style=\"text-align: right;\">        0.05</td><td style=\"text-align: right;\">      0.01</td><td style=\"text-align: right;\">          0.8</td><td style=\"text-align: right;\">           0.6</td><td style=\"text-align: right;\">                 0.9</td><td style=\"text-align: right;\">                    5</td></tr>\n",
       "<tr><td>XGBoost_grid_1_AutoML_20190418_144229_model_4</td><td style=\"text-align: right;\">       5</td><td style=\"text-align: right;\">-1.96536e+18</td><td style=\"text-align: right;\">     nan</td><td>False      </td><td>True       </td><td>Modulo           </td><td style=\"text-align: right;\">      60</td><td style=\"text-align: right;\">                 0</td><td style=\"text-align: right;\">                0</td><td>deviance         </td><td style=\"text-align: right;\">            0.008312</td><td style=\"text-align: right;\">          5</td><td style=\"text-align: right;\">        0.05</td><td style=\"text-align: right;\">      0.01</td><td style=\"text-align: right;\">          0.8</td><td style=\"text-align: right;\">           0.6</td><td style=\"text-align: right;\">                 0.9</td><td style=\"text-align: right;\">                    5</td></tr>\n",
       "<tr><td>XGBoost_grid_1_AutoML_20190418_150256_model_1</td><td style=\"text-align: right;\">       5</td><td style=\"text-align: right;\">-3.9966e+18 </td><td style=\"text-align: right;\">     nan</td><td>False      </td><td>True       </td><td>Modulo           </td><td style=\"text-align: right;\">     161</td><td style=\"text-align: right;\">                 0</td><td style=\"text-align: right;\">                0</td><td>deviance         </td><td style=\"text-align: right;\">            0.008312</td><td style=\"text-align: right;\">          5</td><td style=\"text-align: right;\">        0.05</td><td style=\"text-align: right;\">      1   </td><td style=\"text-align: right;\">          1  </td><td style=\"text-align: right;\">           0.6</td><td style=\"text-align: right;\">                 0.9</td><td style=\"text-align: right;\">                    5</td></tr>\n",
       "<tr><td>XGBoost_grid_1_AutoML_20190418_150256_model_2</td><td style=\"text-align: right;\">       5</td><td style=\"text-align: right;\"> 9.42564e+17</td><td style=\"text-align: right;\">     nan</td><td>False      </td><td>True       </td><td>Modulo           </td><td style=\"text-align: right;\">     172</td><td style=\"text-align: right;\">                 0</td><td style=\"text-align: right;\">                0</td><td>deviance         </td><td style=\"text-align: right;\">            0.008312</td><td style=\"text-align: right;\">         20</td><td style=\"text-align: right;\">        0.05</td><td style=\"text-align: right;\">     10   </td><td style=\"text-align: right;\">          0.8</td><td style=\"text-align: right;\">           0.6</td><td style=\"text-align: right;\">                 0.7</td><td style=\"text-align: right;\">                    5</td></tr>\n",
       "<tr><td>XGBoost_grid_1_AutoML_20190418_150256_model_3</td><td style=\"text-align: right;\">       5</td><td style=\"text-align: right;\">-1.40049e+17</td><td style=\"text-align: right;\">     nan</td><td>False      </td><td>True       </td><td>Modulo           </td><td style=\"text-align: right;\">      98</td><td style=\"text-align: right;\">                 0</td><td style=\"text-align: right;\">                0</td><td>deviance         </td><td style=\"text-align: right;\">            0.008312</td><td style=\"text-align: right;\">         10</td><td style=\"text-align: right;\">        0.05</td><td style=\"text-align: right;\">      5   </td><td style=\"text-align: right;\">          1  </td><td style=\"text-align: right;\">           1  </td><td style=\"text-align: right;\">                 1  </td><td style=\"text-align: right;\">                    5</td></tr>\n",
       "<tr><td>XGBoost_grid_1_AutoML_20190418_150256_model_4</td><td style=\"text-align: right;\">       5</td><td style=\"text-align: right;\">-6.56751e+18</td><td style=\"text-align: right;\">     nan</td><td>False      </td><td>True       </td><td>Modulo           </td><td style=\"text-align: right;\">      98</td><td style=\"text-align: right;\">                 0</td><td style=\"text-align: right;\">                0</td><td>deviance         </td><td style=\"text-align: right;\">            0.008312</td><td style=\"text-align: right;\">         15</td><td style=\"text-align: right;\">        0.05</td><td style=\"text-align: right;\">     20   </td><td style=\"text-align: right;\">          0.8</td><td style=\"text-align: right;\">           0.6</td><td style=\"text-align: right;\">                 0.8</td><td style=\"text-align: right;\">                    5</td></tr>\n",
       "<tr><td>XGBoost_grid_1_AutoML_20190418_150256_model_5</td><td style=\"text-align: right;\">       5</td><td style=\"text-align: right;\"> 4.39904e+18</td><td style=\"text-align: right;\">     nan</td><td>False      </td><td>True       </td><td>Modulo           </td><td style=\"text-align: right;\">      92</td><td style=\"text-align: right;\">                 0</td><td style=\"text-align: right;\">                0</td><td>deviance         </td><td style=\"text-align: right;\">            0.008312</td><td style=\"text-align: right;\">         20</td><td style=\"text-align: right;\">        0.05</td><td style=\"text-align: right;\">     10   </td><td style=\"text-align: right;\">          0.6</td><td style=\"text-align: right;\">           0.6</td><td style=\"text-align: right;\">                 0.7</td><td style=\"text-align: right;\">                    5</td></tr>\n",
       "</tbody>\n",
       "</table>"
      ]
     },
     "metadata": {},
     "output_type": "display_data"
    },
    {
     "data": {
      "text/plain": []
     },
     "execution_count": 18,
     "metadata": {},
     "output_type": "execute_result"
    }
   ],
   "source": [
    "df.head(80)"
   ]
  },
  {
   "cell_type": "code",
   "execution_count": 19,
   "metadata": {},
   "outputs": [
    {
     "data": {
      "text/plain": [
       "13.0"
      ]
     },
     "execution_count": 19,
     "metadata": {},
     "output_type": "execute_result"
    }
   ],
   "source": [
    "df['ntrees'].min()"
   ]
  },
  {
   "cell_type": "code",
   "execution_count": 20,
   "metadata": {},
   "outputs": [
    {
     "data": {
      "text/plain": [
       "276.0"
      ]
     },
     "execution_count": 20,
     "metadata": {},
     "output_type": "execute_result"
    }
   ],
   "source": [
    "df['ntrees'].max()"
   ]
  },
  {
   "cell_type": "code",
   "execution_count": 21,
   "metadata": {},
   "outputs": [],
   "source": [
    "range_ntrees = [df['ntrees'].min(),df['ntrees'].max()] "
   ]
  },
  {
   "cell_type": "code",
   "execution_count": 22,
   "metadata": {},
   "outputs": [
    {
     "data": {
      "text/plain": [
       "[13.0, 276.0]"
      ]
     },
     "execution_count": 22,
     "metadata": {},
     "output_type": "execute_result"
    }
   ],
   "source": [
    "range_ntrees"
   ]
  },
  {
   "cell_type": "code",
   "execution_count": 28,
   "metadata": {},
   "outputs": [
    {
     "data": {
      "text/plain": [
       "{'name': 'enum',\n",
       " 'nfolds': 'int',\n",
       " 'seed': 'int',\n",
       " 'solver': 'int',\n",
       " 'kc_val_mo': 'enum',\n",
       " 'kc_val_pr': 'enum',\n",
       " 'fold_assignment': 'enum',\n",
       " 'ntrees': 'int',\n",
       " 'max_runtime_secs': 'int',\n",
       " 'stopping_rounds': 'int',\n",
       " 'stopping_metric': 'enum',\n",
       " 'stopping_tolerance': 'real',\n",
       " 'max_depth': 'int',\n",
       " 'learn_rate': 'real',\n",
       " 'min_rows': 'real',\n",
       " 'sample_rate': 'real',\n",
       " 'col_sam_rate': 'real',\n",
       " 'col_sam_r_per_tree': 'real',\n",
       " 'score_tree_interval': 'int'}"
      ]
     },
     "execution_count": 28,
     "metadata": {},
     "output_type": "execute_result"
    }
   ],
   "source": [
    "df.types"
   ]
  },
  {
   "cell_type": "code",
   "execution_count": 48,
   "metadata": {},
   "outputs": [
    {
     "name": "stdout",
     "output_type": "stream",
     "text": [
      "name enum\n",
      "nfolds int\n",
      "seed int\n",
      "solver int\n",
      "kc_val_mo enum\n",
      "kc_val_pr enum\n",
      "fold_assignment enum\n",
      "ntrees int\n",
      "max_runtime_secs int\n",
      "stopping_rounds int\n",
      "stopping_metric enum\n",
      "stopping_tolerance real\n",
      "max_depth int\n",
      "learn_rate real\n",
      "min_rows real\n",
      "sample_rate real\n",
      "col_sam_rate real\n",
      "col_sam_r_per_tree real\n",
      "score_tree_interval int\n"
     ]
    }
   ],
   "source": [
    "ranges = []\n",
    "for key,val in df.types.items():\n",
    "    print(key,val)\n",
    "    if val == 'int': \n",
    "         ranges.append([key,[df[key].min(),df[key].max()]])\n",
    "    if val == 'real':\n",
    "         ranges.append([key,[df[key].min(),df[key].max()]])"
   ]
  },
  {
   "cell_type": "code",
   "execution_count": 49,
   "metadata": {},
   "outputs": [
    {
     "data": {
      "text/plain": [
       "[['nfolds', [5.0, 5.0]],\n",
       " ['seed', [-8.186597997308668e+18, 8.50284134061186e+18]],\n",
       " ['solver', [nan, nan]],\n",
       " ['ntrees', [13.0, 276.0]],\n",
       " ['max_runtime_secs', [0.0, 53.0]],\n",
       " ['stopping_rounds', [0.0, 3.0]],\n",
       " ['stopping_tolerance', [0.008312003470029437, 0.008312003470029437]],\n",
       " ['max_depth', [5.0, 20.0]],\n",
       " ['learn_rate', [0.05, 0.05]],\n",
       " ['min_rows', [0.01, 20.0]],\n",
       " ['sample_rate', [0.6, 1.0]],\n",
       " ['col_sam_rate', [0.6, 1.0]],\n",
       " ['col_sam_r_per_tree', [0.7, 1.0]],\n",
       " ['score_tree_interval', [5.0, 5.0]]]"
      ]
     },
     "execution_count": 49,
     "metadata": {},
     "output_type": "execute_result"
    }
   ],
   "source": [
    "ranges"
   ]
  },
  {
   "cell_type": "code",
   "execution_count": null,
   "metadata": {},
   "outputs": [],
   "source": []
  }
 ],
 "metadata": {
  "kernelspec": {
   "display_name": "Python 3",
   "language": "python",
   "name": "python3"
  },
  "language_info": {
   "codemirror_mode": {
    "name": "ipython",
    "version": 3
   },
   "file_extension": ".py",
   "mimetype": "text/x-python",
   "name": "python",
   "nbconvert_exporter": "python",
   "pygments_lexer": "ipython3",
   "version": "3.7.1"
  }
 },
 "nbformat": 4,
 "nbformat_minor": 2
}
