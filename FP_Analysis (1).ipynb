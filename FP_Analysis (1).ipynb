{
 "cells": [
  {
   "cell_type": "markdown",
   "metadata": {},
   "source": [
    "# Analysis\n",
    "\n",
    "After generating the models for all the algorithmns for different runtimes, csv files are generated for each models with the hyperparameters values. These hyperparameters are analysed to find three things:\n",
    "\n",
    "1. Trying to find the important hyperparameters\n",
    "2. Trying to find the range of hyperparameters\n",
    "3. Compare the range of values across the models for different hyperparameters"
   ]
  },
  {
   "cell_type": "code",
   "execution_count": 62,
   "metadata": {},
   "outputs": [],
   "source": [
    "#importing\n",
    "import h2o\n",
    "from h2o.automl import H2OAutoML\n",
    "import random, os, sys\n",
    "from datetime import datetime\n",
    "import pandas as pd\n",
    "import logging\n",
    "import csv\n",
    "import optparse\n",
    "import time\n",
    "import json\n",
    "from distutils.util import strtobool\n",
    "import psutil\n",
    "\n",
    "import warnings\n",
    "warnings.filterwarnings('ignore')\n",
    "\n"
   ]
  },
  {
   "cell_type": "code",
   "execution_count": 63,
   "metadata": {},
   "outputs": [],
   "source": [
    "# importing libraries\n",
    "%matplotlib inline \n",
    "import matplotlib.pyplot as plt\n",
    "import numpy as np\n",
    "import pandas as pd\n",
    "from scipy import stats\n",
    "import seaborn as sns\n",
    "import re"
   ]
  },
  {
   "cell_type": "code",
   "execution_count": 64,
   "metadata": {},
   "outputs": [
    {
     "name": "stdout",
     "output_type": "stream",
     "text": [
      "Checking whether there is an H2O instance running at http://localhost:51194 ..... not found.\n",
      "Attempting to start a local H2O server...\n",
      "  Java Version: openjdk version \"1.8.0_152-release\"; OpenJDK Runtime Environment (build 1.8.0_152-release-1056-b12); OpenJDK 64-Bit Server VM (build 25.152-b12, mixed mode)\n",
      "  Starting server from /anaconda3/lib/python3.7/site-packages/h2o/backend/bin/h2o.jar\n",
      "  Ice root: /var/folders/sv/0gx23csn4gg8nl275z72ss3w0000gn/T/tmpqi18wkit\n",
      "  JVM stdout: /var/folders/sv/0gx23csn4gg8nl275z72ss3w0000gn/T/tmpqi18wkit/h2o_nupur_started_from_python.out\n",
      "  JVM stderr: /var/folders/sv/0gx23csn4gg8nl275z72ss3w0000gn/T/tmpqi18wkit/h2o_nupur_started_from_python.err\n",
      "  Server is running at http://127.0.0.1:51194\n",
      "Connecting to H2O server at http://127.0.0.1:51194 ... successful.\n"
     ]
    },
    {
     "data": {
      "text/html": [
       "<div style=\"overflow:auto\"><table style=\"width:50%\"><tr><td>H2O cluster uptime:</td>\n",
       "<td>03 secs</td></tr>\n",
       "<tr><td>H2O cluster timezone:</td>\n",
       "<td>America/New_York</td></tr>\n",
       "<tr><td>H2O data parsing timezone:</td>\n",
       "<td>UTC</td></tr>\n",
       "<tr><td>H2O cluster version:</td>\n",
       "<td>3.24.0.1</td></tr>\n",
       "<tr><td>H2O cluster version age:</td>\n",
       "<td>25 days </td></tr>\n",
       "<tr><td>H2O cluster name:</td>\n",
       "<td>H2O_from_python_nupur_kg7jdr</td></tr>\n",
       "<tr><td>H2O cluster total nodes:</td>\n",
       "<td>1</td></tr>\n",
       "<tr><td>H2O cluster free memory:</td>\n",
       "<td>4.792 Gb</td></tr>\n",
       "<tr><td>H2O cluster total cores:</td>\n",
       "<td>4</td></tr>\n",
       "<tr><td>H2O cluster allowed cores:</td>\n",
       "<td>4</td></tr>\n",
       "<tr><td>H2O cluster status:</td>\n",
       "<td>accepting new members, healthy</td></tr>\n",
       "<tr><td>H2O connection url:</td>\n",
       "<td>http://127.0.0.1:51194</td></tr>\n",
       "<tr><td>H2O connection proxy:</td>\n",
       "<td>None</td></tr>\n",
       "<tr><td>H2O internal security:</td>\n",
       "<td>False</td></tr>\n",
       "<tr><td>H2O API Extensions:</td>\n",
       "<td>Amazon S3, XGBoost, Algos, AutoML, Core V3, Core V4</td></tr>\n",
       "<tr><td>Python version:</td>\n",
       "<td>3.7.2 final</td></tr></table></div>"
      ],
      "text/plain": [
       "--------------------------  ---------------------------------------------------\n",
       "H2O cluster uptime:         03 secs\n",
       "H2O cluster timezone:       America/New_York\n",
       "H2O data parsing timezone:  UTC\n",
       "H2O cluster version:        3.24.0.1\n",
       "H2O cluster version age:    25 days\n",
       "H2O cluster name:           H2O_from_python_nupur_kg7jdr\n",
       "H2O cluster total nodes:    1\n",
       "H2O cluster free memory:    4.792 Gb\n",
       "H2O cluster total cores:    4\n",
       "H2O cluster allowed cores:  4\n",
       "H2O cluster status:         accepting new members, healthy\n",
       "H2O connection url:         http://127.0.0.1:51194\n",
       "H2O connection proxy:\n",
       "H2O internal security:      False\n",
       "H2O API Extensions:         Amazon S3, XGBoost, Algos, AutoML, Core V3, Core V4\n",
       "Python version:             3.7.2 final\n",
       "--------------------------  ---------------------------------------------------"
      ]
     },
     "metadata": {},
     "output_type": "display_data"
    }
   ],
   "source": [
    "port_no=random.randint(5555,55555)\n",
    "h2o.init(strict_version_check=False,min_mem_size_GB=5,port=port_no)"
   ]
  },
  {
   "cell_type": "markdown",
   "metadata": {},
   "source": [
    "Data set is imported using pandas as it is needed for GridSearch to find important hyperparameters"
   ]
  },
  {
   "cell_type": "code",
   "execution_count": 65,
   "metadata": {},
   "outputs": [],
   "source": [
    "dfd=pd.read_csv(\"anime_filtered.csv\", decimal = ',')"
   ]
  },
  {
   "cell_type": "code",
   "execution_count": 66,
   "metadata": {},
   "outputs": [
    {
     "data": {
      "text/plain": [
       "anime_id           int64\n",
       "title             object\n",
       "title_english     object\n",
       "title_japanese    object\n",
       "title_synonyms    object\n",
       "image_url         object\n",
       "type              object\n",
       "source            object\n",
       "episodes           int64\n",
       "status            object\n",
       "airing              bool\n",
       "aired_string      object\n",
       "aired             object\n",
       "duration          object\n",
       "rating            object\n",
       "score             object\n",
       "scored_by          int64\n",
       "rank              object\n",
       "popularity         int64\n",
       "members            int64\n",
       "favorites          int64\n",
       "background        object\n",
       "premiered         object\n",
       "broadcast         object\n",
       "related           object\n",
       "producer          object\n",
       "licensor          object\n",
       "studio            object\n",
       "genre             object\n",
       "opening_theme     object\n",
       "ending_theme      object\n",
       "dtype: object"
      ]
     },
     "execution_count": 66,
     "metadata": {},
     "output_type": "execute_result"
    }
   ],
   "source": [
    "dfd.dtypes"
   ]
  },
  {
   "cell_type": "markdown",
   "metadata": {},
   "source": [
    "As the datatypes of some real values are object, we have to convert all of them to float"
   ]
  },
  {
   "cell_type": "code",
   "execution_count": 67,
   "metadata": {},
   "outputs": [],
   "source": [
    "dfd['score'] = dfd.score.astype(float)"
   ]
  },
  {
   "cell_type": "code",
   "execution_count": 68,
   "metadata": {},
   "outputs": [],
   "source": [
    "ser = pd.Series(dfd['rank'])\n",
    "dfd['rank'] = ser.astype('float')"
   ]
  },
  {
   "cell_type": "markdown",
   "metadata": {},
   "source": [
    "Categorical columns and boolean values are converted to integers and "
   ]
  },
  {
   "cell_type": "code",
   "execution_count": 69,
   "metadata": {},
   "outputs": [],
   "source": [
    "dfd['status'] = dfd['status'].astype('category').cat.codes\n",
    "dfd['source'] = dfd['source'].astype('category').cat.codes\n",
    "dfd['type'] = dfd['type'].astype('category').cat.codes"
   ]
  },
  {
   "cell_type": "code",
   "execution_count": 70,
   "metadata": {},
   "outputs": [],
   "source": [
    "dfd = dfd.applymap(lambda x: 1 if x == True else x)\n",
    "dfd = dfd.applymap(lambda x: 0 if x == False else x)"
   ]
  },
  {
   "cell_type": "code",
   "execution_count": 71,
   "metadata": {},
   "outputs": [
    {
     "data": {
      "text/plain": [
       "anime_id            int64\n",
       "title              object\n",
       "title_english      object\n",
       "title_japanese     object\n",
       "title_synonyms     object\n",
       "image_url          object\n",
       "type                int64\n",
       "source              int64\n",
       "episodes            int64\n",
       "status              int64\n",
       "airing              int64\n",
       "aired_string       object\n",
       "aired              object\n",
       "duration           object\n",
       "rating             object\n",
       "score             float64\n",
       "scored_by           int64\n",
       "rank              float64\n",
       "popularity          int64\n",
       "members             int64\n",
       "favorites           int64\n",
       "background         object\n",
       "premiered          object\n",
       "broadcast          object\n",
       "related            object\n",
       "producer           object\n",
       "licensor           object\n",
       "studio             object\n",
       "genre              object\n",
       "opening_theme      object\n",
       "ending_theme       object\n",
       "dtype: object"
      ]
     },
     "execution_count": 71,
     "metadata": {},
     "output_type": "execute_result"
    }
   ],
   "source": [
    "dfd.dtypes"
   ]
  },
  {
   "cell_type": "markdown",
   "metadata": {},
   "source": [
    "X and Y are initialised with dataset columns with score as target"
   ]
  },
  {
   "cell_type": "code",
   "execution_count": 72,
   "metadata": {},
   "outputs": [],
   "source": [
    "columns = ['type','source','episodes','status','airing','scored_by','popularity','members','favorites']\n",
    "X = dfd[columns]\n",
    "y = dfd.score"
   ]
  },
  {
   "cell_type": "markdown",
   "metadata": {},
   "source": [
    "__XGBoost__ "
   ]
  },
  {
   "cell_type": "code",
   "execution_count": null,
   "metadata": {},
   "outputs": [],
   "source": [
    "#importing the file\n",
    "# df=pd.read_csv(\"XGboost.csv\", decimal = ',')\n",
    "df = h2o.import_file(path=\"XGboost.csv\")"
   ]
  },
  {
   "cell_type": "code",
   "execution_count": null,
   "metadata": {},
   "outputs": [],
   "source": [
    "df.head()"
   ]
  },
  {
   "cell_type": "markdown",
   "metadata": {},
   "source": [
    "To pass the parameters in grid search, we need all the values in a list. Hence all the unique values of ntrees,minrows,col_sam_r_per_tree are taken and converted to list."
   ]
  },
  {
   "cell_type": "code",
   "execution_count": null,
   "metadata": {},
   "outputs": [],
   "source": [
    "pd = df.as_data_frame()\n",
    "ntrees = pd['ntrees'].unique().tolist()\n",
    "\n",
    "minrows = pd['min_rows'].unique().tolist()\n",
    "col_sam_r_per_tree = pd['col_sam_r_per_tree'].unique().tolist()"
   ]
  },
  {
   "cell_type": "code",
   "execution_count": null,
   "metadata": {},
   "outputs": [],
   "source": [
    "df.types"
   ]
  },
  {
   "cell_type": "markdown",
   "metadata": {},
   "source": [
    "Here, we are finding the range of all the column which are numerical and added to a list called ranges."
   ]
  },
  {
   "cell_type": "code",
   "execution_count": null,
   "metadata": {},
   "outputs": [],
   "source": [
    "ranges = []\n",
    "for key,val in df.types.items():\n",
    "    print(key,val)\n",
    "    if val == 'int': \n",
    "         ranges.append([key,[df[key].min(),df[key].max()]])\n",
    "    if val == 'real':\n",
    "         ranges.append([key,[df[key].min(),df[key].max()]])"
   ]
  },
  {
   "cell_type": "markdown",
   "metadata": {},
   "source": [
    "__2 Trying to find the range of hyperparameters__"
   ]
  },
  {
   "cell_type": "code",
   "execution_count": null,
   "metadata": {},
   "outputs": [],
   "source": [
    "ranges"
   ]
  },
  {
   "cell_type": "markdown",
   "metadata": {},
   "source": [
    "__1 Trying to find the important hyperparameters__\n",
    "\n",
    "In Grid Search CV , XGBRegressor is taken and the parameters which can be passed in GridSearch are initialised and the model is fitted with X and y."
   ]
  },
  {
   "cell_type": "code",
   "execution_count": 18,
   "metadata": {},
   "outputs": [],
   "source": [
    "\n",
    "from xgboost.sklearn import XGBRegressor\n",
    "from sklearn.model_selection import GridSearchCV\n",
    "import xgboost as xgb\n",
    "# Create the parameter grid based on the results of random search \n",
    "param_grid = {\n",
    "    'ntrees': ntrees,\n",
    "    'stopping_rounds': [3],\n",
    "    'max_depth' : [10],\n",
    "    'learn_rate': [0.05],\n",
    "    'min_rows': 10.0,\n",
    "    'sample_rate': [0.8],\n",
    "    'col_sample_rate': [0.8],\n",
    "    'col_sample_rate_per_tree' : [0.8]\n",
    "\n",
    "}\n",
    "# Create a based model\n",
    "clf = XGBRegressor()\n",
    "# Instantiate the grid search model\n",
    "xgb = GridSearchCV(estimator = clf, param_grid = param_grid, \n",
    "                          cv = 3, n_jobs = -1, verbose = 2)"
   ]
  },
  {
   "cell_type": "code",
   "execution_count": null,
   "metadata": {},
   "outputs": [
    {
     "name": "stdout",
     "output_type": "stream",
     "text": [
      "Fitting 3 folds for each of 24192 candidates, totalling 72576 fits\n"
     ]
    },
    {
     "name": "stderr",
     "output_type": "stream",
     "text": [
      "[Parallel(n_jobs=-1)]: Using backend LokyBackend with 4 concurrent workers.\n",
      "[Parallel(n_jobs=-1)]: Done  33 tasks      | elapsed:   16.4s\n",
      "[Parallel(n_jobs=-1)]: Done 154 tasks      | elapsed:  1.0min\n"
     ]
    }
   ],
   "source": [
    "re = xgb.fit(X,y)"
   ]
  },
  {
   "cell_type": "markdown",
   "metadata": {},
   "source": [
    "These are the best parameters for XGB given by GridSearch "
   ]
  },
  {
   "cell_type": "code",
   "execution_count": null,
   "metadata": {},
   "outputs": [],
   "source": [
    "xgb.best_params_"
   ]
  },
  {
   "cell_type": "code",
   "execution_count": null,
   "metadata": {},
   "outputs": [],
   "source": [
    "means = res.cv_results_['mean_test_score']\n",
    "stds = res.cv_results_['std_test_score']\n",
    "params = res.cv_results_['params']\n",
    "for mean, stdev, param in zip(means, stds, params):\n",
    "\tprint(\"%f (%f) with: %r\" % (mean, stdev, param))"
   ]
  },
  {
   "cell_type": "markdown",
   "metadata": {},
   "source": [
    "__GBM__\n",
    "\n",
    "GBM hyperparameters are imported for the analysis "
   ]
  },
  {
   "cell_type": "code",
   "execution_count": 166,
   "metadata": {},
   "outputs": [
    {
     "name": "stdout",
     "output_type": "stream",
     "text": [
      "Parse progress: |█████████████████████████████████████████████████████████| 100%\n"
     ]
    }
   ],
   "source": [
    "#importing the file\n",
    "df = h2o.import_file(path=\"GBM.csv\")"
   ]
  },
  {
   "cell_type": "code",
   "execution_count": 167,
   "metadata": {},
   "outputs": [
    {
     "data": {
      "text/html": [
       "<table>\n",
       "<thead>\n",
       "<tr><th style=\"text-align: right;\">  gbm_id</th><th>name                                     </th><th style=\"text-align: right;\">  nfolds</th><th style=\"text-align: right;\">  max_depth</th><th style=\"text-align: right;\">  min_rows</th><th>distribution  </th><th>stopping_metric  </th><th style=\"text-align: right;\">  stopping_tolerance</th><th style=\"text-align: right;\">     seed</th><th style=\"text-align: right;\">  sample_rate</th></tr>\n",
       "</thead>\n",
       "<tbody>\n",
       "<tr><td style=\"text-align: right;\">       1</td><td>GBM_grid_1_AutoML_20190418_142243_model_3</td><td style=\"text-align: right;\">       5</td><td style=\"text-align: right;\">          6</td><td style=\"text-align: right;\">         6</td><td>gaussian      </td><td>deviance         </td><td style=\"text-align: right;\">            0.008312</td><td style=\"text-align: right;\">-7.92e+18</td><td style=\"text-align: right;\">          0.6</td></tr>\n",
       "<tr><td style=\"text-align: right;\">       2</td><td>GBM_1_AutoML_20190418_144229             </td><td style=\"text-align: right;\">       5</td><td style=\"text-align: right;\">         15</td><td style=\"text-align: right;\">        15</td><td>gaussian      </td><td>deviance         </td><td style=\"text-align: right;\">            0.008312</td><td style=\"text-align: right;\"> 3.08e+18</td><td style=\"text-align: right;\">          0.8</td></tr>\n",
       "<tr><td style=\"text-align: right;\">       3</td><td>GBM_grid_1_AutoML_20190418_142243_model_2</td><td style=\"text-align: right;\">       5</td><td style=\"text-align: right;\">         10</td><td style=\"text-align: right;\">        10</td><td>gaussian      </td><td>deviance         </td><td style=\"text-align: right;\">            0.008312</td><td style=\"text-align: right;\"> 3.07e+18</td><td style=\"text-align: right;\">          0.7</td></tr>\n",
       "<tr><td style=\"text-align: right;\">       4</td><td>GBM_grid_1_AutoML_20190418_140346_model_3</td><td style=\"text-align: right;\">       5</td><td style=\"text-align: right;\">          4</td><td style=\"text-align: right;\">         4</td><td>gaussian      </td><td>deviance         </td><td style=\"text-align: right;\">            0.008312</td><td style=\"text-align: right;\">-5.29e+18</td><td style=\"text-align: right;\">          0.5</td></tr>\n",
       "<tr><td style=\"text-align: right;\">       5</td><td>GBM_3_AutoML_20190418_140346             </td><td style=\"text-align: right;\">       5</td><td style=\"text-align: right;\">         15</td><td style=\"text-align: right;\">        15</td><td>gaussian      </td><td>deviance         </td><td style=\"text-align: right;\">            0.008312</td><td style=\"text-align: right;\">-7.17e+18</td><td style=\"text-align: right;\">          0.8</td></tr>\n",
       "<tr><td style=\"text-align: right;\">       6</td><td>GBM_5_AutoML_20190418_150256             </td><td style=\"text-align: right;\">       5</td><td style=\"text-align: right;\">         15</td><td style=\"text-align: right;\">        15</td><td>gaussian      </td><td>deviance         </td><td style=\"text-align: right;\">            0.008312</td><td style=\"text-align: right;\">-5.05e+18</td><td style=\"text-align: right;\">          0.8</td></tr>\n",
       "<tr><td style=\"text-align: right;\">       7</td><td>GBM_grid_1_AutoML_20190418_144229_model_4</td><td style=\"text-align: right;\">       5</td><td style=\"text-align: right;\">         12</td><td style=\"text-align: right;\">        12</td><td>gaussian      </td><td>deviance         </td><td style=\"text-align: right;\">            0.008312</td><td style=\"text-align: right;\"> 3.42e+18</td><td style=\"text-align: right;\">          0.6</td></tr>\n",
       "<tr><td style=\"text-align: right;\">       8</td><td>GBM_2_AutoML_20190418_140346             </td><td style=\"text-align: right;\">       5</td><td style=\"text-align: right;\">         15</td><td style=\"text-align: right;\">        15</td><td>gaussian      </td><td>deviance         </td><td style=\"text-align: right;\">            0.008312</td><td style=\"text-align: right;\">-7.17e+18</td><td style=\"text-align: right;\">          0.8</td></tr>\n",
       "<tr><td style=\"text-align: right;\">       9</td><td>GBM_2_AutoML_20190418_144229             </td><td style=\"text-align: right;\">       5</td><td style=\"text-align: right;\">         15</td><td style=\"text-align: right;\">        15</td><td>gaussian      </td><td>deviance         </td><td style=\"text-align: right;\">            0.008312</td><td style=\"text-align: right;\"> 3.08e+18</td><td style=\"text-align: right;\">          0.8</td></tr>\n",
       "<tr><td style=\"text-align: right;\">      10</td><td>GBM_4_AutoML_20190418_142243             </td><td style=\"text-align: right;\">       5</td><td style=\"text-align: right;\">         15</td><td style=\"text-align: right;\">        15</td><td>gaussian      </td><td>deviance         </td><td style=\"text-align: right;\">            0.008312</td><td style=\"text-align: right;\"> 3.67e+18</td><td style=\"text-align: right;\">          0.8</td></tr>\n",
       "<tr><td style=\"text-align: right;\">      11</td><td>GBM_grid_1_AutoML_20190418_144229_model_3</td><td style=\"text-align: right;\">       5</td><td style=\"text-align: right;\">          7</td><td style=\"text-align: right;\">         7</td><td>gaussian      </td><td>deviance         </td><td style=\"text-align: right;\">            0.008312</td><td style=\"text-align: right;\">-7.18e+18</td><td style=\"text-align: right;\">          0.9</td></tr>\n",
       "<tr><td style=\"text-align: right;\">      12</td><td>GBM_grid_1_AutoML_20190418_142243_model_1</td><td style=\"text-align: right;\">       5</td><td style=\"text-align: right;\">          3</td><td style=\"text-align: right;\">         3</td><td>gaussian      </td><td>deviance         </td><td style=\"text-align: right;\">            0.008312</td><td style=\"text-align: right;\">-5.38e+18</td><td style=\"text-align: right;\">          1  </td></tr>\n",
       "<tr><td style=\"text-align: right;\">      13</td><td>GBM_1_AutoML_20190418_140346             </td><td style=\"text-align: right;\">       5</td><td style=\"text-align: right;\">         15</td><td style=\"text-align: right;\">        15</td><td>gaussian      </td><td>deviance         </td><td style=\"text-align: right;\">            0.008312</td><td style=\"text-align: right;\">-7.17e+18</td><td style=\"text-align: right;\">          0.8</td></tr>\n",
       "<tr><td style=\"text-align: right;\">      14</td><td>GBM_grid_1_AutoML_20190418_140346_model_2</td><td style=\"text-align: right;\">       5</td><td style=\"text-align: right;\">          8</td><td style=\"text-align: right;\">         8</td><td>gaussian      </td><td>deviance         </td><td style=\"text-align: right;\">            0.008312</td><td style=\"text-align: right;\">-1.59e+18</td><td style=\"text-align: right;\">          0.7</td></tr>\n",
       "<tr><td style=\"text-align: right;\">      15</td><td>GBM_grid_1_AutoML_20190418_144229_model_1</td><td style=\"text-align: right;\">       5</td><td style=\"text-align: right;\">          8</td><td style=\"text-align: right;\">         8</td><td>gaussian      </td><td>deviance         </td><td style=\"text-align: right;\">            0.008312</td><td style=\"text-align: right;\"> 8.93e+18</td><td style=\"text-align: right;\">          0.6</td></tr>\n",
       "<tr><td style=\"text-align: right;\">      16</td><td>GBM_5_AutoML_20190418_142243             </td><td style=\"text-align: right;\">       5</td><td style=\"text-align: right;\">         15</td><td style=\"text-align: right;\">        15</td><td>gaussian      </td><td>deviance         </td><td style=\"text-align: right;\">            0.008312</td><td style=\"text-align: right;\"> 3.67e+18</td><td style=\"text-align: right;\">          0.8</td></tr>\n",
       "<tr><td style=\"text-align: right;\">      17</td><td>GBM_grid_1_AutoML_20190418_150256_model_5</td><td style=\"text-align: right;\">       5</td><td style=\"text-align: right;\">         10</td><td style=\"text-align: right;\">        10</td><td>gaussian      </td><td>deviance         </td><td style=\"text-align: right;\">            0.008312</td><td style=\"text-align: right;\">-8.3e+18 </td><td style=\"text-align: right;\">          0.9</td></tr>\n",
       "<tr><td style=\"text-align: right;\">      18</td><td>GBM_3_AutoML_20190418_144229             </td><td style=\"text-align: right;\">       5</td><td style=\"text-align: right;\">         15</td><td style=\"text-align: right;\">        15</td><td>gaussian      </td><td>deviance         </td><td style=\"text-align: right;\">            0.008312</td><td style=\"text-align: right;\"> 3.08e+18</td><td style=\"text-align: right;\">          0.8</td></tr>\n",
       "<tr><td style=\"text-align: right;\">      19</td><td>GBM_grid_1_AutoML_20190418_150256_model_2</td><td style=\"text-align: right;\">       5</td><td style=\"text-align: right;\">          5</td><td style=\"text-align: right;\">         5</td><td>gaussian      </td><td>deviance         </td><td style=\"text-align: right;\">            0.008312</td><td style=\"text-align: right;\"> 1.61e+18</td><td style=\"text-align: right;\">          1  </td></tr>\n",
       "<tr><td style=\"text-align: right;\">      20</td><td>GBM_4_AutoML_20190418_150256             </td><td style=\"text-align: right;\">       5</td><td style=\"text-align: right;\">         15</td><td style=\"text-align: right;\">        15</td><td>gaussian      </td><td>deviance         </td><td style=\"text-align: right;\">            0.008312</td><td style=\"text-align: right;\">-5.05e+18</td><td style=\"text-align: right;\">          0.8</td></tr>\n",
       "<tr><td style=\"text-align: right;\">      21</td><td>GBM_4_AutoML_20190418_140346             </td><td style=\"text-align: right;\">       5</td><td style=\"text-align: right;\">         15</td><td style=\"text-align: right;\">        15</td><td>gaussian      </td><td>deviance         </td><td style=\"text-align: right;\">            0.008312</td><td style=\"text-align: right;\">-7.17e+18</td><td style=\"text-align: right;\">          0.8</td></tr>\n",
       "<tr><td style=\"text-align: right;\">      22</td><td>GBM_grid_1_AutoML_20190418_140346_model_4</td><td style=\"text-align: right;\">       5</td><td style=\"text-align: right;\">         12</td><td style=\"text-align: right;\">        12</td><td>gaussian      </td><td>deviance         </td><td style=\"text-align: right;\">            0.008312</td><td style=\"text-align: right;\"> 9.39e+17</td><td style=\"text-align: right;\">          1  </td></tr>\n",
       "<tr><td style=\"text-align: right;\">      23</td><td>GBM_1_AutoML_20190418_142243             </td><td style=\"text-align: right;\">       5</td><td style=\"text-align: right;\">         15</td><td style=\"text-align: right;\">        15</td><td>gaussian      </td><td>deviance         </td><td style=\"text-align: right;\">            0.008312</td><td style=\"text-align: right;\"> 3.67e+18</td><td style=\"text-align: right;\">          0.8</td></tr>\n",
       "<tr><td style=\"text-align: right;\">      24</td><td>GBM_5_AutoML_20190418_140346             </td><td style=\"text-align: right;\">       5</td><td style=\"text-align: right;\">         15</td><td style=\"text-align: right;\">        15</td><td>gaussian      </td><td>deviance         </td><td style=\"text-align: right;\">            0.008312</td><td style=\"text-align: right;\">-7.17e+18</td><td style=\"text-align: right;\">          0.8</td></tr>\n",
       "<tr><td style=\"text-align: right;\">      25</td><td>GBM_grid_1_AutoML_20190418_150256_model_7</td><td style=\"text-align: right;\">       5</td><td style=\"text-align: right;\">         10</td><td style=\"text-align: right;\">        10</td><td>gaussian      </td><td>deviance         </td><td style=\"text-align: right;\">            0.008312</td><td style=\"text-align: right;\"> 5.28e+18</td><td style=\"text-align: right;\">          1  </td></tr>\n",
       "<tr><td style=\"text-align: right;\">      26</td><td>GBM_2_AutoML_20190418_142243             </td><td style=\"text-align: right;\">       5</td><td style=\"text-align: right;\">         15</td><td style=\"text-align: right;\">        15</td><td>gaussian      </td><td>deviance         </td><td style=\"text-align: right;\">            0.008312</td><td style=\"text-align: right;\"> 3.67e+18</td><td style=\"text-align: right;\">          0.8</td></tr>\n",
       "<tr><td style=\"text-align: right;\">      27</td><td>GBM_grid_1_AutoML_20190418_140346_model_1</td><td style=\"text-align: right;\">       5</td><td style=\"text-align: right;\">         16</td><td style=\"text-align: right;\">        16</td><td>gaussian      </td><td>deviance         </td><td style=\"text-align: right;\">            0.008312</td><td style=\"text-align: right;\">-4.67e+17</td><td style=\"text-align: right;\">          0.6</td></tr>\n",
       "<tr><td style=\"text-align: right;\">      28</td><td>GBM_3_AutoML_20190418_142243             </td><td style=\"text-align: right;\">       5</td><td style=\"text-align: right;\">         15</td><td style=\"text-align: right;\">        15</td><td>gaussian      </td><td>deviance         </td><td style=\"text-align: right;\">            0.008312</td><td style=\"text-align: right;\"> 3.67e+18</td><td style=\"text-align: right;\">          0.8</td></tr>\n",
       "<tr><td style=\"text-align: right;\">      29</td><td>GBM_grid_1_AutoML_20190418_144229_model_2</td><td style=\"text-align: right;\">       5</td><td style=\"text-align: right;\">          8</td><td style=\"text-align: right;\">         8</td><td>gaussian      </td><td>deviance         </td><td style=\"text-align: right;\">            0.008312</td><td style=\"text-align: right;\">-5.59e+18</td><td style=\"text-align: right;\">          0.6</td></tr>\n",
       "<tr><td style=\"text-align: right;\">      30</td><td>GBM_4_AutoML_20190418_144229             </td><td style=\"text-align: right;\">       5</td><td style=\"text-align: right;\">         15</td><td style=\"text-align: right;\">        15</td><td>gaussian      </td><td>deviance         </td><td style=\"text-align: right;\">            0.008312</td><td style=\"text-align: right;\"> 3.08e+18</td><td style=\"text-align: right;\">          0.8</td></tr>\n",
       "<tr><td style=\"text-align: right;\">      31</td><td>GBM_5_AutoML_20190418_144229             </td><td style=\"text-align: right;\">       5</td><td style=\"text-align: right;\">         15</td><td style=\"text-align: right;\">        15</td><td>gaussian      </td><td>deviance         </td><td style=\"text-align: right;\">            0.008312</td><td style=\"text-align: right;\"> 3.08e+18</td><td style=\"text-align: right;\">          0.8</td></tr>\n",
       "<tr><td style=\"text-align: right;\">      32</td><td>GBM_grid_1_AutoML_20190418_150256_model_4</td><td style=\"text-align: right;\">       5</td><td style=\"text-align: right;\">          6</td><td style=\"text-align: right;\">         6</td><td>gaussian      </td><td>deviance         </td><td style=\"text-align: right;\">            0.008312</td><td style=\"text-align: right;\">-8.77e+18</td><td style=\"text-align: right;\">          0.7</td></tr>\n",
       "<tr><td style=\"text-align: right;\">      33</td><td>GBM_grid_1_AutoML_20190418_144229_model_5</td><td style=\"text-align: right;\">       5</td><td style=\"text-align: right;\">         13</td><td style=\"text-align: right;\">        13</td><td>gaussian      </td><td>deviance         </td><td style=\"text-align: right;\">            0.008312</td><td style=\"text-align: right;\">-9e+18   </td><td style=\"text-align: right;\">          1  </td></tr>\n",
       "<tr><td style=\"text-align: right;\">      34</td><td>GBM_grid_1_AutoML_20190418_150256_model_1</td><td style=\"text-align: right;\">       5</td><td style=\"text-align: right;\">         10</td><td style=\"text-align: right;\">        10</td><td>gaussian      </td><td>deviance         </td><td style=\"text-align: right;\">            0.008312</td><td style=\"text-align: right;\"> 6.49e+18</td><td style=\"text-align: right;\">          0.6</td></tr>\n",
       "<tr><td style=\"text-align: right;\">      35</td><td>GBM_2_AutoML_20190418_150256             </td><td style=\"text-align: right;\">       5</td><td style=\"text-align: right;\">         15</td><td style=\"text-align: right;\">        15</td><td>gaussian      </td><td>deviance         </td><td style=\"text-align: right;\">            0.008312</td><td style=\"text-align: right;\">-5.05e+18</td><td style=\"text-align: right;\">          0.8</td></tr>\n",
       "<tr><td style=\"text-align: right;\">      36</td><td>GBM_1_AutoML_20190418_150256             </td><td style=\"text-align: right;\">       5</td><td style=\"text-align: right;\">         15</td><td style=\"text-align: right;\">        15</td><td>gaussian      </td><td>deviance         </td><td style=\"text-align: right;\">            0.008312</td><td style=\"text-align: right;\">-5.05e+18</td><td style=\"text-align: right;\">          0.8</td></tr>\n",
       "<tr><td style=\"text-align: right;\">      37</td><td>GBM_grid_1_AutoML_20190418_150256_model_6</td><td style=\"text-align: right;\">       5</td><td style=\"text-align: right;\">         11</td><td style=\"text-align: right;\">        11</td><td>gaussian      </td><td>deviance         </td><td style=\"text-align: right;\">            0.008312</td><td style=\"text-align: right;\"> 1.31e+18</td><td style=\"text-align: right;\">          1  </td></tr>\n",
       "<tr><td style=\"text-align: right;\">      38</td><td>GBM_grid_1_AutoML_20190418_150256_model_3</td><td style=\"text-align: right;\">       5</td><td style=\"text-align: right;\">         11</td><td style=\"text-align: right;\">        11</td><td>gaussian      </td><td>deviance         </td><td style=\"text-align: right;\">            0.008312</td><td style=\"text-align: right;\"> 6.7e+17 </td><td style=\"text-align: right;\">          0.6</td></tr>\n",
       "<tr><td style=\"text-align: right;\">      39</td><td>GBM_3_AutoML_20190418_150256             </td><td style=\"text-align: right;\">       5</td><td style=\"text-align: right;\">         15</td><td style=\"text-align: right;\">        15</td><td>gaussian      </td><td>deviance         </td><td style=\"text-align: right;\">            0.008312</td><td style=\"text-align: right;\">-5.05e+18</td><td style=\"text-align: right;\">          0.8</td></tr>\n",
       "</tbody>\n",
       "</table>"
      ]
     },
     "metadata": {},
     "output_type": "display_data"
    },
    {
     "data": {
      "text/plain": []
     },
     "execution_count": 167,
     "metadata": {},
     "output_type": "execute_result"
    }
   ],
   "source": [
    "df.head(40)"
   ]
  },
  {
   "cell_type": "markdown",
   "metadata": {},
   "source": [
    "Some columns are converted to list for Grid Search "
   ]
  },
  {
   "cell_type": "code",
   "execution_count": 168,
   "metadata": {},
   "outputs": [],
   "source": [
    "pd = df.as_data_frame()\n",
    "minrows = pd['min_rows'].unique().tolist()\n",
    "maxdepth = pd['max_depth'].unique().tolist()\n",
    "sample_rate = pd['sample_rate'].unique().tolist()"
   ]
  },
  {
   "cell_type": "code",
   "execution_count": 170,
   "metadata": {},
   "outputs": [
    {
     "data": {
      "text/plain": [
       "[6, 15, 10, 4, 12, 7, 3, 8, 5, 16, 13, 11]"
      ]
     },
     "execution_count": 170,
     "metadata": {},
     "output_type": "execute_result"
    }
   ],
   "source": [
    "maxdepth"
   ]
  },
  {
   "cell_type": "markdown",
   "metadata": {},
   "source": [
    "__2 Trying to find the range of hyperparameters__"
   ]
  },
  {
   "cell_type": "code",
   "execution_count": 171,
   "metadata": {},
   "outputs": [
    {
     "data": {
      "text/plain": [
       "{'gbm_id': 'int',\n",
       " 'name': 'string',\n",
       " 'nfolds': 'int',\n",
       " 'max_depth': 'int',\n",
       " 'min_rows': 'int',\n",
       " 'distribution': 'enum',\n",
       " 'stopping_metric': 'enum',\n",
       " 'stopping_tolerance': 'real',\n",
       " 'seed': 'int',\n",
       " 'sample_rate': 'real'}"
      ]
     },
     "execution_count": 171,
     "metadata": {},
     "output_type": "execute_result"
    }
   ],
   "source": [
    "df.types"
   ]
  },
  {
   "cell_type": "markdown",
   "metadata": {},
   "source": [
    "Here, we are finding the range of all the column which are numerical and added to a list called ranges."
   ]
  },
  {
   "cell_type": "code",
   "execution_count": 172,
   "metadata": {},
   "outputs": [
    {
     "name": "stdout",
     "output_type": "stream",
     "text": [
      "gbm_id int\n",
      "name string\n",
      "nfolds int\n",
      "max_depth int\n",
      "min_rows int\n",
      "distribution enum\n",
      "stopping_metric enum\n",
      "stopping_tolerance real\n",
      "seed int\n",
      "sample_rate real\n"
     ]
    }
   ],
   "source": [
    "ranges = []\n",
    "for key,val in df.types.items():\n",
    "    print(key,val)\n",
    "    if val == 'int': \n",
    "         ranges.append([key,[df[key].min(),df[key].max()]])\n",
    "    if val == 'real':\n",
    "         ranges.append([key,[df[key].min(),df[key].max()]])"
   ]
  },
  {
   "cell_type": "markdown",
   "metadata": {},
   "source": [
    "Here are the ranges for GBM hyperparameters."
   ]
  },
  {
   "cell_type": "code",
   "execution_count": 173,
   "metadata": {},
   "outputs": [
    {
     "data": {
      "text/plain": [
       "[['gbm_id', [1.0, 39.0]],\n",
       " ['nfolds', [5.0, 5.0]],\n",
       " ['max_depth', [3.0, 16.0]],\n",
       " ['min_rows', [3.0, 16.0]],\n",
       " ['stopping_tolerance', [0.008312003, 0.008312003]],\n",
       " ['seed', [-9e+18, 8.93e+18]],\n",
       " ['sample_rate', [0.5, 1.0]]]"
      ]
     },
     "execution_count": 173,
     "metadata": {},
     "output_type": "execute_result"
    }
   ],
   "source": [
    "ranges"
   ]
  },
  {
   "cell_type": "markdown",
   "metadata": {},
   "source": [
    "__1. Trying to find the important hyperparameters__\n",
    "\n",
    "Only max_depth is passed as it was not working for other parameters."
   ]
  },
  {
   "cell_type": "code",
   "execution_count": 174,
   "metadata": {},
   "outputs": [],
   "source": [
    "from sklearn.ensemble import GradientBoostingRegressor\n",
    "from sklearn.model_selection import GridSearchCV\n",
    "import xgboost as xgb\n",
    "# Create the parameter grid based on the results of random search \n",
    "param_grid = {\n",
    "    'max_depth' : [6, 15, 10, 4, 12, 7, 3, 8, 5, 16, 13, 11],\n",
    "     'nfolds' :  [5.0],\n",
    "    'max_depth': [ 10.0],\n",
    "    'min_rows': [12.0],\n",
    "    'stopping_tolerance' : [0.008312003],\n",
    "     'seed': [90000],\n",
    "     'sample_rate': [0.8]\n",
    "\n",
    "}\n",
    "# Create a based model\n",
    "rgs = GradientBoostingRegressor()\n",
    "# Instantiate the grid search model\n",
    "gbm = GridSearchCV(estimator = rgs, param_grid = param_grid, \n",
    "                          cv = 3, n_jobs = -1, verbose = 2)"
   ]
  },
  {
   "cell_type": "code",
   "execution_count": 176,
   "metadata": {},
   "outputs": [
    {
     "ename": "ValueError",
     "evalue": "Found input variables with inconsistent numbers of samples: [30, 5]",
     "output_type": "error",
     "traceback": [
      "\u001b[0;31m---------------------------------------------------------------------------\u001b[0m",
      "\u001b[0;31mValueError\u001b[0m                                Traceback (most recent call last)",
      "\u001b[0;32m<ipython-input-176-d32e20e3bdb8>\u001b[0m in \u001b[0;36m<module>\u001b[0;34m\u001b[0m\n\u001b[0;32m----> 1\u001b[0;31m \u001b[0mres\u001b[0m \u001b[0;34m=\u001b[0m \u001b[0mgbm\u001b[0m\u001b[0;34m.\u001b[0m\u001b[0mfit\u001b[0m\u001b[0;34m(\u001b[0m\u001b[0mx\u001b[0m\u001b[0;34m,\u001b[0m\u001b[0my\u001b[0m\u001b[0;34m)\u001b[0m\u001b[0;34m\u001b[0m\u001b[0;34m\u001b[0m\u001b[0m\n\u001b[0m",
      "\u001b[0;32m/anaconda3/lib/python3.7/site-packages/sklearn/model_selection/_search.py\u001b[0m in \u001b[0;36mfit\u001b[0;34m(self, X, y, groups, **fit_params)\u001b[0m\n\u001b[1;32m    672\u001b[0m             \u001b[0mrefit_metric\u001b[0m \u001b[0;34m=\u001b[0m \u001b[0;34m'score'\u001b[0m\u001b[0;34m\u001b[0m\u001b[0;34m\u001b[0m\u001b[0m\n\u001b[1;32m    673\u001b[0m \u001b[0;34m\u001b[0m\u001b[0m\n\u001b[0;32m--> 674\u001b[0;31m         \u001b[0mX\u001b[0m\u001b[0;34m,\u001b[0m \u001b[0my\u001b[0m\u001b[0;34m,\u001b[0m \u001b[0mgroups\u001b[0m \u001b[0;34m=\u001b[0m \u001b[0mindexable\u001b[0m\u001b[0;34m(\u001b[0m\u001b[0mX\u001b[0m\u001b[0;34m,\u001b[0m \u001b[0my\u001b[0m\u001b[0;34m,\u001b[0m \u001b[0mgroups\u001b[0m\u001b[0;34m)\u001b[0m\u001b[0;34m\u001b[0m\u001b[0;34m\u001b[0m\u001b[0m\n\u001b[0m\u001b[1;32m    675\u001b[0m         \u001b[0mn_splits\u001b[0m \u001b[0;34m=\u001b[0m \u001b[0mcv\u001b[0m\u001b[0;34m.\u001b[0m\u001b[0mget_n_splits\u001b[0m\u001b[0;34m(\u001b[0m\u001b[0mX\u001b[0m\u001b[0;34m,\u001b[0m \u001b[0my\u001b[0m\u001b[0;34m,\u001b[0m \u001b[0mgroups\u001b[0m\u001b[0;34m)\u001b[0m\u001b[0;34m\u001b[0m\u001b[0;34m\u001b[0m\u001b[0m\n\u001b[1;32m    676\u001b[0m \u001b[0;34m\u001b[0m\u001b[0m\n",
      "\u001b[0;32m/anaconda3/lib/python3.7/site-packages/sklearn/utils/validation.py\u001b[0m in \u001b[0;36mindexable\u001b[0;34m(*iterables)\u001b[0m\n\u001b[1;32m    258\u001b[0m         \u001b[0;32melse\u001b[0m\u001b[0;34m:\u001b[0m\u001b[0;34m\u001b[0m\u001b[0;34m\u001b[0m\u001b[0m\n\u001b[1;32m    259\u001b[0m             \u001b[0mresult\u001b[0m\u001b[0;34m.\u001b[0m\u001b[0mappend\u001b[0m\u001b[0;34m(\u001b[0m\u001b[0mnp\u001b[0m\u001b[0;34m.\u001b[0m\u001b[0marray\u001b[0m\u001b[0;34m(\u001b[0m\u001b[0mX\u001b[0m\u001b[0;34m)\u001b[0m\u001b[0;34m)\u001b[0m\u001b[0;34m\u001b[0m\u001b[0;34m\u001b[0m\u001b[0m\n\u001b[0;32m--> 260\u001b[0;31m     \u001b[0mcheck_consistent_length\u001b[0m\u001b[0;34m(\u001b[0m\u001b[0;34m*\u001b[0m\u001b[0mresult\u001b[0m\u001b[0;34m)\u001b[0m\u001b[0;34m\u001b[0m\u001b[0;34m\u001b[0m\u001b[0m\n\u001b[0m\u001b[1;32m    261\u001b[0m     \u001b[0;32mreturn\u001b[0m \u001b[0mresult\u001b[0m\u001b[0;34m\u001b[0m\u001b[0;34m\u001b[0m\u001b[0m\n\u001b[1;32m    262\u001b[0m \u001b[0;34m\u001b[0m\u001b[0m\n",
      "\u001b[0;32m/anaconda3/lib/python3.7/site-packages/sklearn/utils/validation.py\u001b[0m in \u001b[0;36mcheck_consistent_length\u001b[0;34m(*arrays)\u001b[0m\n\u001b[1;32m    233\u001b[0m     \u001b[0;32mif\u001b[0m \u001b[0mlen\u001b[0m\u001b[0;34m(\u001b[0m\u001b[0muniques\u001b[0m\u001b[0;34m)\u001b[0m \u001b[0;34m>\u001b[0m \u001b[0;36m1\u001b[0m\u001b[0;34m:\u001b[0m\u001b[0;34m\u001b[0m\u001b[0;34m\u001b[0m\u001b[0m\n\u001b[1;32m    234\u001b[0m         raise ValueError(\"Found input variables with inconsistent numbers of\"\n\u001b[0;32m--> 235\u001b[0;31m                          \" samples: %r\" % [int(l) for l in lengths])\n\u001b[0m\u001b[1;32m    236\u001b[0m \u001b[0;34m\u001b[0m\u001b[0m\n\u001b[1;32m    237\u001b[0m \u001b[0;34m\u001b[0m\u001b[0m\n",
      "\u001b[0;31mValueError\u001b[0m: Found input variables with inconsistent numbers of samples: [30, 5]"
     ]
    }
   ],
   "source": [
    "res = gbm.fit(x,y)"
   ]
  },
  {
   "cell_type": "markdown",
   "metadata": {},
   "source": [
    "The best hyperparameter value for max_depth is found to be 5 "
   ]
  },
  {
   "cell_type": "code",
   "execution_count": 184,
   "metadata": {},
   "outputs": [
    {
     "data": {
      "text/plain": [
       "{'max_depth': 5}"
      ]
     },
     "execution_count": 184,
     "metadata": {},
     "output_type": "execute_result"
    }
   ],
   "source": [
    "gbm.best_params_"
   ]
  },
  {
   "cell_type": "code",
   "execution_count": 185,
   "metadata": {},
   "outputs": [
    {
     "name": "stdout",
     "output_type": "stream",
     "text": [
      "0.774989 (0.047958) with: {'max_depth': 6}\n",
      "0.725470 (0.069039) with: {'max_depth': 15}\n",
      "0.768193 (0.049578) with: {'max_depth': 10}\n",
      "0.777660 (0.030956) with: {'max_depth': 4}\n",
      "0.755503 (0.052856) with: {'max_depth': 12}\n",
      "0.776038 (0.047122) with: {'max_depth': 7}\n",
      "0.771216 (0.027889) with: {'max_depth': 3}\n",
      "0.777515 (0.042712) with: {'max_depth': 8}\n",
      "0.784473 (0.027866) with: {'max_depth': 5}\n",
      "0.721390 (0.066199) with: {'max_depth': 16}\n",
      "0.746037 (0.059102) with: {'max_depth': 13}\n",
      "0.762322 (0.051540) with: {'max_depth': 11}\n"
     ]
    }
   ],
   "source": [
    "means = res.cv_results_['mean_test_score']\n",
    "stds = res.cv_results_['']\n",
    "params = res.cv_results_['params']\n",
    "for mean, stdev, param in zip(means, stds, params):\n",
    "\tprint(\"%f (%f) with: %r\" % (mean, stdev, param))\n",
    "    \n",
    "    \n",
    "    "
   ]
  },
  {
   "cell_type": "markdown",
   "metadata": {},
   "source": [
    "__GLM__"
   ]
  },
  {
   "cell_type": "code",
   "execution_count": 151,
   "metadata": {},
   "outputs": [
    {
     "name": "stdout",
     "output_type": "stream",
     "text": [
      "Parse progress: |█████████████████████████████████████████████████████████| 100%\n"
     ]
    }
   ],
   "source": [
    "df_anime = h2o.import_file(path=\"anime_filtered.csv\")"
   ]
  },
  {
   "cell_type": "code",
   "execution_count": 152,
   "metadata": {},
   "outputs": [],
   "source": [
    "X =df_anime\n",
    "def check_X(x,df):\n",
    "    for name in x:\n",
    "        if name not in df.columns:\n",
    "            x.remove(name)  \n",
    "    return x    \n",
    "\n",
    "X=check_X(X,df_anime)"
   ]
  },
  {
   "cell_type": "markdown",
   "metadata": {},
   "source": [
    "GLM hyperparameters file is imported for analysis."
   ]
  },
  {
   "cell_type": "code",
   "execution_count": 153,
   "metadata": {},
   "outputs": [
    {
     "name": "stdout",
     "output_type": "stream",
     "text": [
      "Parse progress: |█████████████████████████████████████████████████████████| 100%\n"
     ]
    }
   ],
   "source": [
    "#importing the file\n",
    "df = h2o.import_file(path=\"GLM.csv\")"
   ]
  },
  {
   "cell_type": "code",
   "execution_count": 154,
   "metadata": {},
   "outputs": [
    {
     "data": {
      "text/html": [
       "<table>\n",
       "<thead>\n",
       "<tr><th style=\"text-align: right;\">  glm_id</th><th>name                                     </th><th style=\"text-align: right;\">  nfolds</th><th style=\"text-align: right;\">     seed</th><th>solver  </th><th>kc_val_mo  </th><th>kc_val_pr  </th><th>fold_assignment  </th><th>lambda_search  </th><th style=\"text-align: right;\">  max_iterations</th><th style=\"text-align: right;\">  objective_epsilon</th><th style=\"text-align: right;\">  gradient_epsilon</th><th>link    </th><th style=\"text-align: right;\">  lambda_min_ratio</th><th style=\"text-align: right;\">  obj_reg</th></tr>\n",
       "</thead>\n",
       "<tbody>\n",
       "<tr><td style=\"text-align: right;\">       1</td><td>GLM_grid_1_AutoML_20190418_132524_model_1</td><td style=\"text-align: right;\">       5</td><td style=\"text-align: right;\"> 3.52e+18</td><td>L_BFGS  </td><td>FALSE      </td><td>TRUE       </td><td>Modulo           </td><td>TRUE           </td><td style=\"text-align: right;\">             300</td><td style=\"text-align: right;\">                300</td><td style=\"text-align: right;\">             1e-06</td><td>identity</td><td style=\"text-align: right;\">            0.0001</td><td style=\"text-align: right;\"> 6.91e-05</td></tr>\n",
       "<tr><td style=\"text-align: right;\">       2</td><td>GLM_grid_1_AutoML_20190418_135050_model_1</td><td style=\"text-align: right;\">       5</td><td style=\"text-align: right;\">-7.58e+16</td><td>L_BFGS  </td><td>FALSE      </td><td>TRUE       </td><td>Modulo           </td><td>TRUE           </td><td style=\"text-align: right;\">             300</td><td style=\"text-align: right;\">                300</td><td style=\"text-align: right;\">             1e-06</td><td>identity</td><td style=\"text-align: right;\">            0.0001</td><td style=\"text-align: right;\"> 6.91e-05</td></tr>\n",
       "<tr><td style=\"text-align: right;\">       3</td><td>GLM_grid_1_AutoML_20190418_140346_model_1</td><td style=\"text-align: right;\">       5</td><td style=\"text-align: right;\"> 6.09e+18</td><td>L_BFGS  </td><td>FALSE      </td><td>TRUE       </td><td>Modulo           </td><td>TRUE           </td><td style=\"text-align: right;\">             300</td><td style=\"text-align: right;\">                300</td><td style=\"text-align: right;\">             1e-06</td><td>identity</td><td style=\"text-align: right;\">            0.0001</td><td style=\"text-align: right;\"> 6.91e-05</td></tr>\n",
       "<tr><td style=\"text-align: right;\">       4</td><td>GLM_grid_1_AutoML_20190418_142243_model_1</td><td style=\"text-align: right;\">       5</td><td style=\"text-align: right;\"> 4.02e+18</td><td>L_BFGS  </td><td>FALSE      </td><td>TRUE       </td><td>Modulo           </td><td>TRUE           </td><td style=\"text-align: right;\">             300</td><td style=\"text-align: right;\">                300</td><td style=\"text-align: right;\">             1e-06</td><td>identity</td><td style=\"text-align: right;\">            0.0001</td><td style=\"text-align: right;\"> 6.91e-05</td></tr>\n",
       "<tr><td style=\"text-align: right;\">       5</td><td>GLM_grid_1_AutoML_20190418_144229_model_1</td><td style=\"text-align: right;\">       5</td><td style=\"text-align: right;\"> 6.33e+18</td><td>L_BFGS  </td><td>FALSE      </td><td>TRUE       </td><td>Modulo           </td><td>TRUE           </td><td style=\"text-align: right;\">             300</td><td style=\"text-align: right;\">                300</td><td style=\"text-align: right;\">             1e-06</td><td>identity</td><td style=\"text-align: right;\">            0.0001</td><td style=\"text-align: right;\"> 6.91e-05</td></tr>\n",
       "<tr><td style=\"text-align: right;\">       6</td><td>GLM_grid_1_AutoML_20190418_150256_model_1</td><td style=\"text-align: right;\">       5</td><td style=\"text-align: right;\">-5.91e+18</td><td>L_BFGS  </td><td>FALSE      </td><td>TRUE       </td><td>Modulo           </td><td>TRUE           </td><td style=\"text-align: right;\">             300</td><td style=\"text-align: right;\">                300</td><td style=\"text-align: right;\">             1e-06</td><td>identity</td><td style=\"text-align: right;\">            0.0001</td><td style=\"text-align: right;\"> 6.91e-05</td></tr>\n",
       "</tbody>\n",
       "</table>"
      ]
     },
     "metadata": {},
     "output_type": "display_data"
    },
    {
     "data": {
      "text/plain": []
     },
     "execution_count": 154,
     "metadata": {},
     "output_type": "execute_result"
    }
   ],
   "source": [
    "df.head()"
   ]
  },
  {
   "cell_type": "markdown",
   "metadata": {},
   "source": [
    "__2 Trying to find the range of hyperparameters__"
   ]
  },
  {
   "cell_type": "code",
   "execution_count": 155,
   "metadata": {},
   "outputs": [
    {
     "data": {
      "text/plain": [
       "{'glm_id': 'int',\n",
       " 'name': 'string',\n",
       " 'nfolds': 'int',\n",
       " 'seed': 'int',\n",
       " 'solver': 'enum',\n",
       " 'kc_val_mo': 'enum',\n",
       " 'kc_val_pr': 'enum',\n",
       " 'fold_assignment': 'enum',\n",
       " 'lambda_search': 'enum',\n",
       " 'max_iterations': 'int',\n",
       " 'objective_epsilon': 'int',\n",
       " 'gradient_epsilon': 'real',\n",
       " 'link': 'enum',\n",
       " 'lambda_min_ratio': 'real',\n",
       " 'obj_reg': 'real'}"
      ]
     },
     "execution_count": 155,
     "metadata": {},
     "output_type": "execute_result"
    }
   ],
   "source": [
    "df.types"
   ]
  },
  {
   "cell_type": "markdown",
   "metadata": {},
   "source": [
    "Here, we are finding the range of all the column which are numerical and added to a list called ranges."
   ]
  },
  {
   "cell_type": "code",
   "execution_count": 156,
   "metadata": {},
   "outputs": [
    {
     "name": "stdout",
     "output_type": "stream",
     "text": [
      "glm_id int\n",
      "name string\n",
      "nfolds int\n",
      "seed int\n",
      "solver enum\n",
      "kc_val_mo enum\n",
      "kc_val_pr enum\n",
      "fold_assignment enum\n",
      "lambda_search enum\n",
      "max_iterations int\n",
      "objective_epsilon int\n",
      "gradient_epsilon real\n",
      "link enum\n",
      "lambda_min_ratio real\n",
      "obj_reg real\n"
     ]
    }
   ],
   "source": [
    "ranges = []\n",
    "for key,val in df.types.items():\n",
    "    print(key,val)\n",
    "    if val == 'int': \n",
    "         ranges.append([key,[df[key].min(),df[key].max()]])\n",
    "    if val == 'real':\n",
    "         ranges.append([key,[df[key].min(),df[key].max()]])"
   ]
  },
  {
   "cell_type": "code",
   "execution_count": 157,
   "metadata": {},
   "outputs": [
    {
     "data": {
      "text/plain": [
       "[['glm_id', [1.0, 6.0]],\n",
       " ['nfolds', [5.0, 5.0]],\n",
       " ['seed', [-5.91e+18, 6.33e+18]],\n",
       " ['max_iterations', [300.0, 300.0]],\n",
       " ['objective_epsilon', [300.0, 300.0]],\n",
       " ['gradient_epsilon', [1e-06, 1e-06]],\n",
       " ['lambda_min_ratio', [0.0001, 0.0001]],\n",
       " ['obj_reg', [6.91e-05, 6.91e-05]]]"
      ]
     },
     "execution_count": 157,
     "metadata": {},
     "output_type": "execute_result"
    }
   ],
   "source": [
    "ranges"
   ]
  },
  {
   "cell_type": "code",
   "execution_count": 116,
   "metadata": {},
   "outputs": [],
   "source": [
    "param_grid = {\n",
    "    'stopping_rounds': [3],\n",
    "    'seed' : [-500000, -1000, 10, 800, 1000, 20000, 600000]\n",
    "}"
   ]
  },
  {
   "cell_type": "code",
   "execution_count": 117,
   "metadata": {},
   "outputs": [
    {
     "name": "stdout",
     "output_type": "stream",
     "text": [
      "Parse progress: |█████████████████████████████████████████████████████████| 100%\n"
     ]
    }
   ],
   "source": [
    "df_anime = h2o.import_file(path='anime_filtered.csv')\n",
    "x = [name for name in df_anime.columns if name != 'score']\n",
    "y='score'\n"
   ]
  },
  {
   "cell_type": "code",
   "execution_count": 118,
   "metadata": {},
   "outputs": [],
   "source": [
    "from h2o.estimators import H2OGeneralizedLinearEstimator\n",
    "from h2o.grid.grid_search import H2OGridSearch\n",
    "# Train and validate a cartesian grid of GBMs\n",
    "drf_grid1 = H2OGridSearch(model=H2OGeneralizedLinearEstimator,\n",
    "                         hyper_params=param_grid)"
   ]
  },
  {
   "cell_type": "code",
   "execution_count": 119,
   "metadata": {},
   "outputs": [
    {
     "name": "stdout",
     "output_type": "stream",
     "text": [
      "glm Grid Build progress: |████████████████████████████████████████████████| 100%\n"
     ]
    }
   ],
   "source": [
    "drf_grid1.train(x,y, training_frame=df_anime)"
   ]
  },
  {
   "cell_type": "code",
   "execution_count": 121,
   "metadata": {},
   "outputs": [
    {
     "name": "stdout",
     "output_type": "stream",
     "text": [
      "        seed stopping_rounds  \\\n",
      "0         10               3   \n",
      "1      20000               3   \n",
      "2     600000               3   \n",
      "3    -500000               3   \n",
      "4       1000               3   \n",
      "5        800               3   \n",
      "6      -1000               3   \n",
      "\n",
      "                                                           model_ids  \\\n",
      "0  Grid_GLM_anime_filtered8.hex_model_python_1556327508338_6_model_3   \n",
      "1  Grid_GLM_anime_filtered8.hex_model_python_1556327508338_6_model_6   \n",
      "2  Grid_GLM_anime_filtered8.hex_model_python_1556327508338_6_model_7   \n",
      "3  Grid_GLM_anime_filtered8.hex_model_python_1556327508338_6_model_1   \n",
      "4  Grid_GLM_anime_filtered8.hex_model_python_1556327508338_6_model_5   \n",
      "5  Grid_GLM_anime_filtered8.hex_model_python_1556327508338_6_model_4   \n",
      "6  Grid_GLM_anime_filtered8.hex_model_python_1556327508338_6_model_2   \n",
      "\n",
      "                 rmse  \n",
      "0  1.0619433240997063  \n",
      "1  1.0619433240997063  \n",
      "2  1.0619433240997063  \n",
      "3  1.0619433240997063  \n",
      "4  1.0619433240997063  \n",
      "5  1.0619433240997063  \n",
      "6  1.0619433240997063  \n"
     ]
    },
    {
     "data": {
      "text/plain": []
     },
     "execution_count": 121,
     "metadata": {},
     "output_type": "execute_result"
    }
   ],
   "source": [
    "drf_grid1 = drf_grid1.get_grid(sort_by='rmse')\n",
    "drf_grid1"
   ]
  },
  {
   "cell_type": "markdown",
   "metadata": {},
   "source": [
    "__From the above scenario we can indicate that as the with the change of seed hyperparameter for the GLM model, there is no change in the RMSE value.RMSE value comes out to be constant. Therefore, we can say that, seed is not an important hyperparameter for the the GLM model!__"
   ]
  },
  {
   "cell_type": "markdown",
   "metadata": {},
   "source": [
    "__XRT__\n",
    "\n",
    "Importing XRT hyperparameter file for the analysis."
   ]
  },
  {
   "cell_type": "code",
   "execution_count": 158,
   "metadata": {},
   "outputs": [
    {
     "name": "stdout",
     "output_type": "stream",
     "text": [
      "Parse progress: |█████████████████████████████████████████████████████████| 100%\n"
     ]
    }
   ],
   "source": [
    "#importing the file\n",
    "df = h2o.import_file(path=\"XRT.csv\")"
   ]
  },
  {
   "cell_type": "code",
   "execution_count": 159,
   "metadata": {},
   "outputs": [
    {
     "data": {
      "text/html": [
       "<table>\n",
       "<thead>\n",
       "<tr><th style=\"text-align: right;\">  xrt_id</th><th>name                        </th><th style=\"text-align: right;\">  nfolds</th><th style=\"text-align: right;\">     seed</th><th>kc_val_mo  </th><th>kc_val_pr  </th><th>fold_assignment  </th><th style=\"text-align: right;\">  ntrees</th><th style=\"text-align: right;\">  distributionstopping_metric</th><th style=\"text-align: right;\">  stopping_tolerance</th><th>histogram_type  </th></tr>\n",
       "</thead>\n",
       "<tbody>\n",
       "<tr><td style=\"text-align: right;\">       1</td><td>XRT_1_AutoML_20190418_132524</td><td style=\"text-align: right;\">       5</td><td style=\"text-align: right;\">-6.68e+18</td><td>FALSE      </td><td>TRUE       </td><td>Modulo           </td><td style=\"text-align: right;\">      32</td><td style=\"text-align: right;\">                          nan</td><td style=\"text-align: right;\">            0.008312</td><td>Random          </td></tr>\n",
       "<tr><td style=\"text-align: right;\">       2</td><td>XRT_1_AutoML_20190418_135050</td><td style=\"text-align: right;\">       5</td><td style=\"text-align: right;\"> 6.82e+18</td><td>FALSE      </td><td>TRUE       </td><td>Modulo           </td><td style=\"text-align: right;\">      46</td><td style=\"text-align: right;\">                          nan</td><td style=\"text-align: right;\">            0.008312</td><td>Random          </td></tr>\n",
       "<tr><td style=\"text-align: right;\">       3</td><td>XRT_1_AutoML_20190418_140346</td><td style=\"text-align: right;\">       5</td><td style=\"text-align: right;\"> 6.72e+18</td><td>FALSE      </td><td>TRUE       </td><td>Modulo           </td><td style=\"text-align: right;\">      14</td><td style=\"text-align: right;\">                          nan</td><td style=\"text-align: right;\">            0.008312</td><td>Random          </td></tr>\n",
       "<tr><td style=\"text-align: right;\">       4</td><td>XRT_1_AutoML_20190418_142243</td><td style=\"text-align: right;\">       5</td><td style=\"text-align: right;\"> 2.63e+18</td><td>FALSE      </td><td>TRUE       </td><td>Modulo           </td><td style=\"text-align: right;\">      18</td><td style=\"text-align: right;\">                          nan</td><td style=\"text-align: right;\">            0.008312</td><td>Random          </td></tr>\n",
       "<tr><td style=\"text-align: right;\">       5</td><td>XRT_1_AutoML_20190418_144229</td><td style=\"text-align: right;\">       5</td><td style=\"text-align: right;\"> 2.04e+18</td><td>FALSE      </td><td>TRUE       </td><td>Modulo           </td><td style=\"text-align: right;\">      50</td><td style=\"text-align: right;\">                          nan</td><td style=\"text-align: right;\">            0.008312</td><td>Random          </td></tr>\n",
       "<tr><td style=\"text-align: right;\">       6</td><td>XRT_1_AutoML_20190418_150256</td><td style=\"text-align: right;\">       5</td><td style=\"text-align: right;\">-7.04e+18</td><td>FALSE      </td><td>TRUE       </td><td>Modulo           </td><td style=\"text-align: right;\">      50</td><td style=\"text-align: right;\">                          nan</td><td style=\"text-align: right;\">            0.008312</td><td>Random          </td></tr>\n",
       "</tbody>\n",
       "</table>"
      ]
     },
     "metadata": {},
     "output_type": "display_data"
    },
    {
     "data": {
      "text/plain": []
     },
     "execution_count": 159,
     "metadata": {},
     "output_type": "execute_result"
    }
   ],
   "source": [
    "df.head()"
   ]
  },
  {
   "cell_type": "markdown",
   "metadata": {},
   "source": [
    "Stored the values of ntrees values in list for Grid Search"
   ]
  },
  {
   "cell_type": "code",
   "execution_count": 160,
   "metadata": {},
   "outputs": [],
   "source": [
    "pd = df.as_data_frame()\n",
    "ntrees = pd['ntrees'].unique().tolist()\n"
   ]
  },
  {
   "cell_type": "markdown",
   "metadata": {},
   "source": [
    "__2 Trying to find the range of hyperparameters__"
   ]
  },
  {
   "cell_type": "code",
   "execution_count": 161,
   "metadata": {},
   "outputs": [
    {
     "data": {
      "text/plain": [
       "{'xrt_id': 'int',\n",
       " 'name': 'string',\n",
       " 'nfolds': 'int',\n",
       " 'seed': 'int',\n",
       " 'kc_val_mo': 'enum',\n",
       " 'kc_val_pr': 'enum',\n",
       " 'fold_assignment': 'enum',\n",
       " 'ntrees': 'int',\n",
       " 'distributionstopping_metric': 'int',\n",
       " 'stopping_tolerance': 'real',\n",
       " 'histogram_type': 'enum'}"
      ]
     },
     "execution_count": 161,
     "metadata": {},
     "output_type": "execute_result"
    }
   ],
   "source": [
    "df.types"
   ]
  },
  {
   "cell_type": "markdown",
   "metadata": {},
   "source": [
    "Here, we are finding the range of all the column which are numerical and added to a list called ranges."
   ]
  },
  {
   "cell_type": "code",
   "execution_count": 162,
   "metadata": {},
   "outputs": [
    {
     "name": "stdout",
     "output_type": "stream",
     "text": [
      "xrt_id int\n",
      "name string\n",
      "nfolds int\n",
      "seed int\n",
      "kc_val_mo enum\n",
      "kc_val_pr enum\n",
      "fold_assignment enum\n",
      "ntrees int\n",
      "distributionstopping_metric int\n",
      "stopping_tolerance real\n",
      "histogram_type enum\n"
     ]
    }
   ],
   "source": [
    "ranges = []\n",
    "for key,val in df.types.items():\n",
    "    print(key,val)\n",
    "    if val == 'int': \n",
    "         ranges.append([key,[df[key].min(),df[key].max()]])\n",
    "    if val == 'real':\n",
    "         ranges.append([key,[df[key].min(),df[key].max()]])"
   ]
  },
  {
   "cell_type": "code",
   "execution_count": 163,
   "metadata": {},
   "outputs": [
    {
     "data": {
      "text/plain": [
       "[['xrt_id', [1.0, 6.0]],\n",
       " ['nfolds', [5.0, 5.0]],\n",
       " ['seed', [-7.04e+18, 6.82e+18]],\n",
       " ['ntrees', [14.0, 50.0]],\n",
       " ['distributionstopping_metric', [nan, nan]],\n",
       " ['stopping_tolerance', [0.008312003, 0.008312003]]]"
      ]
     },
     "execution_count": 163,
     "metadata": {},
     "output_type": "execute_result"
    }
   ],
   "source": [
    "ranges"
   ]
  },
  {
   "cell_type": "markdown",
   "metadata": {},
   "source": [
    "Tried to do Grid Search to find important hyperparameter in ntrees for XRT model but it did not work and as per H2O documentation, they have not defined hypeparameters for the XRT model"
   ]
  },
  {
   "cell_type": "code",
   "execution_count": 164,
   "metadata": {},
   "outputs": [],
   "source": [
    "from sklearn.ensemble import ExtraTreesRegressor\n",
    "from sklearn.model_selection import GridSearchCV\n",
    "# Create the parameter grid based on the results of random search \n",
    "param_grid = {\n",
    "    'ntrees' : [32, 46, 14, 18, 50]\n",
    "\n",
    "}\n",
    "# Create a based model\n",
    "etr = ExtraTreesRegressor()\n",
    "# Instantiate the grid search model\n",
    "reg = GridSearchCV(estimator = etr, param_grid = param_grid, \n",
    "                          cv = 3, n_jobs = -1, verbose = 2)"
   ]
  },
  {
   "cell_type": "code",
   "execution_count": 165,
   "metadata": {},
   "outputs": [
    {
     "ename": "AttributeError",
     "evalue": "'GridSearchCV' object has no attribute 'best_params_'",
     "output_type": "error",
     "traceback": [
      "\u001b[0;31m---------------------------------------------------------------------------\u001b[0m",
      "\u001b[0;31mAttributeError\u001b[0m                            Traceback (most recent call last)",
      "\u001b[0;32m<ipython-input-165-1460b78bc3bb>\u001b[0m in \u001b[0;36m<module>\u001b[0;34m\u001b[0m\n\u001b[0;32m----> 1\u001b[0;31m \u001b[0mreg\u001b[0m\u001b[0;34m.\u001b[0m\u001b[0mbest_params_\u001b[0m\u001b[0;34m\u001b[0m\u001b[0;34m\u001b[0m\u001b[0m\n\u001b[0m",
      "\u001b[0;31mAttributeError\u001b[0m: 'GridSearchCV' object has no attribute 'best_params_'"
     ]
    }
   ],
   "source": [
    "reg.best_params_"
   ]
  },
  {
   "cell_type": "markdown",
   "metadata": {},
   "source": [
    "__DRF__"
   ]
  },
  {
   "cell_type": "code",
   "execution_count": 139,
   "metadata": {},
   "outputs": [
    {
     "name": "stdout",
     "output_type": "stream",
     "text": [
      "Parse progress: |█████████████████████████████████████████████████████████| 100%\n"
     ]
    }
   ],
   "source": [
    "#importing the file\n",
    "df = h2o.import_file(path=\"DRF.csv\")"
   ]
  },
  {
   "cell_type": "code",
   "execution_count": 140,
   "metadata": {},
   "outputs": [
    {
     "data": {
      "text/html": [
       "<table>\n",
       "<thead>\n",
       "<tr><th style=\"text-align: right;\">  drf_id</th><th>name                        </th><th style=\"text-align: right;\">  nfolds</th><th>keep_cross_validation_models  </th><th>keep_cross_validation_predictions  </th><th>fold_assignment  </th><th>stopping_metric  </th><th style=\"text-align: right;\">  stopping_tolerance</th><th style=\"text-align: right;\">     seed</th><th>distribution  </th></tr>\n",
       "</thead>\n",
       "<tbody>\n",
       "<tr><td style=\"text-align: right;\">       1</td><td>DRF_1_AutoML_20190418_132524</td><td style=\"text-align: right;\">       5</td><td>FALSE                         </td><td>TRUE                               </td><td>Modulo           </td><td>AUTO             </td><td style=\"text-align: right;\">            0.008312</td><td style=\"text-align: right;\">-6.25e+18</td><td>gaussian      </td></tr>\n",
       "<tr><td style=\"text-align: right;\">       2</td><td>DRF_1_AutoML_20190418_135050</td><td style=\"text-align: right;\">       5</td><td>FALSE                         </td><td>TRUE                               </td><td>Modulo           </td><td>deviance         </td><td style=\"text-align: right;\">            0.008312</td><td style=\"text-align: right;\">-4.44e+18</td><td>gaussian      </td></tr>\n",
       "<tr><td style=\"text-align: right;\">       3</td><td>DRF_1_AutoML_20190418_140346</td><td style=\"text-align: right;\">       5</td><td>FALSE                         </td><td>TRUE                               </td><td>Modulo           </td><td>deviance         </td><td style=\"text-align: right;\">            0.008312</td><td style=\"text-align: right;\"> 2.36e+18</td><td>gaussian      </td></tr>\n",
       "<tr><td style=\"text-align: right;\">       4</td><td>DRF_1_AutoML_20190418_142243</td><td style=\"text-align: right;\">       5</td><td>FALSE                         </td><td>TRUE                               </td><td>Modulo           </td><td>deviance         </td><td style=\"text-align: right;\">            0.008312</td><td style=\"text-align: right;\">-1.13e+18</td><td>gaussian      </td></tr>\n",
       "<tr><td style=\"text-align: right;\">       5</td><td>DRF_1_AutoML_20190418_144229</td><td style=\"text-align: right;\">       5</td><td>FALSE                         </td><td>TRUE                               </td><td>Modulo           </td><td>deviance         </td><td style=\"text-align: right;\">            0.008312</td><td style=\"text-align: right;\"> 3.86e+18</td><td>gaussian      </td></tr>\n",
       "<tr><td style=\"text-align: right;\">       6</td><td>DRF_1_AutoML_20190418_150256</td><td style=\"text-align: right;\">       5</td><td>FALSE                         </td><td>TRUE                               </td><td>Modulo           </td><td>deviance         </td><td style=\"text-align: right;\">            0.008312</td><td style=\"text-align: right;\"> 8.56e+18</td><td>gaussian      </td></tr>\n",
       "</tbody>\n",
       "</table>"
      ]
     },
     "metadata": {},
     "output_type": "display_data"
    },
    {
     "data": {
      "text/plain": []
     },
     "execution_count": 140,
     "metadata": {},
     "output_type": "execute_result"
    }
   ],
   "source": [
    "df.head()"
   ]
  },
  {
   "cell_type": "markdown",
   "metadata": {},
   "source": [
    "__2 Trying to find the range of hyperparameters__"
   ]
  },
  {
   "cell_type": "code",
   "execution_count": 141,
   "metadata": {},
   "outputs": [
    {
     "data": {
      "text/plain": [
       "{'drf_id': 'int',\n",
       " 'name': 'string',\n",
       " 'nfolds': 'int',\n",
       " 'keep_cross_validation_models': 'enum',\n",
       " 'keep_cross_validation_predictions': 'enum',\n",
       " 'fold_assignment': 'enum',\n",
       " 'stopping_metric': 'enum',\n",
       " 'stopping_tolerance': 'real',\n",
       " 'seed': 'int',\n",
       " 'distribution': 'enum'}"
      ]
     },
     "execution_count": 141,
     "metadata": {},
     "output_type": "execute_result"
    }
   ],
   "source": [
    "df.types"
   ]
  },
  {
   "cell_type": "markdown",
   "metadata": {},
   "source": [
    "Here, we are finding the range of all the column which are numerical and added to a list called ranges."
   ]
  },
  {
   "cell_type": "code",
   "execution_count": 142,
   "metadata": {},
   "outputs": [
    {
     "name": "stdout",
     "output_type": "stream",
     "text": [
      "drf_id int\n",
      "name string\n",
      "nfolds int\n",
      "keep_cross_validation_models enum\n",
      "keep_cross_validation_predictions enum\n",
      "fold_assignment enum\n",
      "stopping_metric enum\n",
      "stopping_tolerance real\n",
      "seed int\n",
      "distribution enum\n"
     ]
    }
   ],
   "source": [
    "ranges = []\n",
    "for key,val in df.types.items():\n",
    "    print(key,val)\n",
    "    if val == 'int': \n",
    "         ranges.append([key,[df[key].min(),df[key].max()]])\n",
    "    if val == 'real':\n",
    "         ranges.append([key,[df[key].min(),df[key].max()]])"
   ]
  },
  {
   "cell_type": "code",
   "execution_count": 143,
   "metadata": {},
   "outputs": [
    {
     "data": {
      "text/plain": [
       "[['drf_id', [1.0, 6.0]],\n",
       " ['nfolds', [5.0, 5.0]],\n",
       " ['stopping_tolerance', [0.008312003, 0.008312003]],\n",
       " ['seed', [-6.25e+18, 8.56e+18]]]"
      ]
     },
     "execution_count": 143,
     "metadata": {},
     "output_type": "execute_result"
    }
   ],
   "source": [
    "ranges"
   ]
  },
  {
   "cell_type": "markdown",
   "metadata": {},
   "source": [
    "__Important hyperparameters for grid search for the model DRF are mtries and categorical_encoding, these are the hyperparameters that are not a part of our model__"
   ]
  },
  {
   "cell_type": "markdown",
   "metadata": {},
   "source": [
    "__3 Compare the range of values across the models for different hyperparameters__ :\n",
    "\n",
    "1 nfolds \n",
    "\n",
    "nfolds value is same for all the algorithms  \n",
    "\n",
    "2 seed \n",
    "\n",
    "seed value ranged from -9e+18 to 8.93e+18 across the models for all the algorithmns\n",
    "\n",
    "3 stopping_tolerance\n",
    "\n",
    "It is present is all the algorithmns except GLM and its value is 0.008312003 for all models\n",
    "\n",
    "4 ntrees\n",
    "\n",
    "ntress are the hyperparameters for only XGBoost and XRT and the range for XGBoost is from 13 to 276 while for XRT is form 15 to 50 \n",
    "\n",
    "XGboost and GBM has some same hyperparameters such as max_depth, min_rows, sample_rate\n",
    "\n",
    "- max_depth ranges for both algorithms are almost similar XGBoost - (5,20) & GBM - (3,16)\n",
    "\n",
    "- min_rows - XGboost values varied from 0.01 to 20 while for GBM its from 3 to 16  \n",
    "\n",
    "- sample_rate - both algorithmns are same sample_rate of 0.5 to 1 \n",
    "\n",
    "\n",
    "\n"
   ]
  },
  {
   "cell_type": "code",
   "execution_count": null,
   "metadata": {},
   "outputs": [],
   "source": []
  }
 ],
 "metadata": {
  "kernelspec": {
   "display_name": "Python 3",
   "language": "python",
   "name": "python3"
  },
  "language_info": {
   "codemirror_mode": {
    "name": "ipython",
    "version": 3
   },
   "file_extension": ".py",
   "mimetype": "text/x-python",
   "name": "python",
   "nbconvert_exporter": "python",
   "pygments_lexer": "ipython3",
   "version": "3.7.2"
  }
 },
 "nbformat": 4,
 "nbformat_minor": 2
}
